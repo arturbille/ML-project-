{
  "nbformat": 4,
  "nbformat_minor": 0,
  "metadata": {
    "colab": {
      "name": "1151 7 ML_2020_project CNN.ipynb",
      "provenance": [],
      "collapsed_sections": [],
      "machine_shape": "hm"
    },
    "kernelspec": {
      "name": "python3",
      "display_name": "Python 3"
    },
    "language_info": {
      "codemirror_mode": {
        "name": "ipython",
        "version": 3
      },
      "file_extension": ".py",
      "mimetype": "text/x-python",
      "name": "python",
      "nbconvert_exporter": "python",
      "pygments_lexer": "ipython3",
      "version": "3.7.4"
    }
  },
  "cells": [
    {
      "cell_type": "code",
      "metadata": {
        "colab_type": "code",
        "id": "k9odeSZkjcQQ",
        "outputId": "c105509f-c4ba-4716-895b-fc7fc9980f64",
        "colab": {
          "base_uri": "https://localhost:8080/",
          "height": 34
        }
      },
      "source": [
        "from google.colab import drive\n",
        "drive.mount('/content/drive')"
      ],
      "execution_count": 1,
      "outputs": [
        {
          "output_type": "stream",
          "text": [
            "Drive already mounted at /content/drive; to attempt to forcibly remount, call drive.mount(\"/content/drive\", force_remount=True).\n"
          ],
          "name": "stdout"
        }
      ]
    },
    {
      "cell_type": "code",
      "metadata": {
        "colab_type": "code",
        "id": "_oK46hgGitlU",
        "outputId": "ae08abcd-6feb-44e3-e212-633b8ad19211",
        "colab": {
          "base_uri": "https://localhost:8080/",
          "height": 666
        }
      },
      "source": [
        "!pip install fiona\n",
        "!pip install rasterio\n",
        "!pip install torchviz\n",
        "!pip install albumentations"
      ],
      "execution_count": 2,
      "outputs": [
        {
          "output_type": "stream",
          "text": [
            "Requirement already satisfied: fiona in /usr/local/lib/python3.6/dist-packages (1.8.13.post1)\n",
            "Requirement already satisfied: munch in /usr/local/lib/python3.6/dist-packages (from fiona) (2.5.0)\n",
            "Requirement already satisfied: click-plugins>=1.0 in /usr/local/lib/python3.6/dist-packages (from fiona) (1.1.1)\n",
            "Requirement already satisfied: click<8,>=4.0 in /usr/local/lib/python3.6/dist-packages (from fiona) (7.1.1)\n",
            "Requirement already satisfied: six>=1.7 in /usr/local/lib/python3.6/dist-packages (from fiona) (1.12.0)\n",
            "Requirement already satisfied: attrs>=17 in /usr/local/lib/python3.6/dist-packages (from fiona) (19.3.0)\n",
            "Requirement already satisfied: cligj>=0.5 in /usr/local/lib/python3.6/dist-packages (from fiona) (0.5.0)\n",
            "Requirement already satisfied: rasterio in /usr/local/lib/python3.6/dist-packages (1.1.3)\n",
            "Requirement already satisfied: affine in /usr/local/lib/python3.6/dist-packages (from rasterio) (2.3.0)\n",
            "Requirement already satisfied: cligj>=0.5 in /usr/local/lib/python3.6/dist-packages (from rasterio) (0.5.0)\n",
            "Requirement already satisfied: click-plugins in /usr/local/lib/python3.6/dist-packages (from rasterio) (1.1.1)\n",
            "Requirement already satisfied: snuggs>=1.4.1 in /usr/local/lib/python3.6/dist-packages (from rasterio) (1.4.7)\n",
            "Requirement already satisfied: attrs in /usr/local/lib/python3.6/dist-packages (from rasterio) (19.3.0)\n",
            "Requirement already satisfied: click<8,>=4.0 in /usr/local/lib/python3.6/dist-packages (from rasterio) (7.1.1)\n",
            "Requirement already satisfied: numpy in /usr/local/lib/python3.6/dist-packages (from rasterio) (1.18.2)\n",
            "Requirement already satisfied: pyparsing>=2.1.6 in /usr/local/lib/python3.6/dist-packages (from snuggs>=1.4.1->rasterio) (2.4.6)\n",
            "Requirement already satisfied: torchviz in /usr/local/lib/python3.6/dist-packages (0.0.1)\n",
            "Requirement already satisfied: graphviz in /usr/local/lib/python3.6/dist-packages (from torchviz) (0.10.1)\n",
            "Requirement already satisfied: torch in /usr/local/lib/python3.6/dist-packages (from torchviz) (1.4.0)\n",
            "Requirement already satisfied: albumentations in /usr/local/lib/python3.6/dist-packages (0.1.12)\n",
            "Requirement already satisfied: scipy in /usr/local/lib/python3.6/dist-packages (from albumentations) (1.4.1)\n",
            "Requirement already satisfied: numpy>=1.11.1 in /usr/local/lib/python3.6/dist-packages (from albumentations) (1.18.2)\n",
            "Requirement already satisfied: imgaug<0.2.7,>=0.2.5 in /usr/local/lib/python3.6/dist-packages (from albumentations) (0.2.6)\n",
            "Requirement already satisfied: opencv-python in /usr/local/lib/python3.6/dist-packages (from albumentations) (4.1.2.30)\n",
            "Requirement already satisfied: six in /usr/local/lib/python3.6/dist-packages (from imgaug<0.2.7,>=0.2.5->albumentations) (1.12.0)\n",
            "Requirement already satisfied: scikit-image>=0.11.0 in /usr/local/lib/python3.6/dist-packages (from imgaug<0.2.7,>=0.2.5->albumentations) (0.16.2)\n",
            "Requirement already satisfied: matplotlib!=3.0.0,>=2.0.0 in /usr/local/lib/python3.6/dist-packages (from scikit-image>=0.11.0->imgaug<0.2.7,>=0.2.5->albumentations) (3.2.1)\n",
            "Requirement already satisfied: PyWavelets>=0.4.0 in /usr/local/lib/python3.6/dist-packages (from scikit-image>=0.11.0->imgaug<0.2.7,>=0.2.5->albumentations) (1.1.1)\n",
            "Requirement already satisfied: networkx>=2.0 in /usr/local/lib/python3.6/dist-packages (from scikit-image>=0.11.0->imgaug<0.2.7,>=0.2.5->albumentations) (2.4)\n",
            "Requirement already satisfied: pillow>=4.3.0 in /usr/local/lib/python3.6/dist-packages (from scikit-image>=0.11.0->imgaug<0.2.7,>=0.2.5->albumentations) (7.0.0)\n",
            "Requirement already satisfied: imageio>=2.3.0 in /usr/local/lib/python3.6/dist-packages (from scikit-image>=0.11.0->imgaug<0.2.7,>=0.2.5->albumentations) (2.4.1)\n",
            "Requirement already satisfied: kiwisolver>=1.0.1 in /usr/local/lib/python3.6/dist-packages (from matplotlib!=3.0.0,>=2.0.0->scikit-image>=0.11.0->imgaug<0.2.7,>=0.2.5->albumentations) (1.1.0)\n",
            "Requirement already satisfied: cycler>=0.10 in /usr/local/lib/python3.6/dist-packages (from matplotlib!=3.0.0,>=2.0.0->scikit-image>=0.11.0->imgaug<0.2.7,>=0.2.5->albumentations) (0.10.0)\n",
            "Requirement already satisfied: python-dateutil>=2.1 in /usr/local/lib/python3.6/dist-packages (from matplotlib!=3.0.0,>=2.0.0->scikit-image>=0.11.0->imgaug<0.2.7,>=0.2.5->albumentations) (2.8.1)\n",
            "Requirement already satisfied: pyparsing!=2.0.4,!=2.1.2,!=2.1.6,>=2.0.1 in /usr/local/lib/python3.6/dist-packages (from matplotlib!=3.0.0,>=2.0.0->scikit-image>=0.11.0->imgaug<0.2.7,>=0.2.5->albumentations) (2.4.6)\n",
            "Requirement already satisfied: decorator>=4.3.0 in /usr/local/lib/python3.6/dist-packages (from networkx>=2.0->scikit-image>=0.11.0->imgaug<0.2.7,>=0.2.5->albumentations) (4.4.2)\n",
            "Requirement already satisfied: setuptools in /usr/local/lib/python3.6/dist-packages (from kiwisolver>=1.0.1->matplotlib!=3.0.0,>=2.0.0->scikit-image>=0.11.0->imgaug<0.2.7,>=0.2.5->albumentations) (46.0.0)\n"
          ],
          "name": "stdout"
        }
      ]
    },
    {
      "cell_type": "code",
      "metadata": {
        "colab_type": "code",
        "id": "jjLHfm2jj_H_",
        "colab": {}
      },
      "source": [
        "import sys\n",
        "sys.path.append('/content/drive/My Drive/Weak_Learners_ML2020')"
      ],
      "execution_count": 0,
      "outputs": []
    },
    {
      "cell_type": "code",
      "metadata": {
        "id": "N5WdLGahpbzi",
        "colab_type": "code",
        "outputId": "908821dd-01a0-41cb-8189-c6e686e75b7f",
        "colab": {
          "base_uri": "https://localhost:8080/",
          "height": 71
        }
      },
      "source": [
        "import scipy\n",
        "import numpy as np\n",
        "import seaborn as sns\n",
        "import fiona\n",
        "import rasterio\n",
        "from shapely import geometry\n",
        "from rasterio.mask import mask\n",
        "\n",
        "def extractor(frame,points,size=7,normalize=True,labeling=False):\n",
        "  '''\n",
        "  The extractor fuction takes in three paramters:\n",
        "  \n",
        "    1. frame - The image to be subdevided. Resterio type file\n",
        "    2. points - fiona collection file with coordinates of points\n",
        "    3. size - size of the window\n",
        "    4. data normalization - normolize the data boolean\n",
        "    5. require labels if the data containes labels. Boolean\n",
        "    \n",
        "  Return:\n",
        "  \n",
        "    1. List of bathces with the give size\n",
        "    2. List of coordinates\n",
        "    3. List of labels\n",
        "  ~~~~~~~~~~~~~~~~~~~~~~~~~~~~~~~~~~~~~~~~~~~~~~~~~~~~  \n",
        "  Example:\n",
        "      frame = rasterio.open(\"pp_1_sat_modified1.tif\")\n",
        "      points = fiona.open(\"alltreepoints1.shp\", \"r\")\n",
        "      collection = extractor(frame,points,size=7)\n",
        "  ~~~~~~~~~~~~~~~~~~~~~~~~~~~~~~~~~~~~~~~~~~~~~~~~~~~~   \n",
        "  '''\n",
        "  img = frame.read((5,3,2)).T.astype('uint32')\n",
        "  if normalize:\n",
        "    img = img/np.max(img)\n",
        "\n",
        "  assert img.shape[1]>img.shape[2], \"channles are in the right place!\"+str(img.shape)\n",
        "  map_tree_speices = {'е':0, 'б':1, 'п':2, \"El'\":0, \"Bereza\":1, \"Pichta\":2, \"Sosna\":3} \n",
        "  img_point,locations,labels = [],[],[]\n",
        "\n",
        "  for p in range(len(points)):\n",
        "\n",
        "        try:  \n",
        "              point = np.array(frame.index(*points[p]['geometry']['coordinates']))\n",
        "              box = img[(point[1]-size):point[1]+size,\n",
        "                        (point[0]-size):point[0]+size,:].copy()\n",
        "              if labeling:\n",
        "                  labels.append(map_tree_speices[ points[p]['properties']['specie'] ]) \n",
        "              img_point.append(box)\n",
        "              locations.append(point)\n",
        "              del box\n",
        "        except:\n",
        "              print(\"None coordinate/close to edge\")\n",
        "  return img_point, locations, labels"
      ],
      "execution_count": 4,
      "outputs": [
        {
          "output_type": "stream",
          "text": [
            "/usr/local/lib/python3.6/dist-packages/statsmodels/tools/_testing.py:19: FutureWarning: pandas.util.testing is deprecated. Use the functions in the public API at pandas.testing instead.\n",
            "  import pandas.util.testing as tm\n"
          ],
          "name": "stderr"
        }
      ]
    },
    {
      "cell_type": "code",
      "metadata": {
        "colab_type": "code",
        "id": "7o3VEujZiQZR",
        "colab": {}
      },
      "source": [
        "import scipy\n",
        "import numpy as np\n",
        "import pandas as pd\n",
        "\n",
        "import matplotlib.pyplot as plt\n",
        "import seaborn as sns\n",
        "sns.set()\n",
        "\n",
        "import fiona\n",
        "import rasterio\n",
        "from shapely import geometry\n",
        "from rasterio.mask import mask\n",
        "from tqdm import tqdm_notebook\n",
        "\n",
        "from sklearn.model_selection import train_test_split\n",
        "from sklearn.metrics import accuracy_score, f1_score, roc_curve, confusion_matrix\n",
        "import copy\n",
        "\n",
        "# from extractor_helper import extractor"
      ],
      "execution_count": 0,
      "outputs": []
    },
    {
      "cell_type": "markdown",
      "metadata": {
        "id": "3cQMAr2xR8gG",
        "colab_type": "text"
      },
      "source": [
        "# CNN"
      ]
    },
    {
      "cell_type": "code",
      "metadata": {
        "id": "18ynQIZoRWHR",
        "colab_type": "code",
        "colab": {}
      },
      "source": [
        "import torch\n",
        "import torch.nn as nn\n",
        "import torch.utils.data as torch_data\n",
        "from torchviz import make_dot, make_dot_from_trace\n",
        "import torchvision.transforms as transforms\n",
        "\n",
        "import albumentations as A\n",
        "from albumentations.pytorch import ToTensor"
      ],
      "execution_count": 0,
      "outputs": []
    },
    {
      "cell_type": "markdown",
      "metadata": {
        "id": "0Kmw5uESTdbK",
        "colab_type": "text"
      },
      "source": [
        "**Get data**"
      ]
    },
    {
      "cell_type": "code",
      "metadata": {
        "id": "Jjln7zdY7zqX",
        "colab_type": "code",
        "colab": {}
      },
      "source": [
        "SIZE = 7"
      ],
      "execution_count": 0,
      "outputs": []
    },
    {
      "cell_type": "code",
      "metadata": {
        "colab_type": "code",
        "id": "Gvvi4Z7xvxdh",
        "colab": {}
      },
      "source": [
        "test2_img = rasterio.open(\"/content/drive/My Drive/Weak_Learners_ML2020/Eval/test2/pp_2_sat_modified.tif\")\n",
        "test2_points = fiona.open(\"/content/drive/My Drive/Weak_Learners_ML2020/Eval/test2/points_2_modified_Copy.shp\", \"r\")\n",
        "\n",
        "test3_img = rasterio.open(\"/content/drive/My Drive/Weak_Learners_ML2020/Eval/test3/pp_3_sat_modified.tif\")\n",
        "test3_points = fiona.open(\"/content/drive/My Drive/Weak_Learners_ML2020/Eval/test3/targets_Copy.shp\", \"r\")\n",
        "\n",
        "test4_img = rasterio.open(\"/content/drive/My Drive/Weak_Learners_ML2020/Eval/test4/pp_4_sat_modified_spline.tif\")\n",
        "test4_points = fiona.open(\"/content/drive/My Drive/Weak_Learners_ML2020/Eval/test4/modified_points_Copy.shp\", \"r\")"
      ],
      "execution_count": 0,
      "outputs": []
    },
    {
      "cell_type": "code",
      "metadata": {
        "colab_type": "code",
        "id": "9SByHP79vxMW",
        "outputId": "2396836b-913d-4357-9355-cae7c34018ec",
        "colab": {
          "base_uri": "https://localhost:8080/",
          "height": 595
        }
      },
      "source": [
        "patch2, coordinates2, labels2, = extractor(test2_img, test2_points, size=SIZE, normalize=True, labeling=True)\n",
        "patch3, coordinates3, labels3, = extractor(test3_img, test3_points, size=SIZE, normalize=True, labeling=True)\n",
        "patch4, coordinates4, labels4, = extractor(test4_img, test4_points, size=SIZE, normalize=True, labeling=True)"
      ],
      "execution_count": 9,
      "outputs": [
        {
          "output_type": "stream",
          "text": [
            "None coordinate/close to edge\n",
            "None coordinate/close to edge\n",
            "None coordinate/close to edge\n",
            "None coordinate/close to edge\n",
            "None coordinate/close to edge\n",
            "None coordinate/close to edge\n",
            "None coordinate/close to edge\n",
            "None coordinate/close to edge\n",
            "None coordinate/close to edge\n",
            "None coordinate/close to edge\n",
            "None coordinate/close to edge\n",
            "None coordinate/close to edge\n",
            "None coordinate/close to edge\n",
            "None coordinate/close to edge\n",
            "None coordinate/close to edge\n",
            "None coordinate/close to edge\n",
            "None coordinate/close to edge\n",
            "None coordinate/close to edge\n",
            "None coordinate/close to edge\n",
            "None coordinate/close to edge\n",
            "None coordinate/close to edge\n",
            "None coordinate/close to edge\n",
            "None coordinate/close to edge\n",
            "None coordinate/close to edge\n",
            "None coordinate/close to edge\n",
            "None coordinate/close to edge\n",
            "None coordinate/close to edge\n",
            "None coordinate/close to edge\n",
            "None coordinate/close to edge\n",
            "None coordinate/close to edge\n",
            "None coordinate/close to edge\n",
            "None coordinate/close to edge\n",
            "None coordinate/close to edge\n",
            "None coordinate/close to edge\n"
          ],
          "name": "stdout"
        }
      ]
    },
    {
      "cell_type": "code",
      "metadata": {
        "colab_type": "code",
        "id": "p4lqYUulvw9m",
        "outputId": "e74db66d-dd80-44be-d17e-dc810b1f1945",
        "colab": {
          "base_uri": "https://localhost:8080/",
          "height": 34
        }
      },
      "source": [
        "# patch2,patch3, patch4 = np.array(patch2), np.array(patch3), np.array(patch4)\n",
        "# labels2, labels3, labels4 = np.array(labels2), np.array(labels3), np.array(labels4)\n",
        "# patch2, patch3, patch4 = np.moveaxis(patch2,3,1), np.moveaxis(patch3,3,1), np.moveaxis(patch4,3,1)\n",
        "\n",
        "patch = np.concatenate((patch2, patch3, patch4),axis=0)\n",
        "labels = np.concatenate((labels2,labels3,labels4),axis=0)\n",
        "print(patch.shape)"
      ],
      "execution_count": 10,
      "outputs": [
        {
          "output_type": "stream",
          "text": [
            "(1012, 14, 14, 3)\n"
          ],
          "name": "stdout"
        }
      ]
    },
    {
      "cell_type": "code",
      "metadata": {
        "id": "1V5-TIhHxVf2",
        "colab_type": "code",
        "colab": {}
      },
      "source": [
        "augmentation_pipeline = A.Compose(\n",
        "    [\n",
        "        A.HorizontalFlip(p = 0.5), # apply horizontal flip to 50% of images\n",
        "        A.OneOf(\n",
        "            [\n",
        "                # apply one of transforms to 50% of images\n",
        "                A.RandomContrast(),\n",
        "                A.RandomGamma(),\n",
        "                A.RandomBrightness(),\n",
        "                A.RandomRotate90(),\n",
        "                A.Transpose(),\n",
        "                A.ShiftScaleRotate(shift_limit=0.0625, scale_limit=0.50, rotate_limit=45, p=.75),\n",
        "                A.Blur(blur_limit=3),\n",
        "                A.OpticalDistortion(),\n",
        "                A.GridDistortion(num_steps=3),\n",
        "            ],\n",
        "            p = 0.5\n",
        "        ),\n",
        "        \n",
        "        ToTensor() # convert the image to PyTorch tensor\n",
        "    ],\n",
        "    p = 1\n",
        ")"
      ],
      "execution_count": 0,
      "outputs": []
    },
    {
      "cell_type": "code",
      "metadata": {
        "id": "FC4-gWh2XHYc",
        "colab_type": "code",
        "colab": {}
      },
      "source": [
        "class TreesData():\n",
        "  def __init__(self, X, y, aug_pipeline=None):\n",
        "    super().__init__()\n",
        "    self.X = X\n",
        "    self.y = torch.tensor(y, dtype=torch.long)\n",
        "    if aug_pipeline:\n",
        "        self.aug_pipeline = aug_pipeline\n",
        "    else:\n",
        "        self.aug_pipeline = A.Compose([ToTensor()], p=1)\n",
        "    \n",
        "  def __len__(self):\n",
        "    return self.X.shape[0]\n",
        "  \n",
        "  def __getitem__(self, idx):\n",
        "    augmented = self.aug_pipeline(image = self.X[idx])['image']\n",
        "    return augmented, self.y[idx]"
      ],
      "execution_count": 0,
      "outputs": []
    },
    {
      "cell_type": "code",
      "metadata": {
        "id": "ECcBUUtrwJT4",
        "colab_type": "code",
        "outputId": "30dafb98-ea8e-4b6c-cea9-74e5d95677f9",
        "colab": {
          "base_uri": "https://localhost:8080/",
          "height": 85
        }
      },
      "source": [
        "# Data proportions\n",
        "unique, counts = np.unique(labels, return_counts=True)\n",
        "for label, count in zip(unique, counts):\n",
        "    print(f'Label \"{label}\" has {count:3} instances, which is {count/len(labels):6.2%} of the total number of instances')"
      ],
      "execution_count": 13,
      "outputs": [
        {
          "output_type": "stream",
          "text": [
            "Label \"0\" has 518 instances, which is 51.19% of the total number of instances\n",
            "Label \"1\" has 315 instances, which is 31.13% of the total number of instances\n",
            "Label \"2\" has  42 instances, which is  4.15% of the total number of instances\n",
            "Label \"3\" has 137 instances, which is 13.54% of the total number of instances\n"
          ],
          "name": "stdout"
        }
      ]
    },
    {
      "cell_type": "code",
      "metadata": {
        "id": "Ph1dAP7cUIPC",
        "colab_type": "code",
        "colab": {}
      },
      "source": [
        "# We do stratified splitting to have balanced train and test set.\n",
        "x_train, x_test, y_train, y_test = train_test_split(patch, labels, test_size=.3, shuffle=True, stratify=labels, random_state=42)"
      ],
      "execution_count": 0,
      "outputs": []
    },
    {
      "cell_type": "code",
      "metadata": {
        "id": "GsRl2F0YXQZC",
        "colab_type": "code",
        "colab": {}
      },
      "source": [
        "train_data = TreesData(x_train, y_train, augmentation_pipeline)\n",
        "test_data = TreesData(x_test, y_test)"
      ],
      "execution_count": 0,
      "outputs": []
    },
    {
      "cell_type": "markdown",
      "metadata": {
        "id": "V2OkC-cuTfl9",
        "colab_type": "text"
      },
      "source": [
        "**Define model**"
      ]
    },
    {
      "cell_type": "code",
      "metadata": {
        "id": "h3adbdx98Ln8",
        "colab_type": "code",
        "colab": {}
      },
      "source": [
        "from math import ceil"
      ],
      "execution_count": 0,
      "outputs": []
    },
    {
      "cell_type": "code",
      "metadata": {
        "id": "bmT3DVOn9BqS",
        "colab_type": "code",
        "colab": {}
      },
      "source": [
        "LAST_LAYER_SIZE = ceil(ceil(SIZE*2/2)/2)\n",
        "\n",
        "CNN = lambda: nn.Sequential(\n",
        "  \n",
        "  nn.Conv2d(3,64,2, padding=1),\n",
        "  nn.MaxPool2d(2,2),\n",
        "  nn.ReLU(),\n",
        "  nn.Dropout(0.5),\n",
        "\n",
        "  nn.Conv2d(64,128,2, padding=1),\n",
        "  nn.MaxPool2d(2,2),\n",
        "  nn.ReLU(),\n",
        "  nn.Dropout(0.5),\n",
        "\n",
        "  nn.Flatten(),\n",
        "  nn.Linear(128*LAST_LAYER_SIZE*LAST_LAYER_SIZE, 4),\n",
        ")"
      ],
      "execution_count": 0,
      "outputs": []
    },
    {
      "cell_type": "markdown",
      "metadata": {
        "id": "Q7sZ2mLVT2u4",
        "colab_type": "text"
      },
      "source": [
        "**Train model**"
      ]
    },
    {
      "cell_type": "code",
      "metadata": {
        "id": "F3-PofELYAWn",
        "colab_type": "code",
        "colab": {}
      },
      "source": [
        "def train(epochs, net, criterion, optimizer,\n",
        "          train_loader, val_loader, scheduler=None,\n",
        "          verbose=True, save_dir=None):\n",
        "  \n",
        "  net.to(device)\n",
        "  train_loss_history = []\n",
        "  val_loss_history = []\n",
        "  val_loss_not_improved = 0\n",
        "  best_val_loss = 999\n",
        "  patience = 25\n",
        "  best_model = None\n",
        "  best_predicted_y_percent = None\n",
        "  best_predicted_y = None\n",
        "  best_true_y = None\n",
        "  for epoch in range(1,epochs+1):\n",
        "    net.train()\n",
        "    total_instances = 0\n",
        "    matched = 0\n",
        "    train_loss = 0\n",
        "    for X, y in train_loader:\n",
        "      X = X.to(device)\n",
        "      y = y.to(device)\n",
        "      pred = net(X)\n",
        "      loss = criterion(pred, y)\n",
        "      train_loss += loss.item()\n",
        "      optimizer.zero_grad()\n",
        "      loss.backward()\n",
        "      optimizer.step()\n",
        "\n",
        "      train_pred_arg = np.argmax(pred.cpu().detach(), axis=1)\n",
        "      matched += (train_pred_arg == y.cpu().detach()).sum()\n",
        "      total_instances += len(train_pred_arg)\n",
        "    train_acc = matched.item()/total_instances\n",
        "   \n",
        "    net.eval()\n",
        "    total_instances = 0\n",
        "    matched = 0\n",
        "    predicted_y = np.array([])\n",
        "    predicted_y_percent = np.array([])\n",
        "    true_y = np.array([])\n",
        "    val_loss = 0\n",
        "    for X, y in val_loader:\n",
        "      X = X.to(device)\n",
        "      y = y.to(device)\n",
        "      val_pred = net(X)\n",
        "      val_loss += criterion(val_pred, y).item()\n",
        "\n",
        "      predicted_y_percent = np.concatenate((predicted_y_percent, val_pred.cpu().detach()), axis=None)\n",
        "      predicted_y = np.concatenate((predicted_y, np.argmax(val_pred.cpu().detach(), axis=1)), axis=None)\n",
        "      true_y = np.concatenate((true_y, y.cpu().detach()), axis=None)\n",
        "    \n",
        "    train_loss /= len(train_loader)\n",
        "    val_loss /= len(val_loader)\n",
        "    val_acc = (predicted_y == true_y).sum()/len(true_y)\n",
        "\n",
        "    train_loss_history.append(train_loss)\n",
        "    val_loss_history.append(val_loss)\n",
        "  \n",
        "    if scheduler is not None:\n",
        "      schduler.step()\n",
        "\n",
        "    ## accuracy label 2\n",
        "    true_y_2 = true_y[true_y == 2]\n",
        "    predicted_y_2 = predicted_y[true_y == 2]\n",
        "    acc_2 = (true_y_2 == predicted_y_2).sum()/len(true_y_2)\n",
        "    \n",
        "      \n",
        "    if best_val_loss > val_loss:\n",
        "      print(f'Validation loss decreased {best_val_loss:.6f} -> {val_loss:.6f}')\n",
        "      best_val_loss = val_loss\n",
        "      best_model = copy.deepcopy(net)\n",
        "      best_predicted_y_percent = predicted_y_percent\n",
        "      best_predicted_y = predicted_y\n",
        "      best_true_y = true_y\n",
        "      val_loss_not_improved = 0\n",
        "    else:\n",
        "      val_loss_not_improved += 1\n",
        "    \n",
        "    if verbose:\n",
        "      print('Epoch {:3}/{} || Loss:  Train {:.6f} | Validation {:.6f} || Accuracy: Train {:.2%} | Validation {:.2%} ({:.2%}) || F1-score {:.2f} || Not improved {} out of {}'\\\n",
        "            .format(epoch, epochs, train_loss, val_loss, train_acc, val_acc, acc_2, f1_score(true_y, predicted_y, average='macro'), val_loss_not_improved, patience))\n",
        "\n",
        "    if val_loss_not_improved == patience:\n",
        "      break\n",
        "\n",
        "  net = best_model\n",
        "  return best_predicted_y, best_predicted_y_percent, best_true_y, train_loss_history, val_loss_history"
      ],
      "execution_count": 0,
      "outputs": []
    },
    {
      "cell_type": "code",
      "metadata": {
        "id": "fTB3kDymTt2A",
        "colab_type": "code",
        "outputId": "956e4132-4f37-480e-b3da-2dc4dc4b4696",
        "colab": {
          "base_uri": "https://localhost:8080/",
          "height": 255
        }
      },
      "source": [
        "device = torch.device('cuda:0' if torch.cuda.is_available() else 'cpu')\n",
        "net = CNN()\n",
        "weights = torch.tensor(counts.max()/counts, dtype=torch.float32).to(device)\n",
        "weights = torch.tensor([1,1,5,1], dtype=torch.float32).to(device)\n",
        "criterion = nn.CrossEntropyLoss(weight=weights)\n",
        "optimizer = torch.optim.Adam(net.parameters())\n",
        "scheduler = None\n",
        "train_loader = torch_data.DataLoader(train_data, batch_size=50, shuffle=True)\n",
        "val_loader = torch_data.DataLoader(test_data, batch_size=10, shuffle=True)\n",
        "\n",
        "print('\\t\\t\\t=== MODEL ===\\n\\t\\t\\t=============')\n",
        "print(net)"
      ],
      "execution_count": 27,
      "outputs": [
        {
          "output_type": "stream",
          "text": [
            "\t\t\t=== MODEL ===\n",
            "\t\t\t=============\n",
            "Sequential(\n",
            "  (0): Conv2d(3, 64, kernel_size=(2, 2), stride=(1, 1), padding=(1, 1))\n",
            "  (1): MaxPool2d(kernel_size=2, stride=2, padding=0, dilation=1, ceil_mode=False)\n",
            "  (2): ReLU()\n",
            "  (3): Dropout(p=0.5, inplace=False)\n",
            "  (4): Conv2d(64, 128, kernel_size=(2, 2), stride=(1, 1), padding=(1, 1))\n",
            "  (5): MaxPool2d(kernel_size=2, stride=2, padding=0, dilation=1, ceil_mode=False)\n",
            "  (6): ReLU()\n",
            "  (7): Dropout(p=0.5, inplace=False)\n",
            "  (8): Flatten()\n",
            "  (9): Linear(in_features=2048, out_features=4, bias=True)\n",
            ")\n"
          ],
          "name": "stdout"
        }
      ]
    },
    {
      "cell_type": "code",
      "metadata": {
        "id": "fEYlBa-24hDw",
        "colab_type": "code",
        "outputId": "0e20eb46-5b5d-41dc-fda6-eaeed1b625b2",
        "colab": {
          "base_uri": "https://localhost:8080/",
          "height": 894
        }
      },
      "source": [
        "# GRAPH\n",
        "for X, y in val_loader:\n",
        "    pass\n",
        "make_dot(net(X[:1]))"
      ],
      "execution_count": 28,
      "outputs": [
        {
          "output_type": "execute_result",
          "data": {
            "text/plain": [
              "<graphviz.dot.Digraph at 0x7fb2e94df278>"
            ],
            "image/svg+xml": "<?xml version=\"1.0\" encoding=\"UTF-8\" standalone=\"no\"?>\n<!DOCTYPE svg PUBLIC \"-//W3C//DTD SVG 1.1//EN\"\n \"http://www.w3.org/Graphics/SVG/1.1/DTD/svg11.dtd\">\n<!-- Generated by graphviz version 2.40.1 (20161225.0304)\n -->\n<!-- Title: %3 Pages: 1 -->\n<svg width=\"342pt\" height=\"655pt\"\n viewBox=\"0.00 0.00 341.50 655.00\" xmlns=\"http://www.w3.org/2000/svg\" xmlns:xlink=\"http://www.w3.org/1999/xlink\">\n<g id=\"graph0\" class=\"graph\" transform=\"scale(1 1) rotate(0) translate(4 651)\">\n<title>%3</title>\n<polygon fill=\"#ffffff\" stroke=\"transparent\" points=\"-4,4 -4,-651 337.5,-651 337.5,4 -4,4\"/>\n<!-- 140406432238448 -->\n<g id=\"node1\" class=\"node\">\n<title>140406432238448</title>\n<polygon fill=\"#caff70\" stroke=\"#000000\" points=\"249,-21 145,-21 145,0 249,0 249,-21\"/>\n<text text-anchor=\"middle\" x=\"197\" y=\"-7.4\" font-family=\"Times,serif\" font-size=\"12.00\" fill=\"#000000\">AddmmBackward</text>\n</g>\n<!-- 140406432238224 -->\n<g id=\"node2\" class=\"node\">\n<title>140406432238224</title>\n<polygon fill=\"#add8e6\" stroke=\"#000000\" points=\"133,-92 79,-92 79,-57 133,-57 133,-92\"/>\n<text text-anchor=\"middle\" x=\"106\" y=\"-64.4\" font-family=\"Times,serif\" font-size=\"12.00\" fill=\"#000000\"> (4)</text>\n</g>\n<!-- 140406432238224&#45;&gt;140406432238448 -->\n<g id=\"edge1\" class=\"edge\">\n<title>140406432238224&#45;&gt;140406432238448</title>\n<path fill=\"none\" stroke=\"#000000\" d=\"M131.3486,-56.6724C144.5947,-47.3565 160.6963,-36.0322 173.6383,-26.9302\"/>\n<polygon fill=\"#000000\" stroke=\"#000000\" points=\"175.8532,-29.6514 182.0194,-21.0358 171.8263,-23.9257 175.8532,-29.6514\"/>\n</g>\n<!-- 140406432238168 -->\n<g id=\"node3\" class=\"node\">\n<title>140406432238168</title>\n<polygon fill=\"#d3d3d3\" stroke=\"#000000\" points=\"242.5,-85 151.5,-85 151.5,-64 242.5,-64 242.5,-85\"/>\n<text text-anchor=\"middle\" x=\"197\" y=\"-71.4\" font-family=\"Times,serif\" font-size=\"12.00\" fill=\"#000000\">ViewBackward</text>\n</g>\n<!-- 140406432238168&#45;&gt;140406432238448 -->\n<g id=\"edge2\" class=\"edge\">\n<title>140406432238168&#45;&gt;140406432238448</title>\n<path fill=\"none\" stroke=\"#000000\" d=\"M197,-63.9317C197,-55.0913 197,-42.2122 197,-31.3135\"/>\n<polygon fill=\"#000000\" stroke=\"#000000\" points=\"200.5001,-31.2979 197,-21.2979 193.5001,-31.2979 200.5001,-31.2979\"/>\n</g>\n<!-- 140406395087952 -->\n<g id=\"node4\" class=\"node\">\n<title>140406395087952</title>\n<polygon fill=\"#d3d3d3\" stroke=\"#000000\" points=\"242.5,-156 151.5,-156 151.5,-135 242.5,-135 242.5,-156\"/>\n<text text-anchor=\"middle\" x=\"197\" y=\"-142.4\" font-family=\"Times,serif\" font-size=\"12.00\" fill=\"#000000\">MulBackward0</text>\n</g>\n<!-- 140406395087952&#45;&gt;140406432238168 -->\n<g id=\"edge3\" class=\"edge\">\n<title>140406395087952&#45;&gt;140406432238168</title>\n<path fill=\"none\" stroke=\"#000000\" d=\"M197,-134.7166C197,-124.3953 197,-108.5401 197,-95.6896\"/>\n<polygon fill=\"#000000\" stroke=\"#000000\" points=\"200.5001,-95.3848 197,-85.3849 193.5001,-95.3849 200.5001,-95.3848\"/>\n</g>\n<!-- 140406395085824 -->\n<g id=\"node5\" class=\"node\">\n<title>140406395085824</title>\n<polygon fill=\"#d3d3d3\" stroke=\"#000000\" points=\"244,-220 150,-220 150,-199 244,-199 244,-220\"/>\n<text text-anchor=\"middle\" x=\"197\" y=\"-206.4\" font-family=\"Times,serif\" font-size=\"12.00\" fill=\"#000000\">ReluBackward0</text>\n</g>\n<!-- 140406395085824&#45;&gt;140406395087952 -->\n<g id=\"edge4\" class=\"edge\">\n<title>140406395085824&#45;&gt;140406395087952</title>\n<path fill=\"none\" stroke=\"#000000\" d=\"M197,-198.9317C197,-190.0913 197,-177.2122 197,-166.3135\"/>\n<polygon fill=\"#000000\" stroke=\"#000000\" points=\"200.5001,-166.2979 197,-156.2979 193.5001,-166.2979 200.5001,-166.2979\"/>\n</g>\n<!-- 140406395087392 -->\n<g id=\"node6\" class=\"node\">\n<title>140406395087392</title>\n<polygon fill=\"#d3d3d3\" stroke=\"#000000\" points=\"287,-277 107,-277 107,-256 287,-256 287,-277\"/>\n<text text-anchor=\"middle\" x=\"197\" y=\"-263.4\" font-family=\"Times,serif\" font-size=\"12.00\" fill=\"#000000\">MaxPool2DWithIndicesBackward</text>\n</g>\n<!-- 140406395087392&#45;&gt;140406395085824 -->\n<g id=\"edge5\" class=\"edge\">\n<title>140406395087392&#45;&gt;140406395085824</title>\n<path fill=\"none\" stroke=\"#000000\" d=\"M197,-255.7787C197,-248.6134 197,-238.9517 197,-230.3097\"/>\n<polygon fill=\"#000000\" stroke=\"#000000\" points=\"200.5001,-230.1732 197,-220.1732 193.5001,-230.1732 200.5001,-230.1732\"/>\n</g>\n<!-- 140406395087784 -->\n<g id=\"node7\" class=\"node\">\n<title>140406395087784</title>\n<polygon fill=\"#d3d3d3\" stroke=\"#000000\" points=\"278,-334 116,-334 116,-313 278,-313 278,-334\"/>\n<text text-anchor=\"middle\" x=\"197\" y=\"-320.4\" font-family=\"Times,serif\" font-size=\"12.00\" fill=\"#000000\">MkldnnConvolutionBackward</text>\n</g>\n<!-- 140406395087784&#45;&gt;140406395087392 -->\n<g id=\"edge6\" class=\"edge\">\n<title>140406395087784&#45;&gt;140406395087392</title>\n<path fill=\"none\" stroke=\"#000000\" d=\"M197,-312.7787C197,-305.6134 197,-295.9517 197,-287.3097\"/>\n<polygon fill=\"#000000\" stroke=\"#000000\" points=\"200.5001,-287.1732 197,-277.1732 193.5001,-287.1732 200.5001,-287.1732\"/>\n</g>\n<!-- 140406395087448 -->\n<g id=\"node8\" class=\"node\">\n<title>140406395087448</title>\n<polygon fill=\"#d3d3d3\" stroke=\"#000000\" points=\"135.5,-398 44.5,-398 44.5,-377 135.5,-377 135.5,-398\"/>\n<text text-anchor=\"middle\" x=\"90\" y=\"-384.4\" font-family=\"Times,serif\" font-size=\"12.00\" fill=\"#000000\">MulBackward0</text>\n</g>\n<!-- 140406395087448&#45;&gt;140406395087784 -->\n<g id=\"edge7\" class=\"edge\">\n<title>140406395087448&#45;&gt;140406395087784</title>\n<path fill=\"none\" stroke=\"#000000\" d=\"M107.6689,-376.9317C124.7838,-366.6948 150.9528,-351.0422 170.5504,-339.3203\"/>\n<polygon fill=\"#000000\" stroke=\"#000000\" points=\"172.5195,-342.2209 179.3049,-334.084 168.9262,-336.2135 172.5195,-342.2209\"/>\n</g>\n<!-- 140406395020568 -->\n<g id=\"node9\" class=\"node\">\n<title>140406395020568</title>\n<polygon fill=\"#d3d3d3\" stroke=\"#000000\" points=\"137,-462 43,-462 43,-441 137,-441 137,-462\"/>\n<text text-anchor=\"middle\" x=\"90\" y=\"-448.4\" font-family=\"Times,serif\" font-size=\"12.00\" fill=\"#000000\">ReluBackward0</text>\n</g>\n<!-- 140406395020568&#45;&gt;140406395087448 -->\n<g id=\"edge8\" class=\"edge\">\n<title>140406395020568&#45;&gt;140406395087448</title>\n<path fill=\"none\" stroke=\"#000000\" d=\"M90,-440.9317C90,-432.0913 90,-419.2122 90,-408.3135\"/>\n<polygon fill=\"#000000\" stroke=\"#000000\" points=\"93.5001,-408.2979 90,-398.2979 86.5001,-408.2979 93.5001,-408.2979\"/>\n</g>\n<!-- 140406395019672 -->\n<g id=\"node10\" class=\"node\">\n<title>140406395019672</title>\n<polygon fill=\"#d3d3d3\" stroke=\"#000000\" points=\"180,-519 0,-519 0,-498 180,-498 180,-519\"/>\n<text text-anchor=\"middle\" x=\"90\" y=\"-505.4\" font-family=\"Times,serif\" font-size=\"12.00\" fill=\"#000000\">MaxPool2DWithIndicesBackward</text>\n</g>\n<!-- 140406395019672&#45;&gt;140406395020568 -->\n<g id=\"edge9\" class=\"edge\">\n<title>140406395019672&#45;&gt;140406395020568</title>\n<path fill=\"none\" stroke=\"#000000\" d=\"M90,-497.7787C90,-490.6134 90,-480.9517 90,-472.3097\"/>\n<polygon fill=\"#000000\" stroke=\"#000000\" points=\"93.5001,-472.1732 90,-462.1732 86.5001,-472.1732 93.5001,-472.1732\"/>\n</g>\n<!-- 140406395022976 -->\n<g id=\"node11\" class=\"node\">\n<title>140406395022976</title>\n<polygon fill=\"#d3d3d3\" stroke=\"#000000\" points=\"171,-576 9,-576 9,-555 171,-555 171,-576\"/>\n<text text-anchor=\"middle\" x=\"90\" y=\"-562.4\" font-family=\"Times,serif\" font-size=\"12.00\" fill=\"#000000\">MkldnnConvolutionBackward</text>\n</g>\n<!-- 140406395022976&#45;&gt;140406395019672 -->\n<g id=\"edge10\" class=\"edge\">\n<title>140406395022976&#45;&gt;140406395019672</title>\n<path fill=\"none\" stroke=\"#000000\" d=\"M90,-554.7787C90,-547.6134 90,-537.9517 90,-529.3097\"/>\n<polygon fill=\"#000000\" stroke=\"#000000\" points=\"93.5001,-529.1732 90,-519.1732 86.5001,-529.1732 93.5001,-529.1732\"/>\n</g>\n<!-- 140406395020512 -->\n<g id=\"node12\" class=\"node\">\n<title>140406395020512</title>\n<polygon fill=\"#add8e6\" stroke=\"#000000\" points=\"86.5,-647 11.5,-647 11.5,-612 86.5,-612 86.5,-647\"/>\n<text text-anchor=\"middle\" x=\"49\" y=\"-619.4\" font-family=\"Times,serif\" font-size=\"12.00\" fill=\"#000000\"> (64, 3, 2, 2)</text>\n</g>\n<!-- 140406395020512&#45;&gt;140406395022976 -->\n<g id=\"edge11\" class=\"edge\">\n<title>140406395020512&#45;&gt;140406395022976</title>\n<path fill=\"none\" stroke=\"#000000\" d=\"M60.4208,-611.6724C65.7802,-603.3066 72.1771,-593.3212 77.6488,-584.7799\"/>\n<polygon fill=\"#000000\" stroke=\"#000000\" points=\"80.6831,-586.5318 83.1303,-576.2234 74.7889,-582.7558 80.6831,-586.5318\"/>\n</g>\n<!-- 140406395021632 -->\n<g id=\"node13\" class=\"node\">\n<title>140406395021632</title>\n<polygon fill=\"#add8e6\" stroke=\"#000000\" points=\"159,-647 105,-647 105,-612 159,-612 159,-647\"/>\n<text text-anchor=\"middle\" x=\"132\" y=\"-619.4\" font-family=\"Times,serif\" font-size=\"12.00\" fill=\"#000000\"> (64)</text>\n</g>\n<!-- 140406395021632&#45;&gt;140406395022976 -->\n<g id=\"edge12\" class=\"edge\">\n<title>140406395021632&#45;&gt;140406395022976</title>\n<path fill=\"none\" stroke=\"#000000\" d=\"M120.3007,-611.6724C114.8105,-603.3066 108.2576,-593.3212 102.6524,-584.7799\"/>\n<polygon fill=\"#000000\" stroke=\"#000000\" points=\"105.45,-582.6636 97.0373,-576.2234 99.5977,-586.5042 105.45,-582.6636\"/>\n</g>\n<!-- 140406395086384 -->\n<g id=\"node14\" class=\"node\">\n<title>140406395086384</title>\n<polygon fill=\"#add8e6\" stroke=\"#000000\" points=\"240.5,-405 153.5,-405 153.5,-370 240.5,-370 240.5,-405\"/>\n<text text-anchor=\"middle\" x=\"197\" y=\"-377.4\" font-family=\"Times,serif\" font-size=\"12.00\" fill=\"#000000\"> (128, 64, 2, 2)</text>\n</g>\n<!-- 140406395086384&#45;&gt;140406395087784 -->\n<g id=\"edge13\" class=\"edge\">\n<title>140406395086384&#45;&gt;140406395087784</title>\n<path fill=\"none\" stroke=\"#000000\" d=\"M197,-369.6724C197,-361.8405 197,-352.5893 197,-344.4323\"/>\n<polygon fill=\"#000000\" stroke=\"#000000\" points=\"200.5001,-344.2234 197,-334.2234 193.5001,-344.2235 200.5001,-344.2234\"/>\n</g>\n<!-- 140406395087560 -->\n<g id=\"node15\" class=\"node\">\n<title>140406395087560</title>\n<polygon fill=\"#add8e6\" stroke=\"#000000\" points=\"313,-405 259,-405 259,-370 313,-370 313,-405\"/>\n<text text-anchor=\"middle\" x=\"286\" y=\"-377.4\" font-family=\"Times,serif\" font-size=\"12.00\" fill=\"#000000\"> (128)</text>\n</g>\n<!-- 140406395087560&#45;&gt;140406395087784 -->\n<g id=\"edge14\" class=\"edge\">\n<title>140406395087560&#45;&gt;140406395087784</title>\n<path fill=\"none\" stroke=\"#000000\" d=\"M261.2085,-369.6724C248.2535,-360.3565 232.5058,-349.0322 219.8482,-339.9302\"/>\n<polygon fill=\"#000000\" stroke=\"#000000\" points=\"221.8136,-337.0325 211.6514,-334.0358 217.7268,-342.7157 221.8136,-337.0325\"/>\n</g>\n<!-- 140406432238112 -->\n<g id=\"node16\" class=\"node\">\n<title>140406432238112</title>\n<polygon fill=\"#d3d3d3\" stroke=\"#000000\" points=\"333.5,-85 260.5,-85 260.5,-64 333.5,-64 333.5,-85\"/>\n<text text-anchor=\"middle\" x=\"297\" y=\"-71.4\" font-family=\"Times,serif\" font-size=\"12.00\" fill=\"#000000\">TBackward</text>\n</g>\n<!-- 140406432238112&#45;&gt;140406432238448 -->\n<g id=\"edge15\" class=\"edge\">\n<title>140406432238112&#45;&gt;140406432238448</title>\n<path fill=\"none\" stroke=\"#000000\" d=\"M280.487,-63.9317C264.5642,-53.7411 240.2559,-38.1838 221.9683,-26.4797\"/>\n<polygon fill=\"#000000\" stroke=\"#000000\" points=\"223.8469,-23.5266 213.5375,-21.084 220.0735,-29.4225 223.8469,-23.5266\"/>\n</g>\n<!-- 140406395085992 -->\n<g id=\"node17\" class=\"node\">\n<title>140406395085992</title>\n<polygon fill=\"#add8e6\" stroke=\"#000000\" points=\"328.5,-163 265.5,-163 265.5,-128 328.5,-128 328.5,-163\"/>\n<text text-anchor=\"middle\" x=\"297\" y=\"-135.4\" font-family=\"Times,serif\" font-size=\"12.00\" fill=\"#000000\"> (4, 2048)</text>\n</g>\n<!-- 140406395085992&#45;&gt;140406432238112 -->\n<g id=\"edge16\" class=\"edge\">\n<title>140406395085992&#45;&gt;140406432238112</title>\n<path fill=\"none\" stroke=\"#000000\" d=\"M297,-127.9494C297,-118.058 297,-105.6435 297,-95.2693\"/>\n<polygon fill=\"#000000\" stroke=\"#000000\" points=\"300.5001,-95.0288 297,-85.0288 293.5001,-95.0289 300.5001,-95.0288\"/>\n</g>\n</g>\n</svg>\n"
          },
          "metadata": {
            "tags": []
          },
          "execution_count": 28
        }
      ]
    },
    {
      "cell_type": "code",
      "metadata": {
        "id": "QVfKM6eP6NBG",
        "colab_type": "code",
        "outputId": "c6b1fa84-4640-42a3-dac8-afbb5e8f3ea6",
        "colab": {
          "base_uri": "https://localhost:8080/",
          "height": 1000
        }
      },
      "source": [
        "epochs = 500\n",
        "predicted_y, predicted_y_percent, true_y, train_loss_history, val_loss_history = train(epochs, net, criterion, optimizer, train_loader, val_loader, scheduler)\n",
        "predicted_y_percent = torch.softmax(torch.tensor(predicted_y_percent.reshape(-1, 4)), axis=1).detach().numpy()"
      ],
      "execution_count": 29,
      "outputs": [
        {
          "output_type": "stream",
          "text": [
            "Validation loss decreased 999.000000 -> 1.259899\n",
            "Epoch   1/500 || Loss:  Train 1.270715 | Validation 1.259899 || Accuracy: Train 47.74% | Validation 50.99% (0.00%) || F1-score 0.17 || Not improved 0 out of 25\n",
            "Validation loss decreased 1.259899 -> 1.218530\n",
            "Epoch   2/500 || Loss:  Train 1.230240 | Validation 1.218530 || Accuracy: Train 51.27% | Validation 50.99% (0.00%) || F1-score 0.17 || Not improved 0 out of 25\n",
            "Validation loss decreased 1.218530 -> 1.144351\n",
            "Epoch   3/500 || Loss:  Train 1.168630 | Validation 1.144351 || Accuracy: Train 51.69% | Validation 54.93% (0.00%) || F1-score 0.31 || Not improved 0 out of 25\n",
            "Validation loss decreased 1.144351 -> 1.094988\n",
            "Epoch   4/500 || Loss:  Train 1.102011 | Validation 1.094988 || Accuracy: Train 44.92% | Validation 53.62% (0.00%) || F1-score 0.31 || Not improved 0 out of 25\n",
            "Validation loss decreased 1.094988 -> 1.091908\n",
            "Epoch   5/500 || Loss:  Train 1.076793 | Validation 1.091908 || Accuracy: Train 52.82% | Validation 33.22% (84.62%) || F1-score 0.29 || Not improved 0 out of 25\n",
            "Validation loss decreased 1.091908 -> 1.041917\n",
            "Epoch   6/500 || Loss:  Train 1.053796 | Validation 1.041917 || Accuracy: Train 47.88% | Validation 47.04% (61.54%) || F1-score 0.37 || Not improved 0 out of 25\n",
            "Validation loss decreased 1.041917 -> 1.012460\n",
            "Epoch   7/500 || Loss:  Train 1.032312 | Validation 1.012460 || Accuracy: Train 56.50% | Validation 41.45% (92.31%) || F1-score 0.38 || Not improved 0 out of 25\n",
            "Validation loss decreased 1.012460 -> 0.969815\n",
            "Epoch   8/500 || Loss:  Train 1.017957 | Validation 0.969815 || Accuracy: Train 56.21% | Validation 54.28% (30.77%) || F1-score 0.42 || Not improved 0 out of 25\n",
            "Validation loss decreased 0.969815 -> 0.967250\n",
            "Epoch   9/500 || Loss:  Train 0.997302 | Validation 0.967250 || Accuracy: Train 57.06% | Validation 50.00% (61.54%) || F1-score 0.41 || Not improved 0 out of 25\n",
            "Epoch  10/500 || Loss:  Train 0.969876 | Validation 0.972032 || Accuracy: Train 57.49% | Validation 58.88% (0.00%) || F1-score 0.37 || Not improved 1 out of 25\n",
            "Validation loss decreased 0.967250 -> 0.935583\n",
            "Epoch  11/500 || Loss:  Train 0.967702 | Validation 0.935583 || Accuracy: Train 60.73% | Validation 50.99% (69.23%) || F1-score 0.43 || Not improved 0 out of 25\n",
            "Validation loss decreased 0.935583 -> 0.928069\n",
            "Epoch  12/500 || Loss:  Train 0.962158 | Validation 0.928069 || Accuracy: Train 58.62% | Validation 56.91% (38.46%) || F1-score 0.53 || Not improved 0 out of 25\n",
            "Validation loss decreased 0.928069 -> 0.914791\n",
            "Epoch  13/500 || Loss:  Train 1.013664 | Validation 0.914791 || Accuracy: Train 59.18% | Validation 53.62% (69.23%) || F1-score 0.48 || Not improved 0 out of 25\n",
            "Epoch  14/500 || Loss:  Train 0.952526 | Validation 0.944550 || Accuracy: Train 51.41% | Validation 59.21% (0.00%) || F1-score 0.38 || Not improved 1 out of 25\n",
            "Epoch  15/500 || Loss:  Train 0.956754 | Validation 0.924341 || Accuracy: Train 60.45% | Validation 63.16% (0.00%) || F1-score 0.44 || Not improved 2 out of 25\n",
            "Epoch  16/500 || Loss:  Train 0.940135 | Validation 0.932432 || Accuracy: Train 60.45% | Validation 57.57% (53.85%) || F1-score 0.51 || Not improved 3 out of 25\n",
            "Validation loss decreased 0.914791 -> 0.914400\n",
            "Epoch  17/500 || Loss:  Train 0.952595 | Validation 0.914400 || Accuracy: Train 62.71% | Validation 63.16% (0.00%) || F1-score 0.46 || Not improved 0 out of 25\n",
            "Validation loss decreased 0.914400 -> 0.905272\n",
            "Epoch  18/500 || Loss:  Train 0.961306 | Validation 0.905272 || Accuracy: Train 62.15% | Validation 61.84% (0.00%) || F1-score 0.45 || Not improved 0 out of 25\n",
            "Epoch  19/500 || Loss:  Train 0.935519 | Validation 0.923960 || Accuracy: Train 62.43% | Validation 49.01% (92.31%) || F1-score 0.49 || Not improved 1 out of 25\n",
            "Epoch  20/500 || Loss:  Train 0.913869 | Validation 0.907588 || Accuracy: Train 51.84% | Validation 63.49% (30.77%) || F1-score 0.52 || Not improved 2 out of 25\n",
            "Validation loss decreased 0.905272 -> 0.898345\n",
            "Epoch  21/500 || Loss:  Train 0.945616 | Validation 0.898345 || Accuracy: Train 63.28% | Validation 59.54% (38.46%) || F1-score 0.52 || Not improved 0 out of 25\n",
            "Validation loss decreased 0.898345 -> 0.896290\n",
            "Epoch  22/500 || Loss:  Train 0.912247 | Validation 0.896290 || Accuracy: Train 63.70% | Validation 62.50% (30.77%) || F1-score 0.52 || Not improved 0 out of 25\n",
            "Epoch  23/500 || Loss:  Train 0.923229 | Validation 0.896548 || Accuracy: Train 61.16% | Validation 60.20% (30.77%) || F1-score 0.53 || Not improved 1 out of 25\n",
            "Epoch  24/500 || Loss:  Train 0.936784 | Validation 0.902661 || Accuracy: Train 56.64% | Validation 54.61% (61.54%) || F1-score 0.51 || Not improved 2 out of 25\n",
            "Epoch  25/500 || Loss:  Train 0.910200 | Validation 0.945253 || Accuracy: Train 61.58% | Validation 62.17% (0.00%) || F1-score 0.43 || Not improved 3 out of 25\n",
            "Epoch  26/500 || Loss:  Train 0.914053 | Validation 0.904234 || Accuracy: Train 65.11% | Validation 65.13% (0.00%) || F1-score 0.47 || Not improved 4 out of 25\n",
            "Epoch  27/500 || Loss:  Train 0.927789 | Validation 0.904398 || Accuracy: Train 63.42% | Validation 66.12% (0.00%) || F1-score 0.50 || Not improved 5 out of 25\n",
            "Validation loss decreased 0.896290 -> 0.869462\n",
            "Epoch  28/500 || Loss:  Train 0.900370 | Validation 0.869462 || Accuracy: Train 67.23% | Validation 65.79% (0.00%) || F1-score 0.48 || Not improved 0 out of 25\n",
            "Epoch  29/500 || Loss:  Train 0.911110 | Validation 0.876411 || Accuracy: Train 63.56% | Validation 66.78% (0.00%) || F1-score 0.50 || Not improved 1 out of 25\n",
            "Epoch  30/500 || Loss:  Train 0.902294 | Validation 0.906800 || Accuracy: Train 65.11% | Validation 60.53% (30.77%) || F1-score 0.50 || Not improved 2 out of 25\n",
            "Epoch  31/500 || Loss:  Train 0.895348 | Validation 0.881292 || Accuracy: Train 61.02% | Validation 59.87% (46.15%) || F1-score 0.55 || Not improved 3 out of 25\n",
            "Epoch  32/500 || Loss:  Train 0.879038 | Validation 0.890490 || Accuracy: Train 64.12% | Validation 60.53% (46.15%) || F1-score 0.54 || Not improved 4 out of 25\n",
            "Epoch  33/500 || Loss:  Train 0.906234 | Validation 0.918790 || Accuracy: Train 57.91% | Validation 57.57% (30.77%) || F1-score 0.47 || Not improved 5 out of 25\n",
            "Epoch  34/500 || Loss:  Train 0.897935 | Validation 0.883594 || Accuracy: Train 62.71% | Validation 58.22% (61.54%) || F1-score 0.55 || Not improved 6 out of 25\n",
            "Validation loss decreased 0.869462 -> 0.851680\n",
            "Epoch  35/500 || Loss:  Train 0.869620 | Validation 0.851680 || Accuracy: Train 65.25% | Validation 66.12% (0.00%) || F1-score 0.51 || Not improved 0 out of 25\n",
            "Epoch  36/500 || Loss:  Train 0.900132 | Validation 0.856040 || Accuracy: Train 66.53% | Validation 71.38% (30.77%) || F1-score 0.62 || Not improved 1 out of 25\n",
            "Epoch  37/500 || Loss:  Train 0.871507 | Validation 0.895056 || Accuracy: Train 62.43% | Validation 57.89% (46.15%) || F1-score 0.50 || Not improved 2 out of 25\n",
            "Epoch  38/500 || Loss:  Train 0.868018 | Validation 0.856032 || Accuracy: Train 71.19% | Validation 70.39% (30.77%) || F1-score 0.61 || Not improved 3 out of 25\n",
            "Validation loss decreased 0.851680 -> 0.848049\n",
            "Epoch  39/500 || Loss:  Train 0.867472 | Validation 0.848049 || Accuracy: Train 68.22% | Validation 65.79% (46.15%) || F1-score 0.59 || Not improved 0 out of 25\n",
            "Validation loss decreased 0.848049 -> 0.833302\n",
            "Epoch  40/500 || Loss:  Train 0.854727 | Validation 0.833302 || Accuracy: Train 62.85% | Validation 66.12% (46.15%) || F1-score 0.59 || Not improved 0 out of 25\n",
            "Epoch  41/500 || Loss:  Train 0.850616 | Validation 0.860909 || Accuracy: Train 63.98% | Validation 62.83% (46.15%) || F1-score 0.56 || Not improved 1 out of 25\n",
            "Epoch  42/500 || Loss:  Train 0.835117 | Validation 0.851286 || Accuracy: Train 67.51% | Validation 70.72% (0.00%) || F1-score 0.54 || Not improved 2 out of 25\n",
            "Epoch  43/500 || Loss:  Train 0.833485 | Validation 0.913313 || Accuracy: Train 69.63% | Validation 63.49% (38.46%) || F1-score 0.54 || Not improved 3 out of 25\n",
            "Epoch  44/500 || Loss:  Train 0.881689 | Validation 0.842400 || Accuracy: Train 63.56% | Validation 70.07% (38.46%) || F1-score 0.61 || Not improved 4 out of 25\n",
            "Epoch  45/500 || Loss:  Train 0.827134 | Validation 0.857446 || Accuracy: Train 68.22% | Validation 69.08% (38.46%) || F1-score 0.60 || Not improved 5 out of 25\n",
            "Validation loss decreased 0.833302 -> 0.817868\n",
            "Epoch  46/500 || Loss:  Train 0.798469 | Validation 0.817868 || Accuracy: Train 68.36% | Validation 72.70% (7.69%) || F1-score 0.59 || Not improved 0 out of 25\n",
            "Epoch  47/500 || Loss:  Train 0.889839 | Validation 0.821393 || Accuracy: Train 68.08% | Validation 69.74% (38.46%) || F1-score 0.61 || Not improved 1 out of 25\n",
            "Epoch  48/500 || Loss:  Train 0.823500 | Validation 0.839662 || Accuracy: Train 66.95% | Validation 69.74% (0.00%) || F1-score 0.52 || Not improved 2 out of 25\n",
            "Epoch  49/500 || Loss:  Train 0.829071 | Validation 0.832208 || Accuracy: Train 70.76% | Validation 71.38% (0.00%) || F1-score 0.55 || Not improved 3 out of 25\n",
            "Epoch  50/500 || Loss:  Train 0.809389 | Validation 0.820524 || Accuracy: Train 70.34% | Validation 69.08% (38.46%) || F1-score 0.61 || Not improved 4 out of 25\n",
            "Validation loss decreased 0.817868 -> 0.799135\n",
            "Epoch  51/500 || Loss:  Train 0.802455 | Validation 0.799135 || Accuracy: Train 63.42% | Validation 70.39% (38.46%) || F1-score 0.62 || Not improved 0 out of 25\n",
            "Epoch  52/500 || Loss:  Train 0.835383 | Validation 0.802217 || Accuracy: Train 68.50% | Validation 74.01% (0.00%) || F1-score 0.58 || Not improved 1 out of 25\n",
            "Epoch  53/500 || Loss:  Train 0.835401 | Validation 0.811610 || Accuracy: Train 70.20% | Validation 65.13% (53.85%) || F1-score 0.59 || Not improved 2 out of 25\n",
            "Epoch  54/500 || Loss:  Train 0.838197 | Validation 0.812510 || Accuracy: Train 60.73% | Validation 73.68% (0.00%) || F1-score 0.57 || Not improved 3 out of 25\n",
            "Epoch  55/500 || Loss:  Train 0.812211 | Validation 0.799151 || Accuracy: Train 69.35% | Validation 71.05% (46.15%) || F1-score 0.63 || Not improved 4 out of 25\n",
            "Epoch  56/500 || Loss:  Train 0.802711 | Validation 0.827162 || Accuracy: Train 69.49% | Validation 69.74% (0.00%) || F1-score 0.52 || Not improved 5 out of 25\n",
            "Epoch  57/500 || Loss:  Train 0.805330 | Validation 0.853244 || Accuracy: Train 71.47% | Validation 70.07% (23.08%) || F1-score 0.59 || Not improved 6 out of 25\n",
            "Epoch  58/500 || Loss:  Train 0.829917 | Validation 0.803694 || Accuracy: Train 65.11% | Validation 70.39% (38.46%) || F1-score 0.62 || Not improved 7 out of 25\n",
            "Epoch  59/500 || Loss:  Train 0.795615 | Validation 0.820061 || Accuracy: Train 71.19% | Validation 72.37% (7.69%) || F1-score 0.59 || Not improved 8 out of 25\n",
            "Epoch  60/500 || Loss:  Train 0.839621 | Validation 0.800640 || Accuracy: Train 67.94% | Validation 73.03% (0.00%) || F1-score 0.57 || Not improved 9 out of 25\n",
            "Epoch  61/500 || Loss:  Train 0.881358 | Validation 0.815492 || Accuracy: Train 72.46% | Validation 72.37% (0.00%) || F1-score 0.57 || Not improved 10 out of 25\n",
            "Epoch  62/500 || Loss:  Train 0.811059 | Validation 0.855570 || Accuracy: Train 67.66% | Validation 72.04% (7.69%) || F1-score 0.58 || Not improved 11 out of 25\n",
            "Epoch  63/500 || Loss:  Train 0.799135 | Validation 0.801258 || Accuracy: Train 72.32% | Validation 75.33% (0.00%) || F1-score 0.58 || Not improved 12 out of 25\n",
            "Epoch  64/500 || Loss:  Train 0.798474 | Validation 0.823546 || Accuracy: Train 71.33% | Validation 70.72% (38.46%) || F1-score 0.62 || Not improved 13 out of 25\n",
            "Epoch  65/500 || Loss:  Train 0.864514 | Validation 0.819890 || Accuracy: Train 70.48% | Validation 70.07% (38.46%) || F1-score 0.61 || Not improved 14 out of 25\n",
            "Epoch  66/500 || Loss:  Train 0.762879 | Validation 0.838835 || Accuracy: Train 71.75% | Validation 70.07% (15.38%) || F1-score 0.58 || Not improved 15 out of 25\n",
            "Epoch  67/500 || Loss:  Train 0.819413 | Validation 0.800408 || Accuracy: Train 69.49% | Validation 75.00% (0.00%) || F1-score 0.58 || Not improved 16 out of 25\n",
            "Epoch  68/500 || Loss:  Train 0.802160 | Validation 0.812527 || Accuracy: Train 73.45% | Validation 73.68% (7.69%) || F1-score 0.59 || Not improved 17 out of 25\n",
            "Epoch  69/500 || Loss:  Train 0.804181 | Validation 0.805789 || Accuracy: Train 67.51% | Validation 72.04% (15.38%) || F1-score 0.60 || Not improved 18 out of 25\n",
            "Validation loss decreased 0.799135 -> 0.789996\n",
            "Epoch  70/500 || Loss:  Train 0.774369 | Validation 0.789996 || Accuracy: Train 72.60% | Validation 73.36% (30.77%) || F1-score 0.63 || Not improved 0 out of 25\n",
            "Epoch  71/500 || Loss:  Train 0.770857 | Validation 0.810152 || Accuracy: Train 70.62% | Validation 70.72% (38.46%) || F1-score 0.61 || Not improved 1 out of 25\n",
            "Epoch  72/500 || Loss:  Train 0.781363 | Validation 0.815311 || Accuracy: Train 67.37% | Validation 64.80% (53.85%) || F1-score 0.59 || Not improved 2 out of 25\n",
            "Epoch  73/500 || Loss:  Train 0.799392 | Validation 0.814062 || Accuracy: Train 63.28% | Validation 72.04% (23.08%) || F1-score 0.62 || Not improved 3 out of 25\n",
            "Epoch  74/500 || Loss:  Train 0.781147 | Validation 0.813796 || Accuracy: Train 70.62% | Validation 74.01% (23.08%) || F1-score 0.63 || Not improved 4 out of 25\n",
            "Epoch  75/500 || Loss:  Train 0.806229 | Validation 0.831651 || Accuracy: Train 69.77% | Validation 67.43% (23.08%) || F1-score 0.56 || Not improved 5 out of 25\n",
            "Epoch  76/500 || Loss:  Train 0.828839 | Validation 0.803855 || Accuracy: Train 62.01% | Validation 66.45% (46.15%) || F1-score 0.60 || Not improved 6 out of 25\n",
            "Epoch  77/500 || Loss:  Train 0.809043 | Validation 0.812563 || Accuracy: Train 69.21% | Validation 73.68% (15.38%) || F1-score 0.61 || Not improved 7 out of 25\n",
            "Epoch  78/500 || Loss:  Train 0.782380 | Validation 0.806930 || Accuracy: Train 72.32% | Validation 72.37% (30.77%) || F1-score 0.63 || Not improved 8 out of 25\n",
            "Epoch  79/500 || Loss:  Train 0.770960 | Validation 0.792993 || Accuracy: Train 68.22% | Validation 72.04% (23.08%) || F1-score 0.61 || Not improved 9 out of 25\n",
            "Epoch  80/500 || Loss:  Train 0.777435 | Validation 0.803647 || Accuracy: Train 73.02% | Validation 74.34% (0.00%) || F1-score 0.57 || Not improved 10 out of 25\n",
            "Epoch  81/500 || Loss:  Train 0.820042 | Validation 0.811646 || Accuracy: Train 71.47% | Validation 72.37% (23.08%) || F1-score 0.62 || Not improved 11 out of 25\n",
            "Epoch  82/500 || Loss:  Train 0.748340 | Validation 0.821432 || Accuracy: Train 70.48% | Validation 72.70% (7.69%) || F1-score 0.59 || Not improved 12 out of 25\n",
            "Epoch  83/500 || Loss:  Train 0.776243 | Validation 0.806173 || Accuracy: Train 71.89% | Validation 73.03% (7.69%) || F1-score 0.59 || Not improved 13 out of 25\n",
            "Epoch  84/500 || Loss:  Train 0.758270 | Validation 0.797438 || Accuracy: Train 67.23% | Validation 69.74% (38.46%) || F1-score 0.62 || Not improved 14 out of 25\n",
            "Epoch  85/500 || Loss:  Train 0.764396 | Validation 0.827747 || Accuracy: Train 73.87% | Validation 74.01% (0.00%) || F1-score 0.56 || Not improved 15 out of 25\n",
            "Epoch  86/500 || Loss:  Train 0.832466 | Validation 0.797574 || Accuracy: Train 71.47% | Validation 72.37% (0.00%) || F1-score 0.56 || Not improved 16 out of 25\n",
            "Epoch  87/500 || Loss:  Train 0.819194 | Validation 0.814273 || Accuracy: Train 64.12% | Validation 66.45% (38.46%) || F1-score 0.60 || Not improved 17 out of 25\n",
            "Epoch  88/500 || Loss:  Train 0.754819 | Validation 0.798191 || Accuracy: Train 70.06% | Validation 72.04% (0.00%) || F1-score 0.56 || Not improved 18 out of 25\n",
            "Epoch  89/500 || Loss:  Train 0.725368 | Validation 0.812868 || Accuracy: Train 70.76% | Validation 67.76% (38.46%) || F1-score 0.61 || Not improved 19 out of 25\n",
            "Validation loss decreased 0.789996 -> 0.785182\n",
            "Epoch  90/500 || Loss:  Train 0.753484 | Validation 0.785182 || Accuracy: Train 69.21% | Validation 72.70% (7.69%) || F1-score 0.59 || Not improved 0 out of 25\n",
            "Epoch  91/500 || Loss:  Train 0.840678 | Validation 0.811119 || Accuracy: Train 70.48% | Validation 69.74% (7.69%) || F1-score 0.56 || Not improved 1 out of 25\n",
            "Epoch  92/500 || Loss:  Train 0.780453 | Validation 0.793762 || Accuracy: Train 66.81% | Validation 70.72% (38.46%) || F1-score 0.62 || Not improved 2 out of 25\n",
            "Epoch  93/500 || Loss:  Train 0.768811 | Validation 0.811425 || Accuracy: Train 71.47% | Validation 70.72% (0.00%) || F1-score 0.56 || Not improved 3 out of 25\n",
            "Epoch  94/500 || Loss:  Train 0.762226 | Validation 0.831576 || Accuracy: Train 65.40% | Validation 70.07% (38.46%) || F1-score 0.62 || Not improved 4 out of 25\n",
            "Epoch  95/500 || Loss:  Train 0.794928 | Validation 0.818144 || Accuracy: Train 72.60% | Validation 72.70% (0.00%) || F1-score 0.58 || Not improved 5 out of 25\n",
            "Epoch  96/500 || Loss:  Train 0.764601 | Validation 0.824438 || Accuracy: Train 65.68% | Validation 68.42% (38.46%) || F1-score 0.60 || Not improved 6 out of 25\n",
            "Validation loss decreased 0.785182 -> 0.784005\n",
            "Epoch  97/500 || Loss:  Train 0.777975 | Validation 0.784005 || Accuracy: Train 72.60% | Validation 73.68% (0.00%) || F1-score 0.58 || Not improved 0 out of 25\n",
            "Epoch  98/500 || Loss:  Train 0.800229 | Validation 0.845039 || Accuracy: Train 68.08% | Validation 69.74% (38.46%) || F1-score 0.61 || Not improved 1 out of 25\n",
            "Epoch  99/500 || Loss:  Train 0.757253 | Validation 0.830692 || Accuracy: Train 67.80% | Validation 70.72% (38.46%) || F1-score 0.62 || Not improved 2 out of 25\n",
            "Epoch 100/500 || Loss:  Train 0.756692 | Validation 0.856469 || Accuracy: Train 71.61% | Validation 65.46% (38.46%) || F1-score 0.56 || Not improved 3 out of 25\n",
            "Epoch 101/500 || Loss:  Train 0.778464 | Validation 0.811421 || Accuracy: Train 66.10% | Validation 73.68% (0.00%) || F1-score 0.58 || Not improved 4 out of 25\n",
            "Validation loss decreased 0.784005 -> 0.779075\n",
            "Epoch 102/500 || Loss:  Train 0.748944 | Validation 0.779075 || Accuracy: Train 74.01% | Validation 72.70% (0.00%) || F1-score 0.57 || Not improved 0 out of 25\n",
            "Epoch 103/500 || Loss:  Train 0.791879 | Validation 0.836102 || Accuracy: Train 72.88% | Validation 72.04% (7.69%) || F1-score 0.58 || Not improved 1 out of 25\n",
            "Epoch 104/500 || Loss:  Train 0.774099 | Validation 0.785036 || Accuracy: Train 69.07% | Validation 68.42% (38.46%) || F1-score 0.61 || Not improved 2 out of 25\n",
            "Epoch 105/500 || Loss:  Train 0.760809 | Validation 0.816492 || Accuracy: Train 68.08% | Validation 70.07% (38.46%) || F1-score 0.62 || Not improved 3 out of 25\n",
            "Epoch 106/500 || Loss:  Train 0.758810 | Validation 0.818641 || Accuracy: Train 73.16% | Validation 71.71% (7.69%) || F1-score 0.59 || Not improved 4 out of 25\n",
            "Epoch 107/500 || Loss:  Train 0.744138 | Validation 0.824287 || Accuracy: Train 69.49% | Validation 71.05% (7.69%) || F1-score 0.58 || Not improved 5 out of 25\n",
            "Epoch 108/500 || Loss:  Train 0.710074 | Validation 0.784052 || Accuracy: Train 72.88% | Validation 73.03% (0.00%) || F1-score 0.57 || Not improved 6 out of 25\n",
            "Epoch 109/500 || Loss:  Train 0.726574 | Validation 0.799457 || Accuracy: Train 71.05% | Validation 72.04% (38.46%) || F1-score 0.63 || Not improved 7 out of 25\n",
            "Epoch 110/500 || Loss:  Train 0.866390 | Validation 0.797139 || Accuracy: Train 74.01% | Validation 71.38% (15.38%) || F1-score 0.59 || Not improved 8 out of 25\n",
            "Epoch 111/500 || Loss:  Train 0.744751 | Validation 0.831253 || Accuracy: Train 70.48% | Validation 69.41% (15.38%) || F1-score 0.58 || Not improved 9 out of 25\n",
            "Epoch 112/500 || Loss:  Train 0.749655 | Validation 0.809534 || Accuracy: Train 74.72% | Validation 75.99% (0.00%) || F1-score 0.58 || Not improved 10 out of 25\n",
            "Epoch 113/500 || Loss:  Train 0.761521 | Validation 0.814517 || Accuracy: Train 74.29% | Validation 71.71% (15.38%) || F1-score 0.60 || Not improved 11 out of 25\n",
            "Epoch 114/500 || Loss:  Train 0.740693 | Validation 0.807385 || Accuracy: Train 72.18% | Validation 73.03% (15.38%) || F1-score 0.61 || Not improved 12 out of 25\n",
            "Epoch 115/500 || Loss:  Train 0.765657 | Validation 0.809537 || Accuracy: Train 69.77% | Validation 71.38% (30.77%) || F1-score 0.62 || Not improved 13 out of 25\n",
            "Epoch 116/500 || Loss:  Train 0.764998 | Validation 0.789866 || Accuracy: Train 71.89% | Validation 72.70% (23.08%) || F1-score 0.62 || Not improved 14 out of 25\n",
            "Validation loss decreased 0.779075 -> 0.771820\n",
            "Epoch 117/500 || Loss:  Train 0.718251 | Validation 0.771820 || Accuracy: Train 72.74% | Validation 72.70% (30.77%) || F1-score 0.63 || Not improved 0 out of 25\n",
            "Epoch 118/500 || Loss:  Train 0.750618 | Validation 0.801080 || Accuracy: Train 71.47% | Validation 70.72% (30.77%) || F1-score 0.62 || Not improved 1 out of 25\n",
            "Epoch 119/500 || Loss:  Train 0.780696 | Validation 0.820155 || Accuracy: Train 72.60% | Validation 72.37% (0.00%) || F1-score 0.56 || Not improved 2 out of 25\n",
            "Epoch 120/500 || Loss:  Train 0.743791 | Validation 0.792133 || Accuracy: Train 68.36% | Validation 67.76% (38.46%) || F1-score 0.61 || Not improved 3 out of 25\n",
            "Epoch 121/500 || Loss:  Train 0.721269 | Validation 0.797779 || Accuracy: Train 71.47% | Validation 74.34% (0.00%) || F1-score 0.58 || Not improved 4 out of 25\n",
            "Epoch 122/500 || Loss:  Train 0.725117 | Validation 0.808290 || Accuracy: Train 71.61% | Validation 70.07% (30.77%) || F1-score 0.61 || Not improved 5 out of 25\n",
            "Epoch 123/500 || Loss:  Train 0.735390 | Validation 0.794920 || Accuracy: Train 70.20% | Validation 70.72% (30.77%) || F1-score 0.62 || Not improved 6 out of 25\n",
            "Epoch 124/500 || Loss:  Train 0.747541 | Validation 0.831683 || Accuracy: Train 71.05% | Validation 71.71% (30.77%) || F1-score 0.62 || Not improved 7 out of 25\n",
            "Epoch 125/500 || Loss:  Train 0.729198 | Validation 0.827808 || Accuracy: Train 72.03% | Validation 72.70% (7.69%) || F1-score 0.59 || Not improved 8 out of 25\n",
            "Epoch 126/500 || Loss:  Train 0.711471 | Validation 0.817010 || Accuracy: Train 70.20% | Validation 69.74% (30.77%) || F1-score 0.61 || Not improved 9 out of 25\n",
            "Epoch 127/500 || Loss:  Train 0.747687 | Validation 0.815549 || Accuracy: Train 73.16% | Validation 74.01% (0.00%) || F1-score 0.57 || Not improved 10 out of 25\n",
            "Epoch 128/500 || Loss:  Train 0.765583 | Validation 0.812354 || Accuracy: Train 69.92% | Validation 72.04% (30.77%) || F1-score 0.62 || Not improved 11 out of 25\n",
            "Epoch 129/500 || Loss:  Train 0.741193 | Validation 0.812440 || Accuracy: Train 71.47% | Validation 71.71% (15.38%) || F1-score 0.59 || Not improved 12 out of 25\n",
            "Epoch 130/500 || Loss:  Train 0.716154 | Validation 0.792531 || Accuracy: Train 72.74% | Validation 76.64% (0.00%) || F1-score 0.59 || Not improved 13 out of 25\n",
            "Epoch 131/500 || Loss:  Train 0.772888 | Validation 0.823624 || Accuracy: Train 73.45% | Validation 71.71% (30.77%) || F1-score 0.62 || Not improved 14 out of 25\n",
            "Epoch 132/500 || Loss:  Train 0.794817 | Validation 0.817948 || Accuracy: Train 66.24% | Validation 67.11% (38.46%) || F1-score 0.61 || Not improved 15 out of 25\n",
            "Epoch 133/500 || Loss:  Train 0.794344 | Validation 0.800634 || Accuracy: Train 69.63% | Validation 73.68% (0.00%) || F1-score 0.57 || Not improved 16 out of 25\n",
            "Epoch 134/500 || Loss:  Train 0.764890 | Validation 0.801934 || Accuracy: Train 70.06% | Validation 73.36% (15.38%) || F1-score 0.61 || Not improved 17 out of 25\n",
            "Epoch 135/500 || Loss:  Train 0.724071 | Validation 0.802086 || Accuracy: Train 73.02% | Validation 75.00% (0.00%) || F1-score 0.59 || Not improved 18 out of 25\n",
            "Epoch 136/500 || Loss:  Train 0.713790 | Validation 0.793561 || Accuracy: Train 73.59% | Validation 73.68% (15.38%) || F1-score 0.62 || Not improved 19 out of 25\n",
            "Epoch 137/500 || Loss:  Train 0.776458 | Validation 0.793749 || Accuracy: Train 75.99% | Validation 77.30% (0.00%) || F1-score 0.59 || Not improved 20 out of 25\n",
            "Epoch 138/500 || Loss:  Train 0.744526 | Validation 0.833461 || Accuracy: Train 72.18% | Validation 67.76% (38.46%) || F1-score 0.60 || Not improved 21 out of 25\n",
            "Epoch 139/500 || Loss:  Train 0.746276 | Validation 0.804095 || Accuracy: Train 70.20% | Validation 73.36% (23.08%) || F1-score 0.63 || Not improved 22 out of 25\n",
            "Epoch 140/500 || Loss:  Train 0.747273 | Validation 0.799745 || Accuracy: Train 72.32% | Validation 74.01% (15.38%) || F1-score 0.62 || Not improved 23 out of 25\n",
            "Epoch 141/500 || Loss:  Train 0.728675 | Validation 0.787851 || Accuracy: Train 73.59% | Validation 74.01% (0.00%) || F1-score 0.58 || Not improved 24 out of 25\n",
            "Epoch 142/500 || Loss:  Train 0.675858 | Validation 0.811325 || Accuracy: Train 73.31% | Validation 73.36% (23.08%) || F1-score 0.62 || Not improved 25 out of 25\n"
          ],
          "name": "stdout"
        }
      ]
    },
    {
      "cell_type": "markdown",
      "metadata": {
        "id": "kLpDbGUqW46k",
        "colab_type": "text"
      },
      "source": [
        "**Evaluation**"
      ]
    },
    {
      "cell_type": "code",
      "metadata": {
        "id": "shnQhwUwW5H6",
        "colab_type": "code",
        "outputId": "af94f708-2202-4c37-9ebe-20bcad8fb6b3",
        "colab": {
          "base_uri": "https://localhost:8080/",
          "height": 315
        }
      },
      "source": [
        "plt.plot(train_loss_history, label='Train')\n",
        "plt.plot(val_loss_history, label='Validation')\n",
        "plt.axvline(x=np.argmin(val_loss_history), color='black', alpha=0.2, linestyle='--')\n",
        "plt.legend()\n",
        "plt.xlabel('Epoch')\n",
        "plt.ylabel('Loss')\n",
        "plt.title('Training-validation loss')\n",
        "plt.show()"
      ],
      "execution_count": 30,
      "outputs": [
        {
          "output_type": "display_data",
          "data": {
            "image/png": "[encoded data removed]",
            "text/plain": [
              "<Figure size 432x288 with 1 Axes>"
            ]
          },
          "metadata": {
            "tags": []
          }
        }
      ]
    },
    {
      "cell_type": "code",
      "metadata": {
        "id": "TJU3McVHc8eQ",
        "colab_type": "code",
        "outputId": "74739647-c031-4c01-c510-4d671cce4367",
        "colab": {
          "base_uri": "https://localhost:8080/",
          "height": 315
        }
      },
      "source": [
        "for i in range(4):\n",
        "    fpr, tpr, thresholds = roc_curve((true_y == i).astype(np.int), predicted_y_percent[:, i])\n",
        "    plt.plot(fpr, tpr, label='Label ' + str(i))\n",
        "plt.plot([0, 1], [0, 1], color='black', alpha=0.2, linestyle='--')\n",
        "plt.legend()\n",
        "plt.xlabel('False positive rate')\n",
        "plt.ylabel('True positive rate')\n",
        "plt.title('ROC curve')\n",
        "plt.show()"
      ],
      "execution_count": 31,
      "outputs": [
        {
          "output_type": "display_data",
          "data": {
            "image/png": "[encoded data removed]",
            "text/plain": [
              "<Figure size 432x288 with 1 Axes>"
            ]
          },
          "metadata": {
            "tags": []
          }
        }
      ]
    },
    {
      "cell_type": "code",
      "metadata": {
        "id": "XzjZ_jg1eg7Q",
        "colab_type": "code",
        "outputId": "36a8f3f8-5ff3-483a-dc1a-00a3e22e6bbe",
        "colab": {
          "base_uri": "https://localhost:8080/",
          "height": 287
        }
      },
      "source": [
        "label_names = [f'Label {i}' for i in range(4)]\n",
        "cm = confusion_matrix(true_y, predicted_y)\n",
        "cm_df = pd.DataFrame(cm, columns=label_names, index=label_names)\n",
        "cm_df_rel = pd.DataFrame(cm/cm.sum(1)[:, np.newaxis], columns=label_names, index=label_names)\n",
        "\n",
        "fig, axes = plt.subplots(nrows=1, ncols=2, figsize=(10, 4))\n",
        "\n",
        "sns.set(font_scale=1.4) # for label size\n",
        "sns.heatmap(cm_df, annot=True, annot_kws={\"size\": 13}, fmt='g', ax=axes[0])\n",
        "\n",
        "sns.set(font_scale=1.4) # for label size\n",
        "sns.heatmap(round(cm_df_rel, 3), annot=True, annot_kws={\"size\": 13}, fmt='g', ax=axes[1])\n",
        "\n",
        "plt.tight_layout()\n",
        "plt.show()"
      ],
      "execution_count": 32,
      "outputs": [
        {
          "output_type": "display_data",
          "data": {
            "image/png": "[encoded data removed]",
            "text/plain": [
              "<Figure size 720x288 with 4 Axes>"
            ]
          },
          "metadata": {
            "tags": []
          }
        }
      ]
    },
    {
      "cell_type": "code",
      "metadata": {
        "id": "NC7DD4Sp0eGP",
        "colab_type": "code",
        "outputId": "f8e31948-7f5b-43b4-93bd-ff3274e77c2e",
        "colab": {
          "base_uri": "https://localhost:8080/",
          "height": 119
        }
      },
      "source": [
        "for label in label_names:\n",
        "    print(f'Accuracy for {label} is {cm_df_rel[label][label]:.2%}')\n",
        "print(f'Overall accuracy is {(predicted_y == true_y).sum()/len(true_y):.2%}')\n",
        "print(f'Overall F1-score is {f1_score(true_y, predicted_y, average=\"macro\"):.2f}')"
      ],
      "execution_count": 33,
      "outputs": [
        {
          "output_type": "stream",
          "text": [
            "Accuracy for Label 0 is 81.29%\n",
            "Accuracy for Label 1 is 56.84%\n",
            "Accuracy for Label 2 is 30.77%\n",
            "Accuracy for Label 3 is 90.24%\n",
            "Overall accuracy is 72.70%\n",
            "Overall F1-score is 0.63\n"
          ],
          "name": "stdout"
        }
      ]
    },
    {
      "cell_type": "code",
      "metadata": {
        "id": "gzYUZlM2SupZ",
        "colab_type": "code",
        "colab": {}
      },
      "source": [
        ""
      ],
      "execution_count": 0,
      "outputs": []
    }
  ]
}