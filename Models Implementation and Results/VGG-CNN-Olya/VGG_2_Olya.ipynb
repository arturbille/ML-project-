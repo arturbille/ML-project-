{
  "nbformat": 4,
  "nbformat_minor": 0,
  "metadata": {
    "accelerator": "GPU",
    "colab": {
      "name": "VGG_2-Olya.ipynb",
      "provenance": [],
      "collapsed_sections": []
    },
    "kernelspec": {
      "name": "python3",
      "display_name": "Python 3"
    },
    "language_info": {
      "codemirror_mode": {
        "name": "ipython",
        "version": 3
      },
      "file_extension": ".py",
      "mimetype": "text/x-python",
      "name": "python",
      "nbconvert_exporter": "python",
      "pygments_lexer": "ipython3",
      "version": "3.7.2"
    }
  },
  "cells": [
    {
      "cell_type": "code",
      "metadata": {
        "colab_type": "code",
        "id": "k9odeSZkjcQQ",
        "colab": {}
      },
      "source": [
        "from google.colab import drive\n",
        "drive.mount('/content/drive')"
      ],
      "execution_count": 0,
      "outputs": []
    },
    {
      "cell_type": "code",
      "metadata": {
        "id": "P3QKUgIJYr2P",
        "colab_type": "code",
        "colab": {}
      },
      "source": [
        "5"
      ],
      "execution_count": 0,
      "outputs": []
    },
    {
      "cell_type": "code",
      "metadata": {
        "colab_type": "code",
        "id": "_oK46hgGitlU",
        "colab": {}
      },
      "source": [
        "!pip install fiona\n",
        "!pip install rasterio"
      ],
      "execution_count": 0,
      "outputs": []
    },
    {
      "cell_type": "code",
      "metadata": {
        "colab_type": "code",
        "id": "jjLHfm2jj_H_",
        "colab": {}
      },
      "source": [
        "import sys\n",
        "sys.path.append('/content/drive/My Drive/Weak_Learners_ML2020')"
      ],
      "execution_count": 0,
      "outputs": []
    },
    {
      "cell_type": "code",
      "metadata": {
        "id": "HCCJfcz3E7ym",
        "colab_type": "code",
        "colab": {}
      },
      "source": [
        "import torch\n",
        "import torch.nn as nn\n",
        "import torch.utils.data as torch_data\n",
        "import torchvision.transforms.functional as F\n",
        "from sklearn.utils import shuffle\n",
        "import numbers\n",
        "from torch.utils.data import Dataset, DataLoader\n",
        "import utils2   ###############################3\n",
        "from utils2 import get_accuracy, Monitor, set_random_seeds, f1_score_ ##############"
      ],
      "execution_count": 0,
      "outputs": []
    },
    {
      "cell_type": "code",
      "metadata": {
        "id": "_rdcXWDKE7yp",
        "colab_type": "code",
        "colab": {}
      },
      "source": [
        "from sklearn.model_selection import train_test_split\n",
        "import random\n",
        "from torchvision import transforms \n",
        "from IPython import display\n",
        "import numpy as np\n",
        "import matplotlib.pyplot as plt\n",
        "import torch\n",
        "import tqdm\n",
        "\n",
        "class RandomAffine(object):\n",
        "    \"\"\"Random affine transformation of the image keeping center invariant\n",
        "\n",
        "    Args:\n",
        "        degrees (sequence or float or int): Range of degrees to select from.\n",
        "            If degrees is a number instead of sequence like (min, max), the range of degrees\n",
        "            will be (-degrees, +degrees). Set to 0 to deactivate rotations.\n",
        "        translate (tuple, optional): tuple of maximum absolute fraction for horizontal\n",
        "            and vertical translations. For example translate=(a, b), then horizontal shift\n",
        "            is randomly sampled in the range -img_width * a < dx < img_width * a and vertical shift is\n",
        "            randomly sampled in the range -img_height * b < dy < img_height * b. Will not translate by default.\n",
        "        scale (tuple, optional): scaling factor interval, e.g (a, b), then scale is\n",
        "            randomly sampled from the range a <= scale <= b. Will keep original scale by default.\n",
        "        shear (sequence or float or int, optional): Range of degrees to select from.\n",
        "            If shear is a number, a shear parallel to the x axis in the range (-shear, +shear)\n",
        "            will be apllied. Else if shear is a tuple or list of 2 values a shear parallel to the x axis in the\n",
        "            range (shear[0], shear[1]) will be applied. Else if shear is a tuple or list of 4 values,\n",
        "            a x-axis shear in (shear[0], shear[1]) and y-axis shear in (shear[2], shear[3]) will be applied.\n",
        "            Will not apply shear by default\n",
        "        resample ({PIL.Image.NEAREST, PIL.Image.BILINEAR, PIL.Image.BICUBIC}, optional):\n",
        "            An optional resampling filter. See `filters`_ for more information.\n",
        "            If omitted, or if the image has mode \"1\" or \"P\", it is set to PIL.Image.NEAREST.\n",
        "        fillcolor (tuple or int): Optional fill color (Tuple for RGB Image And int for grayscale) for the area\n",
        "            outside the transform in the output image.(Pillow>=5.0.0)\n",
        "\n",
        "    .. _filters: https://pillow.readthedocs.io/en/latest/handbook/concepts.html#filters\n",
        "\n",
        "    \"\"\"\n",
        "\n",
        "    def __init__(self, degrees, translate=None, scale=None, shear=None, resample=False, fillcolor=0):\n",
        "        if isinstance(degrees, numbers.Number):\n",
        "            if degrees < 0:\n",
        "                raise ValueError(\"If degrees is a single number, it must be positive.\")\n",
        "            self.degrees = (-degrees, degrees)\n",
        "            if degrees == 0:\n",
        "                self.degrees = 0 \n",
        "        else:\n",
        "            assert isinstance(degrees, (tuple, list)) and len(degrees) == 2, \\\n",
        "                \"degrees should be a list or tuple and it must be of length 2.\"\n",
        "            self.degrees = degrees\n",
        "\n",
        "        if translate is not None:\n",
        "            assert isinstance(translate, (tuple, list)) and len(translate) == 2, \\\n",
        "                \"translate should be a list or tuple and it must be of length 2.\"\n",
        "            for t in translate:\n",
        "                if not (0.0 <= t <= 1.0):\n",
        "                    raise ValueError(\"translation values should be between 0 and 1\")\n",
        "        self.translate = translate\n",
        "\n",
        "        if scale is not None:\n",
        "            assert isinstance(scale, (tuple, list)) and len(scale) == 2, \\\n",
        "                \"scale should be a list or tuple and it must be of length 2.\"\n",
        "            for s in scale:\n",
        "                if s <= 0:\n",
        "                    raise ValueError(\"scale values should be positive\")\n",
        "        self.scale = scale\n",
        "\n",
        "        if shear is not None:\n",
        "            if isinstance(shear, numbers.Number):\n",
        "                if shear < 0:\n",
        "                    raise ValueError(\"If shear is a single number, it must be positive.\")\n",
        "                self.shear = (-shear, shear)\n",
        "            else:\n",
        "                assert isinstance(shear, (tuple, list)) and \\\n",
        "                    (len(shear) == 2 or len(shear) == 4), \\\n",
        "                    \"shear should be a list or tuple and it must be of length 2 or 4.\"\n",
        "                # X-Axis shear with [min, max]\n",
        "                if len(shear) == 2:\n",
        "                    self.shear = [shear[0], shear[1], 0., 0.]\n",
        "                elif len(shear) == 4:\n",
        "                    self.shear = [s for s in shear]\n",
        "        else:\n",
        "            self.shear = shear\n",
        "\n",
        "        self.resample = resample\n",
        "        self.fillcolor = fillcolor\n",
        "\n",
        "    @staticmethod\n",
        "    def get_params(degrees, translate, scale_ranges, shears, img_size):\n",
        "        \"\"\"Get parameters for affine transformation\n",
        "\n",
        "        Returns:\n",
        "            sequence: params to be passed to the affine transformation\n",
        "        \"\"\"\n",
        "        \n",
        "        if degrees == 0:\n",
        "            angle = 0\n",
        "        else:    \n",
        "            angle = random.uniform(degrees[0], degrees[1])\n",
        "            \n",
        "        if translate is not None:\n",
        "            max_dx = translate[0] * img_size[0]\n",
        "            max_dy = translate[1] * img_size[1]\n",
        "            translations = (np.round(random.uniform(-max_dx, max_dx)),\n",
        "                            np.round(random.uniform(-max_dy, max_dy)))\n",
        "        else:\n",
        "            translations = (0, 0)\n",
        "\n",
        "        if scale_ranges is not None:\n",
        "            scale = random.uniform(scale_ranges[0], scale_ranges[1])\n",
        "        else:\n",
        "            scale = 1.0\n",
        "\n",
        "        if shears is not None:\n",
        "            if len(shears) == 2:\n",
        "                shear = [random.uniform(shears[0], shears[1]), 0.]\n",
        "            elif len(shears) == 4:\n",
        "                shear = [random.uniform(shears[0], shears[1]),\n",
        "                         random.uniform(shears[2], shears[3])]\n",
        "        else:\n",
        "            shear = 0.0\n",
        "\n",
        "        return angle, translations, scale, shear\n",
        "\n",
        "    def __call__(self, img):\n",
        "        \"\"\"\n",
        "            img (PIL Image): Image to be transformed.\n",
        "\n",
        "        Returns:\n",
        "            PIL Image: Affine transformed image.\n",
        "        \"\"\"\n",
        "\n",
        "        ret = self.get_params(self.degrees, self.translate, self.scale, self.shear, img[0].shape)\n",
        "        \n",
        "        if ret[0] == 0:\n",
        "            total_img = []\n",
        "            for m in img:\n",
        "                m = np.array([m])\n",
        "                m1 = torch.tensor(m, dtype=torch.float32)\n",
        "                m2 = transforms.ToPILImage()(m1)\n",
        "                m_crop = transforms.CenterCrop(m2.size[0]//2)(m2)\n",
        "                m3 = transforms.ToTensor()(m_crop)\n",
        "                m_np = np.array(m3.tolist())[0]\n",
        "                total_img.append(m_np)\n",
        "                \n",
        "            total_img_np = np.array(total_img)\n",
        "            return np.array(total_img_np)\n",
        "            \n",
        "        else:\n",
        "            total_img = []\n",
        "            for c in img:\n",
        "                c = np.array([c])\n",
        "                c1 = torch.tensor(c, dtype=torch.float32)\n",
        "                c2 = transforms.ToPILImage()(c1)\n",
        "                af = F.affine(c2, *ret, resample=self.resample, fillcolor=self.fillcolor)\n",
        "                af_crop = transforms.CenterCrop(af.size[0]//2)(af)\n",
        "                af1 = transforms.ToTensor()(af_crop)\n",
        "                af_np = np.array(af1.tolist())[0]\n",
        "                total_img.append(af_np)\n",
        "\n",
        "            total_img_np = np.array(total_img)\n",
        "\n",
        "            return total_img_np\n",
        "\n",
        "    def __repr__(self):\n",
        "        s = '{name}(degrees={degrees}'\n",
        "        if self.translate is not None:\n",
        "            s += ', translate={translate}'\n",
        "        if self.scale is not None:\n",
        "            s += ', scale={scale}'\n",
        "        if self.shear is not None:\n",
        "            s += ', shear={shear}'\n",
        "        if self.resample > 0:\n",
        "            s += ', resample={resample}'\n",
        "        if self.fillcolor != 0:\n",
        "            s += ', fillcolor={fillcolor}'\n",
        "        s += ')'\n",
        "        d = dict(self.__dict__)\n",
        "        d['resample'] = _pil_interpolation_to_str[d['resample']]\n",
        "        return s.format(name=self.__class__.__name__, **d)\n"
      ],
      "execution_count": 0,
      "outputs": []
    },
    {
      "cell_type": "code",
      "metadata": {
        "colab_type": "code",
        "id": "7o3VEujZiQZR",
        "outputId": "0ebac8aa-e1af-4ba9-8519-ebeaf92a4afb",
        "colab": {
          "base_uri": "https://localhost:8080/",
          "height": 52
        }
      },
      "source": [
        "import scipy\n",
        "import numpy as np\n",
        "import seaborn as sns\n",
        "import fiona\n",
        "import rasterio\n",
        "import matplotlib.pyplot as plt\n",
        "\n",
        "from shapely import geometry\n",
        "from rasterio.mask import mask\n",
        "from tqdm import tqdm_notebook\n",
        "from extractor_helper import extractor\n"
      ],
      "execution_count": 0,
      "outputs": [
        {
          "output_type": "stream",
          "text": [
            "/usr/local/lib/python3.6/dist-packages/statsmodels/tools/_testing.py:19: FutureWarning: pandas.util.testing is deprecated. Use the functions in the public API at pandas.testing instead.\n",
            "  import pandas.util.testing as tm\n"
          ],
          "name": "stderr"
        }
      ]
    },
    {
      "cell_type": "code",
      "metadata": {
        "id": "V7OP4-W2m-Rk",
        "colab_type": "code",
        "colab": {}
      },
      "source": [
        "class TreesData():\n",
        "    def __init__(self, X, y, transform, duplicate={}):\n",
        "        super().__init__()\n",
        "        \n",
        "        self.transform = transform\n",
        "        \n",
        "        for k, v in duplicate.items():\n",
        "          idx = y == k\n",
        "          X = np.concatenate([X, np.repeat(X[idx], int(v), 0)])\n",
        "          y = np.concatenate([y, np.repeat(y[idx], int(v), 0)])\n",
        "        self.X, self.y = shuffle(X, y)\n",
        "\n",
        "\n",
        "        \n",
        "    def __len__(self):\n",
        "        return self.X.shape[0]\n",
        "\n",
        "    def __getitem__(self, idx):\n",
        "        x = self.transform(self.X[idx])\n",
        "        y = self.y[idx]\n",
        "\n",
        "        \n",
        "        return torch.tensor(x, dtype=torch.float32), torch.tensor(y, dtype=torch.long)"
      ],
      "execution_count": 0,
      "outputs": []
    },
    {
      "cell_type": "markdown",
      "metadata": {
        "colab_type": "text",
        "id": "i0nYJcyhiQbr"
      },
      "source": [
        "## Inference"
      ]
    },
    {
      "cell_type": "code",
      "metadata": {
        "colab_type": "code",
        "id": "CTJi0TVriQbr",
        "colab": {}
      },
      "source": [
        "test2_img = rasterio.open(\"/content/drive/My Drive/Weak_Learners_ML2020/Eval/test2/pp_2_sat_modified.tif\")\n",
        "test2_points = fiona.open(\"/content/drive/My Drive/Weak_Learners_ML2020/Eval/test2/points_2_modified_Copy.shp\", \"r\")\n",
        "\n",
        "test3_img = rasterio.open(\"/content/drive/My Drive/Weak_Learners_ML2020/Eval/test3/pp_3_sat_modified.tif\")\n",
        "test3_points = fiona.open(\"/content/drive/My Drive/Weak_Learners_ML2020/Eval/test3/targets_Copy.shp\", \"r\")\n",
        "\n",
        "test4_img = rasterio.open(\"/content/drive/My Drive/Weak_Learners_ML2020/Eval/test4/pp_4_sat_modified_spline.tif\")\n",
        "test4_points = fiona.open(\"/content/drive/My Drive/Weak_Learners_ML2020/Eval/test4/modified_points_Copy.shp\", \"r\")\n"
      ],
      "execution_count": 0,
      "outputs": []
    },
    {
      "cell_type": "code",
      "metadata": {
        "colab_type": "code",
        "id": "fw3dDGcgVOZa",
        "outputId": "9e3b408f-eb6e-4fe5-bdcd-511fc91e7e18",
        "colab": {
          "base_uri": "https://localhost:8080/",
          "height": 621
        }
      },
      "source": [
        "from extractor_helper import extractor\n",
        "size___ = 14\n",
        "patch2,coordinates2,labels2, = extractor(test2_img,test2_points,size___ ,normalize=True,labeling=True)\n",
        "patch3,coordinates3,labels3, = extractor(test3_img,test3_points,size___ ,normalize=True,labeling=True)\n",
        "patch4,coordinates4,labels4, = extractor(test4_img,test4_points,size___ ,normalize=True,labeling=True)"
      ],
      "execution_count": 0,
      "outputs": [
        {
          "output_type": "stream",
          "text": [
            "None coordinate/close to edge\n",
            "None coordinate/close to edge\n",
            "None coordinate/close to edge\n",
            "None coordinate/close to edge\n",
            "None coordinate/close to edge\n",
            "None coordinate/close to edge\n",
            "None coordinate/close to edge\n",
            "None coordinate/close to edge\n",
            "None coordinate/close to edge\n",
            "None coordinate/close to edge\n",
            "None coordinate/close to edge\n",
            "None coordinate/close to edge\n",
            "None coordinate/close to edge\n",
            "None coordinate/close to edge\n",
            "None coordinate/close to edge\n",
            "None coordinate/close to edge\n",
            "None coordinate/close to edge\n",
            "None coordinate/close to edge\n",
            "None coordinate/close to edge\n",
            "None coordinate/close to edge\n",
            "None coordinate/close to edge\n",
            "None coordinate/close to edge\n",
            "None coordinate/close to edge\n",
            "None coordinate/close to edge\n",
            "None coordinate/close to edge\n",
            "None coordinate/close to edge\n",
            "None coordinate/close to edge\n",
            "None coordinate/close to edge\n",
            "None coordinate/close to edge\n",
            "None coordinate/close to edge\n",
            "None coordinate/close to edge\n",
            "None coordinate/close to edge\n",
            "None coordinate/close to edge\n",
            "None coordinate/close to edge\n"
          ],
          "name": "stdout"
        }
      ]
    },
    {
      "cell_type": "code",
      "metadata": {
        "colab_type": "code",
        "id": "ibTf9NsXdN6S",
        "outputId": "c278de33-bd63-40ca-87f9-8be3c834819b",
        "colab": {
          "base_uri": "https://localhost:8080/",
          "height": 88
        }
      },
      "source": [
        "\n",
        "device = torch.device('cuda:0' if torch.cuda.is_available() else 'cpu')\n",
        "\n",
        "patch2,patch3, patch4 = np.array(patch2), np.array(patch3), np.array(patch4)\n",
        "print(patch2.shape)\n",
        "labels2, labels3, labels4 = np.array(labels2), np.array(labels3), np.array(labels4)\n",
        "patch2, patch3, patch4 = np.moveaxis(patch2,3,1), np.moveaxis(patch3,3,1), np.moveaxis(patch4,3,1)\n",
        "print(patch2.shape)\n",
        "patch = np.concatenate((patch2, patch3, patch4),axis=0)\n",
        "labels = np.concatenate((labels2,labels3,labels4),axis=0)\n",
        "\n",
        "print(patch.shape)\n",
        "print(labels.shape)"
      ],
      "execution_count": 0,
      "outputs": [
        {
          "output_type": "stream",
          "text": [
            "(455, 28, 28, 8)\n",
            "(455, 8, 28, 28)\n",
            "(1012, 8, 28, 28)\n",
            "(1012,)\n"
          ],
          "name": "stdout"
        }
      ]
    },
    {
      "cell_type": "code",
      "metadata": {
        "colab_type": "code",
        "id": "bXdckpt3u-63",
        "outputId": "c3db332d-4108-474b-c167-b2ed4630e72f",
        "colab": {
          "base_uri": "https://localhost:8080/",
          "height": 52
        }
      },
      "source": [
        "weight_0 = len(labels) / np.sum(labels == 0)\n",
        "weight_1 = len(labels) / np.sum(labels == 1)\n",
        "weight_2 = len(labels) / np.sum(labels == 2)\n",
        "weight_3 = len(labels) / np.sum(labels == 3)\n",
        "print(weight_0, weight_1, weight_2, weight_3)\n",
        "duplicate1 = {0: round(weight_0 - 1), 1: round(weight_1 - 1), 2: round(weight_2 -1), 3: round(weight_3 -1)}\n",
        "weight = np.array([weight_0, weight_1, weight_2, weight_3])\n",
        "weight = weight / np.sum(weight) # normalized, just in case this is not done automatically\n",
        "\n",
        "duplicate1"
      ],
      "execution_count": 0,
      "outputs": [
        {
          "output_type": "stream",
          "text": [
            "1.9536679536679538 3.212698412698413 24.095238095238095 7.386861313868613\n"
          ],
          "name": "stdout"
        },
        {
          "output_type": "execute_result",
          "data": {
            "text/plain": [
              "{0: 1.0, 1: 2.0, 2: 23.0, 3: 6.0}"
            ]
          },
          "metadata": {
            "tags": []
          },
          "execution_count": 12
        }
      ]
    },
    {
      "cell_type": "code",
      "metadata": {
        "id": "su3D1ESEE7ze",
        "colab_type": "code",
        "colab": {}
      },
      "source": [
        "x_train,x_test,y_train,y_test = train_test_split(patch, labels, test_size=.2, shuffle=True, random_state = 12)"
      ],
      "execution_count": 0,
      "outputs": []
    },
    {
      "cell_type": "code",
      "metadata": {
        "id": "JRvmBnbhE7zg",
        "colab_type": "code",
        "outputId": "2f519135-7f48-4cac-9092-b9d705a7085b",
        "colab": {
          "base_uri": "https://localhost:8080/",
          "height": 300
        }
      },
      "source": [
        "sam = x_train[0].copy()\n",
        "print(type(sam))\n",
        "sss = RandomAffine(degrees = 0)(sam)\n",
        "type(sss[0])\n",
        "plt.imshow(sss[0,:,:])\n"
      ],
      "execution_count": 0,
      "outputs": [
        {
          "output_type": "stream",
          "text": [
            "<class 'numpy.ndarray'>\n"
          ],
          "name": "stdout"
        },
        {
          "output_type": "execute_result",
          "data": {
            "text/plain": [
              "<matplotlib.image.AxesImage at 0x7f2047a8db70>"
            ]
          },
          "metadata": {
            "tags": []
          },
          "execution_count": 14
        },
        {
          "output_type": "display_data",
          "data": {
            "image/png": "[encoded data removed]",
            "text/plain": [
              "<Figure size 432x288 with 1 Axes>"
            ]
          },
          "metadata": {
            "tags": []
          }
        }
      ]
    },
    {
      "cell_type": "code",
      "metadata": {
        "id": "KRq-s5KME7zj",
        "colab_type": "code",
        "outputId": "a77b721b-afbd-41ca-c2b8-dbaf00b73ecd",
        "colab": {
          "base_uri": "https://localhost:8080/",
          "height": 300
        }
      },
      "source": [
        "sam = x_train[0].copy()\n",
        "print(type(sam))\n",
        "sss = RandomAffine(degrees = 20)(sam)\n",
        "type(sss[0])\n",
        "plt.imshow(sss[0,:,:])"
      ],
      "execution_count": 0,
      "outputs": [
        {
          "output_type": "stream",
          "text": [
            "<class 'numpy.ndarray'>\n"
          ],
          "name": "stdout"
        },
        {
          "output_type": "execute_result",
          "data": {
            "text/plain": [
              "<matplotlib.image.AxesImage at 0x7f2047563390>"
            ]
          },
          "metadata": {
            "tags": []
          },
          "execution_count": 15
        },
        {
          "output_type": "display_data",
          "data": {
            "image/png": "[encoded data removed]",
            "text/plain": [
              "<Figure size 432x288 with 1 Axes>"
            ]
          },
          "metadata": {
            "tags": []
          }
        }
      ]
    },
    {
      "cell_type": "code",
      "metadata": {
        "id": "bCOz3TzJE7zl",
        "colab_type": "code",
        "colab": {}
      },
      "source": [
        "train_data = TreesData(x_train,y_train, RandomAffine(degrees = 60, translate = (0.1, 0.2), shear = 20), duplicate1)\n",
        "test_data = TreesData(x_test,y_test,RandomAffine(degrees = 0))"
      ],
      "execution_count": 0,
      "outputs": []
    },
    {
      "cell_type": "code",
      "metadata": {
        "id": "2jNREqUWE7z1",
        "colab_type": "code",
        "colab": {}
      },
      "source": [
        "train_loader = torch_data.DataLoader(train_data,batch_size=64, shuffle=True)\n",
        "val_loader = torch_data.DataLoader(test_data,batch_size=250,shuffle=True)"
      ],
      "execution_count": 0,
      "outputs": []
    },
    {
      "cell_type": "code",
      "metadata": {
        "id": "GEAx-Vn8EIWk",
        "colab_type": "code",
        "colab": {}
      },
      "source": [
        "new_train = []\n",
        "j=0\n",
        "for a,b in train_data:\n",
        "    new_train.append(b.tolist())\n",
        "    j+=1\n",
        "\n",
        "\n",
        "import seaborn as sns\n",
        "sns.countplot(np.array(new_train))"
      ],
      "execution_count": 0,
      "outputs": []
    },
    {
      "cell_type": "code",
      "metadata": {
        "colab_type": "code",
        "id": "9SByHP79vxMW",
        "colab": {}
      },
      "source": [
        "import torch\n",
        "import torch.nn as nn\n",
        "\n",
        "\n",
        "__all__ = [\n",
        "    'VGG', 'vgg11', 'vgg11_bn', 'vgg13', 'vgg13_bn', 'vgg16', 'vgg16_bn',\n",
        "    'vgg19_bn', 'vgg19',\n",
        "]\n",
        "\n",
        "\n",
        "class VGG(nn.Module):  # 256 * 7 * 7\n",
        "\n",
        "    def __init__(self, features, num_classes=4, init_weights=True):\n",
        "        super(VGG, self).__init__()\n",
        "        self.features = features\n",
        "        #self.avgpool = nn.AdaptiveAvgPool2d((7, 7))\n",
        "        self.classifier = nn.Sequential(\n",
        "            nn.Linear(16384, 4096),  \n",
        "            nn.ReLU(True),\n",
        "            nn.Dropout(p=0.01),\n",
        "            nn.Linear(4096, 1024),\n",
        "            nn.ReLU(True),\n",
        "            nn.Dropout(),\n",
        "            nn.Linear(1024, 128),\n",
        "            nn.ReLU(True),\n",
        "            nn.Linear(128, num_classes),\n",
        "            nn.ReLU(True)\n",
        "        \n",
        "        )\n",
        "        if init_weights:\n",
        "            self._initialize_weights()\n",
        "\n",
        "    def forward(self, x):\n",
        "        #print(x.shape)\n",
        "        x = self.features(x)\n",
        "        #print(x.shape)\n",
        "        x = torch.flatten(x, 1)\n",
        "        #print(x.shape)\n",
        "        x = self.classifier(x)\n",
        "        \n",
        "        return x\n",
        "\n",
        "    def _initialize_weights(self):\n",
        "        for m in self.modules():\n",
        "            if isinstance(m, nn.Conv2d):\n",
        "                nn.init.kaiming_normal_(m.weight, mode='fan_out', nonlinearity='relu')\n",
        "                if m.bias is not None:\n",
        "                    nn.init.constant_(m.bias, 0)\n",
        "            elif isinstance(m, nn.BatchNorm2d):\n",
        "                nn.init.constant_(m.weight, 1)\n",
        "                nn.init.constant_(m.bias, 0)\n",
        "            elif isinstance(m, nn.Linear):\n",
        "                nn.init.normal_(m.weight, 0, 0.01)\n",
        "                nn.init.constant_(m.bias, 0)\n",
        "\n",
        "\n",
        "def make_layers(cfg, batch_norm=False):\n",
        "    layers = []\n",
        "    in_channels = 8\n",
        "    for v in cfg:\n",
        "        if v == 'M':\n",
        "            layers += [nn.MaxPool2d(kernel_size=2, stride=2, padding=1)]\n",
        "        else:\n",
        "            conv2d = nn.Conv2d(in_channels, v, kernel_size=2, padding=1, stride=1)\n",
        "            if batch_norm:\n",
        "                layers += [conv2d, nn.BatchNorm2d(v), nn.ReLU(inplace=True)]\n",
        "            else:\n",
        "                layers += [conv2d, nn.ReLU(inplace=True)]\n",
        "            in_channels = v\n",
        "    return nn.Sequential(*layers)\n",
        "\n",
        "\n",
        "cfgs = {'A': [32, 64, 'M', 128, 128, 'M', 256, 256]}\n",
        "\n",
        "def _vgg(arch, cfg, batch_norm, pretrained, progress, **kwargs):\n",
        "    if pretrained:\n",
        "        kwargs['init_weights'] = False\n",
        "    model = VGG(make_layers(cfgs[cfg], batch_norm=batch_norm), **kwargs) #, batch_norm=batch_norm\n",
        "    if pretrained:\n",
        "        state_dict = load_state_dict_from_url(model_urls[arch],\n",
        "                                              progress=progress)\n",
        "        model.load_state_dict(state_dict)\n",
        "    return model\n",
        "\n",
        "\n",
        "def vgg11(pretrained=False, progress=True, **kwargs):\n",
        "    r\"\"\"VGG 11-layer model (configuration \"A\") from\n",
        "    `\"Very Deep Convolutional Networks For Large-Scale Image Recognition\" <https://arxiv.org/pdf/1409.1556.pdf>`_\n",
        "    Args:\n",
        "        pretrained (bool): If True, returns a model pre-trained on ImageNet\n",
        "        progress (bool): If True, displays a progress bar of the download to stderr\n",
        "    \"\"\"\n",
        "    return _vgg('vgg11', 'A', True, pretrained, progress, **kwargs)\n",
        "\n",
        "model = vgg11(pretrained=False, progress=False)"
      ],
      "execution_count": 0,
      "outputs": []
    },
    {
      "cell_type": "code",
      "metadata": {
        "colab_type": "code",
        "id": "p4lqYUulvw9m",
        "colab": {}
      },
      "source": [
        "def train(model, optimizer, loss_function, train_loader, val_loader, device, epochs_n=1, plot_each=10):\n",
        "    # send the model to that device\n",
        "    model = model.to(device)\n",
        "    # initialize some visualization code that you don't need to care about\n",
        "    monitor = Monitor()\n",
        "    # Reduce the lr every 50 epochs\n",
        "    #scheduler = StepLR(optimizer, 50, 0.5, last_epoch=-1)\n",
        "    # one full cycle on train data is called epoch\n",
        "    for epoch in trange(epochs_n):\n",
        "        # switch the model to the train mode\n",
        "        # later on we will have some blocks that behave differently in train and test mode\n",
        "        model.train()\n",
        "        for model_input, target in train_loader:\n",
        "            # send data to device\n",
        "            model_input = model_input.to(device)\n",
        "            target = target.to(device)\n",
        "            # calculate outputs and loss\n",
        "            model_output = model(model_input)\n",
        "            loss = loss_function(model_output, target)\n",
        "            # update model weights\n",
        "            optimizer.zero_grad()\n",
        "            loss.backward()\n",
        "            optimizer.step()\n",
        "            # do some visualization\n",
        "            monitor.add_loss_value(loss.item())\n",
        "        \n",
        "        # evaluate our model\n",
        "        model.eval()\n",
        "        train_accuracy = get_accuracy(model, train_loader, device)\n",
        "        val_accuracy = get_accuracy(model, val_loader, device)\n",
        "\n",
        "        val_f1 = f1_score_(model, val_loader, device)  ###########\n",
        "\n",
        "        monitor.add_train_accuracy_value(train_accuracy)\n",
        "        monitor.add_val_accuracy_value(val_accuracy)\n",
        "        monitor.add_val_f1_value(val_f1)  ##############\n",
        "\n",
        "    \n",
        "        #scheduler.step()\n",
        "        \n",
        "        if epoch % plot_each == 0:\n",
        "            monitor.show()"
      ],
      "execution_count": 0,
      "outputs": []
    },
    {
      "cell_type": "markdown",
      "metadata": {
        "id": "mxoLVw5kRxMi",
        "colab_type": "text"
      },
      "source": [
        ""
      ]
    },
    {
      "cell_type": "code",
      "metadata": {
        "id": "SogKz_XhE7z_",
        "colab_type": "code",
        "outputId": "f7fc78bb-0ed7-479b-8d78-37fcbed56630",
        "colab": {
          "base_uri": "https://localhost:8080/",
          "height": 243
        }
      },
      "source": [
        "#from utils import get_accuracy, Monitor, set_random_seeds\n",
        "from tqdm import trange\n",
        "\n",
        "loss_function = torch.nn.CrossEntropyLoss()  # weight = torch.tensor(weight, dtype=torch.float32)\n",
        "optimizer = torch.optim.Adam(model.parameters(), lr=1e-5)#torch.optim.SGD(model.parameters(), lr=1e-3, momentum=0.9)\n",
        "\n",
        "# train\n",
        "train(model, optimizer, loss_function, train_loader, val_loader, device, epochs_n=200)"
      ],
      "execution_count": 0,
      "outputs": [
        {
          "output_type": "display_data",
          "data": {
            "image/png": "[encoded data removed]",
            "text/plain": [
              "<Figure size 1080x216 with 2 Axes>"
            ]
          },
          "metadata": {
            "tags": []
          }
        },
        {
          "output_type": "stream",
          "text": [
            "100%|██████████| 200/200 [49:33<00:00, 14.87s/it]\n"
          ],
          "name": "stderr"
        }
      ]
    },
    {
      "cell_type": "code",
      "metadata": {
        "id": "om3RXLYrsLvp",
        "colab_type": "code",
        "colab": {}
      },
      "source": [
        ""
      ],
      "execution_count": 0,
      "outputs": []
    }
  ]
}