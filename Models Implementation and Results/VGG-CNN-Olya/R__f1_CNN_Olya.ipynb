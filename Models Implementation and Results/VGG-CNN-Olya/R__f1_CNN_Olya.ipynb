{
  "nbformat": 4,
  "nbformat_minor": 0,
  "metadata": {
    "accelerator": "GPU",
    "colab": {
      "name": "R_ f1_CNN_Olya.ipynb",
      "provenance": [],
      "collapsed_sections": []
    },
    "kernelspec": {
      "name": "python3",
      "display_name": "Python 3"
    },
    "language_info": {
      "codemirror_mode": {
        "name": "ipython",
        "version": 3
      },
      "file_extension": ".py",
      "mimetype": "text/x-python",
      "name": "python",
      "nbconvert_exporter": "python",
      "pygments_lexer": "ipython3",
      "version": "3.7.2"
    }
  },
  "cells": [
    {
      "cell_type": "code",
      "metadata": {
        "id": "1JqNHeRuKoQS",
        "colab_type": "code",
        "outputId": "b205814f-aed0-4338-8a54-ccb6a825845f",
        "colab": {
          "base_uri": "https://localhost:8080/",
          "height": 126
        }
      },
      "source": [
        "from google.colab import drive\n",
        "drive.mount('/content/drive')"
      ],
      "execution_count": 0,
      "outputs": [
        {
          "output_type": "stream",
          "text": [
            "Go to this URL in a browser: https://accounts.google.com/o/oauth2/auth?client_id=947318989803-6bn6qk8qdgf4n4g3pfee6491hc0brc4i.apps.googleusercontent.com&redirect_uri=urn%3aietf%3awg%3aoauth%3a2.0%3aoob&response_type=code&scope=email%20https%3a%2f%2fwww.googleapis.com%2fauth%2fdocs.test%20https%3a%2f%2fwww.googleapis.com%2fauth%2fdrive%20https%3a%2f%2fwww.googleapis.com%2fauth%2fdrive.photos.readonly%20https%3a%2f%2fwww.googleapis.com%2fauth%2fpeopleapi.readonly\n",
            "\n",
            "Enter your authorization code:\n",
            "··········\n",
            "Mounted at /content/drive\n"
          ],
          "name": "stdout"
        }
      ]
    },
    {
      "cell_type": "code",
      "metadata": {
        "id": "MpJSYwP9Kw2G",
        "colab_type": "code",
        "outputId": "e0dec01d-a95c-4ad0-888f-3db12e56f411",
        "colab": {
          "base_uri": "https://localhost:8080/",
          "height": 532
        }
      },
      "source": [
        "!pip install fiona\n",
        "!pip install rasterio"
      ],
      "execution_count": 0,
      "outputs": [
        {
          "output_type": "stream",
          "text": [
            "Collecting fiona\n",
            "\u001b[?25l  Downloading https://files.pythonhosted.org/packages/ec/20/4e63bc5c6e62df889297b382c3ccd4a7a488b00946aaaf81a118158c6f09/Fiona-1.8.13.post1-cp36-cp36m-manylinux1_x86_64.whl (14.7MB)\n",
            "\u001b[K     |████████████████████████████████| 14.7MB 48.6MB/s \n",
            "\u001b[?25hRequirement already satisfied: six>=1.7 in /usr/local/lib/python3.6/dist-packages (from fiona) (1.12.0)\n",
            "Requirement already satisfied: click<8,>=4.0 in /usr/local/lib/python3.6/dist-packages (from fiona) (7.1.1)\n",
            "Requirement already satisfied: attrs>=17 in /usr/local/lib/python3.6/dist-packages (from fiona) (19.3.0)\n",
            "Collecting cligj>=0.5\n",
            "  Downloading https://files.pythonhosted.org/packages/e4/be/30a58b4b0733850280d01f8bd132591b4668ed5c7046761098d665ac2174/cligj-0.5.0-py3-none-any.whl\n",
            "Collecting click-plugins>=1.0\n",
            "  Downloading https://files.pythonhosted.org/packages/e9/da/824b92d9942f4e472702488857914bdd50f73021efea15b4cad9aca8ecef/click_plugins-1.1.1-py2.py3-none-any.whl\n",
            "Collecting munch\n",
            "  Downloading https://files.pythonhosted.org/packages/cc/ab/85d8da5c9a45e072301beb37ad7f833cd344e04c817d97e0cc75681d248f/munch-2.5.0-py2.py3-none-any.whl\n",
            "Installing collected packages: cligj, click-plugins, munch, fiona\n",
            "Successfully installed click-plugins-1.1.1 cligj-0.5.0 fiona-1.8.13.post1 munch-2.5.0\n",
            "Collecting rasterio\n",
            "\u001b[?25l  Downloading https://files.pythonhosted.org/packages/c7/81/13321f88f582a00705c5f348724728e8999136e19d6e7c56f7e6ac9bb7f9/rasterio-1.1.3-cp36-cp36m-manylinux1_x86_64.whl (18.1MB)\n",
            "\u001b[K     |████████████████████████████████| 18.1MB 244kB/s \n",
            "\u001b[?25hRequirement already satisfied: attrs in /usr/local/lib/python3.6/dist-packages (from rasterio) (19.3.0)\n",
            "Requirement already satisfied: cligj>=0.5 in /usr/local/lib/python3.6/dist-packages (from rasterio) (0.5.0)\n",
            "Collecting snuggs>=1.4.1\n",
            "  Downloading https://files.pythonhosted.org/packages/cc/0e/d27d6e806d6c0d1a2cfdc5d1f088e42339a0a54a09c3343f7f81ec8947ea/snuggs-1.4.7-py3-none-any.whl\n",
            "Requirement already satisfied: click<8,>=4.0 in /usr/local/lib/python3.6/dist-packages (from rasterio) (7.1.1)\n",
            "Collecting affine\n",
            "  Downloading https://files.pythonhosted.org/packages/ac/a6/1a39a1ede71210e3ddaf623982b06ecfc5c5c03741ae659073159184cd3e/affine-2.3.0-py2.py3-none-any.whl\n",
            "Requirement already satisfied: click-plugins in /usr/local/lib/python3.6/dist-packages (from rasterio) (1.1.1)\n",
            "Requirement already satisfied: numpy in /usr/local/lib/python3.6/dist-packages (from rasterio) (1.18.2)\n",
            "Requirement already satisfied: pyparsing>=2.1.6 in /usr/local/lib/python3.6/dist-packages (from snuggs>=1.4.1->rasterio) (2.4.6)\n",
            "Installing collected packages: snuggs, affine, rasterio\n",
            "Successfully installed affine-2.3.0 rasterio-1.1.3 snuggs-1.4.7\n"
          ],
          "name": "stdout"
        }
      ]
    },
    {
      "cell_type": "code",
      "metadata": {
        "id": "IbdgNWgGK4Yn",
        "colab_type": "code",
        "colab": {}
      },
      "source": [
        "import sys\n",
        "sys.path.append('/content/drive/My Drive/Weak_Learners_ML2020')"
      ],
      "execution_count": 0,
      "outputs": []
    },
    {
      "cell_type": "code",
      "metadata": {
        "id": "cLbrWnVRLB7p",
        "colab_type": "code",
        "outputId": "4759b5b9-0421-43fa-bb03-c30b6c5e0aad",
        "colab": {
          "base_uri": "https://localhost:8080/",
          "height": 52
        }
      },
      "source": [
        "import scipy\n",
        "import numpy as np\n",
        "import seaborn as sns\n",
        "import fiona\n",
        "import rasterio\n",
        "import matplotlib.pyplot as plt\n",
        "\n",
        "from shapely import geometry\n",
        "from rasterio.mask import mask\n",
        "from tqdm import tqdm_notebook\n",
        "from extractor_helper import extractor\n",
        "from torchvision import transforms\n",
        "\n",
        "import torch\n",
        "import torch.nn\n",
        "\n",
        "\n",
        "import utils2   ###############################3\n",
        "from utils2 import get_accuracy, Monitor, set_random_seeds, f1_score_ ##############\n",
        "from tqdm import trange\n",
        "import random\n",
        "\n",
        "from torch.optim.lr_scheduler import StepLR\n",
        "from torch.autograd import Variable\n",
        "import torchvision.utils as vutils\n",
        "from sklearn.utils import shuffle\n",
        "\n",
        "from extractor_helper import extractor\n",
        "from sklearn.model_selection import train_test_split\n",
        "\n",
        "from torch.utils.data import Dataset, DataLoader\n",
        "\n",
        "import torch\n",
        "import torch.nn as nn\n",
        "import torch.utils.data as torch_data\n",
        "\n",
        "from torchvision.models import resnet18\n",
        "\n",
        "import argparse"
      ],
      "execution_count": 0,
      "outputs": [
        {
          "output_type": "stream",
          "text": [
            "/usr/local/lib/python3.6/dist-packages/statsmodels/tools/_testing.py:19: FutureWarning: pandas.util.testing is deprecated. Use the functions in the public API at pandas.testing instead.\n",
            "  import pandas.util.testing as tm\n"
          ],
          "name": "stderr"
        }
      ]
    },
    {
      "cell_type": "code",
      "metadata": {
        "id": "XoHxPiJHLMDQ",
        "colab_type": "code",
        "outputId": "01527a69-3786-44eb-a2d8-630fb410234d",
        "colab": {
          "base_uri": "https://localhost:8080/",
          "height": 621
        }
      },
      "source": [
        "test2_img = rasterio.open(\"/content/drive/My Drive/Weak_Learners_ML2020/Eval/test2/pp_2_sat_modified.tif\")\n",
        "test2_points = fiona.open(\"/content/drive/My Drive/Weak_Learners_ML2020/Eval/test2/points_2_modified_Copy.shp\", \"r\")\n",
        "\n",
        "test3_img = rasterio.open(\"/content/drive/My Drive/Weak_Learners_ML2020/Eval/test3/pp_3_sat_modified.tif\")\n",
        "test3_points = fiona.open(\"/content/drive/My Drive/Weak_Learners_ML2020/Eval/test3/targets_Copy.shp\", \"r\")\n",
        "\n",
        "test4_img = rasterio.open(\"/content/drive/My Drive/Weak_Learners_ML2020/Eval/test4/pp_4_sat_modified_spline.tif\")\n",
        "test4_points = fiona.open(\"/content/drive/My Drive/Weak_Learners_ML2020/Eval/test4/modified_points_Copy.shp\", \"r\")\n",
        "\n",
        "patch2,coordinates2,labels2, = extractor(test2_img,test2_points,size=15,normalize=True,labeling=True)\n",
        "patch3,coordinates3,labels3, = extractor(test3_img,test3_points,size=15,normalize=True,labeling=True)\n",
        "patch4,coordinates4,labels4, = extractor(test4_img,test4_points,size=15,normalize=True,labeling=True)\n",
        "\n",
        "\n",
        "patch2,patch3, patch4 = np.array(patch2), np.array(patch3), np.array(patch4)\n",
        "labels2, labels3, labels4 = np.array(labels2), np.array(labels3), np.array(labels4)\n",
        "patch2, patch3, patch4 = np.moveaxis(patch2,3,1), np.moveaxis(patch3,3,1), np.moveaxis(patch4,3,1)\n",
        "\n",
        "patches = np.concatenate((patch2, patch3, patch4),axis=0)\n",
        "labels = np.concatenate((labels2,labels3,labels4),axis=0)"
      ],
      "execution_count": 0,
      "outputs": [
        {
          "output_type": "stream",
          "text": [
            "None coordinate/close to edge\n",
            "None coordinate/close to edge\n",
            "None coordinate/close to edge\n",
            "None coordinate/close to edge\n",
            "None coordinate/close to edge\n",
            "None coordinate/close to edge\n",
            "None coordinate/close to edge\n",
            "None coordinate/close to edge\n",
            "None coordinate/close to edge\n",
            "None coordinate/close to edge\n",
            "None coordinate/close to edge\n",
            "None coordinate/close to edge\n",
            "None coordinate/close to edge\n",
            "None coordinate/close to edge\n",
            "None coordinate/close to edge\n",
            "None coordinate/close to edge\n",
            "None coordinate/close to edge\n",
            "None coordinate/close to edge\n",
            "None coordinate/close to edge\n",
            "None coordinate/close to edge\n",
            "None coordinate/close to edge\n",
            "None coordinate/close to edge\n",
            "None coordinate/close to edge\n",
            "None coordinate/close to edge\n",
            "None coordinate/close to edge\n",
            "None coordinate/close to edge\n",
            "None coordinate/close to edge\n",
            "None coordinate/close to edge\n",
            "None coordinate/close to edge\n",
            "None coordinate/close to edge\n",
            "None coordinate/close to edge\n",
            "None coordinate/close to edge\n",
            "None coordinate/close to edge\n",
            "None coordinate/close to edge\n"
          ],
          "name": "stdout"
        }
      ]
    },
    {
      "cell_type": "code",
      "metadata": {
        "id": "wB6j7kiULfwP",
        "colab_type": "code",
        "colab": {}
      },
      "source": [
        "x_train,x_test,y_train,y_test = train_test_split(patches, labels, test_size=.2, shuffle=True, random_state = 12) "
      ],
      "execution_count": 0,
      "outputs": []
    },
    {
      "cell_type": "code",
      "metadata": {
        "id": "ph1UzYVGLj3d",
        "colab_type": "code",
        "colab": {}
      },
      "source": [
        "class TreesData(Dataset):\n",
        "    def __init__(self, X, y, flip=0, duplicate={}):\n",
        "        super().__init__()\n",
        "\n",
        "        for k, v in duplicate.items():\n",
        "          idx = y == k\n",
        "          X = np.concatenate([X, np.repeat(X[idx], int(v), 0)])\n",
        "          y = np.concatenate([y, np.repeat(y[idx], int(v), 0)])\n",
        "        self.X, self.y = shuffle(X, y)\n",
        "        self.flip = flip\n",
        "\n",
        "    def __len__(self):\n",
        "        return self.X.shape[0]\n",
        "\n",
        "    def __getitem__(self, idx):\n",
        "      x = self.X[idx]\n",
        "      y = self.y[idx]\n",
        "      if random.random() < self.flip:\n",
        "        x = np.flip(x, (1,))\n",
        "      if random.random() < self.flip:\n",
        "        x = np.flip(x, (2,))\n",
        " \n",
        "      # --- optional code ---\n",
        "      #if self.flip > 0:\n",
        "      #  x = rotate(x, random.random() * 360, (1, 2), reshape=False)\n",
        "      #  x = zoom(x, 1 + (random.random() * 0.2 - 0.1))\n",
        "      #x = x[:, 2:-2, 2:-2]\n",
        "      return torch.tensor(np.array(x), dtype=torch.float32), torch.tensor(y, dtype=torch.long)"
      ],
      "execution_count": 0,
      "outputs": []
    },
    {
      "cell_type": "code",
      "metadata": {
        "id": "3M1P6dY3LoU1",
        "colab_type": "code",
        "outputId": "00d95b8e-7e61-44f7-8b51-c147ddd591e2",
        "colab": {
          "base_uri": "https://localhost:8080/",
          "height": 35
        }
      },
      "source": [
        "weight_0 = len(labels) / np.sum(labels == 0)\n",
        "weight_1 = len(labels) / np.sum(labels == 1)\n",
        "weight_2 = len(labels) / np.sum(labels == 2)\n",
        "weight_3 = len(labels) / np.sum(labels == 3)\n",
        "print(weight_0, weight_1, weight_2, weight_3)\n",
        "duplicate = {0: round(weight_0 - 1), 1: round(weight_1 - 1), 2: round(weight_2 -1), 3: round(weight_3 -1)}\n",
        "weight = np.array([weight_0, weight_1, weight_2, weight_3])\n",
        "weight = weight / np.sum(weight) # normalized, just in case this is not done automatically"
      ],
      "execution_count": 0,
      "outputs": [
        {
          "output_type": "stream",
          "text": [
            "1.9536679536679538 3.212698412698413 24.095238095238095 7.386861313868613\n"
          ],
          "name": "stdout"
        }
      ]
    },
    {
      "cell_type": "code",
      "metadata": {
        "id": "f3DBpgx6LrKg",
        "colab_type": "code",
        "colab": {}
      },
      "source": [
        "train_data = TreesData(x_train,y_train,0.5,duplicate)\n",
        "test_data = TreesData(x_test,y_test)"
      ],
      "execution_count": 0,
      "outputs": []
    },
    {
      "cell_type": "code",
      "metadata": {
        "id": "A-FksgNRpYVk",
        "colab_type": "code",
        "outputId": "a04830aa-0fbd-4643-d944-91898358d92c",
        "colab": {
          "base_uri": "https://localhost:8080/",
          "height": 141
        }
      },
      "source": [
        "fff = x_train[0].copy()\n",
        "fff = np.array([[[2,1,9],[6,7,8],[5,0,8]],[[0,7,2],[7,5,1],[2,7,22]]])\n",
        "fff\n"
      ],
      "execution_count": 0,
      "outputs": [
        {
          "output_type": "execute_result",
          "data": {
            "text/plain": [
              "array([[[ 2,  1,  9],\n",
              "        [ 6,  7,  8],\n",
              "        [ 5,  0,  8]],\n",
              "\n",
              "       [[ 0,  7,  2],\n",
              "        [ 7,  5,  1],\n",
              "        [ 2,  7, 22]]])"
            ]
          },
          "metadata": {
            "tags": []
          },
          "execution_count": 10
        }
      ]
    },
    {
      "cell_type": "code",
      "metadata": {
        "id": "70zhosCTpVkj",
        "colab_type": "code",
        "outputId": "e7e8400c-d5c1-45c9-f15f-0068e34319a4",
        "colab": {
          "base_uri": "https://localhost:8080/",
          "height": 141
        }
      },
      "source": [
        "np.flip(fff, (1,))"
      ],
      "execution_count": 0,
      "outputs": [
        {
          "output_type": "execute_result",
          "data": {
            "text/plain": [
              "array([[[ 5,  0,  8],\n",
              "        [ 6,  7,  8],\n",
              "        [ 2,  1,  9]],\n",
              "\n",
              "       [[ 2,  7, 22],\n",
              "        [ 7,  5,  1],\n",
              "        [ 0,  7,  2]]])"
            ]
          },
          "metadata": {
            "tags": []
          },
          "execution_count": 11
        }
      ]
    },
    {
      "cell_type": "code",
      "metadata": {
        "id": "hjLfldtCLuP0",
        "colab_type": "code",
        "colab": {}
      },
      "source": [
        "train_loader = torch_data.DataLoader(train_data,batch_size=64, shuffle=True, num_workers=16)\n",
        "val_loader = torch_data.DataLoader(test_data,batch_size=512,shuffle=True, num_workers=2)"
      ],
      "execution_count": 0,
      "outputs": []
    },
    {
      "cell_type": "code",
      "metadata": {
        "id": "egsq-KzCLv2H",
        "colab_type": "code",
        "colab": {}
      },
      "source": [
        "device = torch.device('cuda:0' if torch.cuda.is_available() else 'cpu')"
      ],
      "execution_count": 0,
      "outputs": []
    },
    {
      "cell_type": "code",
      "metadata": {
        "id": "VZfTwdojLy0W",
        "colab_type": "code",
        "colab": {}
      },
      "source": [
        "def train(model, optimizer, loss_function, train_loader, val_loader, device, epochs_n=1, plot_each=10):\n",
        "    # send the model to that device\n",
        "    model = model.to(device)\n",
        "    # initialize some visualization code that you don't need to care about\n",
        "    monitor = Monitor()\n",
        "    # Reduce the lr every 50 epochs\n",
        "    #scheduler = StepLR(optimizer, 50, 0.5, last_epoch=-1)\n",
        "    # one full cycle on train data is called epoch\n",
        "    for epoch in trange(epochs_n):\n",
        "        # switch the model to the train mode\n",
        "        # later on we will have some blocks that behave differently in train and test mode\n",
        "        model.train()\n",
        "        for model_input, target in train_loader:\n",
        "            # send data to device\n",
        "            model_input = model_input.to(device)\n",
        "            target = target.to(device)\n",
        "            # calculate outputs and loss\n",
        "            model_output = model(model_input)\n",
        "            loss = loss_function(model_output, target)\n",
        "            # update model weights\n",
        "            optimizer.zero_grad()\n",
        "            loss.backward()\n",
        "            optimizer.step()\n",
        "            # do some visualization\n",
        "            monitor.add_loss_value(loss.item())\n",
        "        \n",
        "        # evaluate our model\n",
        "        model.eval()\n",
        "        train_accuracy = get_accuracy(model, train_loader, device)\n",
        "        val_accuracy = get_accuracy(model, val_loader, device)\n",
        "\n",
        "        val_f1 = f1_score_(model, val_loader, device)  ###########\n",
        "\n",
        "        monitor.add_train_accuracy_value(train_accuracy)\n",
        "        monitor.add_val_accuracy_value(val_accuracy)\n",
        "        monitor.add_val_f1_value(val_f1)  ##############\n",
        "\n",
        "    \n",
        "        #scheduler.step()\n",
        "        \n",
        "        if epoch % plot_each == 0:\n",
        "            monitor.show()"
      ],
      "execution_count": 0,
      "outputs": []
    },
    {
      "cell_type": "code",
      "metadata": {
        "id": "c8XdPN7ZL1Pw",
        "colab_type": "code",
        "colab": {}
      },
      "source": [
        "import torch.nn.functional as F\n",
        "class CNNClassifier(nn.Module):\n",
        "\n",
        "    def __init__(self, channels=8 , num_classes=4):\n",
        "        super(CNNClassifier, self).__init__()\n",
        "        \n",
        "        self.conv1 = torch.nn.Conv2d(channels, 32, kernel_size=3, stride=1, padding=1)\n",
        "        self.conv2 = torch.nn.Conv2d(32, 32, kernel_size=3, stride=1, padding=1)\n",
        "        self.conv3 = torch.nn.Conv2d(32, 64, kernel_size=3, stride=1, padding=1)\n",
        "        self.conv4 = torch.nn.Conv2d(64, 64, kernel_size=3, stride=1, padding=1)\n",
        "        self.drop_layer_conv = nn.Dropout(p=0.25)\n",
        "        self.drop_layer_dense = nn.Dropout(p=0.5)\n",
        "        self.pool = torch.nn.MaxPool2d(kernel_size=2, stride=2, padding=0)\n",
        "        self.fc1 = torch.nn.Linear(64 * 7 * 7, 512)\n",
        "        self.fc2 = torch.nn.Linear(512, num_classes)\n",
        "\n",
        "    def forward(self, x):\n",
        "      # Block 1\n",
        "      x = F.relu(self.conv1(x))\n",
        "      x = F.relu(self.conv2(x))\n",
        "      x = self.pool(x)\n",
        "      x = self.drop_layer_conv(x)\n",
        "      # Block 2\n",
        "      x = F.relu(self.conv3(x))\n",
        "      x = F.relu(self.conv4(x))\n",
        "      x = self.pool(x)\n",
        "      x = self.drop_layer_conv(x)\n",
        "      #print(x.shape)\n",
        "      x = x.view(-1, 64 * 7 * 7)\n",
        "      x = F.relu(self.fc1(x))\n",
        "      x = self.drop_layer_dense(x)\n",
        "      x = self.fc2(x)\n",
        "\n",
        "\n",
        "\n",
        "      return x"
      ],
      "execution_count": 0,
      "outputs": []
    },
    {
      "cell_type": "code",
      "metadata": {
        "id": "uvvyxDSHL5IX",
        "colab_type": "code",
        "outputId": "da8a476c-dc83-42c3-d417-d3d9b2b5a7f0",
        "colab": {
          "base_uri": "https://localhost:8080/",
          "height": 243
        }
      },
      "source": [
        "model = CNNClassifier()\n",
        "loss_function = torch.nn.CrossEntropyLoss()#weight = torch.FloatTensor(weight).cuda())\n",
        "optimizer = torch.optim.Adam(model.parameters(), lr=1e-4, weight_decay=1e-6)\n",
        "\n",
        "train(model, optimizer, loss_function, train_loader, val_loader, device, epochs_n=500)\n"
      ],
      "execution_count": 0,
      "outputs": [
        {
          "output_type": "display_data",
          "data": {
            "image/png": "[encoded data removed]",
            "text/plain": [
              "<Figure size 1080x216 with 2 Axes>"
            ]
          },
          "metadata": {
            "tags": []
          }
        },
        {
          "output_type": "stream",
          "text": [
            "  2%|▏         | 10/500 [02:56<2:22:54, 17.50s/it]"
          ],
          "name": "stderr"
        }
      ]
    },
    {
      "cell_type": "code",
      "metadata": {
        "id": "t_OuVz2qL8Uj",
        "colab_type": "code",
        "outputId": "47ca5309-76ad-4820-9c61-ba2126214938",
        "colab": {
          "base_uri": "https://localhost:8080/",
          "height": 35
        }
      },
      "source": [
        "random.random()"
      ],
      "execution_count": 0,
      "outputs": [
        {
          "output_type": "execute_result",
          "data": {
            "text/plain": [
              "0.6067606085584131"
            ]
          },
          "metadata": {
            "tags": []
          },
          "execution_count": 18
        }
      ]
    },
    {
      "cell_type": "code",
      "metadata": {
        "id": "SaJmqmxht8ja",
        "colab_type": "code",
        "colab": {}
      },
      "source": [
        ""
      ],
      "execution_count": 0,
      "outputs": []
    }
  ]
}