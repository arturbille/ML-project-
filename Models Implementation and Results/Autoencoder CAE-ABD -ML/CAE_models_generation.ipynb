{
 "cells": [
  {
   "cell_type": "code",
   "execution_count": 1,
   "metadata": {
    "colab": {},
    "colab_type": "code",
    "id": "_SK0mYAzaHFt"
   },
   "outputs": [],
   "source": [
    "import scipy\n",
    "import numpy as np\n",
    "import seaborn as sns\n",
    "import fiona\n",
    "import rasterio\n",
    "import matplotlib.pyplot as plt\n",
    "\n",
    "import torch\n",
    "import torch.nn as nn\n",
    "import torch.utils.data as torch_data\n",
    "import sys\n",
    "from shapely import geometry\n",
    "from rasterio.mask import mask\n",
    "from tqdm import tqdm_notebook\n",
    "from extractor_helper import extractor\n",
    "from sklearn.model_selection import train_test_split\n",
    "from imblearn.over_sampling import RandomOverSampler\n",
    "\n",
    "from sklearn.model_selection import GridSearchCV\n",
    "from sklearn.ensemble import AdaBoostClassifier\n",
    "from sklearn.ensemble import RandomForestClassifier\n",
    "from sklearn.linear_model import LogisticRegression\n",
    "import xgboost as xgb\n",
    "from catboost import CatBoostClassifier\n",
    "from sklearn.neighbors import KNeighborsClassifier\n",
    "from sklearn.svm import SVC\n",
    "from sklearn.model_selection import train_test_split\n",
    "from sklearn.metrics import accuracy_score, f1_score, precision_score, recall_score, roc_auc_score\n"
   ]
  },
  {
   "cell_type": "code",
   "execution_count": 2,
   "metadata": {},
   "outputs": [],
   "source": [
    "import torch\n"
   ]
  },
  {
   "cell_type": "code",
   "execution_count": 3,
   "metadata": {},
   "outputs": [
    {
     "data": {
      "text/plain": [
       "0"
      ]
     },
     "execution_count": 3,
     "metadata": {},
     "output_type": "execute_result"
    }
   ],
   "source": [
    "torch.cuda.current_device()"
   ]
  },
  {
   "cell_type": "markdown",
   "metadata": {
    "colab_type": "text",
    "id": "JtTC8Aevdom3"
   },
   "source": [
    "Data Import"
   ]
  },
  {
   "cell_type": "code",
   "execution_count": 4,
   "metadata": {
    "colab": {},
    "colab_type": "code",
    "id": "sj0QIJ9HaHDh"
   },
   "outputs": [],
   "source": [
    "sat_image = rasterio.open(\"project/1030010056130F00_MS_Pan_modified_KNN.tif\")\n",
    "sat_points1 = fiona.open(\"project/Points_MS_Pan_KNN.shp\", \"r\")\n",
    "sat_points2 = fiona.open(\"project/AB_points.shp\", \"r\")\n",
    "\n",
    "test2_img = rasterio.open(\"Eval/test2/pp_2_sat_modified.tif\")\n",
    "test2_points = fiona.open(\"Eval/test2/points_2_modified_Copy.shp\", \"r\")\n",
    "\n",
    "test3_img = rasterio.open(\"Eval/test3/pp_3_sat_modified.tif\")\n",
    "test3_points = fiona.open(\"Eval/test3/targets_Copy.shp\", \"r\")\n",
    "\n",
    "test4_img = rasterio.open(\"Eval/test4/pp_4_sat_modified_spline.tif\")\n",
    "test4_points = fiona.open(\"Eval/test4/modified_points_Copy.shp\", \"r\")"
   ]
  },
  {
   "cell_type": "code",
   "execution_count": 5,
   "metadata": {
    "colab": {},
    "colab_type": "code",
    "id": "VwKHx6KfaG-7"
   },
   "outputs": [],
   "source": [
    "class TreesData():\n",
    "  def __init__(self, X, y):\n",
    "    super().__init__()\n",
    "    self.X = torch.tensor(X, dtype=torch.float32)\n",
    "    self.y = torch.tensor(y, dtype=torch.float32)\n",
    "    \n",
    "  def __len__(self):\n",
    "    return self.X.shape[0]\n",
    "  \n",
    "  def __getitem__(self, idx):\n",
    "    return self.X[idx], self.y[idx]\n",
    "    "
   ]
  },
  {
   "cell_type": "code",
   "execution_count": 6,
   "metadata": {
    "colab": {},
    "colab_type": "code",
    "id": "p-tyMDeObFRg"
   },
   "outputs": [],
   "source": [
    "class AutoEncoder(nn.Module):\n",
    "  def __init__(self,encoder,decoder):\n",
    "    super().__init__()\n",
    "    self.encoder = encoder\n",
    "    self.decoder = decoder\n",
    "    \n",
    "  def forward(self,x):\n",
    "    z = self.encoder(x)\n",
    "    out = self.decoder(z)\n",
    "    return out"
   ]
  },
  {
   "cell_type": "code",
   "execution_count": 7,
   "metadata": {
    "colab": {},
    "colab_type": "code",
    "id": "vBWT54tNaG50"
   },
   "outputs": [],
   "source": [
    "def train(epochs, net, criterion, optimizer,\n",
    "          train_loader, val_loader, scheduler=None,\n",
    "          verbose=True, save_dir=None):\n",
    "  loss_tr =0\n",
    "  loss_val =0\n",
    "  net.to(device)\n",
    "\n",
    "  for epoch in range(1,epochs+1):\n",
    "      net.train()\n",
    "      for X,_ in train_loader:\n",
    "          X = X.to(device)\n",
    "          pred = net(X)\n",
    "          loss = criterion(pred,X)\n",
    "          optimizer.zero_grad()\n",
    "          loss.backward()\n",
    "          optimizer.step()\n",
    "    \n",
    "      net.eval()\n",
    "      for X,_ in val_loader:\n",
    "          X = X.to(device)\n",
    "          val_pred = net(X)\n",
    "          val_loss = criterion(val_pred,X)\n",
    "#       loss /= len(train_loader)\n",
    "#       val_loss /= len(val_loader)\n",
    "      loss_tr +=loss.item()\n",
    "      loss_val +=val_loss.item()\n",
    "\n",
    "  \n",
    "      if scheduler is not None:\n",
    "          schduler.step()\n",
    "    \n",
    "      freq = max(epochs//20,1)\n",
    "      if verbose and epoch%freq==0:\n",
    "        print('Epoch {}/{} || Loss:  Train {:.6f} | Validation {:.6f}'.format(epoch, epochs, loss.item(), val_loss.item())) \n",
    "  return (loss_tr/epochs), (loss_val/epochs)"
   ]
  },
  {
   "cell_type": "code",
   "execution_count": 8,
   "metadata": {
    "colab": {},
    "colab_type": "code",
    "id": "0H1JOgXid5c2"
   },
   "outputs": [],
   "source": [
    "encoder = lambda hid,red_size: nn.Sequential(\n",
    "  \n",
    "  nn.Conv2d(8,60,3),\n",
    "  nn.BatchNorm2d(60),\n",
    "  nn.ReLU(),\n",
    "\n",
    "  nn.Conv2d(60,200,3),\n",
    "  nn.BatchNorm2d(200),\n",
    "  nn.ReLU(),\n",
    "\n",
    "  nn.Flatten(),\n",
    "  nn.Linear(200*red_size*red_size,300),\n",
    "  nn.BatchNorm1d(300),\n",
    "  nn.ReLU(),\n",
    "\n",
    "  nn.Linear(300,hid),\n",
    "  nn.BatchNorm1d(hid),\n",
    ")\n",
    "\n",
    "decoder = lambda hid,orginal_size: nn.Sequential(\n",
    "  nn.Linear(hid,600),\n",
    "  nn.BatchNorm1d(600),\n",
    "  nn.ReLU(),\n",
    "\n",
    "  nn.Linear(600,1000),\n",
    "  nn.BatchNorm1d(1000),\n",
    "  nn.ReLU(),\n",
    "\n",
    "  nn.Linear(1000,orginal_size*orginal_size*8),\n",
    "  nn.Sigmoid(),\n",
    "  Unflatten(),\n",
    ")\n"
   ]
  },
  {
   "cell_type": "code",
   "execution_count": 9,
   "metadata": {
    "colab": {},
    "colab_type": "code",
    "id": "Pu4Zu5IM4zib"
   },
   "outputs": [],
   "source": [
    "class Unflatten(nn.Module):\n",
    "  def forward(self, input):\n",
    "    return input.reshape(input.shape[0],8,orginal_size,orginal_size)"
   ]
  },
  {
   "cell_type": "code",
   "execution_count": 10,
   "metadata": {
    "colab": {
     "base_uri": "https://localhost:8080/",
     "height": 219,
     "referenced_widgets": [
      "e885fa7c5c294723aeca063ce5ba5e6d",
      "d9ecedab9d9a4a8a84f7e2d13336fb8f",
      "c6ae6e78d39f42aeb82aa22966f660c4",
      "38d1930fe1754122ba79b5c3d45da732",
      "1241b91d46a8467fa10d222f0de3191c",
      "e62f3de5b9dc476dbb39241f25ef00ae",
      "cfacb8c463864efebce569ffb0ccefff",
      "7d25bf42ee9e4b698fe6cbb947041dbb",
      "34182937ccb0465baa9deac3e4f3b312",
      "2455b8c5ddbb4b5da3125a9c39d7b356",
      "00ec9ca3e02645cd8471efdf2f6639c5",
      "f72a21d4bf0448d2a388be85d1ebd2ab",
      "b6ca4ba8f1d34ec8b863fd2a12423f63",
      "132444c1f0d048139d86235a6a506bd5",
      "0e8e7b0cb98c489bbb38fd011b4e9ba7",
      "ab87bcf628334ef2a92c76c4dc3d1454"
     ]
    },
    "colab_type": "code",
    "id": "eRZJgmhmd5HP",
    "outputId": "4ec6d76a-22cd-4879-c318-cd1ee9b499e8"
   },
   "outputs": [
    {
     "name": "stderr",
     "output_type": "stream",
     "text": [
      "  0%|          | 0/1 [00:00<?, ?it/s]\n",
      "  0%|          | 0/5 [00:00<?, ?it/s]\u001b[A"
     ]
    },
    {
     "name": "stdout",
     "output_type": "stream",
     "text": [
      "Epoch 15/300 || Loss:  Train 0.001982 | Validation 0.002055\n",
      "Epoch 30/300 || Loss:  Train 0.001718 | Validation 0.002102\n",
      "Epoch 45/300 || Loss:  Train 0.001535 | Validation 0.002168\n",
      "Epoch 60/300 || Loss:  Train 0.001347 | Validation 0.002303\n",
      "Epoch 75/300 || Loss:  Train 0.001183 | Validation 0.002494\n",
      "Epoch 90/300 || Loss:  Train 0.001054 | Validation 0.002639\n",
      "Epoch 105/300 || Loss:  Train 0.000995 | Validation 0.002596\n",
      "Epoch 120/300 || Loss:  Train 0.000946 | Validation 0.002761\n",
      "Epoch 135/300 || Loss:  Train 0.000864 | Validation 0.002789\n",
      "Epoch 150/300 || Loss:  Train 0.000826 | Validation 0.002948\n",
      "Epoch 165/300 || Loss:  Train 0.000812 | Validation 0.002901\n",
      "Epoch 180/300 || Loss:  Train 0.000754 | Validation 0.002883\n",
      "Epoch 195/300 || Loss:  Train 0.000807 | Validation 0.003036\n",
      "Epoch 210/300 || Loss:  Train 0.000730 | Validation 0.003016\n",
      "Epoch 225/300 || Loss:  Train 0.000730 | Validation 0.002951\n",
      "Epoch 240/300 || Loss:  Train 0.000685 | Validation 0.003067\n",
      "Epoch 255/300 || Loss:  Train 0.000702 | Validation 0.003090\n",
      "Epoch 270/300 || Loss:  Train 0.000712 | Validation 0.003114\n",
      "Epoch 285/300 || Loss:  Train 0.000705 | Validation 0.003222\n",
      "Epoch 300/300 || Loss:  Train 0.000676 | Validation 0.003100\n"
     ]
    },
    {
     "name": "stderr",
     "output_type": "stream",
     "text": [
      "/trinity/home/a.shtanchaev/.conda/envs/newone/lib/python3.6/site-packages/torch/serialization.py:360: UserWarning: Couldn't retrieve source code for container of type AutoEncoder. It won't be checked for correctness upon loading.\n",
      "  \"type \" + obj.__name__ + \". It won't be checked \"\n",
      "/trinity/home/a.shtanchaev/.conda/envs/newone/lib/python3.6/site-packages/torch/serialization.py:360: UserWarning: Couldn't retrieve source code for container of type Unflatten. It won't be checked for correctness upon loading.\n",
      "  \"type \" + obj.__name__ + \". It won't be checked \"\n",
      "\n",
      " 20%|██        | 1/5 [21:39<1:26:39, 1299.92s/it]\u001b[A"
     ]
    },
    {
     "name": "stdout",
     "output_type": "stream",
     "text": [
      "Epoch 15/300 || Loss:  Train 0.001701 | Validation 0.001915\n",
      "Epoch 30/300 || Loss:  Train 0.001344 | Validation 0.001652\n",
      "Epoch 45/300 || Loss:  Train 0.001225 | Validation 0.001735\n",
      "Epoch 60/300 || Loss:  Train 0.001074 | Validation 0.001760\n",
      "Epoch 75/300 || Loss:  Train 0.000971 | Validation 0.001852\n",
      "Epoch 90/300 || Loss:  Train 0.000889 | Validation 0.001923\n",
      "Epoch 105/300 || Loss:  Train 0.000796 | Validation 0.002033\n",
      "Epoch 120/300 || Loss:  Train 0.000735 | Validation 0.002060\n",
      "Epoch 135/300 || Loss:  Train 0.000707 | Validation 0.002135\n",
      "Epoch 150/300 || Loss:  Train 0.000669 | Validation 0.002117\n",
      "Epoch 165/300 || Loss:  Train 0.000646 | Validation 0.002194\n",
      "Epoch 180/300 || Loss:  Train 0.000646 | Validation 0.002183\n",
      "Epoch 195/300 || Loss:  Train 0.000616 | Validation 0.002306\n",
      "Epoch 210/300 || Loss:  Train 0.000595 | Validation 0.002308\n",
      "Epoch 225/300 || Loss:  Train 0.000592 | Validation 0.002342\n",
      "Epoch 240/300 || Loss:  Train 0.000581 | Validation 0.002309\n",
      "Epoch 255/300 || Loss:  Train 0.000574 | Validation 0.002336\n",
      "Epoch 270/300 || Loss:  Train 0.000575 | Validation 0.002280\n",
      "Epoch 285/300 || Loss:  Train 0.000534 | Validation 0.002280\n"
     ]
    },
    {
     "name": "stderr",
     "output_type": "stream",
     "text": [
      "\n",
      " 40%|████      | 2/5 [43:14<1:04:54, 1298.22s/it]\u001b[A"
     ]
    },
    {
     "name": "stdout",
     "output_type": "stream",
     "text": [
      "Epoch 300/300 || Loss:  Train 0.000544 | Validation 0.002392\n",
      "Epoch 15/300 || Loss:  Train 0.001668 | Validation 0.001860\n",
      "Epoch 30/300 || Loss:  Train 0.001161 | Validation 0.001561\n",
      "Epoch 45/300 || Loss:  Train 0.001015 | Validation 0.001434\n",
      "Epoch 60/300 || Loss:  Train 0.000908 | Validation 0.001436\n",
      "Epoch 75/300 || Loss:  Train 0.000830 | Validation 0.001535\n",
      "Epoch 90/300 || Loss:  Train 0.000737 | Validation 0.001604\n",
      "Epoch 105/300 || Loss:  Train 0.000696 | Validation 0.001657\n",
      "Epoch 120/300 || Loss:  Train 0.000633 | Validation 0.001729\n",
      "Epoch 135/300 || Loss:  Train 0.000623 | Validation 0.001726\n",
      "Epoch 150/300 || Loss:  Train 0.000588 | Validation 0.001750\n",
      "Epoch 165/300 || Loss:  Train 0.000556 | Validation 0.001802\n",
      "Epoch 180/300 || Loss:  Train 0.000589 | Validation 0.001788\n",
      "Epoch 195/300 || Loss:  Train 0.000529 | Validation 0.001833\n",
      "Epoch 210/300 || Loss:  Train 0.000515 | Validation 0.001842\n",
      "Epoch 225/300 || Loss:  Train 0.000526 | Validation 0.001914\n",
      "Epoch 240/300 || Loss:  Train 0.000503 | Validation 0.001886\n",
      "Epoch 255/300 || Loss:  Train 0.000507 | Validation 0.001889\n",
      "Epoch 270/300 || Loss:  Train 0.000508 | Validation 0.001959\n",
      "Epoch 285/300 || Loss:  Train 0.000473 | Validation 0.001977\n"
     ]
    },
    {
     "name": "stderr",
     "output_type": "stream",
     "text": [
      "\n",
      " 60%|██████    | 3/5 [1:04:48<43:14, 1297.08s/it]\u001b[A"
     ]
    },
    {
     "name": "stdout",
     "output_type": "stream",
     "text": [
      "Epoch 300/300 || Loss:  Train 0.000467 | Validation 0.001969\n",
      "Epoch 15/300 || Loss:  Train 0.001621 | Validation 0.001742\n",
      "Epoch 30/300 || Loss:  Train 0.001167 | Validation 0.001526\n",
      "Epoch 45/300 || Loss:  Train 0.000999 | Validation 0.001344\n",
      "Epoch 60/300 || Loss:  Train 0.000812 | Validation 0.001354\n",
      "Epoch 75/300 || Loss:  Train 0.000760 | Validation 0.001373\n",
      "Epoch 90/300 || Loss:  Train 0.000696 | Validation 0.001407\n",
      "Epoch 105/300 || Loss:  Train 0.000663 | Validation 0.001462\n",
      "Epoch 120/300 || Loss:  Train 0.000586 | Validation 0.001427\n",
      "Epoch 135/300 || Loss:  Train 0.000566 | Validation 0.001547\n",
      "Epoch 150/300 || Loss:  Train 0.000549 | Validation 0.001554\n",
      "Epoch 165/300 || Loss:  Train 0.000538 | Validation 0.001623\n",
      "Epoch 180/300 || Loss:  Train 0.000496 | Validation 0.001576\n",
      "Epoch 195/300 || Loss:  Train 0.000474 | Validation 0.001594\n",
      "Epoch 210/300 || Loss:  Train 0.000487 | Validation 0.001573\n",
      "Epoch 225/300 || Loss:  Train 0.000476 | Validation 0.001635\n",
      "Epoch 240/300 || Loss:  Train 0.000481 | Validation 0.001686\n",
      "Epoch 255/300 || Loss:  Train 0.000462 | Validation 0.001615\n",
      "Epoch 270/300 || Loss:  Train 0.000415 | Validation 0.001663\n",
      "Epoch 285/300 || Loss:  Train 0.000421 | Validation 0.001661\n"
     ]
    },
    {
     "name": "stderr",
     "output_type": "stream",
     "text": [
      "\n",
      " 80%|████████  | 4/5 [1:26:23<21:36, 1296.39s/it]\u001b[A"
     ]
    },
    {
     "name": "stdout",
     "output_type": "stream",
     "text": [
      "Epoch 300/300 || Loss:  Train 0.000409 | Validation 0.001681\n",
      "Epoch 15/300 || Loss:  Train 0.001584 | Validation 0.001766\n",
      "Epoch 30/300 || Loss:  Train 0.001080 | Validation 0.001440\n",
      "Epoch 45/300 || Loss:  Train 0.000894 | Validation 0.001349\n",
      "Epoch 60/300 || Loss:  Train 0.000798 | Validation 0.001284\n",
      "Epoch 75/300 || Loss:  Train 0.000748 | Validation 0.001310\n",
      "Epoch 90/300 || Loss:  Train 0.000639 | Validation 0.001289\n",
      "Epoch 105/300 || Loss:  Train 0.000572 | Validation 0.001328\n",
      "Epoch 120/300 || Loss:  Train 0.000563 | Validation 0.001333\n",
      "Epoch 135/300 || Loss:  Train 0.000535 | Validation 0.001354\n",
      "Epoch 150/300 || Loss:  Train 0.000509 | Validation 0.001434\n",
      "Epoch 165/300 || Loss:  Train 0.000487 | Validation 0.001402\n",
      "Epoch 180/300 || Loss:  Train 0.000465 | Validation 0.001429\n",
      "Epoch 195/300 || Loss:  Train 0.000445 | Validation 0.001404\n",
      "Epoch 210/300 || Loss:  Train 0.000420 | Validation 0.001448\n",
      "Epoch 225/300 || Loss:  Train 0.000495 | Validation 0.001518\n",
      "Epoch 240/300 || Loss:  Train 0.000433 | Validation 0.001502\n",
      "Epoch 255/300 || Loss:  Train 0.000403 | Validation 0.001461\n",
      "Epoch 270/300 || Loss:  Train 0.000410 | Validation 0.001459\n",
      "Epoch 285/300 || Loss:  Train 0.000397 | Validation 0.001524\n",
      "Epoch 300/300 || Loss:  Train 0.000386 | Validation 0.001548\n"
     ]
    },
    {
     "name": "stderr",
     "output_type": "stream",
     "text": [
      "\n",
      "100%|██████████| 5/5 [1:47:58<00:00, 1295.65s/it]\u001b[A\n",
      "100%|██████████| 1/1 [1:47:58<00:00, 6478.28s/it]\n"
     ]
    }
   ],
   "source": [
    "from tqdm import tqdm\n",
    "device = torch.device('cuda:0' if torch.cuda.is_available() else 'cpu')\n",
    "\n",
    "for cut_size in tqdm((range(15,16,2))):    \n",
    "    for bot_neck in tqdm((range(40,130,20))):\n",
    "\n",
    "        sm_images1, sm_points1,_ = extractor(sat_image,sat_points1,size=cut_size, normalize=True)\n",
    "        sm_images2,sm_point2,_= extractor(sat_image,sat_points2,size=cut_size, normalize=True)\n",
    "        data = np.array(sm_images1+sm_images2)\n",
    "        data = np.moveaxis(data,3,1)\n",
    "        targets = np.zeros(shape = data.shape[0])\n",
    "\n",
    "        X_Train, X_Test, Y_Train, Y_Test = train_test_split(data, targets,test_size=.20, shuffle=True,random_state=12)\n",
    "        train_data = TreesData(X_Train,Y_Train)\n",
    "        test_data = TreesData(X_Test,Y_Test)\n",
    "\n",
    "        orginal_size = X_Test.shape[-1]\n",
    "        side = lambda x: int(((x - 3)/1)+1)\n",
    "        red_size  = side(side(orginal_size))\n",
    "\n",
    "        del X_Train, X_Test,Y_Train,Y_Test,data,targets,sm_images1,sm_images2,sm_point2,sm_points1\n",
    "\n",
    "        net = AutoEncoder(encoder(bot_neck,red_size), decoder(bot_neck,orginal_size))\n",
    "        criterion = nn.MSELoss()\n",
    "        optimizer = torch.optim.Adam(net.parameters())\n",
    "        scheduler = None \n",
    "        train_loader = torch_data.DataLoader(train_data,batch_size=300, shuffle=True)\n",
    "        val_loader = torch_data.DataLoader(test_data,batch_size=300,shuffle=True)\n",
    "        \n",
    "        del train_data,test_data\n",
    "        \n",
    "        lsstr, lssts = train(300, net, criterion, optimizer, train_loader, val_loader,scheduler)\n",
    "        torch.save(net,f'models/net_cutsize{cut_size}butneck{bot_neck}.pth')\n",
    "\n",
    "\n"
   ]
  },
  {
   "cell_type": "code",
   "execution_count": null,
   "metadata": {},
   "outputs": [],
   "source": []
  },
  {
   "cell_type": "code",
   "execution_count": 17,
   "metadata": {},
   "outputs": [],
   "source": [
    "from ignite.engine import Engine, Events\n",
    "from ignite.metrics import MeanSquaredError, Loss, RunningAverage"
   ]
  },
  {
   "cell_type": "code",
   "execution_count": 18,
   "metadata": {},
   "outputs": [],
   "source": [
    "sm_images1, sm_points1,_ = extractor(sat_image,sat_points1,size=7, normalize=True)\n",
    "sm_images2,sm_point2,_= extractor(sat_image,sat_points2,size=7, normalize=True)\n",
    "data = np.array(sm_images1+sm_images2)\n",
    "data = np.moveaxis(data,3,1)\n",
    "targets = np.zeros(shape = data.shape[0])\n",
    "\n",
    "X_Train, X_Test, Y_Train, Y_Test = train_test_split(data, targets,test_size=.20, shuffle=True,random_state=12)\n",
    "train_data = TreesData(X_Train,Y_Train)\n",
    "test_data = TreesData(X_Test,Y_Test)\n",
    "train_loader = torch_data.DataLoader(train_data,batch_size=300, shuffle=True)\n",
    "val_loader = torch_data.DataLoader(test_data,batch_size=300,shuffle=True)"
   ]
  },
  {
   "cell_type": "code",
   "execution_count": 19,
   "metadata": {
    "colab": {},
    "colab_type": "code",
    "id": "Ivusj_ocbo29"
   },
   "outputs": [],
   "source": [
    "def process_function(engine, batch):\n",
    "    model.to(device)\n",
    "    model.train()\n",
    "    optimizer.zero_grad()\n",
    "    x, _ = batch\n",
    "    x = x.to(device)\n",
    "    x_pred = model(x)\n",
    "\n",
    "    loss = criterion(x_pred,x)\n",
    "    loss.backward()\n",
    "    optimizer.step()\n",
    "    return loss.item()\n",
    "\n",
    "\n"
   ]
  },
  {
   "cell_type": "code",
   "execution_count": 20,
   "metadata": {},
   "outputs": [],
   "source": [
    "def evaluate_function(engine, batch):\n",
    "    model.eval()\n",
    "    with torch.no_grad():\n",
    "        x, _ = batch\n",
    "        x = x.to(device)\n",
    "        x_pred = model(x)\n",
    "        return x_pred, x"
   ]
  },
  {
   "cell_type": "code",
   "execution_count": 21,
   "metadata": {},
   "outputs": [],
   "source": [
    "trainer = Engine(process_function)\n",
    "evaluator = Engine(evaluate_function)\n",
    "\n",
    "\n",
    "orginal_size = X_Test.shape[-1]\n",
    "side = lambda x: int(((x - 3)/1)+1)\n",
    "red_size  = side(side(orginal_size))\n",
    "\n",
    "model = AutoEncoder(encoder(60,red_size), decoder(60,orginal_size))\n",
    "criterion = nn.MSELoss()\n",
    "optimizer = torch.optim.Adam(model.parameters())\n",
    "device = torch.device('cuda:0' if torch.cuda.is_available() else 'cpu')\n"
   ]
  },
  {
   "cell_type": "code",
   "execution_count": 36,
   "metadata": {},
   "outputs": [
    {
     "name": "stdout",
     "output_type": "stream",
     "text": [
      "Epoch[144] Iteration[28/28] Loss: 0.0001\n",
      "Epoch[144] Iteration[28/28] Loss: 0.0001\n",
      "Epoch[144] Iteration[28/28] Loss: 0.0001\n",
      "Epoch[144] Iteration[28/28] Loss: 0.0001\n",
      "Epoch[144] Iteration[28/28] Loss: 0.0001\n",
      "Epoch[144] Iteration[28/28] Loss: 0.000110\n",
      "Epoch[145] Iteration[28/28] Loss: 0.0001\n",
      "Epoch[145] Iteration[28/28] Loss: 0.0001\n",
      "Epoch[145] Iteration[28/28] Loss: 0.0001\n",
      "Epoch[145] Iteration[28/28] Loss: 0.0001\n",
      "Epoch[145] Iteration[28/28] Loss: 0.0001\n",
      "Epoch[145] Iteration[28/28] Loss: 0.000112\n",
      "Epoch[146] Iteration[28/28] Loss: 0.0001\n",
      "Epoch[146] Iteration[28/28] Loss: 0.0001\n",
      "Epoch[146] Iteration[28/28] Loss: 0.0001\n",
      "Epoch[146] Iteration[28/28] Loss: 0.0001\n",
      "Epoch[146] Iteration[28/28] Loss: 0.0001\n",
      "Epoch[146] Iteration[28/28] Loss: 0.000121\n",
      "Epoch[147] Iteration[28/28] Loss: 0.0001\n",
      "Epoch[147] Iteration[28/28] Loss: 0.0001\n",
      "Epoch[147] Iteration[28/28] Loss: 0.0001\n",
      "Epoch[147] Iteration[28/28] Loss: 0.0001\n",
      "Epoch[147] Iteration[28/28] Loss: 0.0001\n",
      "Epoch[147] Iteration[28/28] Loss: 0.000108\n",
      "Epoch[148] Iteration[28/28] Loss: 0.0002\n",
      "Epoch[148] Iteration[28/28] Loss: 0.0002\n",
      "Epoch[148] Iteration[28/28] Loss: 0.0002\n",
      "Epoch[148] Iteration[28/28] Loss: 0.0002\n",
      "Epoch[148] Iteration[28/28] Loss: 0.0002\n",
      "Epoch[148] Iteration[28/28] Loss: 0.000159\n",
      "Epoch[149] Iteration[28/28] Loss: 0.0001\n",
      "Epoch[149] Iteration[28/28] Loss: 0.0001\n",
      "Epoch[149] Iteration[28/28] Loss: 0.0001\n",
      "Epoch[149] Iteration[28/28] Loss: 0.0001\n",
      "Epoch[149] Iteration[28/28] Loss: 0.0001\n",
      "Epoch[149] Iteration[28/28] Loss: 0.000118\n"
     ]
    },
    {
     "name": "stderr",
     "output_type": "stream",
     "text": [
      "Current run is terminating due to exception: .\n",
      "Engine run is terminating due to exception: .\n"
     ]
    },
    {
     "ename": "KeyboardInterrupt",
     "evalue": "",
     "output_type": "error",
     "traceback": [
      "\u001b[0;31m---------------------------------------------------------------------------\u001b[0m",
      "\u001b[0;31mKeyboardInterrupt\u001b[0m                         Traceback (most recent call last)",
      "\u001b[0;32m<ipython-input-36-28d4a644e431>\u001b[0m in \u001b[0;36m<module>\u001b[0;34m\u001b[0m\n\u001b[0;32m----> 1\u001b[0;31m \u001b[0mtrainer\u001b[0m\u001b[0;34m.\u001b[0m\u001b[0mrun\u001b[0m\u001b[0;34m(\u001b[0m\u001b[0mtrain_loader\u001b[0m\u001b[0;34m,\u001b[0m \u001b[0mmax_epochs\u001b[0m\u001b[0;34m=\u001b[0m\u001b[0;36m200\u001b[0m\u001b[0;34m)\u001b[0m\u001b[0;34m\u001b[0m\u001b[0;34m\u001b[0m\u001b[0m\n\u001b[0m",
      "\u001b[0;32m~/.conda/envs/newone/lib/python3.6/site-packages/ignite/engine/engine.py\u001b[0m in \u001b[0;36mrun\u001b[0;34m(self, data, max_epochs, epoch_length, seed)\u001b[0m\n\u001b[1;32m    848\u001b[0m \u001b[0;34m\u001b[0m\u001b[0m\n\u001b[1;32m    849\u001b[0m         \u001b[0mself\u001b[0m\u001b[0;34m.\u001b[0m\u001b[0mstate\u001b[0m\u001b[0;34m.\u001b[0m\u001b[0mdataloader\u001b[0m \u001b[0;34m=\u001b[0m \u001b[0mdata\u001b[0m\u001b[0;34m\u001b[0m\u001b[0;34m\u001b[0m\u001b[0m\n\u001b[0;32m--> 850\u001b[0;31m         \u001b[0;32mreturn\u001b[0m \u001b[0mself\u001b[0m\u001b[0;34m.\u001b[0m\u001b[0m_internal_run\u001b[0m\u001b[0;34m(\u001b[0m\u001b[0;34m)\u001b[0m\u001b[0;34m\u001b[0m\u001b[0;34m\u001b[0m\u001b[0m\n\u001b[0m\u001b[1;32m    851\u001b[0m \u001b[0;34m\u001b[0m\u001b[0m\n\u001b[1;32m    852\u001b[0m     \u001b[0;32mdef\u001b[0m \u001b[0m_setup_engine\u001b[0m\u001b[0;34m(\u001b[0m\u001b[0mself\u001b[0m\u001b[0;34m)\u001b[0m\u001b[0;34m:\u001b[0m\u001b[0;34m\u001b[0m\u001b[0;34m\u001b[0m\u001b[0m\n",
      "\u001b[0;32m~/.conda/envs/newone/lib/python3.6/site-packages/ignite/engine/engine.py\u001b[0m in \u001b[0;36m_internal_run\u001b[0;34m(self)\u001b[0m\n\u001b[1;32m    950\u001b[0m             \u001b[0mself\u001b[0m\u001b[0;34m.\u001b[0m\u001b[0m_dataloader_iter\u001b[0m \u001b[0;34m=\u001b[0m \u001b[0mself\u001b[0m\u001b[0;34m.\u001b[0m\u001b[0m_dataloader_len\u001b[0m \u001b[0;34m=\u001b[0m \u001b[0;32mNone\u001b[0m\u001b[0;34m\u001b[0m\u001b[0;34m\u001b[0m\u001b[0m\n\u001b[1;32m    951\u001b[0m             \u001b[0mself\u001b[0m\u001b[0;34m.\u001b[0m\u001b[0mlogger\u001b[0m\u001b[0;34m.\u001b[0m\u001b[0merror\u001b[0m\u001b[0;34m(\u001b[0m\u001b[0;34m\"Engine run is terminating due to exception: %s.\"\u001b[0m\u001b[0;34m,\u001b[0m \u001b[0mstr\u001b[0m\u001b[0;34m(\u001b[0m\u001b[0me\u001b[0m\u001b[0;34m)\u001b[0m\u001b[0;34m)\u001b[0m\u001b[0;34m\u001b[0m\u001b[0;34m\u001b[0m\u001b[0m\n\u001b[0;32m--> 952\u001b[0;31m             \u001b[0mself\u001b[0m\u001b[0;34m.\u001b[0m\u001b[0m_handle_exception\u001b[0m\u001b[0;34m(\u001b[0m\u001b[0me\u001b[0m\u001b[0;34m)\u001b[0m\u001b[0;34m\u001b[0m\u001b[0;34m\u001b[0m\u001b[0m\n\u001b[0m\u001b[1;32m    953\u001b[0m \u001b[0;34m\u001b[0m\u001b[0m\n\u001b[1;32m    954\u001b[0m         \u001b[0mself\u001b[0m\u001b[0;34m.\u001b[0m\u001b[0m_dataloader_iter\u001b[0m \u001b[0;34m=\u001b[0m \u001b[0mself\u001b[0m\u001b[0;34m.\u001b[0m\u001b[0m_dataloader_len\u001b[0m \u001b[0;34m=\u001b[0m \u001b[0;32mNone\u001b[0m\u001b[0;34m\u001b[0m\u001b[0;34m\u001b[0m\u001b[0m\n",
      "\u001b[0;32m~/.conda/envs/newone/lib/python3.6/site-packages/ignite/engine/engine.py\u001b[0m in \u001b[0;36m_handle_exception\u001b[0;34m(self, e)\u001b[0m\n\u001b[1;32m    714\u001b[0m             \u001b[0mself\u001b[0m\u001b[0;34m.\u001b[0m\u001b[0m_fire_event\u001b[0m\u001b[0;34m(\u001b[0m\u001b[0mEvents\u001b[0m\u001b[0;34m.\u001b[0m\u001b[0mEXCEPTION_RAISED\u001b[0m\u001b[0;34m,\u001b[0m \u001b[0me\u001b[0m\u001b[0;34m)\u001b[0m\u001b[0;34m\u001b[0m\u001b[0;34m\u001b[0m\u001b[0m\n\u001b[1;32m    715\u001b[0m         \u001b[0;32melse\u001b[0m\u001b[0;34m:\u001b[0m\u001b[0;34m\u001b[0m\u001b[0;34m\u001b[0m\u001b[0m\n\u001b[0;32m--> 716\u001b[0;31m             \u001b[0;32mraise\u001b[0m \u001b[0me\u001b[0m\u001b[0;34m\u001b[0m\u001b[0;34m\u001b[0m\u001b[0m\n\u001b[0m\u001b[1;32m    717\u001b[0m \u001b[0;34m\u001b[0m\u001b[0m\n\u001b[1;32m    718\u001b[0m     \u001b[0;32mdef\u001b[0m \u001b[0mstate_dict\u001b[0m\u001b[0;34m(\u001b[0m\u001b[0mself\u001b[0m\u001b[0;34m)\u001b[0m\u001b[0;34m:\u001b[0m\u001b[0;34m\u001b[0m\u001b[0;34m\u001b[0m\u001b[0m\n",
      "\u001b[0;32m~/.conda/envs/newone/lib/python3.6/site-packages/ignite/engine/engine.py\u001b[0m in \u001b[0;36m_internal_run\u001b[0;34m(self)\u001b[0m\n\u001b[1;32m    935\u001b[0m                     \u001b[0mself\u001b[0m\u001b[0;34m.\u001b[0m\u001b[0m_setup_engine\u001b[0m\u001b[0;34m(\u001b[0m\u001b[0;34m)\u001b[0m\u001b[0;34m\u001b[0m\u001b[0;34m\u001b[0m\u001b[0m\n\u001b[1;32m    936\u001b[0m \u001b[0;34m\u001b[0m\u001b[0m\n\u001b[0;32m--> 937\u001b[0;31m                 \u001b[0mhours\u001b[0m\u001b[0;34m,\u001b[0m \u001b[0mmins\u001b[0m\u001b[0;34m,\u001b[0m \u001b[0msecs\u001b[0m \u001b[0;34m=\u001b[0m \u001b[0mself\u001b[0m\u001b[0;34m.\u001b[0m\u001b[0m_run_once_on_dataset\u001b[0m\u001b[0;34m(\u001b[0m\u001b[0;34m)\u001b[0m\u001b[0;34m\u001b[0m\u001b[0;34m\u001b[0m\u001b[0m\n\u001b[0m\u001b[1;32m    938\u001b[0m \u001b[0;34m\u001b[0m\u001b[0m\n\u001b[1;32m    939\u001b[0m                 \u001b[0mself\u001b[0m\u001b[0;34m.\u001b[0m\u001b[0mlogger\u001b[0m\u001b[0;34m.\u001b[0m\u001b[0minfo\u001b[0m\u001b[0;34m(\u001b[0m\u001b[0;34m\"Epoch[%s] Complete. Time taken: %02d:%02d:%02d\"\u001b[0m\u001b[0;34m,\u001b[0m \u001b[0mself\u001b[0m\u001b[0;34m.\u001b[0m\u001b[0mstate\u001b[0m\u001b[0;34m.\u001b[0m\u001b[0mepoch\u001b[0m\u001b[0;34m,\u001b[0m \u001b[0mhours\u001b[0m\u001b[0;34m,\u001b[0m \u001b[0mmins\u001b[0m\u001b[0;34m,\u001b[0m \u001b[0msecs\u001b[0m\u001b[0;34m)\u001b[0m\u001b[0;34m\u001b[0m\u001b[0;34m\u001b[0m\u001b[0m\n",
      "\u001b[0;32m~/.conda/envs/newone/lib/python3.6/site-packages/ignite/engine/engine.py\u001b[0m in \u001b[0;36m_run_once_on_dataset\u001b[0;34m(self)\u001b[0m\n\u001b[1;32m    703\u001b[0m         \u001b[0;32mexcept\u001b[0m \u001b[0mBaseException\u001b[0m \u001b[0;32mas\u001b[0m \u001b[0me\u001b[0m\u001b[0;34m:\u001b[0m\u001b[0;34m\u001b[0m\u001b[0;34m\u001b[0m\u001b[0m\n\u001b[1;32m    704\u001b[0m             \u001b[0mself\u001b[0m\u001b[0;34m.\u001b[0m\u001b[0mlogger\u001b[0m\u001b[0;34m.\u001b[0m\u001b[0merror\u001b[0m\u001b[0;34m(\u001b[0m\u001b[0;34m\"Current run is terminating due to exception: %s.\"\u001b[0m\u001b[0;34m,\u001b[0m \u001b[0mstr\u001b[0m\u001b[0;34m(\u001b[0m\u001b[0me\u001b[0m\u001b[0;34m)\u001b[0m\u001b[0;34m)\u001b[0m\u001b[0;34m\u001b[0m\u001b[0;34m\u001b[0m\u001b[0m\n\u001b[0;32m--> 705\u001b[0;31m             \u001b[0mself\u001b[0m\u001b[0;34m.\u001b[0m\u001b[0m_handle_exception\u001b[0m\u001b[0;34m(\u001b[0m\u001b[0me\u001b[0m\u001b[0;34m)\u001b[0m\u001b[0;34m\u001b[0m\u001b[0;34m\u001b[0m\u001b[0m\n\u001b[0m\u001b[1;32m    706\u001b[0m \u001b[0;34m\u001b[0m\u001b[0m\n\u001b[1;32m    707\u001b[0m         \u001b[0mtime_taken\u001b[0m \u001b[0;34m=\u001b[0m \u001b[0mtime\u001b[0m\u001b[0;34m.\u001b[0m\u001b[0mtime\u001b[0m\u001b[0;34m(\u001b[0m\u001b[0;34m)\u001b[0m \u001b[0;34m-\u001b[0m \u001b[0mstart_time\u001b[0m\u001b[0;34m\u001b[0m\u001b[0;34m\u001b[0m\u001b[0m\n",
      "\u001b[0;32m~/.conda/envs/newone/lib/python3.6/site-packages/ignite/engine/engine.py\u001b[0m in \u001b[0;36m_handle_exception\u001b[0;34m(self, e)\u001b[0m\n\u001b[1;32m    714\u001b[0m             \u001b[0mself\u001b[0m\u001b[0;34m.\u001b[0m\u001b[0m_fire_event\u001b[0m\u001b[0;34m(\u001b[0m\u001b[0mEvents\u001b[0m\u001b[0;34m.\u001b[0m\u001b[0mEXCEPTION_RAISED\u001b[0m\u001b[0;34m,\u001b[0m \u001b[0me\u001b[0m\u001b[0;34m)\u001b[0m\u001b[0;34m\u001b[0m\u001b[0;34m\u001b[0m\u001b[0m\n\u001b[1;32m    715\u001b[0m         \u001b[0;32melse\u001b[0m\u001b[0;34m:\u001b[0m\u001b[0;34m\u001b[0m\u001b[0;34m\u001b[0m\u001b[0m\n\u001b[0;32m--> 716\u001b[0;31m             \u001b[0;32mraise\u001b[0m \u001b[0me\u001b[0m\u001b[0;34m\u001b[0m\u001b[0;34m\u001b[0m\u001b[0m\n\u001b[0m\u001b[1;32m    717\u001b[0m \u001b[0;34m\u001b[0m\u001b[0m\n\u001b[1;32m    718\u001b[0m     \u001b[0;32mdef\u001b[0m \u001b[0mstate_dict\u001b[0m\u001b[0;34m(\u001b[0m\u001b[0mself\u001b[0m\u001b[0;34m)\u001b[0m\u001b[0;34m:\u001b[0m\u001b[0;34m\u001b[0m\u001b[0;34m\u001b[0m\u001b[0m\n",
      "\u001b[0;32m~/.conda/envs/newone/lib/python3.6/site-packages/ignite/engine/engine.py\u001b[0m in \u001b[0;36m_run_once_on_dataset\u001b[0;34m(self)\u001b[0m\n\u001b[1;32m    686\u001b[0m                 \u001b[0mself\u001b[0m\u001b[0;34m.\u001b[0m\u001b[0mstate\u001b[0m\u001b[0;34m.\u001b[0m\u001b[0miteration\u001b[0m \u001b[0;34m+=\u001b[0m \u001b[0;36m1\u001b[0m\u001b[0;34m\u001b[0m\u001b[0;34m\u001b[0m\u001b[0m\n\u001b[1;32m    687\u001b[0m                 \u001b[0mself\u001b[0m\u001b[0;34m.\u001b[0m\u001b[0m_fire_event\u001b[0m\u001b[0;34m(\u001b[0m\u001b[0mEvents\u001b[0m\u001b[0;34m.\u001b[0m\u001b[0mITERATION_STARTED\u001b[0m\u001b[0;34m)\u001b[0m\u001b[0;34m\u001b[0m\u001b[0;34m\u001b[0m\u001b[0m\n\u001b[0;32m--> 688\u001b[0;31m                 \u001b[0mself\u001b[0m\u001b[0;34m.\u001b[0m\u001b[0mstate\u001b[0m\u001b[0;34m.\u001b[0m\u001b[0moutput\u001b[0m \u001b[0;34m=\u001b[0m \u001b[0mself\u001b[0m\u001b[0;34m.\u001b[0m\u001b[0m_process_function\u001b[0m\u001b[0;34m(\u001b[0m\u001b[0mself\u001b[0m\u001b[0;34m,\u001b[0m \u001b[0mself\u001b[0m\u001b[0;34m.\u001b[0m\u001b[0mstate\u001b[0m\u001b[0;34m.\u001b[0m\u001b[0mbatch\u001b[0m\u001b[0;34m)\u001b[0m\u001b[0;34m\u001b[0m\u001b[0;34m\u001b[0m\u001b[0m\n\u001b[0m\u001b[1;32m    689\u001b[0m                 \u001b[0mself\u001b[0m\u001b[0;34m.\u001b[0m\u001b[0m_fire_event\u001b[0m\u001b[0;34m(\u001b[0m\u001b[0mEvents\u001b[0m\u001b[0;34m.\u001b[0m\u001b[0mITERATION_COMPLETED\u001b[0m\u001b[0;34m)\u001b[0m\u001b[0;34m\u001b[0m\u001b[0;34m\u001b[0m\u001b[0m\n\u001b[1;32m    690\u001b[0m \u001b[0;34m\u001b[0m\u001b[0m\n",
      "\u001b[0;32m<ipython-input-19-3c4cebf4ed19>\u001b[0m in \u001b[0;36mprocess_function\u001b[0;34m(engine, batch)\u001b[0m\n\u001b[1;32m     10\u001b[0m     \u001b[0mloss\u001b[0m\u001b[0;34m.\u001b[0m\u001b[0mbackward\u001b[0m\u001b[0;34m(\u001b[0m\u001b[0;34m)\u001b[0m\u001b[0;34m\u001b[0m\u001b[0;34m\u001b[0m\u001b[0m\n\u001b[1;32m     11\u001b[0m     \u001b[0moptimizer\u001b[0m\u001b[0;34m.\u001b[0m\u001b[0mstep\u001b[0m\u001b[0;34m(\u001b[0m\u001b[0;34m)\u001b[0m\u001b[0;34m\u001b[0m\u001b[0;34m\u001b[0m\u001b[0m\n\u001b[0;32m---> 12\u001b[0;31m     \u001b[0;32mreturn\u001b[0m \u001b[0mloss\u001b[0m\u001b[0;34m.\u001b[0m\u001b[0mitem\u001b[0m\u001b[0;34m(\u001b[0m\u001b[0;34m)\u001b[0m\u001b[0;34m\u001b[0m\u001b[0;34m\u001b[0m\u001b[0m\n\u001b[0m\u001b[1;32m     13\u001b[0m \u001b[0;34m\u001b[0m\u001b[0m\n\u001b[1;32m     14\u001b[0m \u001b[0;34m\u001b[0m\u001b[0m\n",
      "\u001b[0;31mKeyboardInterrupt\u001b[0m: "
     ]
    }
   ],
   "source": [
    "trainer.run(train_loader, max_epochs=200)"
   ]
  },
  {
   "cell_type": "code",
   "execution_count": 35,
   "metadata": {},
   "outputs": [],
   "source": [
    "\n",
    "log_interval = 28\n",
    "@trainer.on(Events.ITERATION_COMPLETED)\n",
    "def log_training_loss(engine):\n",
    "    iteration = (engine.state.iteration - 1) % len(train_loader) + 1\n",
    "    if iteration % log_interval == 0:\n",
    "        print(\"Epoch[{}] Iteration[{}/{}] Loss: {:.6f}\".format(engine.state.epoch, iteration, len(train_loader), engine.state.output))"
   ]
  },
  {
   "cell_type": "code",
   "execution_count": null,
   "metadata": {},
   "outputs": [],
   "source": [
    "from ignite.metrics import Loss, CategoricalAccuracy, Precision, Recall\n",
    "\n",
    "\n",
    "metrics = {\n",
    "    'avg_loss': Loss(criterion)\n",
    "}"
   ]
  },
  {
   "cell_type": "code",
   "execution_count": null,
   "metadata": {},
   "outputs": [],
   "source": [
    "from ignite.engine import create_supervised_evaluator\n",
    "\n",
    "train_evaluator = create_supervised_evaluator(model, metrics=metrics, device=device)\n",
    "val_evaluator = create_supervised_evaluator(model, metrics=metrics, device=device)"
   ]
  },
  {
   "cell_type": "code",
   "execution_count": 39,
   "metadata": {},
   "outputs": [
    {
     "ename": "AttributeError",
     "evalue": "'AutoEncoder' object has no attribute 'compile'",
     "output_type": "error",
     "traceback": [
      "\u001b[0;31m---------------------------------------------------------------------------\u001b[0m",
      "\u001b[0;31mAttributeError\u001b[0m                            Traceback (most recent call last)",
      "\u001b[0;32m<ipython-input-39-cac556f58a85>\u001b[0m in \u001b[0;36m<module>\u001b[0;34m\u001b[0m\n\u001b[0;32m----> 1\u001b[0;31m \u001b[0mmodel\u001b[0m\u001b[0;34m.\u001b[0m\u001b[0mcompile\u001b[0m\u001b[0;34m(\u001b[0m\u001b[0;34m)\u001b[0m\u001b[0;34m\u001b[0m\u001b[0;34m\u001b[0m\u001b[0m\n\u001b[0m",
      "\u001b[0;32m~/.conda/envs/newone/lib/python3.6/site-packages/torch/nn/modules/module.py\u001b[0m in \u001b[0;36m__getattr__\u001b[0;34m(self, name)\u001b[0m\n\u001b[1;32m    574\u001b[0m                 \u001b[0;32mreturn\u001b[0m \u001b[0mmodules\u001b[0m\u001b[0;34m[\u001b[0m\u001b[0mname\u001b[0m\u001b[0;34m]\u001b[0m\u001b[0;34m\u001b[0m\u001b[0;34m\u001b[0m\u001b[0m\n\u001b[1;32m    575\u001b[0m         raise AttributeError(\"'{}' object has no attribute '{}'\".format(\n\u001b[0;32m--> 576\u001b[0;31m             type(self).__name__, name))\n\u001b[0m\u001b[1;32m    577\u001b[0m \u001b[0;34m\u001b[0m\u001b[0m\n\u001b[1;32m    578\u001b[0m     \u001b[0;32mdef\u001b[0m \u001b[0m__setattr__\u001b[0m\u001b[0;34m(\u001b[0m\u001b[0mself\u001b[0m\u001b[0;34m,\u001b[0m \u001b[0mname\u001b[0m\u001b[0;34m,\u001b[0m \u001b[0mvalue\u001b[0m\u001b[0;34m)\u001b[0m\u001b[0;34m:\u001b[0m\u001b[0;34m\u001b[0m\u001b[0;34m\u001b[0m\u001b[0m\n",
      "\u001b[0;31mAttributeError\u001b[0m: 'AutoEncoder' object has no attribute 'compile'"
     ]
    }
   ],
   "source": [
    "model.compile()"
   ]
  },
  {
   "cell_type": "code",
   "execution_count": null,
   "metadata": {},
   "outputs": [],
   "source": []
  }
 ],
 "metadata": {
  "accelerator": "GPU",
  "colab": {
   "collapsed_sections": [],
   "name": "ExperimentSet1 ",
   "provenance": []
  },
  "kernelspec": {
   "display_name": "Python 3",
   "language": "python",
   "name": "python3"
  },
  "language_info": {
   "codemirror_mode": {
    "name": "ipython",
    "version": 3
   },
   "file_extension": ".py",
   "mimetype": "text/x-python",
   "name": "python",
   "nbconvert_exporter": "python",
   "pygments_lexer": "ipython3",
   "version": "3.6.10"
  },
  "widgets": {
   "application/vnd.jupyter.widget-state+json": {
    "00ec9ca3e02645cd8471efdf2f6639c5": {
     "model_module": "@jupyter-widgets/controls",
     "model_name": "IntProgressModel",
     "state": {
      "_dom_classes": [],
      "_model_module": "@jupyter-widgets/controls",
      "_model_module_version": "1.5.0",
      "_model_name": "IntProgressModel",
      "_view_count": null,
      "_view_module": "@jupyter-widgets/controls",
      "_view_module_version": "1.5.0",
      "_view_name": "ProgressView",
      "bar_style": "",
      "description": "  0%",
      "description_tooltip": null,
      "layout": "IPY_MODEL_132444c1f0d048139d86235a6a506bd5",
      "max": 5,
      "min": 0,
      "orientation": "horizontal",
      "style": "IPY_MODEL_b6ca4ba8f1d34ec8b863fd2a12423f63",
      "value": 0
     }
    },
    "0e8e7b0cb98c489bbb38fd011b4e9ba7": {
     "model_module": "@jupyter-widgets/controls",
     "model_name": "DescriptionStyleModel",
     "state": {
      "_model_module": "@jupyter-widgets/controls",
      "_model_module_version": "1.5.0",
      "_model_name": "DescriptionStyleModel",
      "_view_count": null,
      "_view_module": "@jupyter-widgets/base",
      "_view_module_version": "1.2.0",
      "_view_name": "StyleView",
      "description_width": ""
     }
    },
    "1241b91d46a8467fa10d222f0de3191c": {
     "model_module": "@jupyter-widgets/controls",
     "model_name": "ProgressStyleModel",
     "state": {
      "_model_module": "@jupyter-widgets/controls",
      "_model_module_version": "1.5.0",
      "_model_name": "ProgressStyleModel",
      "_view_count": null,
      "_view_module": "@jupyter-widgets/base",
      "_view_module_version": "1.2.0",
      "_view_name": "StyleView",
      "bar_color": null,
      "description_width": "initial"
     }
    },
    "132444c1f0d048139d86235a6a506bd5": {
     "model_module": "@jupyter-widgets/base",
     "model_name": "LayoutModel",
     "state": {
      "_model_module": "@jupyter-widgets/base",
      "_model_module_version": "1.2.0",
      "_model_name": "LayoutModel",
      "_view_count": null,
      "_view_module": "@jupyter-widgets/base",
      "_view_module_version": "1.2.0",
      "_view_name": "LayoutView",
      "align_content": null,
      "align_items": null,
      "align_self": null,
      "border": null,
      "bottom": null,
      "display": null,
      "flex": null,
      "flex_flow": null,
      "grid_area": null,
      "grid_auto_columns": null,
      "grid_auto_flow": null,
      "grid_auto_rows": null,
      "grid_column": null,
      "grid_gap": null,
      "grid_row": null,
      "grid_template_areas": null,
      "grid_template_columns": null,
      "grid_template_rows": null,
      "height": null,
      "justify_content": null,
      "justify_items": null,
      "left": null,
      "margin": null,
      "max_height": null,
      "max_width": null,
      "min_height": null,
      "min_width": null,
      "object_fit": null,
      "object_position": null,
      "order": null,
      "overflow": null,
      "overflow_x": null,
      "overflow_y": null,
      "padding": null,
      "right": null,
      "top": null,
      "visibility": null,
      "width": null
     }
    },
    "2455b8c5ddbb4b5da3125a9c39d7b356": {
     "model_module": "@jupyter-widgets/base",
     "model_name": "LayoutModel",
     "state": {
      "_model_module": "@jupyter-widgets/base",
      "_model_module_version": "1.2.0",
      "_model_name": "LayoutModel",
      "_view_count": null,
      "_view_module": "@jupyter-widgets/base",
      "_view_module_version": "1.2.0",
      "_view_name": "LayoutView",
      "align_content": null,
      "align_items": null,
      "align_self": null,
      "border": null,
      "bottom": null,
      "display": null,
      "flex": null,
      "flex_flow": null,
      "grid_area": null,
      "grid_auto_columns": null,
      "grid_auto_flow": null,
      "grid_auto_rows": null,
      "grid_column": null,
      "grid_gap": null,
      "grid_row": null,
      "grid_template_areas": null,
      "grid_template_columns": null,
      "grid_template_rows": null,
      "height": null,
      "justify_content": null,
      "justify_items": null,
      "left": null,
      "margin": null,
      "max_height": null,
      "max_width": null,
      "min_height": null,
      "min_width": null,
      "object_fit": null,
      "object_position": null,
      "order": null,
      "overflow": null,
      "overflow_x": null,
      "overflow_y": null,
      "padding": null,
      "right": null,
      "top": null,
      "visibility": null,
      "width": null
     }
    },
    "34182937ccb0465baa9deac3e4f3b312": {
     "model_module": "@jupyter-widgets/controls",
     "model_name": "HBoxModel",
     "state": {
      "_dom_classes": [],
      "_model_module": "@jupyter-widgets/controls",
      "_model_module_version": "1.5.0",
      "_model_name": "HBoxModel",
      "_view_count": null,
      "_view_module": "@jupyter-widgets/controls",
      "_view_module_version": "1.5.0",
      "_view_name": "HBoxView",
      "box_style": "",
      "children": [
       "IPY_MODEL_00ec9ca3e02645cd8471efdf2f6639c5",
       "IPY_MODEL_f72a21d4bf0448d2a388be85d1ebd2ab"
      ],
      "layout": "IPY_MODEL_2455b8c5ddbb4b5da3125a9c39d7b356"
     }
    },
    "38d1930fe1754122ba79b5c3d45da732": {
     "model_module": "@jupyter-widgets/controls",
     "model_name": "HTMLModel",
     "state": {
      "_dom_classes": [],
      "_model_module": "@jupyter-widgets/controls",
      "_model_module_version": "1.5.0",
      "_model_name": "HTMLModel",
      "_view_count": null,
      "_view_module": "@jupyter-widgets/controls",
      "_view_module_version": "1.5.0",
      "_view_name": "HTMLView",
      "description": "",
      "description_tooltip": null,
      "layout": "IPY_MODEL_7d25bf42ee9e4b698fe6cbb947041dbb",
      "placeholder": "​",
      "style": "IPY_MODEL_cfacb8c463864efebce569ffb0ccefff",
      "value": " 0/6 [00:00&lt;?, ?it/s]"
     }
    },
    "7d25bf42ee9e4b698fe6cbb947041dbb": {
     "model_module": "@jupyter-widgets/base",
     "model_name": "LayoutModel",
     "state": {
      "_model_module": "@jupyter-widgets/base",
      "_model_module_version": "1.2.0",
      "_model_name": "LayoutModel",
      "_view_count": null,
      "_view_module": "@jupyter-widgets/base",
      "_view_module_version": "1.2.0",
      "_view_name": "LayoutView",
      "align_content": null,
      "align_items": null,
      "align_self": null,
      "border": null,
      "bottom": null,
      "display": null,
      "flex": null,
      "flex_flow": null,
      "grid_area": null,
      "grid_auto_columns": null,
      "grid_auto_flow": null,
      "grid_auto_rows": null,
      "grid_column": null,
      "grid_gap": null,
      "grid_row": null,
      "grid_template_areas": null,
      "grid_template_columns": null,
      "grid_template_rows": null,
      "height": null,
      "justify_content": null,
      "justify_items": null,
      "left": null,
      "margin": null,
      "max_height": null,
      "max_width": null,
      "min_height": null,
      "min_width": null,
      "object_fit": null,
      "object_position": null,
      "order": null,
      "overflow": null,
      "overflow_x": null,
      "overflow_y": null,
      "padding": null,
      "right": null,
      "top": null,
      "visibility": null,
      "width": null
     }
    },
    "ab87bcf628334ef2a92c76c4dc3d1454": {
     "model_module": "@jupyter-widgets/base",
     "model_name": "LayoutModel",
     "state": {
      "_model_module": "@jupyter-widgets/base",
      "_model_module_version": "1.2.0",
      "_model_name": "LayoutModel",
      "_view_count": null,
      "_view_module": "@jupyter-widgets/base",
      "_view_module_version": "1.2.0",
      "_view_name": "LayoutView",
      "align_content": null,
      "align_items": null,
      "align_self": null,
      "border": null,
      "bottom": null,
      "display": null,
      "flex": null,
      "flex_flow": null,
      "grid_area": null,
      "grid_auto_columns": null,
      "grid_auto_flow": null,
      "grid_auto_rows": null,
      "grid_column": null,
      "grid_gap": null,
      "grid_row": null,
      "grid_template_areas": null,
      "grid_template_columns": null,
      "grid_template_rows": null,
      "height": null,
      "justify_content": null,
      "justify_items": null,
      "left": null,
      "margin": null,
      "max_height": null,
      "max_width": null,
      "min_height": null,
      "min_width": null,
      "object_fit": null,
      "object_position": null,
      "order": null,
      "overflow": null,
      "overflow_x": null,
      "overflow_y": null,
      "padding": null,
      "right": null,
      "top": null,
      "visibility": null,
      "width": null
     }
    },
    "b6ca4ba8f1d34ec8b863fd2a12423f63": {
     "model_module": "@jupyter-widgets/controls",
     "model_name": "ProgressStyleModel",
     "state": {
      "_model_module": "@jupyter-widgets/controls",
      "_model_module_version": "1.5.0",
      "_model_name": "ProgressStyleModel",
      "_view_count": null,
      "_view_module": "@jupyter-widgets/base",
      "_view_module_version": "1.2.0",
      "_view_name": "StyleView",
      "bar_color": null,
      "description_width": "initial"
     }
    },
    "c6ae6e78d39f42aeb82aa22966f660c4": {
     "model_module": "@jupyter-widgets/controls",
     "model_name": "IntProgressModel",
     "state": {
      "_dom_classes": [],
      "_model_module": "@jupyter-widgets/controls",
      "_model_module_version": "1.5.0",
      "_model_name": "IntProgressModel",
      "_view_count": null,
      "_view_module": "@jupyter-widgets/controls",
      "_view_module_version": "1.5.0",
      "_view_name": "ProgressView",
      "bar_style": "",
      "description": "  0%",
      "description_tooltip": null,
      "layout": "IPY_MODEL_e62f3de5b9dc476dbb39241f25ef00ae",
      "max": 6,
      "min": 0,
      "orientation": "horizontal",
      "style": "IPY_MODEL_1241b91d46a8467fa10d222f0de3191c",
      "value": 0
     }
    },
    "cfacb8c463864efebce569ffb0ccefff": {
     "model_module": "@jupyter-widgets/controls",
     "model_name": "DescriptionStyleModel",
     "state": {
      "_model_module": "@jupyter-widgets/controls",
      "_model_module_version": "1.5.0",
      "_model_name": "DescriptionStyleModel",
      "_view_count": null,
      "_view_module": "@jupyter-widgets/base",
      "_view_module_version": "1.2.0",
      "_view_name": "StyleView",
      "description_width": ""
     }
    },
    "d9ecedab9d9a4a8a84f7e2d13336fb8f": {
     "model_module": "@jupyter-widgets/base",
     "model_name": "LayoutModel",
     "state": {
      "_model_module": "@jupyter-widgets/base",
      "_model_module_version": "1.2.0",
      "_model_name": "LayoutModel",
      "_view_count": null,
      "_view_module": "@jupyter-widgets/base",
      "_view_module_version": "1.2.0",
      "_view_name": "LayoutView",
      "align_content": null,
      "align_items": null,
      "align_self": null,
      "border": null,
      "bottom": null,
      "display": null,
      "flex": null,
      "flex_flow": null,
      "grid_area": null,
      "grid_auto_columns": null,
      "grid_auto_flow": null,
      "grid_auto_rows": null,
      "grid_column": null,
      "grid_gap": null,
      "grid_row": null,
      "grid_template_areas": null,
      "grid_template_columns": null,
      "grid_template_rows": null,
      "height": null,
      "justify_content": null,
      "justify_items": null,
      "left": null,
      "margin": null,
      "max_height": null,
      "max_width": null,
      "min_height": null,
      "min_width": null,
      "object_fit": null,
      "object_position": null,
      "order": null,
      "overflow": null,
      "overflow_x": null,
      "overflow_y": null,
      "padding": null,
      "right": null,
      "top": null,
      "visibility": null,
      "width": null
     }
    },
    "e62f3de5b9dc476dbb39241f25ef00ae": {
     "model_module": "@jupyter-widgets/base",
     "model_name": "LayoutModel",
     "state": {
      "_model_module": "@jupyter-widgets/base",
      "_model_module_version": "1.2.0",
      "_model_name": "LayoutModel",
      "_view_count": null,
      "_view_module": "@jupyter-widgets/base",
      "_view_module_version": "1.2.0",
      "_view_name": "LayoutView",
      "align_content": null,
      "align_items": null,
      "align_self": null,
      "border": null,
      "bottom": null,
      "display": null,
      "flex": null,
      "flex_flow": null,
      "grid_area": null,
      "grid_auto_columns": null,
      "grid_auto_flow": null,
      "grid_auto_rows": null,
      "grid_column": null,
      "grid_gap": null,
      "grid_row": null,
      "grid_template_areas": null,
      "grid_template_columns": null,
      "grid_template_rows": null,
      "height": null,
      "justify_content": null,
      "justify_items": null,
      "left": null,
      "margin": null,
      "max_height": null,
      "max_width": null,
      "min_height": null,
      "min_width": null,
      "object_fit": null,
      "object_position": null,
      "order": null,
      "overflow": null,
      "overflow_x": null,
      "overflow_y": null,
      "padding": null,
      "right": null,
      "top": null,
      "visibility": null,
      "width": null
     }
    },
    "e885fa7c5c294723aeca063ce5ba5e6d": {
     "model_module": "@jupyter-widgets/controls",
     "model_name": "HBoxModel",
     "state": {
      "_dom_classes": [],
      "_model_module": "@jupyter-widgets/controls",
      "_model_module_version": "1.5.0",
      "_model_name": "HBoxModel",
      "_view_count": null,
      "_view_module": "@jupyter-widgets/controls",
      "_view_module_version": "1.5.0",
      "_view_name": "HBoxView",
      "box_style": "",
      "children": [
       "IPY_MODEL_c6ae6e78d39f42aeb82aa22966f660c4",
       "IPY_MODEL_38d1930fe1754122ba79b5c3d45da732"
      ],
      "layout": "IPY_MODEL_d9ecedab9d9a4a8a84f7e2d13336fb8f"
     }
    },
    "f72a21d4bf0448d2a388be85d1ebd2ab": {
     "model_module": "@jupyter-widgets/controls",
     "model_name": "HTMLModel",
     "state": {
      "_dom_classes": [],
      "_model_module": "@jupyter-widgets/controls",
      "_model_module_version": "1.5.0",
      "_model_name": "HTMLModel",
      "_view_count": null,
      "_view_module": "@jupyter-widgets/controls",
      "_view_module_version": "1.5.0",
      "_view_name": "HTMLView",
      "description": "",
      "description_tooltip": null,
      "layout": "IPY_MODEL_ab87bcf628334ef2a92c76c4dc3d1454",
      "placeholder": "​",
      "style": "IPY_MODEL_0e8e7b0cb98c489bbb38fd011b4e9ba7",
      "value": " 0/5 [00:00&lt;?, ?it/s]"
     }
    }
   }
  }
 },
 "nbformat": 4,
 "nbformat_minor": 1
}
