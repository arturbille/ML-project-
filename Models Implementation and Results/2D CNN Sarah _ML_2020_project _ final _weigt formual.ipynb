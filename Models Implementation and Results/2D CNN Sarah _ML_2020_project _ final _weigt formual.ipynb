{
  "nbformat": 4,
  "nbformat_minor": 0,
  "metadata": {
    "colab": {
      "name": "7 ML_2020_project CNN.ipynb",
      "provenance": [],
      "collapsed_sections": [],
      "machine_shape": "hm"
    },
    "kernelspec": {
      "name": "python3",
      "display_name": "Python 3"
    },
    "language_info": {
      "codemirror_mode": {
        "name": "ipython",
        "version": 3
      },
      "file_extension": ".py",
      "mimetype": "text/x-python",
      "name": "python",
      "nbconvert_exporter": "python",
      "pygments_lexer": "ipython3",
      "version": "3.7.4"
    }
  },
  "cells": [
    {
      "cell_type": "code",
      "metadata": {
        "colab_type": "code",
        "id": "k9odeSZkjcQQ",
        "outputId": "1f015e68-4f70-4ffa-c9ff-0574d4ab8730",
        "colab": {
          "base_uri": "https://localhost:8080/",
          "height": 122
        }
      },
      "source": [
        "from google.colab import drive\n",
        "drive.mount('/content/drive')"
      ],
      "execution_count": 1,
      "outputs": [
        {
          "output_type": "stream",
          "text": [
            "Go to this URL in a browser: https://accounts.google.com/o/oauth2/auth?client_id=947318989803-6bn6qk8qdgf4n4g3pfee6491hc0brc4i.apps.googleusercontent.com&redirect_uri=urn%3aietf%3awg%3aoauth%3a2.0%3aoob&response_type=code&scope=email%20https%3a%2f%2fwww.googleapis.com%2fauth%2fdocs.test%20https%3a%2f%2fwww.googleapis.com%2fauth%2fdrive%20https%3a%2f%2fwww.googleapis.com%2fauth%2fdrive.photos.readonly%20https%3a%2f%2fwww.googleapis.com%2fauth%2fpeopleapi.readonly\n",
            "\n",
            "Enter your authorization code:\n",
            "··········\n",
            "Mounted at /content/drive\n"
          ],
          "name": "stdout"
        }
      ]
    },
    {
      "cell_type": "code",
      "metadata": {
        "colab_type": "code",
        "id": "_oK46hgGitlU",
        "outputId": "74baab2b-2431-4cf2-a3a6-ca891eff2933",
        "colab": {
          "base_uri": "https://localhost:8080/",
          "height": 1000
        }
      },
      "source": [
        "!pip install fiona\n",
        "!pip install rasterio\n",
        "!pip install torchviz\n",
        "!pip install albumentations"
      ],
      "execution_count": 2,
      "outputs": [
        {
          "output_type": "stream",
          "text": [
            "Collecting fiona\n",
            "\u001b[?25l  Downloading https://files.pythonhosted.org/packages/ec/20/4e63bc5c6e62df889297b382c3ccd4a7a488b00946aaaf81a118158c6f09/Fiona-1.8.13.post1-cp36-cp36m-manylinux1_x86_64.whl (14.7MB)\n",
            "\u001b[K     |████████████████████████████████| 14.7MB 302kB/s \n",
            "\u001b[?25hRequirement already satisfied: attrs>=17 in /usr/local/lib/python3.6/dist-packages (from fiona) (19.3.0)\n",
            "Requirement already satisfied: click<8,>=4.0 in /usr/local/lib/python3.6/dist-packages (from fiona) (7.1.1)\n",
            "Collecting munch\n",
            "  Downloading https://files.pythonhosted.org/packages/cc/ab/85d8da5c9a45e072301beb37ad7f833cd344e04c817d97e0cc75681d248f/munch-2.5.0-py2.py3-none-any.whl\n",
            "Requirement already satisfied: six>=1.7 in /usr/local/lib/python3.6/dist-packages (from fiona) (1.12.0)\n",
            "Collecting click-plugins>=1.0\n",
            "  Downloading https://files.pythonhosted.org/packages/e9/da/824b92d9942f4e472702488857914bdd50f73021efea15b4cad9aca8ecef/click_plugins-1.1.1-py2.py3-none-any.whl\n",
            "Collecting cligj>=0.5\n",
            "  Downloading https://files.pythonhosted.org/packages/e4/be/30a58b4b0733850280d01f8bd132591b4668ed5c7046761098d665ac2174/cligj-0.5.0-py3-none-any.whl\n",
            "Installing collected packages: munch, click-plugins, cligj, fiona\n",
            "Successfully installed click-plugins-1.1.1 cligj-0.5.0 fiona-1.8.13.post1 munch-2.5.0\n",
            "Collecting rasterio\n",
            "\u001b[?25l  Downloading https://files.pythonhosted.org/packages/c7/81/13321f88f582a00705c5f348724728e8999136e19d6e7c56f7e6ac9bb7f9/rasterio-1.1.3-cp36-cp36m-manylinux1_x86_64.whl (18.1MB)\n",
            "\u001b[K     |████████████████████████████████| 18.1MB 243kB/s \n",
            "\u001b[?25hRequirement already satisfied: cligj>=0.5 in /usr/local/lib/python3.6/dist-packages (from rasterio) (0.5.0)\n",
            "Requirement already satisfied: click-plugins in /usr/local/lib/python3.6/dist-packages (from rasterio) (1.1.1)\n",
            "Requirement already satisfied: numpy in /usr/local/lib/python3.6/dist-packages (from rasterio) (1.18.2)\n",
            "Collecting affine\n",
            "  Downloading https://files.pythonhosted.org/packages/ac/a6/1a39a1ede71210e3ddaf623982b06ecfc5c5c03741ae659073159184cd3e/affine-2.3.0-py2.py3-none-any.whl\n",
            "Collecting snuggs>=1.4.1\n",
            "  Downloading https://files.pythonhosted.org/packages/cc/0e/d27d6e806d6c0d1a2cfdc5d1f088e42339a0a54a09c3343f7f81ec8947ea/snuggs-1.4.7-py3-none-any.whl\n",
            "Requirement already satisfied: click<8,>=4.0 in /usr/local/lib/python3.6/dist-packages (from rasterio) (7.1.1)\n",
            "Requirement already satisfied: attrs in /usr/local/lib/python3.6/dist-packages (from rasterio) (19.3.0)\n",
            "Requirement already satisfied: pyparsing>=2.1.6 in /usr/local/lib/python3.6/dist-packages (from snuggs>=1.4.1->rasterio) (2.4.6)\n",
            "Installing collected packages: affine, snuggs, rasterio\n",
            "Successfully installed affine-2.3.0 rasterio-1.1.3 snuggs-1.4.7\n",
            "Collecting torchviz\n",
            "\u001b[?25l  Downloading https://files.pythonhosted.org/packages/8f/8e/a9630c7786b846d08b47714dd363a051f5e37b4ea0e534460d8cdfc1644b/torchviz-0.0.1.tar.gz (41kB)\n",
            "\u001b[K     |████████████████████████████████| 51kB 1.1MB/s \n",
            "\u001b[?25hRequirement already satisfied: torch in /usr/local/lib/python3.6/dist-packages (from torchviz) (1.4.0)\n",
            "Requirement already satisfied: graphviz in /usr/local/lib/python3.6/dist-packages (from torchviz) (0.10.1)\n",
            "Building wheels for collected packages: torchviz\n",
            "  Building wheel for torchviz (setup.py) ... \u001b[?25l\u001b[?25hdone\n",
            "  Created wheel for torchviz: filename=torchviz-0.0.1-cp36-none-any.whl size=3523 sha256=ddc8b33e1810348ea0d1f17d22d89ba075c4347265a08faa15ebcbbdc13cb485\n",
            "  Stored in directory: /root/.cache/pip/wheels/2a/c2/c5/b8b4d0f7992c735f6db5bfa3c5f354cf36502037ca2b585667\n",
            "Successfully built torchviz\n",
            "Installing collected packages: torchviz\n",
            "Successfully installed torchviz-0.0.1\n",
            "Requirement already satisfied: albumentations in /usr/local/lib/python3.6/dist-packages (0.1.12)\n",
            "Requirement already satisfied: opencv-python in /usr/local/lib/python3.6/dist-packages (from albumentations) (4.1.2.30)\n",
            "Requirement already satisfied: numpy>=1.11.1 in /usr/local/lib/python3.6/dist-packages (from albumentations) (1.18.2)\n",
            "Collecting imgaug<0.2.7,>=0.2.5\n",
            "\u001b[?25l  Downloading https://files.pythonhosted.org/packages/ad/2e/748dbb7bb52ec8667098bae9b585f448569ae520031932687761165419a2/imgaug-0.2.6.tar.gz (631kB)\n",
            "\u001b[K     |████████████████████████████████| 634kB 1.4MB/s \n",
            "\u001b[?25hRequirement already satisfied: scipy in /usr/local/lib/python3.6/dist-packages (from albumentations) (1.4.1)\n",
            "Requirement already satisfied: scikit-image>=0.11.0 in /usr/local/lib/python3.6/dist-packages (from imgaug<0.2.7,>=0.2.5->albumentations) (0.16.2)\n",
            "Requirement already satisfied: six in /usr/local/lib/python3.6/dist-packages (from imgaug<0.2.7,>=0.2.5->albumentations) (1.12.0)\n",
            "Requirement already satisfied: matplotlib!=3.0.0,>=2.0.0 in /usr/local/lib/python3.6/dist-packages (from scikit-image>=0.11.0->imgaug<0.2.7,>=0.2.5->albumentations) (3.2.1)\n",
            "Requirement already satisfied: pillow>=4.3.0 in /usr/local/lib/python3.6/dist-packages (from scikit-image>=0.11.0->imgaug<0.2.7,>=0.2.5->albumentations) (7.0.0)\n",
            "Requirement already satisfied: networkx>=2.0 in /usr/local/lib/python3.6/dist-packages (from scikit-image>=0.11.0->imgaug<0.2.7,>=0.2.5->albumentations) (2.4)\n",
            "Requirement already satisfied: imageio>=2.3.0 in /usr/local/lib/python3.6/dist-packages (from scikit-image>=0.11.0->imgaug<0.2.7,>=0.2.5->albumentations) (2.4.1)\n",
            "Requirement already satisfied: PyWavelets>=0.4.0 in /usr/local/lib/python3.6/dist-packages (from scikit-image>=0.11.0->imgaug<0.2.7,>=0.2.5->albumentations) (1.1.1)\n",
            "Requirement already satisfied: python-dateutil>=2.1 in /usr/local/lib/python3.6/dist-packages (from matplotlib!=3.0.0,>=2.0.0->scikit-image>=0.11.0->imgaug<0.2.7,>=0.2.5->albumentations) (2.8.1)\n",
            "Requirement already satisfied: pyparsing!=2.0.4,!=2.1.2,!=2.1.6,>=2.0.1 in /usr/local/lib/python3.6/dist-packages (from matplotlib!=3.0.0,>=2.0.0->scikit-image>=0.11.0->imgaug<0.2.7,>=0.2.5->albumentations) (2.4.6)\n",
            "Requirement already satisfied: kiwisolver>=1.0.1 in /usr/local/lib/python3.6/dist-packages (from matplotlib!=3.0.0,>=2.0.0->scikit-image>=0.11.0->imgaug<0.2.7,>=0.2.5->albumentations) (1.1.0)\n",
            "Requirement already satisfied: cycler>=0.10 in /usr/local/lib/python3.6/dist-packages (from matplotlib!=3.0.0,>=2.0.0->scikit-image>=0.11.0->imgaug<0.2.7,>=0.2.5->albumentations) (0.10.0)\n",
            "Requirement already satisfied: decorator>=4.3.0 in /usr/local/lib/python3.6/dist-packages (from networkx>=2.0->scikit-image>=0.11.0->imgaug<0.2.7,>=0.2.5->albumentations) (4.4.2)\n",
            "Requirement already satisfied: setuptools in /usr/local/lib/python3.6/dist-packages (from kiwisolver>=1.0.1->matplotlib!=3.0.0,>=2.0.0->scikit-image>=0.11.0->imgaug<0.2.7,>=0.2.5->albumentations) (46.0.0)\n",
            "Building wheels for collected packages: imgaug\n",
            "  Building wheel for imgaug (setup.py) ... \u001b[?25l\u001b[?25hdone\n",
            "  Created wheel for imgaug: filename=imgaug-0.2.6-cp36-none-any.whl size=654020 sha256=efd32a62ee7240074ba4ca430c7c1440b225c8e482c39dad74a2d56c8f50e4bf\n",
            "  Stored in directory: /root/.cache/pip/wheels/97/ec/48/0d25896c417b715af6236dbcef8f0bed136a1a5e52972fc6d0\n",
            "Successfully built imgaug\n",
            "Installing collected packages: imgaug\n",
            "  Found existing installation: imgaug 0.2.9\n",
            "    Uninstalling imgaug-0.2.9:\n",
            "      Successfully uninstalled imgaug-0.2.9\n",
            "Successfully installed imgaug-0.2.6\n"
          ],
          "name": "stdout"
        }
      ]
    },
    {
      "cell_type": "code",
      "metadata": {
        "colab_type": "code",
        "id": "jjLHfm2jj_H_",
        "colab": {}
      },
      "source": [
        "import sys\n",
        "sys.path.append('/content/drive/My Drive/Weak_Learners_ML2020')"
      ],
      "execution_count": 0,
      "outputs": []
    },
    {
      "cell_type": "code",
      "metadata": {
        "id": "N5WdLGahpbzi",
        "colab_type": "code",
        "colab": {
          "base_uri": "https://localhost:8080/",
          "height": 71
        },
        "outputId": "3fc21d5c-d8a4-4073-fb05-c190bd6e7d27"
      },
      "source": [
        "import scipy\n",
        "import numpy as np\n",
        "import seaborn as sns\n",
        "import fiona\n",
        "import rasterio\n",
        "from shapely import geometry\n",
        "from rasterio.mask import mask\n",
        "\n",
        "def extractor(frame,points,size=7,normalize=True,labeling=False):\n",
        "  '''\n",
        "  The extractor fuction takes in three paramters:\n",
        "  \n",
        "    1. frame - The image to be subdevided. Resterio type file\n",
        "    2. points - fiona collection file with coordinates of points\n",
        "    3. size - size of the window\n",
        "    4. data normalization - normolize the data boolean\n",
        "    5. require labels if the data containes labels. Boolean\n",
        "    \n",
        "  Return:\n",
        "  \n",
        "    1. List of bathces with the give size\n",
        "    2. List of coordinates\n",
        "    3. List of labels\n",
        "  ~~~~~~~~~~~~~~~~~~~~~~~~~~~~~~~~~~~~~~~~~~~~~~~~~~~~  \n",
        "  Example:\n",
        "      frame = rasterio.open(\"pp_1_sat_modified1.tif\")\n",
        "      points = fiona.open(\"alltreepoints1.shp\", \"r\")\n",
        "      collection = extractor(frame,points,size=7)\n",
        "  ~~~~~~~~~~~~~~~~~~~~~~~~~~~~~~~~~~~~~~~~~~~~~~~~~~~~   \n",
        "  '''\n",
        "  img = frame.read((5,3,2)).T.astype('uint32')\n",
        "  if normalize:\n",
        "    img = img/np.max(img)\n",
        "\n",
        "  assert img.shape[1]>img.shape[2], \"channles are in the right place!\"+str(img.shape)\n",
        "  map_tree_speices = {'е':0, 'б':1, 'п':2, \"El'\":0, \"Bereza\":1, \"Pichta\":2, \"Sosna\":3} \n",
        "  img_point,locations,labels = [],[],[]\n",
        "\n",
        "  for p in range(len(points)):\n",
        "\n",
        "        try:  \n",
        "              point = np.array(frame.index(*points[p]['geometry']['coordinates']))\n",
        "              box = img[(point[1]-size):point[1]+size,\n",
        "                        (point[0]-size):point[0]+size,:].copy()\n",
        "              if labeling:\n",
        "                  labels.append(map_tree_speices[ points[p]['properties']['specie'] ]) \n",
        "              img_point.append(box)\n",
        "              locations.append(point)\n",
        "              del box\n",
        "        except:\n",
        "              print(\"None coordinate/close to edge\")\n",
        "  return img_point, locations, labels"
      ],
      "execution_count": 4,
      "outputs": [
        {
          "output_type": "stream",
          "text": [
            "/usr/local/lib/python3.6/dist-packages/statsmodels/tools/_testing.py:19: FutureWarning: pandas.util.testing is deprecated. Use the functions in the public API at pandas.testing instead.\n",
            "  import pandas.util.testing as tm\n"
          ],
          "name": "stderr"
        }
      ]
    },
    {
      "cell_type": "code",
      "metadata": {
        "colab_type": "code",
        "id": "7o3VEujZiQZR",
        "colab": {}
      },
      "source": [
        "import scipy\n",
        "import numpy as np\n",
        "import pandas as pd\n",
        "\n",
        "import matplotlib.pyplot as plt\n",
        "import seaborn as sns\n",
        "sns.set()\n",
        "\n",
        "import fiona\n",
        "import rasterio\n",
        "from shapely import geometry\n",
        "from rasterio.mask import mask\n",
        "from tqdm import tqdm_notebook\n",
        "\n",
        "from sklearn.model_selection import train_test_split\n",
        "from sklearn.metrics import accuracy_score, f1_score, roc_curve, confusion_matrix\n",
        "import copy\n",
        "\n",
        "# from extractor_helper import extractor"
      ],
      "execution_count": 0,
      "outputs": []
    },
    {
      "cell_type": "markdown",
      "metadata": {
        "id": "3cQMAr2xR8gG",
        "colab_type": "text"
      },
      "source": [
        "# CNN"
      ]
    },
    {
      "cell_type": "code",
      "metadata": {
        "id": "18ynQIZoRWHR",
        "colab_type": "code",
        "colab": {}
      },
      "source": [
        "import torch\n",
        "import torch.nn as nn\n",
        "import torch.utils.data as torch_data\n",
        "from torchviz import make_dot, make_dot_from_trace\n",
        "import torchvision.transforms as transforms\n",
        "\n",
        "import albumentations as A\n",
        "from albumentations.pytorch import ToTensor"
      ],
      "execution_count": 0,
      "outputs": []
    },
    {
      "cell_type": "markdown",
      "metadata": {
        "id": "0Kmw5uESTdbK",
        "colab_type": "text"
      },
      "source": [
        "**Get data**"
      ]
    },
    {
      "cell_type": "code",
      "metadata": {
        "id": "Jjln7zdY7zqX",
        "colab_type": "code",
        "colab": {}
      },
      "source": [
        "SIZE = 7"
      ],
      "execution_count": 0,
      "outputs": []
    },
    {
      "cell_type": "code",
      "metadata": {
        "colab_type": "code",
        "id": "Gvvi4Z7xvxdh",
        "colab": {}
      },
      "source": [
        "test2_img = rasterio.open(\"/content/drive/My Drive/Weak_Learners_ML2020/Eval/test2/pp_2_sat_modified.tif\")\n",
        "test2_points = fiona.open(\"/content/drive/My Drive/Weak_Learners_ML2020/Eval/test2/points_2_modified_Copy.shp\", \"r\")\n",
        "\n",
        "test3_img = rasterio.open(\"/content/drive/My Drive/Weak_Learners_ML2020/Eval/test3/pp_3_sat_modified.tif\")\n",
        "test3_points = fiona.open(\"/content/drive/My Drive/Weak_Learners_ML2020/Eval/test3/targets_Copy.shp\", \"r\")\n",
        "\n",
        "test4_img = rasterio.open(\"/content/drive/My Drive/Weak_Learners_ML2020/Eval/test4/pp_4_sat_modified_spline.tif\")\n",
        "test4_points = fiona.open(\"/content/drive/My Drive/Weak_Learners_ML2020/Eval/test4/modified_points_Copy.shp\", \"r\")"
      ],
      "execution_count": 0,
      "outputs": []
    },
    {
      "cell_type": "code",
      "metadata": {
        "colab_type": "code",
        "id": "9SByHP79vxMW",
        "outputId": "0f34de41-1d54-43cd-9db1-1e5132815c36",
        "colab": {
          "base_uri": "https://localhost:8080/",
          "height": 595
        }
      },
      "source": [
        "patch2, coordinates2, labels2, = extractor(test2_img, test2_points, size=SIZE, normalize=True, labeling=True)\n",
        "patch3, coordinates3, labels3, = extractor(test3_img, test3_points, size=SIZE, normalize=True, labeling=True)\n",
        "patch4, coordinates4, labels4, = extractor(test4_img, test4_points, size=SIZE, normalize=True, labeling=True)"
      ],
      "execution_count": 9,
      "outputs": [
        {
          "output_type": "stream",
          "text": [
            "None coordinate/close to edge\n",
            "None coordinate/close to edge\n",
            "None coordinate/close to edge\n",
            "None coordinate/close to edge\n",
            "None coordinate/close to edge\n",
            "None coordinate/close to edge\n",
            "None coordinate/close to edge\n",
            "None coordinate/close to edge\n",
            "None coordinate/close to edge\n",
            "None coordinate/close to edge\n",
            "None coordinate/close to edge\n",
            "None coordinate/close to edge\n",
            "None coordinate/close to edge\n",
            "None coordinate/close to edge\n",
            "None coordinate/close to edge\n",
            "None coordinate/close to edge\n",
            "None coordinate/close to edge\n",
            "None coordinate/close to edge\n",
            "None coordinate/close to edge\n",
            "None coordinate/close to edge\n",
            "None coordinate/close to edge\n",
            "None coordinate/close to edge\n",
            "None coordinate/close to edge\n",
            "None coordinate/close to edge\n",
            "None coordinate/close to edge\n",
            "None coordinate/close to edge\n",
            "None coordinate/close to edge\n",
            "None coordinate/close to edge\n",
            "None coordinate/close to edge\n",
            "None coordinate/close to edge\n",
            "None coordinate/close to edge\n",
            "None coordinate/close to edge\n",
            "None coordinate/close to edge\n",
            "None coordinate/close to edge\n"
          ],
          "name": "stdout"
        }
      ]
    },
    {
      "cell_type": "code",
      "metadata": {
        "colab_type": "code",
        "id": "p4lqYUulvw9m",
        "outputId": "47f58c55-7e3e-43a6-97d6-7dedf88bb12b",
        "colab": {
          "base_uri": "https://localhost:8080/",
          "height": 34
        }
      },
      "source": [
        "# patch2,patch3, patch4 = np.array(patch2), np.array(patch3), np.array(patch4)\n",
        "# labels2, labels3, labels4 = np.array(labels2), np.array(labels3), np.array(labels4)\n",
        "# patch2, patch3, patch4 = np.moveaxis(patch2,3,1), np.moveaxis(patch3,3,1), np.moveaxis(patch4,3,1)\n",
        "\n",
        "patch = np.concatenate((patch2, patch3, patch4),axis=0)\n",
        "labels = np.concatenate((labels2,labels3,labels4),axis=0)\n",
        "print(patch.shape)"
      ],
      "execution_count": 10,
      "outputs": [
        {
          "output_type": "stream",
          "text": [
            "(1012, 14, 14, 3)\n"
          ],
          "name": "stdout"
        }
      ]
    },
    {
      "cell_type": "code",
      "metadata": {
        "id": "1V5-TIhHxVf2",
        "colab_type": "code",
        "colab": {}
      },
      "source": [
        "augmentation_pipeline = A.Compose(\n",
        "    [\n",
        "        A.HorizontalFlip(p = 0.5), # apply horizontal flip to 50% of images\n",
        "        A.OneOf(\n",
        "            [\n",
        "                # apply one of transforms to 50% of images\n",
        "                A.RandomContrast(),\n",
        "                A.RandomGamma(),\n",
        "                A.RandomBrightness(),\n",
        "                A.RandomRotate90(),\n",
        "                A.Transpose(),\n",
        "                A.ShiftScaleRotate(shift_limit=0.0625, scale_limit=0.50, rotate_limit=45, p=.75),\n",
        "                A.Blur(blur_limit=3),\n",
        "                A.OpticalDistortion(),\n",
        "                A.GridDistortion(num_steps=3),\n",
        "            ],\n",
        "            p = 0.5\n",
        "        ),\n",
        "        \n",
        "        ToTensor() # convert the image to PyTorch tensor\n",
        "    ],\n",
        "    p = 1\n",
        ")"
      ],
      "execution_count": 0,
      "outputs": []
    },
    {
      "cell_type": "code",
      "metadata": {
        "id": "FC4-gWh2XHYc",
        "colab_type": "code",
        "colab": {}
      },
      "source": [
        "class TreesData():\n",
        "  def __init__(self, X, y, aug_pipeline=None):\n",
        "    super().__init__()\n",
        "    self.X = X\n",
        "    self.y = torch.tensor(y, dtype=torch.long)\n",
        "    if aug_pipeline:\n",
        "        self.aug_pipeline = aug_pipeline\n",
        "    else:\n",
        "        self.aug_pipeline = A.Compose([ToTensor()], p=1)\n",
        "    \n",
        "  def __len__(self):\n",
        "    return self.X.shape[0]\n",
        "  \n",
        "  def __getitem__(self, idx):\n",
        "    augmented = self.aug_pipeline(image = self.X[idx])['image']\n",
        "    return augmented, self.y[idx]"
      ],
      "execution_count": 0,
      "outputs": []
    },
    {
      "cell_type": "code",
      "metadata": {
        "id": "ECcBUUtrwJT4",
        "colab_type": "code",
        "outputId": "5b56ac09-96aa-45d3-a4ab-a1f735f6f7e0",
        "colab": {
          "base_uri": "https://localhost:8080/",
          "height": 85
        }
      },
      "source": [
        "# Data proportions\n",
        "unique, counts = np.unique(labels, return_counts=True)\n",
        "for label, count in zip(unique, counts):\n",
        "    print(f'Label \"{label}\" has {count:3} instances, which is {count/len(labels):6.2%} of the total number of instances')"
      ],
      "execution_count": 13,
      "outputs": [
        {
          "output_type": "stream",
          "text": [
            "Label \"0\" has 518 instances, which is 51.19% of the total number of instances\n",
            "Label \"1\" has 315 instances, which is 31.13% of the total number of instances\n",
            "Label \"2\" has  42 instances, which is  4.15% of the total number of instances\n",
            "Label \"3\" has 137 instances, which is 13.54% of the total number of instances\n"
          ],
          "name": "stdout"
        }
      ]
    },
    {
      "cell_type": "code",
      "metadata": {
        "id": "Ph1dAP7cUIPC",
        "colab_type": "code",
        "colab": {}
      },
      "source": [
        "# We do stratified splitting to have balanced train and test set.\n",
        "x_train, x_test, y_train, y_test = train_test_split(patch, labels, test_size=.3, shuffle=True, stratify=labels, random_state=42)"
      ],
      "execution_count": 0,
      "outputs": []
    },
    {
      "cell_type": "code",
      "metadata": {
        "id": "GsRl2F0YXQZC",
        "colab_type": "code",
        "colab": {}
      },
      "source": [
        "train_data = TreesData(x_train, y_train, augmentation_pipeline)\n",
        "test_data = TreesData(x_test, y_test)"
      ],
      "execution_count": 0,
      "outputs": []
    },
    {
      "cell_type": "markdown",
      "metadata": {
        "id": "V2OkC-cuTfl9",
        "colab_type": "text"
      },
      "source": [
        "**Define model**"
      ]
    },
    {
      "cell_type": "code",
      "metadata": {
        "id": "h3adbdx98Ln8",
        "colab_type": "code",
        "colab": {}
      },
      "source": [
        "from math import ceil"
      ],
      "execution_count": 0,
      "outputs": []
    },
    {
      "cell_type": "code",
      "metadata": {
        "id": "bmT3DVOn9BqS",
        "colab_type": "code",
        "colab": {}
      },
      "source": [
        "LAST_LAYER_SIZE = ceil(ceil(SIZE*2/2)/2)\n",
        "\n",
        "CNN = lambda: nn.Sequential(\n",
        "  \n",
        "  nn.Conv2d(3,64,2, padding=1),\n",
        "  nn.MaxPool2d(2,2),\n",
        "  nn.ReLU(),\n",
        "  nn.Dropout(0.5),\n",
        "\n",
        "  nn.Conv2d(64,128,2, padding=1),\n",
        "  nn.MaxPool2d(2,2),\n",
        "  nn.ReLU(),\n",
        "  nn.Dropout(0.5),\n",
        "\n",
        "  nn.Flatten(),\n",
        "  nn.Linear(128*LAST_LAYER_SIZE*LAST_LAYER_SIZE, 4),\n",
        ")"
      ],
      "execution_count": 0,
      "outputs": []
    },
    {
      "cell_type": "markdown",
      "metadata": {
        "id": "Q7sZ2mLVT2u4",
        "colab_type": "text"
      },
      "source": [
        "**Train model**"
      ]
    },
    {
      "cell_type": "code",
      "metadata": {
        "id": "F3-PofELYAWn",
        "colab_type": "code",
        "colab": {}
      },
      "source": [
        "def train(epochs, net, criterion, optimizer,\n",
        "          train_loader, val_loader, scheduler=None,\n",
        "          verbose=True, save_dir=None):\n",
        "  \n",
        "  net.to(device)\n",
        "  train_loss_history = []\n",
        "  val_loss_history = []\n",
        "  val_loss_not_improved = 0\n",
        "  best_val_loss = 999\n",
        "  patience = 30\n",
        "  best_model = None\n",
        "  best_predicted_y_percent = None\n",
        "  best_predicted_y = None\n",
        "  best_true_y = None\n",
        "  for epoch in range(1,epochs+1):\n",
        "    net.train()\n",
        "    total_instances = 0\n",
        "    matched = 0\n",
        "    train_loss = 0\n",
        "    for X, y in train_loader:\n",
        "      X = X.to(device)\n",
        "      y = y.to(device)\n",
        "      pred = net(X)\n",
        "      loss = criterion(pred, y)\n",
        "      train_loss += loss.item()\n",
        "      optimizer.zero_grad()\n",
        "      loss.backward()\n",
        "      optimizer.step()\n",
        "\n",
        "      train_pred_arg = np.argmax(pred.cpu().detach(), axis=1)\n",
        "      matched += (train_pred_arg == y.cpu().detach()).sum()\n",
        "      total_instances += len(train_pred_arg)\n",
        "    train_acc = matched.item()/total_instances\n",
        "   \n",
        "    net.eval()\n",
        "    total_instances = 0\n",
        "    matched = 0\n",
        "    predicted_y = np.array([])\n",
        "    predicted_y_percent = np.array([])\n",
        "    true_y = np.array([])\n",
        "    val_loss = 0\n",
        "    for X, y in val_loader:\n",
        "      X = X.to(device)\n",
        "      y = y.to(device)\n",
        "      val_pred = net(X)\n",
        "      val_loss += criterion(val_pred, y).item()\n",
        "\n",
        "      predicted_y_percent = np.concatenate((predicted_y_percent, val_pred.cpu().detach()), axis=None)\n",
        "      predicted_y = np.concatenate((predicted_y, np.argmax(val_pred.cpu().detach(), axis=1)), axis=None)\n",
        "      true_y = np.concatenate((true_y, y.cpu().detach()), axis=None)\n",
        "    \n",
        "    train_loss /= len(train_loader)\n",
        "    val_loss /= len(val_loader)\n",
        "    val_acc = (predicted_y == true_y).sum()/len(true_y)\n",
        "\n",
        "    train_loss_history.append(train_loss)\n",
        "    val_loss_history.append(val_loss)\n",
        "  \n",
        "    if scheduler is not None:\n",
        "      schduler.step()\n",
        "    \n",
        "      \n",
        "    if best_val_loss > val_loss:\n",
        "      print(f'Validation loss decreased {best_val_loss:.6f} -> {val_loss:.6f}')\n",
        "      best_val_loss = val_loss\n",
        "      best_model = copy.deepcopy(net)\n",
        "      best_predicted_y_percent = predicted_y_percent\n",
        "      best_predicted_y = predicted_y\n",
        "      best_true_y = true_y\n",
        "      val_loss_not_improved = 0\n",
        "    else:\n",
        "      val_loss_not_improved += 1\n",
        "    \n",
        "    if verbose:\n",
        "      print('Epoch {:3}/{} || Loss:  Train {:.6f} | Validation {:.6f} || Accuracy: Train {:.2%} | Validation {:.2%} || F1-score {:.2f} || Not improved {} out of {}'\\\n",
        "            .format(epoch, epochs, train_loss, val_loss, train_acc, val_acc, f1_score(true_y, predicted_y, average='macro'), val_loss_not_improved, patience))\n",
        "\n",
        "    if val_loss_not_improved == patience:\n",
        "      break\n",
        "\n",
        "  net = best_model\n",
        "  return best_predicted_y, best_predicted_y_percent, best_true_y, train_loss_history, val_loss_history"
      ],
      "execution_count": 0,
      "outputs": []
    },
    {
      "cell_type": "code",
      "metadata": {
        "id": "fTB3kDymTt2A",
        "colab_type": "code",
        "outputId": "490fdac5-18cd-4360-eb6d-481dc95de90c",
        "colab": {
          "base_uri": "https://localhost:8080/",
          "height": 255
        }
      },
      "source": [
        "device = torch.device('cuda:0' if torch.cuda.is_available() else 'cpu')\n",
        "net = CNN()\n",
        "weights = torch.tensor(counts.max()/counts, dtype=torch.float32).to(device)\n",
        "criterion = nn.CrossEntropyLoss(weight=weights)\n",
        "optimizer = torch.optim.Adam(net.parameters())\n",
        "scheduler = None\n",
        "train_loader = torch_data.DataLoader(train_data, batch_size=50, shuffle=True)\n",
        "val_loader = torch_data.DataLoader(test_data, batch_size=10, shuffle=True)\n",
        "\n",
        "print('\\t\\t\\t=== MODEL ===\\n\\t\\t\\t=============')\n",
        "print(net)"
      ],
      "execution_count": 19,
      "outputs": [
        {
          "output_type": "stream",
          "text": [
            "\t\t\t=== MODEL ===\n",
            "\t\t\t=============\n",
            "Sequential(\n",
            "  (0): Conv2d(3, 64, kernel_size=(2, 2), stride=(1, 1), padding=(1, 1))\n",
            "  (1): MaxPool2d(kernel_size=2, stride=2, padding=0, dilation=1, ceil_mode=False)\n",
            "  (2): ReLU()\n",
            "  (3): Dropout(p=0.5, inplace=False)\n",
            "  (4): Conv2d(64, 128, kernel_size=(2, 2), stride=(1, 1), padding=(1, 1))\n",
            "  (5): MaxPool2d(kernel_size=2, stride=2, padding=0, dilation=1, ceil_mode=False)\n",
            "  (6): ReLU()\n",
            "  (7): Dropout(p=0.5, inplace=False)\n",
            "  (8): Flatten()\n",
            "  (9): Linear(in_features=2048, out_features=4, bias=True)\n",
            ")\n"
          ],
          "name": "stdout"
        }
      ]
    },
    {
      "cell_type": "code",
      "metadata": {
        "id": "fEYlBa-24hDw",
        "colab_type": "code",
        "outputId": "8fb6adeb-d7e8-4f78-d69d-73f6c20918c8",
        "colab": {
          "base_uri": "https://localhost:8080/",
          "height": 894
        }
      },
      "source": [
        "# GRAPH\n",
        "for X, y in val_loader:\n",
        "    pass\n",
        "make_dot(net(X[:1]))"
      ],
      "execution_count": 20,
      "outputs": [
        {
          "output_type": "execute_result",
          "data": {
            "text/plain": [
              "<graphviz.dot.Digraph at 0x7f07f20f2a20>"
            ],
            "image/svg+xml": "<?xml version=\"1.0\" encoding=\"UTF-8\" standalone=\"no\"?>\n<!DOCTYPE svg PUBLIC \"-//W3C//DTD SVG 1.1//EN\"\n \"http://www.w3.org/Graphics/SVG/1.1/DTD/svg11.dtd\">\n<!-- Generated by graphviz version 2.40.1 (20161225.0304)\n -->\n<!-- Title: %3 Pages: 1 -->\n<svg width=\"342pt\" height=\"655pt\"\n viewBox=\"0.00 0.00 341.50 655.00\" xmlns=\"http://www.w3.org/2000/svg\" xmlns:xlink=\"http://www.w3.org/1999/xlink\">\n<g id=\"graph0\" class=\"graph\" transform=\"scale(1 1) rotate(0) translate(4 651)\">\n<title>%3</title>\n<polygon fill=\"#ffffff\" stroke=\"transparent\" points=\"-4,4 -4,-651 337.5,-651 337.5,4 -4,4\"/>\n<!-- 139672102579728 -->\n<g id=\"node1\" class=\"node\">\n<title>139672102579728</title>\n<polygon fill=\"#caff70\" stroke=\"#000000\" points=\"249,-21 145,-21 145,0 249,0 249,-21\"/>\n<text text-anchor=\"middle\" x=\"197\" y=\"-7.4\" font-family=\"Times,serif\" font-size=\"12.00\" fill=\"#000000\">AddmmBackward</text>\n</g>\n<!-- 139672102578832 -->\n<g id=\"node2\" class=\"node\">\n<title>139672102578832</title>\n<polygon fill=\"#add8e6\" stroke=\"#000000\" points=\"133,-92 79,-92 79,-57 133,-57 133,-92\"/>\n<text text-anchor=\"middle\" x=\"106\" y=\"-64.4\" font-family=\"Times,serif\" font-size=\"12.00\" fill=\"#000000\"> (4)</text>\n</g>\n<!-- 139672102578832&#45;&gt;139672102579728 -->\n<g id=\"edge1\" class=\"edge\">\n<title>139672102578832&#45;&gt;139672102579728</title>\n<path fill=\"none\" stroke=\"#000000\" d=\"M131.3486,-56.6724C144.5947,-47.3565 160.6963,-36.0322 173.6383,-26.9302\"/>\n<polygon fill=\"#000000\" stroke=\"#000000\" points=\"175.8532,-29.6514 182.0194,-21.0358 171.8263,-23.9257 175.8532,-29.6514\"/>\n</g>\n<!-- 139672102578384 -->\n<g id=\"node3\" class=\"node\">\n<title>139672102578384</title>\n<polygon fill=\"#d3d3d3\" stroke=\"#000000\" points=\"242.5,-85 151.5,-85 151.5,-64 242.5,-64 242.5,-85\"/>\n<text text-anchor=\"middle\" x=\"197\" y=\"-71.4\" font-family=\"Times,serif\" font-size=\"12.00\" fill=\"#000000\">ViewBackward</text>\n</g>\n<!-- 139672102578384&#45;&gt;139672102579728 -->\n<g id=\"edge2\" class=\"edge\">\n<title>139672102578384&#45;&gt;139672102579728</title>\n<path fill=\"none\" stroke=\"#000000\" d=\"M197,-63.9317C197,-55.0913 197,-42.2122 197,-31.3135\"/>\n<polygon fill=\"#000000\" stroke=\"#000000\" points=\"200.5001,-31.2979 197,-21.2979 193.5001,-31.2979 200.5001,-31.2979\"/>\n</g>\n<!-- 139672102579840 -->\n<g id=\"node4\" class=\"node\">\n<title>139672102579840</title>\n<polygon fill=\"#d3d3d3\" stroke=\"#000000\" points=\"242.5,-156 151.5,-156 151.5,-135 242.5,-135 242.5,-156\"/>\n<text text-anchor=\"middle\" x=\"197\" y=\"-142.4\" font-family=\"Times,serif\" font-size=\"12.00\" fill=\"#000000\">MulBackward0</text>\n</g>\n<!-- 139672102579840&#45;&gt;139672102578384 -->\n<g id=\"edge3\" class=\"edge\">\n<title>139672102579840&#45;&gt;139672102578384</title>\n<path fill=\"none\" stroke=\"#000000\" d=\"M197,-134.7166C197,-124.3953 197,-108.5401 197,-95.6896\"/>\n<polygon fill=\"#000000\" stroke=\"#000000\" points=\"200.5001,-95.3848 197,-85.3849 193.5001,-95.3849 200.5001,-95.3848\"/>\n</g>\n<!-- 139672061961664 -->\n<g id=\"node5\" class=\"node\">\n<title>139672061961664</title>\n<polygon fill=\"#d3d3d3\" stroke=\"#000000\" points=\"244,-220 150,-220 150,-199 244,-199 244,-220\"/>\n<text text-anchor=\"middle\" x=\"197\" y=\"-206.4\" font-family=\"Times,serif\" font-size=\"12.00\" fill=\"#000000\">ReluBackward0</text>\n</g>\n<!-- 139672061961664&#45;&gt;139672102579840 -->\n<g id=\"edge4\" class=\"edge\">\n<title>139672061961664&#45;&gt;139672102579840</title>\n<path fill=\"none\" stroke=\"#000000\" d=\"M197,-198.9317C197,-190.0913 197,-177.2122 197,-166.3135\"/>\n<polygon fill=\"#000000\" stroke=\"#000000\" points=\"200.5001,-166.2979 197,-156.2979 193.5001,-166.2979 200.5001,-166.2979\"/>\n</g>\n<!-- 139672061961160 -->\n<g id=\"node6\" class=\"node\">\n<title>139672061961160</title>\n<polygon fill=\"#d3d3d3\" stroke=\"#000000\" points=\"287,-277 107,-277 107,-256 287,-256 287,-277\"/>\n<text text-anchor=\"middle\" x=\"197\" y=\"-263.4\" font-family=\"Times,serif\" font-size=\"12.00\" fill=\"#000000\">MaxPool2DWithIndicesBackward</text>\n</g>\n<!-- 139672061961160&#45;&gt;139672061961664 -->\n<g id=\"edge5\" class=\"edge\">\n<title>139672061961160&#45;&gt;139672061961664</title>\n<path fill=\"none\" stroke=\"#000000\" d=\"M197,-255.7787C197,-248.6134 197,-238.9517 197,-230.3097\"/>\n<polygon fill=\"#000000\" stroke=\"#000000\" points=\"200.5001,-230.1732 197,-220.1732 193.5001,-230.1732 200.5001,-230.1732\"/>\n</g>\n<!-- 139672061961048 -->\n<g id=\"node7\" class=\"node\">\n<title>139672061961048</title>\n<polygon fill=\"#d3d3d3\" stroke=\"#000000\" points=\"278,-334 116,-334 116,-313 278,-313 278,-334\"/>\n<text text-anchor=\"middle\" x=\"197\" y=\"-320.4\" font-family=\"Times,serif\" font-size=\"12.00\" fill=\"#000000\">MkldnnConvolutionBackward</text>\n</g>\n<!-- 139672061961048&#45;&gt;139672061961160 -->\n<g id=\"edge6\" class=\"edge\">\n<title>139672061961048&#45;&gt;139672061961160</title>\n<path fill=\"none\" stroke=\"#000000\" d=\"M197,-312.7787C197,-305.6134 197,-295.9517 197,-287.3097\"/>\n<polygon fill=\"#000000\" stroke=\"#000000\" points=\"200.5001,-287.1732 197,-277.1732 193.5001,-287.1732 200.5001,-287.1732\"/>\n</g>\n<!-- 139672061961328 -->\n<g id=\"node8\" class=\"node\">\n<title>139672061961328</title>\n<polygon fill=\"#d3d3d3\" stroke=\"#000000\" points=\"135.5,-398 44.5,-398 44.5,-377 135.5,-377 135.5,-398\"/>\n<text text-anchor=\"middle\" x=\"90\" y=\"-384.4\" font-family=\"Times,serif\" font-size=\"12.00\" fill=\"#000000\">MulBackward0</text>\n</g>\n<!-- 139672061961328&#45;&gt;139672061961048 -->\n<g id=\"edge7\" class=\"edge\">\n<title>139672061961328&#45;&gt;139672061961048</title>\n<path fill=\"none\" stroke=\"#000000\" d=\"M107.6689,-376.9317C124.7838,-366.6948 150.9528,-351.0422 170.5504,-339.3203\"/>\n<polygon fill=\"#000000\" stroke=\"#000000\" points=\"172.5195,-342.2209 179.3049,-334.084 168.9262,-336.2135 172.5195,-342.2209\"/>\n</g>\n<!-- 139672061962392 -->\n<g id=\"node9\" class=\"node\">\n<title>139672061962392</title>\n<polygon fill=\"#d3d3d3\" stroke=\"#000000\" points=\"137,-462 43,-462 43,-441 137,-441 137,-462\"/>\n<text text-anchor=\"middle\" x=\"90\" y=\"-448.4\" font-family=\"Times,serif\" font-size=\"12.00\" fill=\"#000000\">ReluBackward0</text>\n</g>\n<!-- 139672061962392&#45;&gt;139672061961328 -->\n<g id=\"edge8\" class=\"edge\">\n<title>139672061962392&#45;&gt;139672061961328</title>\n<path fill=\"none\" stroke=\"#000000\" d=\"M90,-440.9317C90,-432.0913 90,-419.2122 90,-408.3135\"/>\n<polygon fill=\"#000000\" stroke=\"#000000\" points=\"93.5001,-408.2979 90,-398.2979 86.5001,-408.2979 93.5001,-408.2979\"/>\n</g>\n<!-- 139672061962336 -->\n<g id=\"node10\" class=\"node\">\n<title>139672061962336</title>\n<polygon fill=\"#d3d3d3\" stroke=\"#000000\" points=\"180,-519 0,-519 0,-498 180,-498 180,-519\"/>\n<text text-anchor=\"middle\" x=\"90\" y=\"-505.4\" font-family=\"Times,serif\" font-size=\"12.00\" fill=\"#000000\">MaxPool2DWithIndicesBackward</text>\n</g>\n<!-- 139672061962336&#45;&gt;139672061962392 -->\n<g id=\"edge9\" class=\"edge\">\n<title>139672061962336&#45;&gt;139672061962392</title>\n<path fill=\"none\" stroke=\"#000000\" d=\"M90,-497.7787C90,-490.6134 90,-480.9517 90,-472.3097\"/>\n<polygon fill=\"#000000\" stroke=\"#000000\" points=\"93.5001,-472.1732 90,-462.1732 86.5001,-472.1732 93.5001,-472.1732\"/>\n</g>\n<!-- 139672061962000 -->\n<g id=\"node11\" class=\"node\">\n<title>139672061962000</title>\n<polygon fill=\"#d3d3d3\" stroke=\"#000000\" points=\"171,-576 9,-576 9,-555 171,-555 171,-576\"/>\n<text text-anchor=\"middle\" x=\"90\" y=\"-562.4\" font-family=\"Times,serif\" font-size=\"12.00\" fill=\"#000000\">MkldnnConvolutionBackward</text>\n</g>\n<!-- 139672061962000&#45;&gt;139672061962336 -->\n<g id=\"edge10\" class=\"edge\">\n<title>139672061962000&#45;&gt;139672061962336</title>\n<path fill=\"none\" stroke=\"#000000\" d=\"M90,-554.7787C90,-547.6134 90,-537.9517 90,-529.3097\"/>\n<polygon fill=\"#000000\" stroke=\"#000000\" points=\"93.5001,-529.1732 90,-519.1732 86.5001,-529.1732 93.5001,-529.1732\"/>\n</g>\n<!-- 139672061961888 -->\n<g id=\"node12\" class=\"node\">\n<title>139672061961888</title>\n<polygon fill=\"#add8e6\" stroke=\"#000000\" points=\"86.5,-647 11.5,-647 11.5,-612 86.5,-612 86.5,-647\"/>\n<text text-anchor=\"middle\" x=\"49\" y=\"-619.4\" font-family=\"Times,serif\" font-size=\"12.00\" fill=\"#000000\"> (64, 3, 2, 2)</text>\n</g>\n<!-- 139672061961888&#45;&gt;139672061962000 -->\n<g id=\"edge11\" class=\"edge\">\n<title>139672061961888&#45;&gt;139672061962000</title>\n<path fill=\"none\" stroke=\"#000000\" d=\"M60.4208,-611.6724C65.7802,-603.3066 72.1771,-593.3212 77.6488,-584.7799\"/>\n<polygon fill=\"#000000\" stroke=\"#000000\" points=\"80.6831,-586.5318 83.1303,-576.2234 74.7889,-582.7558 80.6831,-586.5318\"/>\n</g>\n<!-- 139672061962504 -->\n<g id=\"node13\" class=\"node\">\n<title>139672061962504</title>\n<polygon fill=\"#add8e6\" stroke=\"#000000\" points=\"159,-647 105,-647 105,-612 159,-612 159,-647\"/>\n<text text-anchor=\"middle\" x=\"132\" y=\"-619.4\" font-family=\"Times,serif\" font-size=\"12.00\" fill=\"#000000\"> (64)</text>\n</g>\n<!-- 139672061962504&#45;&gt;139672061962000 -->\n<g id=\"edge12\" class=\"edge\">\n<title>139672061962504&#45;&gt;139672061962000</title>\n<path fill=\"none\" stroke=\"#000000\" d=\"M120.3007,-611.6724C114.8105,-603.3066 108.2576,-593.3212 102.6524,-584.7799\"/>\n<polygon fill=\"#000000\" stroke=\"#000000\" points=\"105.45,-582.6636 97.0373,-576.2234 99.5977,-586.5042 105.45,-582.6636\"/>\n</g>\n<!-- 139672061960936 -->\n<g id=\"node14\" class=\"node\">\n<title>139672061960936</title>\n<polygon fill=\"#add8e6\" stroke=\"#000000\" points=\"240.5,-405 153.5,-405 153.5,-370 240.5,-370 240.5,-405\"/>\n<text text-anchor=\"middle\" x=\"197\" y=\"-377.4\" font-family=\"Times,serif\" font-size=\"12.00\" fill=\"#000000\"> (128, 64, 2, 2)</text>\n</g>\n<!-- 139672061960936&#45;&gt;139672061961048 -->\n<g id=\"edge13\" class=\"edge\">\n<title>139672061960936&#45;&gt;139672061961048</title>\n<path fill=\"none\" stroke=\"#000000\" d=\"M197,-369.6724C197,-361.8405 197,-352.5893 197,-344.4323\"/>\n<polygon fill=\"#000000\" stroke=\"#000000\" points=\"200.5001,-344.2234 197,-334.2234 193.5001,-344.2235 200.5001,-344.2234\"/>\n</g>\n<!-- 139672061961440 -->\n<g id=\"node15\" class=\"node\">\n<title>139672061961440</title>\n<polygon fill=\"#add8e6\" stroke=\"#000000\" points=\"313,-405 259,-405 259,-370 313,-370 313,-405\"/>\n<text text-anchor=\"middle\" x=\"286\" y=\"-377.4\" font-family=\"Times,serif\" font-size=\"12.00\" fill=\"#000000\"> (128)</text>\n</g>\n<!-- 139672061961440&#45;&gt;139672061961048 -->\n<g id=\"edge14\" class=\"edge\">\n<title>139672061961440&#45;&gt;139672061961048</title>\n<path fill=\"none\" stroke=\"#000000\" d=\"M261.2085,-369.6724C248.2535,-360.3565 232.5058,-349.0322 219.8482,-339.9302\"/>\n<polygon fill=\"#000000\" stroke=\"#000000\" points=\"221.8136,-337.0325 211.6514,-334.0358 217.7268,-342.7157 221.8136,-337.0325\"/>\n</g>\n<!-- 139672102578944 -->\n<g id=\"node16\" class=\"node\">\n<title>139672102578944</title>\n<polygon fill=\"#d3d3d3\" stroke=\"#000000\" points=\"333.5,-85 260.5,-85 260.5,-64 333.5,-64 333.5,-85\"/>\n<text text-anchor=\"middle\" x=\"297\" y=\"-71.4\" font-family=\"Times,serif\" font-size=\"12.00\" fill=\"#000000\">TBackward</text>\n</g>\n<!-- 139672102578944&#45;&gt;139672102579728 -->\n<g id=\"edge15\" class=\"edge\">\n<title>139672102578944&#45;&gt;139672102579728</title>\n<path fill=\"none\" stroke=\"#000000\" d=\"M280.487,-63.9317C264.5642,-53.7411 240.2559,-38.1838 221.9683,-26.4797\"/>\n<polygon fill=\"#000000\" stroke=\"#000000\" points=\"223.8469,-23.5266 213.5375,-21.084 220.0735,-29.4225 223.8469,-23.5266\"/>\n</g>\n<!-- 139672102578496 -->\n<g id=\"node17\" class=\"node\">\n<title>139672102578496</title>\n<polygon fill=\"#add8e6\" stroke=\"#000000\" points=\"328.5,-163 265.5,-163 265.5,-128 328.5,-128 328.5,-163\"/>\n<text text-anchor=\"middle\" x=\"297\" y=\"-135.4\" font-family=\"Times,serif\" font-size=\"12.00\" fill=\"#000000\"> (4, 2048)</text>\n</g>\n<!-- 139672102578496&#45;&gt;139672102578944 -->\n<g id=\"edge16\" class=\"edge\">\n<title>139672102578496&#45;&gt;139672102578944</title>\n<path fill=\"none\" stroke=\"#000000\" d=\"M297,-127.9494C297,-118.058 297,-105.6435 297,-95.2693\"/>\n<polygon fill=\"#000000\" stroke=\"#000000\" points=\"300.5001,-95.0288 297,-85.0288 293.5001,-95.0289 300.5001,-95.0288\"/>\n</g>\n</g>\n</svg>\n"
          },
          "metadata": {
            "tags": []
          },
          "execution_count": 20
        }
      ]
    },
    {
      "cell_type": "code",
      "metadata": {
        "id": "QVfKM6eP6NBG",
        "colab_type": "code",
        "outputId": "ac885154-ca01-4865-ffdc-946805335a38",
        "colab": {
          "base_uri": "https://localhost:8080/",
          "height": 1000
        }
      },
      "source": [
        "epochs = 500\n",
        "predicted_y, predicted_y_percent, true_y, train_loss_history, val_loss_history = train(epochs, net, criterion, optimizer, train_loader, val_loader, scheduler)\n",
        "predicted_y_percent = torch.softmax(torch.tensor(predicted_y_percent.reshape(-1, 4)), axis=1).detach().numpy()"
      ],
      "execution_count": 21,
      "outputs": [
        {
          "output_type": "stream",
          "text": [
            "Validation loss decreased 999.000000 -> 1.277239\n",
            "Epoch   1/500 || Loss:  Train 1.332278 | Validation 1.277239 || Accuracy: Train 32.20% | Validation 35.20% || F1-score 0.21 || Not improved 0 out of 30\n",
            "Validation loss decreased 1.277239 -> 1.205921\n",
            "Epoch   2/500 || Loss:  Train 1.253805 | Validation 1.205921 || Accuracy: Train 38.84% | Validation 25.99% || F1-score 0.29 || Not improved 0 out of 30\n",
            "Validation loss decreased 1.205921 -> 1.148227\n",
            "Epoch   3/500 || Loss:  Train 1.156676 | Validation 1.148227 || Accuracy: Train 29.10% | Validation 23.03% || F1-score 0.22 || Not improved 0 out of 30\n",
            "Validation loss decreased 1.148227 -> 1.057754\n",
            "Epoch   4/500 || Loss:  Train 1.074587 | Validation 1.057754 || Accuracy: Train 25.28% | Validation 27.30% || F1-score 0.25 || Not improved 0 out of 30\n",
            "Validation loss decreased 1.057754 -> 1.001215\n",
            "Epoch   5/500 || Loss:  Train 1.047488 | Validation 1.001215 || Accuracy: Train 31.50% | Validation 39.14% || F1-score 0.36 || Not improved 0 out of 30\n",
            "Validation loss decreased 1.001215 -> 0.988099\n",
            "Epoch   6/500 || Loss:  Train 1.003332 | Validation 0.988099 || Accuracy: Train 41.38% | Validation 24.01% || F1-score 0.26 || Not improved 0 out of 30\n",
            "Validation loss decreased 0.988099 -> 0.966019\n",
            "Epoch   7/500 || Loss:  Train 0.997959 | Validation 0.966019 || Accuracy: Train 33.47% | Validation 42.76% || F1-score 0.43 || Not improved 0 out of 30\n",
            "Validation loss decreased 0.966019 -> 0.913369\n",
            "Epoch   8/500 || Loss:  Train 0.969435 | Validation 0.913369 || Accuracy: Train 31.21% | Validation 40.46% || F1-score 0.42 || Not improved 0 out of 30\n",
            "Epoch   9/500 || Loss:  Train 0.932778 | Validation 0.917981 || Accuracy: Train 50.71% | Validation 40.79% || F1-score 0.42 || Not improved 1 out of 30\n",
            "Epoch  10/500 || Loss:  Train 0.918218 | Validation 0.936467 || Accuracy: Train 37.43% | Validation 34.87% || F1-score 0.35 || Not improved 2 out of 30\n",
            "Validation loss decreased 0.913369 -> 0.889146\n",
            "Epoch  11/500 || Loss:  Train 0.953968 | Validation 0.889146 || Accuracy: Train 33.76% | Validation 36.18% || F1-score 0.38 || Not improved 0 out of 30\n",
            "Validation loss decreased 0.889146 -> 0.878558\n",
            "Epoch  12/500 || Loss:  Train 0.904815 | Validation 0.878558 || Accuracy: Train 36.58% | Validation 43.75% || F1-score 0.44 || Not improved 0 out of 30\n",
            "Epoch  13/500 || Loss:  Train 0.890518 | Validation 0.892944 || Accuracy: Train 41.38% | Validation 38.49% || F1-score 0.42 || Not improved 1 out of 30\n",
            "Validation loss decreased 0.878558 -> 0.863483\n",
            "Epoch  14/500 || Loss:  Train 0.873800 | Validation 0.863483 || Accuracy: Train 39.41% | Validation 37.50% || F1-score 0.42 || Not improved 0 out of 30\n",
            "Epoch  15/500 || Loss:  Train 0.906217 | Validation 0.906700 || Accuracy: Train 44.63% | Validation 39.14% || F1-score 0.43 || Not improved 1 out of 30\n",
            "Epoch  16/500 || Loss:  Train 0.882377 | Validation 0.876473 || Accuracy: Train 38.14% | Validation 43.75% || F1-score 0.46 || Not improved 2 out of 30\n",
            "Epoch  17/500 || Loss:  Train 0.885169 | Validation 0.866998 || Accuracy: Train 40.40% | Validation 43.09% || F1-score 0.46 || Not improved 3 out of 30\n",
            "Validation loss decreased 0.863483 -> 0.851858\n",
            "Epoch  18/500 || Loss:  Train 0.871322 | Validation 0.851858 || Accuracy: Train 44.92% | Validation 43.42% || F1-score 0.46 || Not improved 0 out of 30\n",
            "Epoch  19/500 || Loss:  Train 0.890839 | Validation 0.887934 || Accuracy: Train 38.98% | Validation 46.38% || F1-score 0.48 || Not improved 1 out of 30\n",
            "Epoch  20/500 || Loss:  Train 0.866007 | Validation 0.867558 || Accuracy: Train 42.23% | Validation 43.42% || F1-score 0.47 || Not improved 2 out of 30\n",
            "Epoch  21/500 || Loss:  Train 0.854808 | Validation 0.855614 || Accuracy: Train 54.38% | Validation 46.71% || F1-score 0.48 || Not improved 3 out of 30\n",
            "Epoch  22/500 || Loss:  Train 0.855623 | Validation 0.856200 || Accuracy: Train 40.25% | Validation 44.41% || F1-score 0.47 || Not improved 4 out of 30\n",
            "Epoch  23/500 || Loss:  Train 0.838272 | Validation 0.859720 || Accuracy: Train 45.76% | Validation 45.07% || F1-score 0.47 || Not improved 5 out of 30\n",
            "Epoch  24/500 || Loss:  Train 0.863860 | Validation 0.854803 || Accuracy: Train 44.77% | Validation 43.75% || F1-score 0.47 || Not improved 6 out of 30\n",
            "Epoch  25/500 || Loss:  Train 0.820695 | Validation 0.861373 || Accuracy: Train 46.19% | Validation 43.09% || F1-score 0.46 || Not improved 7 out of 30\n",
            "Epoch  26/500 || Loss:  Train 0.845493 | Validation 0.894378 || Accuracy: Train 42.94% | Validation 40.46% || F1-score 0.44 || Not improved 8 out of 30\n",
            "Validation loss decreased 0.851858 -> 0.816544\n",
            "Epoch  27/500 || Loss:  Train 0.869645 | Validation 0.816544 || Accuracy: Train 44.21% | Validation 46.05% || F1-score 0.47 || Not improved 0 out of 30\n",
            "Epoch  28/500 || Loss:  Train 0.834236 | Validation 0.851556 || Accuracy: Train 45.34% | Validation 45.39% || F1-score 0.47 || Not improved 1 out of 30\n",
            "Epoch  29/500 || Loss:  Train 0.845457 | Validation 0.829975 || Accuracy: Train 50.00% | Validation 45.39% || F1-score 0.48 || Not improved 2 out of 30\n",
            "Epoch  30/500 || Loss:  Train 0.867163 | Validation 0.844720 || Accuracy: Train 50.56% | Validation 45.39% || F1-score 0.48 || Not improved 3 out of 30\n",
            "Epoch  31/500 || Loss:  Train 0.874849 | Validation 0.839982 || Accuracy: Train 40.82% | Validation 47.70% || F1-score 0.49 || Not improved 4 out of 30\n",
            "Epoch  32/500 || Loss:  Train 0.856655 | Validation 0.844572 || Accuracy: Train 50.14% | Validation 45.39% || F1-score 0.48 || Not improved 5 out of 30\n",
            "Epoch  33/500 || Loss:  Train 0.845559 | Validation 0.823171 || Accuracy: Train 46.19% | Validation 45.72% || F1-score 0.48 || Not improved 6 out of 30\n",
            "Epoch  34/500 || Loss:  Train 0.878880 | Validation 0.835346 || Accuracy: Train 46.61% | Validation 45.39% || F1-score 0.48 || Not improved 7 out of 30\n",
            "Epoch  35/500 || Loss:  Train 0.863524 | Validation 0.839533 || Accuracy: Train 44.77% | Validation 48.36% || F1-score 0.49 || Not improved 8 out of 30\n",
            "Epoch  36/500 || Loss:  Train 0.809650 | Validation 0.856999 || Accuracy: Train 45.20% | Validation 47.70% || F1-score 0.50 || Not improved 9 out of 30\n",
            "Epoch  37/500 || Loss:  Train 0.833217 | Validation 0.865944 || Accuracy: Train 50.28% | Validation 47.04% || F1-score 0.50 || Not improved 10 out of 30\n",
            "Epoch  38/500 || Loss:  Train 0.830078 | Validation 0.861855 || Accuracy: Train 45.20% | Validation 46.05% || F1-score 0.48 || Not improved 11 out of 30\n",
            "Epoch  39/500 || Loss:  Train 0.817249 | Validation 0.833593 || Accuracy: Train 49.44% | Validation 51.32% || F1-score 0.52 || Not improved 12 out of 30\n",
            "Epoch  40/500 || Loss:  Train 0.817541 | Validation 0.816702 || Accuracy: Train 49.86% | Validation 49.34% || F1-score 0.50 || Not improved 13 out of 30\n",
            "Validation loss decreased 0.816544 -> 0.808770\n",
            "Epoch  41/500 || Loss:  Train 0.836712 | Validation 0.808770 || Accuracy: Train 49.44% | Validation 48.03% || F1-score 0.50 || Not improved 0 out of 30\n",
            "Epoch  42/500 || Loss:  Train 0.772144 | Validation 0.850349 || Accuracy: Train 46.75% | Validation 49.01% || F1-score 0.50 || Not improved 1 out of 30\n",
            "Epoch  43/500 || Loss:  Train 0.812019 | Validation 0.809268 || Accuracy: Train 54.38% | Validation 50.66% || F1-score 0.52 || Not improved 2 out of 30\n",
            "Epoch  44/500 || Loss:  Train 0.813479 | Validation 0.815693 || Accuracy: Train 45.76% | Validation 48.36% || F1-score 0.50 || Not improved 3 out of 30\n",
            "Validation loss decreased 0.808770 -> 0.796448\n",
            "Epoch  45/500 || Loss:  Train 0.815674 | Validation 0.796448 || Accuracy: Train 51.27% | Validation 55.59% || F1-score 0.55 || Not improved 0 out of 30\n",
            "Epoch  46/500 || Loss:  Train 0.801065 | Validation 0.834195 || Accuracy: Train 54.10% | Validation 50.33% || F1-score 0.50 || Not improved 1 out of 30\n",
            "Epoch  47/500 || Loss:  Train 0.826664 | Validation 0.841021 || Accuracy: Train 54.52% | Validation 51.97% || F1-score 0.52 || Not improved 2 out of 30\n",
            "Epoch  48/500 || Loss:  Train 0.794824 | Validation 0.819965 || Accuracy: Train 54.24% | Validation 52.96% || F1-score 0.53 || Not improved 3 out of 30\n",
            "Epoch  49/500 || Loss:  Train 0.802468 | Validation 0.823355 || Accuracy: Train 47.03% | Validation 53.62% || F1-score 0.53 || Not improved 4 out of 30\n",
            "Epoch  50/500 || Loss:  Train 0.823946 | Validation 0.801321 || Accuracy: Train 53.39% | Validation 55.59% || F1-score 0.54 || Not improved 5 out of 30\n",
            "Epoch  51/500 || Loss:  Train 0.775773 | Validation 0.819645 || Accuracy: Train 53.95% | Validation 51.97% || F1-score 0.52 || Not improved 6 out of 30\n",
            "Epoch  52/500 || Loss:  Train 0.820939 | Validation 0.807754 || Accuracy: Train 50.71% | Validation 51.64% || F1-score 0.52 || Not improved 7 out of 30\n",
            "Epoch  53/500 || Loss:  Train 0.790251 | Validation 0.798069 || Accuracy: Train 51.69% | Validation 53.62% || F1-score 0.53 || Not improved 8 out of 30\n",
            "Epoch  54/500 || Loss:  Train 0.761020 | Validation 0.797600 || Accuracy: Train 50.85% | Validation 53.62% || F1-score 0.54 || Not improved 9 out of 30\n",
            "Epoch  55/500 || Loss:  Train 0.790482 | Validation 0.832029 || Accuracy: Train 53.25% | Validation 55.59% || F1-score 0.55 || Not improved 10 out of 30\n",
            "Epoch  56/500 || Loss:  Train 0.803309 | Validation 0.823372 || Accuracy: Train 54.38% | Validation 53.62% || F1-score 0.53 || Not improved 11 out of 30\n",
            "Epoch  57/500 || Loss:  Train 0.772756 | Validation 0.834428 || Accuracy: Train 50.28% | Validation 51.32% || F1-score 0.52 || Not improved 12 out of 30\n",
            "Epoch  58/500 || Loss:  Train 0.759780 | Validation 0.811354 || Accuracy: Train 55.65% | Validation 57.89% || F1-score 0.56 || Not improved 13 out of 30\n",
            "Epoch  59/500 || Loss:  Train 0.748771 | Validation 0.802085 || Accuracy: Train 55.65% | Validation 52.30% || F1-score 0.52 || Not improved 14 out of 30\n",
            "Epoch  60/500 || Loss:  Train 0.754754 | Validation 0.817239 || Accuracy: Train 54.38% | Validation 55.26% || F1-score 0.54 || Not improved 15 out of 30\n",
            "Validation loss decreased 0.796448 -> 0.794325\n",
            "Epoch  61/500 || Loss:  Train 0.750987 | Validation 0.794325 || Accuracy: Train 53.53% | Validation 54.28% || F1-score 0.54 || Not improved 0 out of 30\n",
            "Epoch  62/500 || Loss:  Train 0.722216 | Validation 0.801379 || Accuracy: Train 56.92% | Validation 54.28% || F1-score 0.54 || Not improved 1 out of 30\n",
            "Validation loss decreased 0.794325 -> 0.790000\n",
            "Epoch  63/500 || Loss:  Train 0.810255 | Validation 0.790000 || Accuracy: Train 57.77% | Validation 55.59% || F1-score 0.55 || Not improved 0 out of 30\n",
            "Epoch  64/500 || Loss:  Train 0.760318 | Validation 0.799494 || Accuracy: Train 53.67% | Validation 54.93% || F1-score 0.54 || Not improved 1 out of 30\n",
            "Epoch  65/500 || Loss:  Train 0.792072 | Validation 0.811546 || Accuracy: Train 57.20% | Validation 56.58% || F1-score 0.55 || Not improved 2 out of 30\n",
            "Epoch  66/500 || Loss:  Train 0.704641 | Validation 0.796655 || Accuracy: Train 57.20% | Validation 56.25% || F1-score 0.55 || Not improved 3 out of 30\n",
            "Epoch  67/500 || Loss:  Train 0.780394 | Validation 0.846586 || Accuracy: Train 57.77% | Validation 55.92% || F1-score 0.54 || Not improved 4 out of 30\n",
            "Epoch  68/500 || Loss:  Train 0.734327 | Validation 0.804412 || Accuracy: Train 56.07% | Validation 54.28% || F1-score 0.54 || Not improved 5 out of 30\n",
            "Validation loss decreased 0.790000 -> 0.784786\n",
            "Epoch  69/500 || Loss:  Train 0.776901 | Validation 0.784786 || Accuracy: Train 57.77% | Validation 58.88% || F1-score 0.57 || Not improved 0 out of 30\n",
            "Epoch  70/500 || Loss:  Train 0.769580 | Validation 0.811162 || Accuracy: Train 51.55% | Validation 53.62% || F1-score 0.53 || Not improved 1 out of 30\n",
            "Epoch  71/500 || Loss:  Train 0.809421 | Validation 0.802915 || Accuracy: Train 58.33% | Validation 55.59% || F1-score 0.55 || Not improved 2 out of 30\n",
            "Epoch  72/500 || Loss:  Train 0.774007 | Validation 0.829268 || Accuracy: Train 55.23% | Validation 51.97% || F1-score 0.51 || Not improved 3 out of 30\n",
            "Epoch  73/500 || Loss:  Train 0.764120 | Validation 0.798995 || Accuracy: Train 54.52% | Validation 57.24% || F1-score 0.55 || Not improved 4 out of 30\n",
            "Validation loss decreased 0.784786 -> 0.771461\n",
            "Epoch  74/500 || Loss:  Train 0.749788 | Validation 0.771461 || Accuracy: Train 58.90% | Validation 57.57% || F1-score 0.56 || Not improved 0 out of 30\n",
            "Epoch  75/500 || Loss:  Train 0.742758 | Validation 0.784310 || Accuracy: Train 53.25% | Validation 54.28% || F1-score 0.54 || Not improved 1 out of 30\n",
            "Epoch  76/500 || Loss:  Train 0.789099 | Validation 0.830093 || Accuracy: Train 58.62% | Validation 55.59% || F1-score 0.55 || Not improved 2 out of 30\n",
            "Epoch  77/500 || Loss:  Train 0.726133 | Validation 0.776311 || Accuracy: Train 55.51% | Validation 57.57% || F1-score 0.56 || Not improved 3 out of 30\n",
            "Epoch  78/500 || Loss:  Train 0.726412 | Validation 0.796671 || Accuracy: Train 55.93% | Validation 56.25% || F1-score 0.56 || Not improved 4 out of 30\n",
            "Validation loss decreased 0.771461 -> 0.756230\n",
            "Epoch  79/500 || Loss:  Train 0.791625 | Validation 0.756230 || Accuracy: Train 57.77% | Validation 58.55% || F1-score 0.57 || Not improved 0 out of 30\n",
            "Epoch  80/500 || Loss:  Train 0.747881 | Validation 0.802709 || Accuracy: Train 53.95% | Validation 58.22% || F1-score 0.57 || Not improved 1 out of 30\n",
            "Validation loss decreased 0.756230 -> 0.753908\n",
            "Epoch  81/500 || Loss:  Train 0.690290 | Validation 0.753908 || Accuracy: Train 58.90% | Validation 58.88% || F1-score 0.57 || Not improved 0 out of 30\n",
            "Epoch  82/500 || Loss:  Train 0.690640 | Validation 0.850739 || Accuracy: Train 59.18% | Validation 56.25% || F1-score 0.56 || Not improved 1 out of 30\n",
            "Epoch  83/500 || Loss:  Train 0.774507 | Validation 0.792446 || Accuracy: Train 56.07% | Validation 58.22% || F1-score 0.57 || Not improved 2 out of 30\n",
            "Epoch  84/500 || Loss:  Train 0.716866 | Validation 0.802483 || Accuracy: Train 55.79% | Validation 56.58% || F1-score 0.56 || Not improved 3 out of 30\n",
            "Epoch  85/500 || Loss:  Train 0.754755 | Validation 0.773181 || Accuracy: Train 59.04% | Validation 56.91% || F1-score 0.55 || Not improved 4 out of 30\n",
            "Epoch  86/500 || Loss:  Train 0.766626 | Validation 0.797722 || Accuracy: Train 55.51% | Validation 55.59% || F1-score 0.55 || Not improved 5 out of 30\n",
            "Epoch  87/500 || Loss:  Train 0.752436 | Validation 0.779325 || Accuracy: Train 59.04% | Validation 58.55% || F1-score 0.56 || Not improved 6 out of 30\n",
            "Epoch  88/500 || Loss:  Train 0.726455 | Validation 0.807099 || Accuracy: Train 58.47% | Validation 56.58% || F1-score 0.56 || Not improved 7 out of 30\n",
            "Epoch  89/500 || Loss:  Train 0.707128 | Validation 0.800514 || Accuracy: Train 57.06% | Validation 58.55% || F1-score 0.57 || Not improved 8 out of 30\n",
            "Epoch  90/500 || Loss:  Train 0.752488 | Validation 0.780193 || Accuracy: Train 58.33% | Validation 56.58% || F1-score 0.55 || Not improved 9 out of 30\n",
            "Epoch  91/500 || Loss:  Train 0.731805 | Validation 0.762174 || Accuracy: Train 56.92% | Validation 58.55% || F1-score 0.57 || Not improved 10 out of 30\n",
            "Epoch  92/500 || Loss:  Train 0.743531 | Validation 0.795810 || Accuracy: Train 58.47% | Validation 58.22% || F1-score 0.57 || Not improved 11 out of 30\n",
            "Epoch  93/500 || Loss:  Train 0.673292 | Validation 0.777869 || Accuracy: Train 60.17% | Validation 57.24% || F1-score 0.56 || Not improved 12 out of 30\n",
            "Epoch  94/500 || Loss:  Train 0.736198 | Validation 0.777405 || Accuracy: Train 55.51% | Validation 57.24% || F1-score 0.56 || Not improved 13 out of 30\n",
            "Epoch  95/500 || Loss:  Train 0.753802 | Validation 0.782030 || Accuracy: Train 54.52% | Validation 56.58% || F1-score 0.55 || Not improved 14 out of 30\n",
            "Epoch  96/500 || Loss:  Train 0.712588 | Validation 0.813996 || Accuracy: Train 58.05% | Validation 58.22% || F1-score 0.57 || Not improved 15 out of 30\n",
            "Epoch  97/500 || Loss:  Train 0.822682 | Validation 0.827402 || Accuracy: Train 54.94% | Validation 52.63% || F1-score 0.52 || Not improved 16 out of 30\n",
            "Epoch  98/500 || Loss:  Train 0.716765 | Validation 0.781833 || Accuracy: Train 54.94% | Validation 57.57% || F1-score 0.57 || Not improved 17 out of 30\n",
            "Epoch  99/500 || Loss:  Train 0.698290 | Validation 0.780297 || Accuracy: Train 57.20% | Validation 57.57% || F1-score 0.56 || Not improved 18 out of 30\n",
            "Epoch 100/500 || Loss:  Train 0.756486 | Validation 0.778188 || Accuracy: Train 55.93% | Validation 57.24% || F1-score 0.56 || Not improved 19 out of 30\n",
            "Validation loss decreased 0.753908 -> 0.748586\n",
            "Epoch 101/500 || Loss:  Train 0.762051 | Validation 0.748586 || Accuracy: Train 57.49% | Validation 56.91% || F1-score 0.55 || Not improved 0 out of 30\n",
            "Epoch 102/500 || Loss:  Train 0.721918 | Validation 0.798450 || Accuracy: Train 56.07% | Validation 58.55% || F1-score 0.57 || Not improved 1 out of 30\n",
            "Epoch 103/500 || Loss:  Train 0.774413 | Validation 0.786077 || Accuracy: Train 59.32% | Validation 57.24% || F1-score 0.56 || Not improved 2 out of 30\n",
            "Epoch 104/500 || Loss:  Train 0.738976 | Validation 0.806898 || Accuracy: Train 56.50% | Validation 57.89% || F1-score 0.57 || Not improved 3 out of 30\n",
            "Epoch 105/500 || Loss:  Train 0.661344 | Validation 0.766233 || Accuracy: Train 64.27% | Validation 61.18% || F1-score 0.58 || Not improved 4 out of 30\n",
            "Epoch 106/500 || Loss:  Train 0.695468 | Validation 0.767132 || Accuracy: Train 61.30% | Validation 57.24% || F1-score 0.56 || Not improved 5 out of 30\n",
            "Epoch 107/500 || Loss:  Train 0.706596 | Validation 0.804771 || Accuracy: Train 56.50% | Validation 58.55% || F1-score 0.57 || Not improved 6 out of 30\n",
            "Epoch 108/500 || Loss:  Train 0.727285 | Validation 0.765942 || Accuracy: Train 60.59% | Validation 57.57% || F1-score 0.55 || Not improved 7 out of 30\n",
            "Epoch 109/500 || Loss:  Train 0.725781 | Validation 0.761928 || Accuracy: Train 56.78% | Validation 57.24% || F1-score 0.56 || Not improved 8 out of 30\n",
            "Epoch 110/500 || Loss:  Train 0.795120 | Validation 0.794148 || Accuracy: Train 58.62% | Validation 56.91% || F1-score 0.55 || Not improved 9 out of 30\n",
            "Epoch 111/500 || Loss:  Train 0.713705 | Validation 0.776466 || Accuracy: Train 56.50% | Validation 56.91% || F1-score 0.56 || Not improved 10 out of 30\n",
            "Epoch 112/500 || Loss:  Train 0.721203 | Validation 0.793692 || Accuracy: Train 55.51% | Validation 58.22% || F1-score 0.57 || Not improved 11 out of 30\n",
            "Epoch 113/500 || Loss:  Train 0.713016 | Validation 0.785981 || Accuracy: Train 60.03% | Validation 59.21% || F1-score 0.57 || Not improved 12 out of 30\n",
            "Epoch 114/500 || Loss:  Train 0.724614 | Validation 0.767401 || Accuracy: Train 61.44% | Validation 56.58% || F1-score 0.55 || Not improved 13 out of 30\n",
            "Epoch 115/500 || Loss:  Train 0.709391 | Validation 0.805350 || Accuracy: Train 58.76% | Validation 57.57% || F1-score 0.57 || Not improved 14 out of 30\n",
            "Epoch 116/500 || Loss:  Train 0.739289 | Validation 0.769918 || Accuracy: Train 58.62% | Validation 58.22% || F1-score 0.56 || Not improved 15 out of 30\n",
            "Epoch 117/500 || Loss:  Train 0.735134 | Validation 0.799381 || Accuracy: Train 59.18% | Validation 57.24% || F1-score 0.57 || Not improved 16 out of 30\n",
            "Epoch 118/500 || Loss:  Train 0.716798 | Validation 0.778000 || Accuracy: Train 59.60% | Validation 56.91% || F1-score 0.55 || Not improved 17 out of 30\n",
            "Epoch 119/500 || Loss:  Train 0.716903 | Validation 0.791619 || Accuracy: Train 56.78% | Validation 57.24% || F1-score 0.56 || Not improved 18 out of 30\n",
            "Epoch 120/500 || Loss:  Train 0.744166 | Validation 0.787524 || Accuracy: Train 60.17% | Validation 59.21% || F1-score 0.57 || Not improved 19 out of 30\n",
            "Epoch 121/500 || Loss:  Train 0.714215 | Validation 0.788370 || Accuracy: Train 59.46% | Validation 58.22% || F1-score 0.57 || Not improved 20 out of 30\n",
            "Epoch 122/500 || Loss:  Train 0.745633 | Validation 0.819841 || Accuracy: Train 57.34% | Validation 56.25% || F1-score 0.55 || Not improved 21 out of 30\n",
            "Epoch 123/500 || Loss:  Train 0.766803 | Validation 0.774209 || Accuracy: Train 56.50% | Validation 56.25% || F1-score 0.55 || Not improved 22 out of 30\n",
            "Validation loss decreased 0.748586 -> 0.740859\n",
            "Epoch 124/500 || Loss:  Train 0.744962 | Validation 0.740859 || Accuracy: Train 60.88% | Validation 59.54% || F1-score 0.56 || Not improved 0 out of 30\n",
            "Epoch 125/500 || Loss:  Train 0.690282 | Validation 0.771353 || Accuracy: Train 62.15% | Validation 56.91% || F1-score 0.55 || Not improved 1 out of 30\n",
            "Epoch 126/500 || Loss:  Train 0.712300 | Validation 0.785766 || Accuracy: Train 56.50% | Validation 57.24% || F1-score 0.56 || Not improved 2 out of 30\n",
            "Epoch 127/500 || Loss:  Train 0.708199 | Validation 0.800113 || Accuracy: Train 56.64% | Validation 57.89% || F1-score 0.56 || Not improved 3 out of 30\n",
            "Epoch 128/500 || Loss:  Train 0.676613 | Validation 0.790811 || Accuracy: Train 58.76% | Validation 57.89% || F1-score 0.56 || Not improved 4 out of 30\n",
            "Epoch 129/500 || Loss:  Train 0.727856 | Validation 0.775019 || Accuracy: Train 59.46% | Validation 57.57% || F1-score 0.57 || Not improved 5 out of 30\n",
            "Epoch 130/500 || Loss:  Train 0.704107 | Validation 0.810028 || Accuracy: Train 57.63% | Validation 57.89% || F1-score 0.57 || Not improved 6 out of 30\n",
            "Epoch 131/500 || Loss:  Train 0.681054 | Validation 0.766181 || Accuracy: Train 57.34% | Validation 58.88% || F1-score 0.57 || Not improved 7 out of 30\n",
            "Epoch 132/500 || Loss:  Train 0.699473 | Validation 0.803830 || Accuracy: Train 60.59% | Validation 58.22% || F1-score 0.56 || Not improved 8 out of 30\n",
            "Epoch 133/500 || Loss:  Train 0.775213 | Validation 0.780932 || Accuracy: Train 61.16% | Validation 57.89% || F1-score 0.56 || Not improved 9 out of 30\n",
            "Epoch 134/500 || Loss:  Train 0.713009 | Validation 0.803807 || Accuracy: Train 59.60% | Validation 59.87% || F1-score 0.59 || Not improved 10 out of 30\n",
            "Epoch 135/500 || Loss:  Train 0.710292 | Validation 0.770061 || Accuracy: Train 57.49% | Validation 58.88% || F1-score 0.57 || Not improved 11 out of 30\n",
            "Epoch 136/500 || Loss:  Train 0.727348 | Validation 0.788841 || Accuracy: Train 59.04% | Validation 57.89% || F1-score 0.56 || Not improved 12 out of 30\n",
            "Epoch 137/500 || Loss:  Train 0.714428 | Validation 0.794131 || Accuracy: Train 58.19% | Validation 59.21% || F1-score 0.58 || Not improved 13 out of 30\n",
            "Epoch 138/500 || Loss:  Train 0.697673 | Validation 0.771015 || Accuracy: Train 58.62% | Validation 59.21% || F1-score 0.57 || Not improved 14 out of 30\n",
            "Epoch 139/500 || Loss:  Train 0.709949 | Validation 0.769819 || Accuracy: Train 59.04% | Validation 58.55% || F1-score 0.57 || Not improved 15 out of 30\n",
            "Epoch 140/500 || Loss:  Train 0.688380 | Validation 0.765057 || Accuracy: Train 59.04% | Validation 58.22% || F1-score 0.57 || Not improved 16 out of 30\n",
            "Epoch 141/500 || Loss:  Train 0.686794 | Validation 0.790300 || Accuracy: Train 58.62% | Validation 57.57% || F1-score 0.56 || Not improved 17 out of 30\n",
            "Epoch 142/500 || Loss:  Train 0.695319 | Validation 0.803314 || Accuracy: Train 58.62% | Validation 58.55% || F1-score 0.57 || Not improved 18 out of 30\n",
            "Validation loss decreased 0.740859 -> 0.735525\n",
            "Epoch 143/500 || Loss:  Train 0.691396 | Validation 0.735525 || Accuracy: Train 63.56% | Validation 61.18% || F1-score 0.57 || Not improved 0 out of 30\n",
            "Epoch 144/500 || Loss:  Train 0.680592 | Validation 0.784901 || Accuracy: Train 63.56% | Validation 57.89% || F1-score 0.57 || Not improved 1 out of 30\n",
            "Epoch 145/500 || Loss:  Train 0.711587 | Validation 0.806983 || Accuracy: Train 56.64% | Validation 57.89% || F1-score 0.56 || Not improved 2 out of 30\n",
            "Epoch 146/500 || Loss:  Train 0.708965 | Validation 0.785968 || Accuracy: Train 60.73% | Validation 58.55% || F1-score 0.56 || Not improved 3 out of 30\n",
            "Epoch 147/500 || Loss:  Train 0.697226 | Validation 0.827269 || Accuracy: Train 59.75% | Validation 57.57% || F1-score 0.57 || Not improved 4 out of 30\n",
            "Epoch 148/500 || Loss:  Train 0.697822 | Validation 0.739256 || Accuracy: Train 58.76% | Validation 58.22% || F1-score 0.56 || Not improved 5 out of 30\n",
            "Epoch 149/500 || Loss:  Train 0.732813 | Validation 0.779444 || Accuracy: Train 61.44% | Validation 58.55% || F1-score 0.56 || Not improved 6 out of 30\n",
            "Epoch 150/500 || Loss:  Train 0.659118 | Validation 0.784880 || Accuracy: Train 59.18% | Validation 58.55% || F1-score 0.57 || Not improved 7 out of 30\n",
            "Epoch 151/500 || Loss:  Train 0.648760 | Validation 0.759844 || Accuracy: Train 63.14% | Validation 59.87% || F1-score 0.58 || Not improved 8 out of 30\n",
            "Epoch 152/500 || Loss:  Train 0.764214 | Validation 0.807094 || Accuracy: Train 58.05% | Validation 57.89% || F1-score 0.56 || Not improved 9 out of 30\n",
            "Epoch 153/500 || Loss:  Train 0.673477 | Validation 0.765641 || Accuracy: Train 62.29% | Validation 58.55% || F1-score 0.56 || Not improved 10 out of 30\n",
            "Epoch 154/500 || Loss:  Train 0.704687 | Validation 0.802034 || Accuracy: Train 59.32% | Validation 57.24% || F1-score 0.56 || Not improved 11 out of 30\n",
            "Epoch 155/500 || Loss:  Train 0.676188 | Validation 0.748563 || Accuracy: Train 60.73% | Validation 59.21% || F1-score 0.57 || Not improved 12 out of 30\n",
            "Epoch 156/500 || Loss:  Train 0.669655 | Validation 0.773429 || Accuracy: Train 60.88% | Validation 57.57% || F1-score 0.56 || Not improved 13 out of 30\n",
            "Epoch 157/500 || Loss:  Train 0.708414 | Validation 0.782728 || Accuracy: Train 61.58% | Validation 58.88% || F1-score 0.57 || Not improved 14 out of 30\n",
            "Epoch 158/500 || Loss:  Train 0.707152 | Validation 0.774873 || Accuracy: Train 56.92% | Validation 56.91% || F1-score 0.56 || Not improved 15 out of 30\n",
            "Epoch 159/500 || Loss:  Train 0.697447 | Validation 0.755703 || Accuracy: Train 59.04% | Validation 59.21% || F1-score 0.58 || Not improved 16 out of 30\n",
            "Epoch 160/500 || Loss:  Train 0.664472 | Validation 0.828992 || Accuracy: Train 61.58% | Validation 57.57% || F1-score 0.56 || Not improved 17 out of 30\n",
            "Epoch 161/500 || Loss:  Train 0.723260 | Validation 0.754934 || Accuracy: Train 59.60% | Validation 57.89% || F1-score 0.56 || Not improved 18 out of 30\n",
            "Epoch 162/500 || Loss:  Train 0.676255 | Validation 0.760508 || Accuracy: Train 63.56% | Validation 60.20% || F1-score 0.57 || Not improved 19 out of 30\n",
            "Epoch 163/500 || Loss:  Train 0.661191 | Validation 0.798945 || Accuracy: Train 62.15% | Validation 58.55% || F1-score 0.57 || Not improved 20 out of 30\n",
            "Epoch 164/500 || Loss:  Train 0.688825 | Validation 0.752258 || Accuracy: Train 61.02% | Validation 59.87% || F1-score 0.57 || Not improved 21 out of 30\n",
            "Epoch 165/500 || Loss:  Train 0.715840 | Validation 0.760049 || Accuracy: Train 63.42% | Validation 59.54% || F1-score 0.58 || Not improved 22 out of 30\n",
            "Epoch 166/500 || Loss:  Train 0.705332 | Validation 0.773933 || Accuracy: Train 56.64% | Validation 58.22% || F1-score 0.57 || Not improved 23 out of 30\n",
            "Epoch 167/500 || Loss:  Train 0.663014 | Validation 0.752250 || Accuracy: Train 61.16% | Validation 58.22% || F1-score 0.56 || Not improved 24 out of 30\n",
            "Validation loss decreased 0.735525 -> 0.719123\n",
            "Epoch 168/500 || Loss:  Train 0.672968 | Validation 0.719123 || Accuracy: Train 60.73% | Validation 59.21% || F1-score 0.57 || Not improved 0 out of 30\n",
            "Epoch 169/500 || Loss:  Train 0.704547 | Validation 0.749667 || Accuracy: Train 61.72% | Validation 57.89% || F1-score 0.56 || Not improved 1 out of 30\n",
            "Epoch 170/500 || Loss:  Train 0.669481 | Validation 0.805643 || Accuracy: Train 62.01% | Validation 57.89% || F1-score 0.57 || Not improved 2 out of 30\n",
            "Epoch 171/500 || Loss:  Train 0.748467 | Validation 0.794704 || Accuracy: Train 60.45% | Validation 58.88% || F1-score 0.57 || Not improved 3 out of 30\n",
            "Epoch 172/500 || Loss:  Train 0.688317 | Validation 0.829327 || Accuracy: Train 59.60% | Validation 58.55% || F1-score 0.57 || Not improved 4 out of 30\n",
            "Epoch 173/500 || Loss:  Train 0.676809 | Validation 0.801439 || Accuracy: Train 62.99% | Validation 59.54% || F1-score 0.57 || Not improved 5 out of 30\n",
            "Epoch 174/500 || Loss:  Train 0.676819 | Validation 0.753368 || Accuracy: Train 60.73% | Validation 58.22% || F1-score 0.57 || Not improved 6 out of 30\n",
            "Epoch 175/500 || Loss:  Train 0.692895 | Validation 0.776078 || Accuracy: Train 59.46% | Validation 58.88% || F1-score 0.57 || Not improved 7 out of 30\n",
            "Epoch 176/500 || Loss:  Train 0.672302 | Validation 0.806052 || Accuracy: Train 62.43% | Validation 58.88% || F1-score 0.57 || Not improved 8 out of 30\n",
            "Epoch 177/500 || Loss:  Train 0.655073 | Validation 0.771726 || Accuracy: Train 63.42% | Validation 58.55% || F1-score 0.56 || Not improved 9 out of 30\n",
            "Epoch 178/500 || Loss:  Train 0.641717 | Validation 0.766133 || Accuracy: Train 62.15% | Validation 58.55% || F1-score 0.57 || Not improved 10 out of 30\n",
            "Epoch 179/500 || Loss:  Train 0.665270 | Validation 0.782918 || Accuracy: Train 58.19% | Validation 58.22% || F1-score 0.57 || Not improved 11 out of 30\n",
            "Epoch 180/500 || Loss:  Train 0.645709 | Validation 0.789921 || Accuracy: Train 62.99% | Validation 60.20% || F1-score 0.58 || Not improved 12 out of 30\n",
            "Epoch 181/500 || Loss:  Train 0.642318 | Validation 0.770024 || Accuracy: Train 60.45% | Validation 58.22% || F1-score 0.57 || Not improved 13 out of 30\n",
            "Epoch 182/500 || Loss:  Train 0.644563 | Validation 0.804083 || Accuracy: Train 59.04% | Validation 57.24% || F1-score 0.56 || Not improved 14 out of 30\n",
            "Epoch 183/500 || Loss:  Train 0.713108 | Validation 0.774329 || Accuracy: Train 59.46% | Validation 58.55% || F1-score 0.56 || Not improved 15 out of 30\n",
            "Epoch 184/500 || Loss:  Train 0.708518 | Validation 0.740943 || Accuracy: Train 59.32% | Validation 58.88% || F1-score 0.57 || Not improved 16 out of 30\n",
            "Epoch 185/500 || Loss:  Train 0.659179 | Validation 0.807506 || Accuracy: Train 60.31% | Validation 57.57% || F1-score 0.57 || Not improved 17 out of 30\n",
            "Epoch 186/500 || Loss:  Train 0.663356 | Validation 0.754289 || Accuracy: Train 60.17% | Validation 59.87% || F1-score 0.57 || Not improved 18 out of 30\n",
            "Epoch 187/500 || Loss:  Train 0.660657 | Validation 0.776736 || Accuracy: Train 63.14% | Validation 59.54% || F1-score 0.57 || Not improved 19 out of 30\n",
            "Epoch 188/500 || Loss:  Train 0.688013 | Validation 0.766372 || Accuracy: Train 60.45% | Validation 58.55% || F1-score 0.57 || Not improved 20 out of 30\n",
            "Epoch 189/500 || Loss:  Train 0.678796 | Validation 0.747877 || Accuracy: Train 63.28% | Validation 59.21% || F1-score 0.57 || Not improved 21 out of 30\n",
            "Epoch 190/500 || Loss:  Train 0.703941 | Validation 0.782203 || Accuracy: Train 61.16% | Validation 57.57% || F1-score 0.57 || Not improved 22 out of 30\n",
            "Epoch 191/500 || Loss:  Train 0.656419 | Validation 0.750789 || Accuracy: Train 59.46% | Validation 59.87% || F1-score 0.57 || Not improved 23 out of 30\n",
            "Epoch 192/500 || Loss:  Train 0.642949 | Validation 0.779658 || Accuracy: Train 64.97% | Validation 60.86% || F1-score 0.57 || Not improved 24 out of 30\n",
            "Epoch 193/500 || Loss:  Train 0.647842 | Validation 0.745837 || Accuracy: Train 61.44% | Validation 57.57% || F1-score 0.56 || Not improved 25 out of 30\n",
            "Epoch 194/500 || Loss:  Train 0.713952 | Validation 0.776857 || Accuracy: Train 62.01% | Validation 59.54% || F1-score 0.58 || Not improved 26 out of 30\n",
            "Epoch 195/500 || Loss:  Train 0.710443 | Validation 0.800225 || Accuracy: Train 56.78% | Validation 59.21% || F1-score 0.57 || Not improved 27 out of 30\n",
            "Epoch 196/500 || Loss:  Train 0.719803 | Validation 0.748077 || Accuracy: Train 62.99% | Validation 59.87% || F1-score 0.57 || Not improved 28 out of 30\n",
            "Epoch 197/500 || Loss:  Train 0.662413 | Validation 0.772671 || Accuracy: Train 59.32% | Validation 57.57% || F1-score 0.56 || Not improved 29 out of 30\n",
            "Epoch 198/500 || Loss:  Train 0.641526 | Validation 0.775920 || Accuracy: Train 63.70% | Validation 59.87% || F1-score 0.58 || Not improved 30 out of 30\n"
          ],
          "name": "stdout"
        }
      ]
    },
    {
      "cell_type": "markdown",
      "metadata": {
        "id": "kLpDbGUqW46k",
        "colab_type": "text"
      },
      "source": [
        "**Evaluation**"
      ]
    },
    {
      "cell_type": "code",
      "metadata": {
        "id": "shnQhwUwW5H6",
        "colab_type": "code",
        "outputId": "5be4c2e5-c6aa-4fde-a69b-a01200db0e8c",
        "colab": {
          "base_uri": "https://localhost:8080/",
          "height": 301
        }
      },
      "source": [
        "plt.plot(train_loss_history, label='Train')\n",
        "plt.plot(val_loss_history, label='Validation')\n",
        "plt.axvline(x=np.argmin(val_loss_history), color='black', alpha=0.2, linestyle='--')\n",
        "plt.legend()\n",
        "plt.xlabel('Epoch')\n",
        "plt.ylabel('Loss')\n",
        "plt.title('Training-validation loss')\n",
        "plt.show()"
      ],
      "execution_count": 22,
      "outputs": [
        {
          "output_type": "display_data",
          "data": {
            "image/png": "[encoded data removed]",
            "text/plain": [
              "<Figure size 432x288 with 1 Axes>"
            ]
          },
          "metadata": {
            "tags": []
          }
        }
      ]
    },
    {
      "cell_type": "code",
      "metadata": {
        "id": "TJU3McVHc8eQ",
        "colab_type": "code",
        "outputId": "6aa566dc-264b-4ae7-f965-4fd4a33770e0",
        "colab": {
          "base_uri": "https://localhost:8080/",
          "height": 301
        }
      },
      "source": [
        "for i in range(4):\n",
        "    fpr, tpr, thresholds = roc_curve((true_y == i).astype(np.int), predicted_y_percent[:, i])\n",
        "    plt.plot(fpr, tpr, label='Label ' + str(i))\n",
        "plt.plot([0, 1], [0, 1], color='black', alpha=0.2, linestyle='--')\n",
        "plt.legend()\n",
        "plt.xlabel('False positive rate')\n",
        "plt.ylabel('True positive rate')\n",
        "plt.title('ROC curve')\n",
        "plt.show()"
      ],
      "execution_count": 23,
      "outputs": [
        {
          "output_type": "display_data",
          "data": {
            "image/png": "[encoded data removed]",
            "text/plain": [
              "<Figure size 432x288 with 1 Axes>"
            ]
          },
          "metadata": {
            "tags": []
          }
        }
      ]
    },
    {
      "cell_type": "code",
      "metadata": {
        "id": "XzjZ_jg1eg7Q",
        "colab_type": "code",
        "outputId": "6af62d49-a0ed-4df1-dccf-ba22c2e4c78b",
        "colab": {
          "base_uri": "https://localhost:8080/",
          "height": 283
        }
      },
      "source": [
        "label_names = [f'Label {i}' for i in range(4)]\n",
        "cm = confusion_matrix(true_y, predicted_y)\n",
        "cm_df = pd.DataFrame(cm, columns=label_names, index=label_names)\n",
        "cm_df_rel = pd.DataFrame(cm/cm.sum(1)[:, np.newaxis], columns=label_names, index=label_names)\n",
        "\n",
        "fig, axes = plt.subplots(nrows=1, ncols=2, figsize=(10, 4))\n",
        "\n",
        "sns.set(font_scale=1.4) # for label size\n",
        "sns.heatmap(cm_df, annot=True, annot_kws={\"size\": 13}, fmt='g', ax=axes[0])\n",
        "\n",
        "sns.set(font_scale=1.4) # for label size\n",
        "sns.heatmap(round(cm_df_rel, 3), annot=True, annot_kws={\"size\": 13}, fmt='g', ax=axes[1])\n",
        "\n",
        "plt.tight_layout()\n",
        "plt.show()"
      ],
      "execution_count": 24,
      "outputs": [
        {
          "output_type": "display_data",
          "data": {
            "image/png": "[encoded data removed]",
            "text/plain": [
              "<Figure size 720x288 with 4 Axes>"
            ]
          },
          "metadata": {
            "tags": []
          }
        }
      ]
    },
    {
      "cell_type": "code",
      "metadata": {
        "id": "NC7DD4Sp0eGP",
        "colab_type": "code",
        "outputId": "8a233c98-2961-4ca6-e9a0-cc46b7dbf7b0",
        "colab": {
          "base_uri": "https://localhost:8080/",
          "height": 119
        }
      },
      "source": [
        "for label in label_names:\n",
        "    print(f'Accuracy for {label} is {cm_df_rel[label][label]:.2%}')\n",
        "print(f'Overall accuracy is {(predicted_y == true_y).sum()/len(true_y):.2%}')\n",
        "print(f'Overall F1-score is {f1_score(true_y, predicted_y, average=\"macro\"):.2f}')"
      ],
      "execution_count": 25,
      "outputs": [
        {
          "output_type": "stream",
          "text": [
            "Accuracy for Label 0 is 47.10%\n",
            "Accuracy for Label 1 is 64.21%\n",
            "Accuracy for Label 2 is 61.54%\n",
            "Accuracy for Label 3 is 92.68%\n",
            "Overall accuracy is 59.21%\n",
            "Overall F1-score is 0.57\n"
          ],
          "name": "stdout"
        }
      ]
    }
  ]
}