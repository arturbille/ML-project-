{
  "nbformat": 4,
  "nbformat_minor": 0,
  "metadata": {
    "accelerator": "GPU",
    "colab": {
      "name": "ML_2020_project CNN.ipynb",
      "provenance": [],
      "collapsed_sections": [],
      "machine_shape": "hm"
    },
    "kernelspec": {
      "display_name": "Python 3",
      "language": "python",
      "name": "python3"
    },
    "language_info": {
      "codemirror_mode": {
        "name": "ipython",
        "version": 3
      },
      "file_extension": ".py",
      "mimetype": "text/x-python",
      "name": "python",
      "nbconvert_exporter": "python",
      "pygments_lexer": "ipython3",
      "version": "3.7.4"
    }
  },
  "cells": [
    {
      "cell_type": "code",
      "metadata": {
        "colab_type": "code",
        "id": "k9odeSZkjcQQ",
        "outputId": "d85d605e-a2af-486b-ed4f-7f8a894b726f",
        "colab": {
          "base_uri": "https://localhost:8080/",
          "height": 34
        }
      },
      "source": [
        "from google.colab import drive\n",
        "drive.mount('/content/drive')"
      ],
      "execution_count": 1,
      "outputs": [
        {
          "output_type": "stream",
          "text": [
            "Drive already mounted at /content/drive; to attempt to forcibly remount, call drive.mount(\"/content/drive\", force_remount=True).\n"
          ],
          "name": "stdout"
        }
      ]
    },
    {
      "cell_type": "code",
      "metadata": {
        "colab_type": "code",
        "id": "_oK46hgGitlU",
        "outputId": "dc83f410-696d-4cee-bfad-5d8e3af95ff6",
        "colab": {
          "base_uri": "https://localhost:8080/",
          "height": 666
        }
      },
      "source": [
        "!pip install fiona\n",
        "!pip install rasterio\n",
        "!pip install torchviz\n",
        "!pip install albumentations"
      ],
      "execution_count": 2,
      "outputs": [
        {
          "output_type": "stream",
          "text": [
            "Requirement already satisfied: fiona in /usr/local/lib/python3.6/dist-packages (1.8.13.post1)\n",
            "Requirement already satisfied: cligj>=0.5 in /usr/local/lib/python3.6/dist-packages (from fiona) (0.5.0)\n",
            "Requirement already satisfied: click<8,>=4.0 in /usr/local/lib/python3.6/dist-packages (from fiona) (7.1.1)\n",
            "Requirement already satisfied: six>=1.7 in /usr/local/lib/python3.6/dist-packages (from fiona) (1.12.0)\n",
            "Requirement already satisfied: click-plugins>=1.0 in /usr/local/lib/python3.6/dist-packages (from fiona) (1.1.1)\n",
            "Requirement already satisfied: attrs>=17 in /usr/local/lib/python3.6/dist-packages (from fiona) (19.3.0)\n",
            "Requirement already satisfied: munch in /usr/local/lib/python3.6/dist-packages (from fiona) (2.5.0)\n",
            "Requirement already satisfied: rasterio in /usr/local/lib/python3.6/dist-packages (1.1.3)\n",
            "Requirement already satisfied: numpy in /usr/local/lib/python3.6/dist-packages (from rasterio) (1.18.2)\n",
            "Requirement already satisfied: affine in /usr/local/lib/python3.6/dist-packages (from rasterio) (2.3.0)\n",
            "Requirement already satisfied: snuggs>=1.4.1 in /usr/local/lib/python3.6/dist-packages (from rasterio) (1.4.7)\n",
            "Requirement already satisfied: click-plugins in /usr/local/lib/python3.6/dist-packages (from rasterio) (1.1.1)\n",
            "Requirement already satisfied: click<8,>=4.0 in /usr/local/lib/python3.6/dist-packages (from rasterio) (7.1.1)\n",
            "Requirement already satisfied: cligj>=0.5 in /usr/local/lib/python3.6/dist-packages (from rasterio) (0.5.0)\n",
            "Requirement already satisfied: attrs in /usr/local/lib/python3.6/dist-packages (from rasterio) (19.3.0)\n",
            "Requirement already satisfied: pyparsing>=2.1.6 in /usr/local/lib/python3.6/dist-packages (from snuggs>=1.4.1->rasterio) (2.4.6)\n",
            "Requirement already satisfied: torchviz in /usr/local/lib/python3.6/dist-packages (0.0.1)\n",
            "Requirement already satisfied: graphviz in /usr/local/lib/python3.6/dist-packages (from torchviz) (0.10.1)\n",
            "Requirement already satisfied: torch in /usr/local/lib/python3.6/dist-packages (from torchviz) (1.4.0)\n",
            "Requirement already satisfied: albumentations in /usr/local/lib/python3.6/dist-packages (0.1.12)\n",
            "Requirement already satisfied: scipy in /usr/local/lib/python3.6/dist-packages (from albumentations) (1.4.1)\n",
            "Requirement already satisfied: opencv-python in /usr/local/lib/python3.6/dist-packages (from albumentations) (4.1.2.30)\n",
            "Requirement already satisfied: imgaug<0.2.7,>=0.2.5 in /usr/local/lib/python3.6/dist-packages (from albumentations) (0.2.6)\n",
            "Requirement already satisfied: numpy>=1.11.1 in /usr/local/lib/python3.6/dist-packages (from albumentations) (1.18.2)\n",
            "Requirement already satisfied: scikit-image>=0.11.0 in /usr/local/lib/python3.6/dist-packages (from imgaug<0.2.7,>=0.2.5->albumentations) (0.16.2)\n",
            "Requirement already satisfied: six in /usr/local/lib/python3.6/dist-packages (from imgaug<0.2.7,>=0.2.5->albumentations) (1.12.0)\n",
            "Requirement already satisfied: networkx>=2.0 in /usr/local/lib/python3.6/dist-packages (from scikit-image>=0.11.0->imgaug<0.2.7,>=0.2.5->albumentations) (2.4)\n",
            "Requirement already satisfied: pillow>=4.3.0 in /usr/local/lib/python3.6/dist-packages (from scikit-image>=0.11.0->imgaug<0.2.7,>=0.2.5->albumentations) (7.0.0)\n",
            "Requirement already satisfied: imageio>=2.3.0 in /usr/local/lib/python3.6/dist-packages (from scikit-image>=0.11.0->imgaug<0.2.7,>=0.2.5->albumentations) (2.4.1)\n",
            "Requirement already satisfied: PyWavelets>=0.4.0 in /usr/local/lib/python3.6/dist-packages (from scikit-image>=0.11.0->imgaug<0.2.7,>=0.2.5->albumentations) (1.1.1)\n",
            "Requirement already satisfied: matplotlib!=3.0.0,>=2.0.0 in /usr/local/lib/python3.6/dist-packages (from scikit-image>=0.11.0->imgaug<0.2.7,>=0.2.5->albumentations) (3.2.1)\n",
            "Requirement already satisfied: decorator>=4.3.0 in /usr/local/lib/python3.6/dist-packages (from networkx>=2.0->scikit-image>=0.11.0->imgaug<0.2.7,>=0.2.5->albumentations) (4.4.2)\n",
            "Requirement already satisfied: kiwisolver>=1.0.1 in /usr/local/lib/python3.6/dist-packages (from matplotlib!=3.0.0,>=2.0.0->scikit-image>=0.11.0->imgaug<0.2.7,>=0.2.5->albumentations) (1.1.0)\n",
            "Requirement already satisfied: python-dateutil>=2.1 in /usr/local/lib/python3.6/dist-packages (from matplotlib!=3.0.0,>=2.0.0->scikit-image>=0.11.0->imgaug<0.2.7,>=0.2.5->albumentations) (2.8.1)\n",
            "Requirement already satisfied: pyparsing!=2.0.4,!=2.1.2,!=2.1.6,>=2.0.1 in /usr/local/lib/python3.6/dist-packages (from matplotlib!=3.0.0,>=2.0.0->scikit-image>=0.11.0->imgaug<0.2.7,>=0.2.5->albumentations) (2.4.6)\n",
            "Requirement already satisfied: cycler>=0.10 in /usr/local/lib/python3.6/dist-packages (from matplotlib!=3.0.0,>=2.0.0->scikit-image>=0.11.0->imgaug<0.2.7,>=0.2.5->albumentations) (0.10.0)\n",
            "Requirement already satisfied: setuptools in /usr/local/lib/python3.6/dist-packages (from kiwisolver>=1.0.1->matplotlib!=3.0.0,>=2.0.0->scikit-image>=0.11.0->imgaug<0.2.7,>=0.2.5->albumentations) (46.0.0)\n"
          ],
          "name": "stdout"
        }
      ]
    },
    {
      "cell_type": "code",
      "metadata": {
        "colab_type": "code",
        "id": "jjLHfm2jj_H_",
        "colab": {}
      },
      "source": [
        "import sys\n",
        "sys.path.append('/content/drive/My Drive/Weak_Learners_ML2020')"
      ],
      "execution_count": 0,
      "outputs": []
    },
    {
      "cell_type": "code",
      "metadata": {
        "id": "N5WdLGahpbzi",
        "colab_type": "code",
        "colab": {}
      },
      "source": [
        "import scipy\n",
        "import numpy as np\n",
        "import seaborn as sns\n",
        "import fiona\n",
        "import rasterio\n",
        "from shapely import geometry\n",
        "from rasterio.mask import mask\n",
        "\n",
        "def extractor(frame,points,size=7,normalize=True,labeling=False):\n",
        "  '''\n",
        "  The extractor fuction takes in three paramters:\n",
        "  \n",
        "    1. frame - The image to be subdevided. Resterio type file\n",
        "    2. points - fiona collection file with coordinates of points\n",
        "    3. size - size of the window\n",
        "    4. data normalization - normolize the data boolean\n",
        "    5. require labels if the data containes labels. Boolean\n",
        "    \n",
        "  Return:\n",
        "  \n",
        "    1. List of bathces with the give size\n",
        "    2. List of coordinates\n",
        "    3. List of labels\n",
        "  ~~~~~~~~~~~~~~~~~~~~~~~~~~~~~~~~~~~~~~~~~~~~~~~~~~~~  \n",
        "  Example:\n",
        "      frame = rasterio.open(\"pp_1_sat_modified1.tif\")\n",
        "      points = fiona.open(\"alltreepoints1.shp\", \"r\")\n",
        "      collection = extractor(frame,points,size=7)\n",
        "  ~~~~~~~~~~~~~~~~~~~~~~~~~~~~~~~~~~~~~~~~~~~~~~~~~~~~   \n",
        "  '''\n",
        "  img = frame.read((5,3,2)).T.astype('uint32')\n",
        "  if normalize:\n",
        "    img = img/np.max(img)\n",
        "\n",
        "  assert img.shape[1]>img.shape[2], \"channles are in the right place!\"+str(img.shape)\n",
        "  map_tree_speices = {'е':0, 'б':1, 'п':2, \"El'\":0, \"Bereza\":1, \"Pichta\":2, \"Sosna\":3} \n",
        "  img_point,locations,labels = [],[],[]\n",
        "\n",
        "  for p in range(len(points)):\n",
        "\n",
        "        try:  \n",
        "              point = np.array(frame.index(*points[p]['geometry']['coordinates']))\n",
        "              box = img[(point[1]-size):point[1]+size,\n",
        "                        (point[0]-size):point[0]+size,:].copy()\n",
        "              if labeling:\n",
        "                  labels.append(map_tree_speices[ points[p]['properties']['specie'] ]) \n",
        "              img_point.append(box)\n",
        "              locations.append(point)\n",
        "              del box\n",
        "        except:\n",
        "              print(\"None coordinate/close to edge\")\n",
        "  return img_point, locations, labels"
      ],
      "execution_count": 0,
      "outputs": []
    },
    {
      "cell_type": "code",
      "metadata": {
        "colab_type": "code",
        "id": "7o3VEujZiQZR",
        "colab": {}
      },
      "source": [
        "import scipy\n",
        "import numpy as np\n",
        "import pandas as pd\n",
        "\n",
        "import matplotlib.pyplot as plt\n",
        "import seaborn as sns\n",
        "sns.set()\n",
        "\n",
        "import fiona\n",
        "import rasterio\n",
        "from shapely import geometry\n",
        "from rasterio.mask import mask\n",
        "from tqdm import tqdm_notebook\n",
        "\n",
        "from sklearn.model_selection import train_test_split\n",
        "from sklearn.metrics import accuracy_score, f1_score, roc_curve, confusion_matrix\n",
        "\n",
        "# from extractor_helper import extractor"
      ],
      "execution_count": 0,
      "outputs": []
    },
    {
      "cell_type": "markdown",
      "metadata": {
        "id": "3cQMAr2xR8gG",
        "colab_type": "text"
      },
      "source": [
        "# CNN"
      ]
    },
    {
      "cell_type": "code",
      "metadata": {
        "id": "18ynQIZoRWHR",
        "colab_type": "code",
        "colab": {}
      },
      "source": [
        "import torch\n",
        "import torch.nn as nn\n",
        "import torch.utils.data as torch_data\n",
        "from torchviz import make_dot, make_dot_from_trace\n",
        "import torchvision.transforms as transforms\n",
        "\n",
        "import albumentations as A\n",
        "from albumentations.pytorch import ToTensor"
      ],
      "execution_count": 0,
      "outputs": []
    },
    {
      "cell_type": "markdown",
      "metadata": {
        "id": "0Kmw5uESTdbK",
        "colab_type": "text"
      },
      "source": [
        "**Get data**"
      ]
    },
    {
      "cell_type": "code",
      "metadata": {
        "id": "Jjln7zdY7zqX",
        "colab_type": "code",
        "colab": {}
      },
      "source": [
        "SIZE = 8"
      ],
      "execution_count": 0,
      "outputs": []
    },
    {
      "cell_type": "code",
      "metadata": {
        "colab_type": "code",
        "id": "Gvvi4Z7xvxdh",
        "colab": {}
      },
      "source": [
        "test2_img = rasterio.open(\"/content/drive/My Drive/Weak_Learners_ML2020/Eval/test2/pp_2_sat_modified.tif\")\n",
        "test2_points = fiona.open(\"/content/drive/My Drive/Weak_Learners_ML2020/Eval/test2/points_2_modified_Copy.shp\", \"r\")\n",
        "\n",
        "test3_img = rasterio.open(\"/content/drive/My Drive/Weak_Learners_ML2020/Eval/test3/pp_3_sat_modified.tif\")\n",
        "test3_points = fiona.open(\"/content/drive/My Drive/Weak_Learners_ML2020/Eval/test3/targets_Copy.shp\", \"r\")\n",
        "\n",
        "test4_img = rasterio.open(\"/content/drive/My Drive/Weak_Learners_ML2020/Eval/test4/pp_4_sat_modified_spline.tif\")\n",
        "test4_points = fiona.open(\"/content/drive/My Drive/Weak_Learners_ML2020/Eval/test4/modified_points_Copy.shp\", \"r\")"
      ],
      "execution_count": 0,
      "outputs": []
    },
    {
      "cell_type": "code",
      "metadata": {
        "colab_type": "code",
        "id": "9SByHP79vxMW",
        "outputId": "d4b6c471-4742-4c0a-b6e4-2514bb43611f",
        "colab": {
          "base_uri": "https://localhost:8080/",
          "height": 595
        }
      },
      "source": [
        "patch2, coordinates2, labels2, = extractor(test2_img, test2_points, size=SIZE, normalize=True, labeling=True)\n",
        "patch3, coordinates3, labels3, = extractor(test3_img, test3_points, size=SIZE, normalize=True, labeling=True)\n",
        "patch4, coordinates4, labels4, = extractor(test4_img, test4_points, size=SIZE, normalize=True, labeling=True)"
      ],
      "execution_count": 9,
      "outputs": [
        {
          "output_type": "stream",
          "text": [
            "None coordinate/close to edge\n",
            "None coordinate/close to edge\n",
            "None coordinate/close to edge\n",
            "None coordinate/close to edge\n",
            "None coordinate/close to edge\n",
            "None coordinate/close to edge\n",
            "None coordinate/close to edge\n",
            "None coordinate/close to edge\n",
            "None coordinate/close to edge\n",
            "None coordinate/close to edge\n",
            "None coordinate/close to edge\n",
            "None coordinate/close to edge\n",
            "None coordinate/close to edge\n",
            "None coordinate/close to edge\n",
            "None coordinate/close to edge\n",
            "None coordinate/close to edge\n",
            "None coordinate/close to edge\n",
            "None coordinate/close to edge\n",
            "None coordinate/close to edge\n",
            "None coordinate/close to edge\n",
            "None coordinate/close to edge\n",
            "None coordinate/close to edge\n",
            "None coordinate/close to edge\n",
            "None coordinate/close to edge\n",
            "None coordinate/close to edge\n",
            "None coordinate/close to edge\n",
            "None coordinate/close to edge\n",
            "None coordinate/close to edge\n",
            "None coordinate/close to edge\n",
            "None coordinate/close to edge\n",
            "None coordinate/close to edge\n",
            "None coordinate/close to edge\n",
            "None coordinate/close to edge\n",
            "None coordinate/close to edge\n"
          ],
          "name": "stdout"
        }
      ]
    },
    {
      "cell_type": "code",
      "metadata": {
        "colab_type": "code",
        "id": "p4lqYUulvw9m",
        "colab": {
          "base_uri": "https://localhost:8080/",
          "height": 34
        },
        "outputId": "92fbb5be-6a33-4653-83d0-31ff6f964d97"
      },
      "source": [
        "# patch2,patch3, patch4 = np.array(patch2), np.array(patch3), np.array(patch4)\n",
        "# labels2, labels3, labels4 = np.array(labels2), np.array(labels3), np.array(labels4)\n",
        "# patch2, patch3, patch4 = np.moveaxis(patch2,3,1), np.moveaxis(patch3,3,1), np.moveaxis(patch4,3,1)\n",
        "\n",
        "patch = np.concatenate((patch2, patch3, patch4),axis=0)\n",
        "labels = np.concatenate((labels2,labels3,labels4),axis=0)\n",
        "print(patch.shape)"
      ],
      "execution_count": 10,
      "outputs": [
        {
          "output_type": "stream",
          "text": [
            "(1012, 16, 16, 3)\n"
          ],
          "name": "stdout"
        }
      ]
    },
    {
      "cell_type": "code",
      "metadata": {
        "id": "1V5-TIhHxVf2",
        "colab_type": "code",
        "colab": {}
      },
      "source": [
        "augmentation_pipeline = A.Compose(\n",
        "    [\n",
        "        A.HorizontalFlip(p = 0.5), # apply horizontal flip to 50% of images\n",
        "        A.OneOf(\n",
        "            [\n",
        "                # apply one of transforms to 50% of images\n",
        "                A.RandomContrast(),\n",
        "                A.RandomGamma(),\n",
        "                A.RandomBrightness(),\n",
        "                A.RandomRotate90(),\n",
        "                A.Transpose(),\n",
        "                A.ShiftScaleRotate(shift_limit=0.0625, scale_limit=0.50, rotate_limit=45, p=.75),\n",
        "                A.Blur(blur_limit=3),\n",
        "                A.OpticalDistortion(),\n",
        "                A.GridDistortion(),\n",
        "            ],\n",
        "            p = 0.5\n",
        "        ),\n",
        "        \n",
        "        ToTensor() # convert the image to PyTorch tensor\n",
        "    ],\n",
        "    p = 1\n",
        ")"
      ],
      "execution_count": 0,
      "outputs": []
    },
    {
      "cell_type": "code",
      "metadata": {
        "id": "FC4-gWh2XHYc",
        "colab_type": "code",
        "colab": {}
      },
      "source": [
        "class TreesData():\n",
        "  def __init__(self, X, y, aug_pipeline=None):\n",
        "    super().__init__()\n",
        "    # if is_train:\n",
        "    #   self.X = torch.tensor(X, dtype=torch.float32)\n",
        "    # else:\n",
        "    self.X = X\n",
        "    self.y = torch.tensor(y, dtype=torch.long)\n",
        "    if aug_pipeline:\n",
        "        self.aug_pipeline = aug_pipeline\n",
        "    else:\n",
        "        self.aug_pipeline = A.Compose([ToTensor()], p=1)\n",
        "    \n",
        "  def __len__(self):\n",
        "    return self.X.shape[0]\n",
        "  \n",
        "  def __getitem__(self, idx):\n",
        "    augmented = self.aug_pipeline(image = self.X[idx])['image']\n",
        "    return augmented, self.y[idx]"
      ],
      "execution_count": 0,
      "outputs": []
    },
    {
      "cell_type": "code",
      "metadata": {
        "id": "ECcBUUtrwJT4",
        "colab_type": "code",
        "colab": {
          "base_uri": "https://localhost:8080/",
          "height": 85
        },
        "outputId": "c582c606-d390-477f-949d-03b0590c1267"
      },
      "source": [
        "# Data proportions\n",
        "unique, counts = np.unique(labels, return_counts=True)\n",
        "for label, count in zip(unique, counts):\n",
        "    print(f'Label \"{label}\" has {count:3} instances, which is {count/len(labels):6.2%} of the total number of instances')"
      ],
      "execution_count": 14,
      "outputs": [
        {
          "output_type": "stream",
          "text": [
            "Label \"0\" has 518 instances, which is 51.19% of the total number of instances\n",
            "Label \"1\" has 315 instances, which is 31.13% of the total number of instances\n",
            "Label \"2\" has  42 instances, which is  4.15% of the total number of instances\n",
            "Label \"3\" has 137 instances, which is 13.54% of the total number of instances\n"
          ],
          "name": "stdout"
        }
      ]
    },
    {
      "cell_type": "code",
      "metadata": {
        "id": "Ph1dAP7cUIPC",
        "colab_type": "code",
        "colab": {}
      },
      "source": [
        "# We do stratified splitting to have balanced train and test set.\n",
        "x_train, x_test, y_train, y_test = train_test_split(patch, labels, test_size=.3, shuffle=True, stratify=labels, random_state=42)"
      ],
      "execution_count": 0,
      "outputs": []
    },
    {
      "cell_type": "code",
      "metadata": {
        "id": "GsRl2F0YXQZC",
        "colab_type": "code",
        "colab": {}
      },
      "source": [
        "train_data = TreesData(x_train, y_train, augmentation_pipeline)\n",
        "test_data = TreesData(x_test, y_test, augmentation_pipeline)"
      ],
      "execution_count": 0,
      "outputs": []
    },
    {
      "cell_type": "markdown",
      "metadata": {
        "id": "V2OkC-cuTfl9",
        "colab_type": "text"
      },
      "source": [
        "**Define model**"
      ]
    },
    {
      "cell_type": "code",
      "metadata": {
        "id": "h3adbdx98Ln8",
        "colab_type": "code",
        "colab": {}
      },
      "source": [
        "from math import ceil"
      ],
      "execution_count": 0,
      "outputs": []
    },
    {
      "cell_type": "code",
      "metadata": {
        "id": "JmmKoKK1g0ZV",
        "colab_type": "code",
        "colab": {}
      },
      "source": [
        "LAST_LAYER_SIZE = ceil(ceil(SIZE*2/2)/2)\n",
        "\n",
        "CNN = lambda: nn.Sequential(\n",
        "  \n",
        "  nn.Conv2d(3,64,2, padding=1),\n",
        "  nn.MaxPool2d(2,2),\n",
        "  nn.ReLU(),\n",
        "  nn.Dropout(0.5),\n",
        "\n",
        "  nn.Conv2d(64,128,2, padding=1),\n",
        "  nn.MaxPool2d(2,2),\n",
        "  nn.ReLU(),\n",
        "  nn.Dropout(0.5),\n",
        "\n",
        "  nn.Flatten(),\n",
        "  nn.Linear(128*LAST_LAYER_SIZE*LAST_LAYER_SIZE, 4),\n",
        ")"
      ],
      "execution_count": 0,
      "outputs": []
    },
    {
      "cell_type": "markdown",
      "metadata": {
        "id": "Q7sZ2mLVT2u4",
        "colab_type": "text"
      },
      "source": [
        "**Train model**"
      ]
    },
    {
      "cell_type": "code",
      "metadata": {
        "id": "F3-PofELYAWn",
        "colab_type": "code",
        "colab": {}
      },
      "source": [
        "def train(epochs, net, criterion, optimizer,\n",
        "          train_loader, val_loader, scheduler=None,\n",
        "          verbose=True, save_dir=None):\n",
        "  \n",
        "  net.to(device)\n",
        "  train_loss_history = []\n",
        "  val_loss_history = []\n",
        "  val_loss_not_improved = 0\n",
        "  best_val_loss = 999\n",
        "  for epoch in range(1,epochs+1):\n",
        "    net.train()\n",
        "    total_instances = 0\n",
        "    matched = 0\n",
        "    train_loss = 0\n",
        "    for X, y in train_loader:\n",
        "      X = X.to(device)\n",
        "      y = y.to(device)\n",
        "      pred = net(X)\n",
        "      loss = criterion(pred, y)\n",
        "      train_loss += loss.item()\n",
        "      optimizer.zero_grad()\n",
        "      loss.backward()\n",
        "      optimizer.step()\n",
        "\n",
        "      train_pred_arg = np.argmax(pred.cpu().detach(), axis=1)\n",
        "      matched += (train_pred_arg == y.cpu().detach()).sum()\n",
        "      total_instances += len(train_pred_arg)\n",
        "    train_acc = matched.item()/total_instances\n",
        "   \n",
        "    net.eval()\n",
        "    total_instances = 0\n",
        "    matched = 0\n",
        "    predicted_y = np.array([])\n",
        "    predicted_y_percent = np.array([])\n",
        "    true_y = np.array([])\n",
        "    val_loss = 0\n",
        "    for X, y in val_loader:\n",
        "      X = X.to(device)\n",
        "      y = y.to(device)\n",
        "      val_pred = net(X)\n",
        "      val_loss += criterion(val_pred, y).item()\n",
        "\n",
        "      predicted_y_percent = np.concatenate((predicted_y_percent, val_pred.cpu().detach()), axis=None)\n",
        "      predicted_y = np.concatenate((predicted_y, np.argmax(val_pred.cpu().detach(), axis=1)), axis=None)\n",
        "      true_y = np.concatenate((true_y, y.cpu().detach()), axis=None)\n",
        "    \n",
        "    train_loss /= len(train_loader)\n",
        "    val_loss /= len(val_loader)\n",
        "    val_acc = (predicted_y == true_y).sum()/len(true_y)\n",
        "\n",
        "    train_loss_history.append(train_loss)\n",
        "    val_loss_history.append(val_loss)\n",
        "  \n",
        "    if scheduler is not None:\n",
        "      schduler.step()\n",
        "    \n",
        "    if verbose:\n",
        "      print('Epoch {:3}/{} || Loss:  Train {:.6f} | Validation {:.6f} || Accuracy: Train {:.2%} | Validation {:.2%} || F1-score {:.2f}'\\\n",
        "            .format(epoch, epochs, train_loss, val_loss, train_acc, val_acc, f1_score(true_y, predicted_y, average='macro')))\n",
        "      \n",
        "    if best_val_loss > val_loss:\n",
        "      best_val_loss = val_loss\n",
        "      val_loss_not_improved = 0\n",
        "    else:\n",
        "      val_loss_not_improved += 1\n",
        "\n",
        "    if val_loss_not_improved == 25:\n",
        "      break\n",
        "\n",
        "  return predicted_y, predicted_y_percent, true_y, train_loss_history, val_loss_history"
      ],
      "execution_count": 0,
      "outputs": []
    },
    {
      "cell_type": "code",
      "metadata": {
        "id": "fTB3kDymTt2A",
        "colab_type": "code",
        "colab": {
          "base_uri": "https://localhost:8080/",
          "height": 255
        },
        "outputId": "dbb4467d-a7a8-4b70-e107-0e3f73fe5dd6"
      },
      "source": [
        "device = torch.device('cuda:0' if torch.cuda.is_available() else 'cpu')\n",
        "net = CNN()\n",
        "weights = torch.tensor([1,1,5,1], dtype=torch.float32).to(device)\n",
        "criterion = nn.CrossEntropyLoss(weight=weights)\n",
        "optimizer = torch.optim.Adam(net.parameters())\n",
        "scheduler = None\n",
        "train_loader = torch_data.DataLoader(train_data, batch_size=50, shuffle=True)\n",
        "val_loader = torch_data.DataLoader(test_data, batch_size=10, shuffle=True)\n",
        "\n",
        "print('\\t\\t\\t=== MODEL ===\\n\\t\\t\\t=============')\n",
        "print(net)"
      ],
      "execution_count": 20,
      "outputs": [
        {
          "output_type": "stream",
          "text": [
            "\t\t\t=== MODEL ===\n",
            "\t\t\t=============\n",
            "Sequential(\n",
            "  (0): Conv2d(3, 64, kernel_size=(2, 2), stride=(1, 1), padding=(1, 1))\n",
            "  (1): MaxPool2d(kernel_size=2, stride=2, padding=0, dilation=1, ceil_mode=False)\n",
            "  (2): ReLU()\n",
            "  (3): Dropout(p=0.5, inplace=False)\n",
            "  (4): Conv2d(64, 128, kernel_size=(2, 2), stride=(1, 1), padding=(1, 1))\n",
            "  (5): MaxPool2d(kernel_size=2, stride=2, padding=0, dilation=1, ceil_mode=False)\n",
            "  (6): ReLU()\n",
            "  (7): Dropout(p=0.5, inplace=False)\n",
            "  (8): Flatten()\n",
            "  (9): Linear(in_features=2048, out_features=4, bias=True)\n",
            ")\n"
          ],
          "name": "stdout"
        }
      ]
    },
    {
      "cell_type": "code",
      "metadata": {
        "id": "N1-E3Iek9uDo",
        "colab_type": "code",
        "colab": {}
      },
      "source": [
        "# GRAPH\n",
        "# make_dot(net(train_data[:1][0]))"
      ],
      "execution_count": 0,
      "outputs": []
    },
    {
      "cell_type": "code",
      "metadata": {
        "id": "QVfKM6eP6NBG",
        "colab_type": "code",
        "colab": {
          "base_uri": "https://localhost:8080/",
          "height": 1000
        },
        "outputId": "2c7dc364-ae9e-4d4e-cc68-8d960d6efc61"
      },
      "source": [
        "epochs = 500\n",
        "predicted_y, predicted_y_percent, true_y, train_loss_history, val_loss_history = train(epochs, net, criterion, optimizer, train_loader, val_loader, scheduler)\n",
        "predicted_y_percent = torch.softmax(torch.tensor(predicted_y_percent.reshape(-1, 4)), axis=1).detach().numpy()"
      ],
      "execution_count": 22,
      "outputs": [
        {
          "output_type": "stream",
          "text": [
            "Epoch   1/500 || Loss:  Train 1.284685 | Validation 1.303906 || Accuracy: Train 49.29% | Validation 51.32% || F1-score 0.20\n",
            "Epoch   2/500 || Loss:  Train 1.225325 | Validation 1.214557 || Accuracy: Train 49.01% | Validation 50.99% || F1-score 0.17\n",
            "Epoch   3/500 || Loss:  Train 1.162114 | Validation 1.151539 || Accuracy: Train 51.41% | Validation 54.28% || F1-score 0.31\n",
            "Epoch   4/500 || Loss:  Train 1.083683 | Validation 1.059679 || Accuracy: Train 54.38% | Validation 41.78% || F1-score 0.34\n",
            "Epoch   5/500 || Loss:  Train 1.047385 | Validation 1.056429 || Accuracy: Train 54.66% | Validation 38.16% || F1-score 0.34\n",
            "Epoch   6/500 || Loss:  Train 1.041306 | Validation 1.025743 || Accuracy: Train 49.15% | Validation 42.76% || F1-score 0.37\n",
            "Epoch   7/500 || Loss:  Train 1.004247 | Validation 0.970480 || Accuracy: Train 59.18% | Validation 54.93% || F1-score 0.39\n",
            "Epoch   8/500 || Loss:  Train 1.001902 | Validation 0.975641 || Accuracy: Train 54.38% | Validation 44.41% || F1-score 0.40\n",
            "Epoch   9/500 || Loss:  Train 0.998742 | Validation 0.960725 || Accuracy: Train 58.47% | Validation 55.26% || F1-score 0.50\n",
            "Epoch  10/500 || Loss:  Train 0.997212 | Validation 0.991220 || Accuracy: Train 58.05% | Validation 43.75% || F1-score 0.38\n",
            "Epoch  11/500 || Loss:  Train 0.945892 | Validation 0.953351 || Accuracy: Train 59.89% | Validation 61.84% || F1-score 0.50\n",
            "Epoch  12/500 || Loss:  Train 0.957436 | Validation 0.975882 || Accuracy: Train 58.90% | Validation 57.24% || F1-score 0.37\n",
            "Epoch  13/500 || Loss:  Train 0.947544 | Validation 0.979365 || Accuracy: Train 60.17% | Validation 49.01% || F1-score 0.42\n",
            "Epoch  14/500 || Loss:  Train 0.940973 | Validation 0.931174 || Accuracy: Train 59.18% | Validation 48.68% || F1-score 0.47\n",
            "Epoch  15/500 || Loss:  Train 0.957374 | Validation 0.924380 || Accuracy: Train 56.50% | Validation 60.53% || F1-score 0.48\n",
            "Epoch  16/500 || Loss:  Train 0.909257 | Validation 0.968532 || Accuracy: Train 56.92% | Validation 46.38% || F1-score 0.47\n",
            "Epoch  17/500 || Loss:  Train 0.934607 | Validation 0.949223 || Accuracy: Train 60.03% | Validation 53.95% || F1-score 0.48\n",
            "Epoch  18/500 || Loss:  Train 0.954447 | Validation 0.912508 || Accuracy: Train 57.06% | Validation 52.30% || F1-score 0.47\n",
            "Epoch  19/500 || Loss:  Train 0.944616 | Validation 0.919500 || Accuracy: Train 60.31% | Validation 55.26% || F1-score 0.54\n",
            "Epoch  20/500 || Loss:  Train 0.968899 | Validation 0.916173 || Accuracy: Train 61.44% | Validation 60.20% || F1-score 0.51\n",
            "Epoch  21/500 || Loss:  Train 0.903740 | Validation 0.953065 || Accuracy: Train 51.98% | Validation 45.07% || F1-score 0.46\n",
            "Epoch  22/500 || Loss:  Train 0.903932 | Validation 0.910995 || Accuracy: Train 56.92% | Validation 64.14% || F1-score 0.46\n",
            "Epoch  23/500 || Loss:  Train 0.919061 | Validation 0.909209 || Accuracy: Train 60.73% | Validation 54.61% || F1-score 0.52\n",
            "Epoch  24/500 || Loss:  Train 0.908556 | Validation 0.891122 || Accuracy: Train 63.14% | Validation 62.83% || F1-score 0.53\n",
            "Epoch  25/500 || Loss:  Train 0.894247 | Validation 0.881201 || Accuracy: Train 63.84% | Validation 57.89% || F1-score 0.54\n",
            "Epoch  26/500 || Loss:  Train 0.912628 | Validation 0.876340 || Accuracy: Train 63.14% | Validation 57.57% || F1-score 0.51\n",
            "Epoch  27/500 || Loss:  Train 0.934818 | Validation 0.893751 || Accuracy: Train 55.37% | Validation 57.57% || F1-score 0.50\n",
            "Epoch  28/500 || Loss:  Train 0.896977 | Validation 0.891624 || Accuracy: Train 63.70% | Validation 66.78% || F1-score 0.50\n",
            "Epoch  29/500 || Loss:  Train 0.896127 | Validation 0.889006 || Accuracy: Train 64.69% | Validation 56.91% || F1-score 0.51\n",
            "Epoch  30/500 || Loss:  Train 0.881871 | Validation 0.870358 || Accuracy: Train 61.44% | Validation 67.76% || F1-score 0.54\n",
            "Epoch  31/500 || Loss:  Train 0.886069 | Validation 0.872101 || Accuracy: Train 65.68% | Validation 62.50% || F1-score 0.48\n",
            "Epoch  32/500 || Loss:  Train 0.881330 | Validation 0.885820 || Accuracy: Train 58.33% | Validation 53.95% || F1-score 0.48\n",
            "Epoch  33/500 || Loss:  Train 0.894241 | Validation 0.867753 || Accuracy: Train 58.62% | Validation 60.20% || F1-score 0.52\n",
            "Epoch  34/500 || Loss:  Train 0.862244 | Validation 0.863823 || Accuracy: Train 62.01% | Validation 62.50% || F1-score 0.51\n",
            "Epoch  35/500 || Loss:  Train 0.886830 | Validation 0.876867 || Accuracy: Train 62.57% | Validation 63.82% || F1-score 0.53\n",
            "Epoch  36/500 || Loss:  Train 0.857207 | Validation 0.853190 || Accuracy: Train 66.95% | Validation 64.80% || F1-score 0.58\n",
            "Epoch  37/500 || Loss:  Train 0.873761 | Validation 0.858521 || Accuracy: Train 64.27% | Validation 65.79% || F1-score 0.55\n",
            "Epoch  38/500 || Loss:  Train 0.877819 | Validation 0.892622 || Accuracy: Train 63.56% | Validation 63.49% || F1-score 0.53\n",
            "Epoch  39/500 || Loss:  Train 0.857379 | Validation 0.847953 || Accuracy: Train 65.96% | Validation 66.78% || F1-score 0.59\n",
            "Epoch  40/500 || Loss:  Train 0.912375 | Validation 0.861101 || Accuracy: Train 64.41% | Validation 62.83% || F1-score 0.56\n",
            "Epoch  41/500 || Loss:  Train 0.865054 | Validation 0.860579 || Accuracy: Train 59.04% | Validation 65.79% || F1-score 0.56\n",
            "Epoch  42/500 || Loss:  Train 0.847252 | Validation 0.861904 || Accuracy: Train 66.95% | Validation 71.71% || F1-score 0.56\n",
            "Epoch  43/500 || Loss:  Train 0.869352 | Validation 0.867865 || Accuracy: Train 67.09% | Validation 66.78% || F1-score 0.53\n",
            "Epoch  44/500 || Loss:  Train 0.865154 | Validation 0.850133 || Accuracy: Train 67.80% | Validation 69.41% || F1-score 0.58\n",
            "Epoch  45/500 || Loss:  Train 0.857990 | Validation 0.850272 || Accuracy: Train 69.49% | Validation 65.46% || F1-score 0.58\n",
            "Epoch  46/500 || Loss:  Train 0.856879 | Validation 0.870974 || Accuracy: Train 64.12% | Validation 65.13% || F1-score 0.53\n",
            "Epoch  47/500 || Loss:  Train 0.842359 | Validation 0.862735 || Accuracy: Train 65.40% | Validation 66.45% || F1-score 0.59\n",
            "Epoch  48/500 || Loss:  Train 0.863235 | Validation 0.856029 || Accuracy: Train 64.69% | Validation 64.47% || F1-score 0.57\n",
            "Epoch  49/500 || Loss:  Train 0.878285 | Validation 0.860186 || Accuracy: Train 65.82% | Validation 64.47% || F1-score 0.51\n",
            "Epoch  50/500 || Loss:  Train 0.832598 | Validation 0.856756 || Accuracy: Train 68.08% | Validation 69.08% || F1-score 0.53\n",
            "Epoch  51/500 || Loss:  Train 0.808994 | Validation 0.826229 || Accuracy: Train 67.37% | Validation 69.74% || F1-score 0.61\n",
            "Epoch  52/500 || Loss:  Train 0.833988 | Validation 0.844868 || Accuracy: Train 68.08% | Validation 64.80% || F1-score 0.56\n",
            "Epoch  53/500 || Loss:  Train 0.809140 | Validation 0.823981 || Accuracy: Train 69.35% | Validation 72.04% || F1-score 0.61\n",
            "Epoch  54/500 || Loss:  Train 0.830937 | Validation 0.849647 || Accuracy: Train 68.50% | Validation 68.09% || F1-score 0.60\n",
            "Epoch  55/500 || Loss:  Train 0.841228 | Validation 0.865568 || Accuracy: Train 62.01% | Validation 66.45% || F1-score 0.58\n",
            "Epoch  56/500 || Loss:  Train 0.816141 | Validation 0.823117 || Accuracy: Train 68.36% | Validation 65.46% || F1-score 0.59\n",
            "Epoch  57/500 || Loss:  Train 0.813893 | Validation 0.805091 || Accuracy: Train 67.80% | Validation 70.39% || F1-score 0.61\n",
            "Epoch  58/500 || Loss:  Train 0.812605 | Validation 0.885344 || Accuracy: Train 68.50% | Validation 66.78% || F1-score 0.58\n",
            "Epoch  59/500 || Loss:  Train 0.808892 | Validation 0.825137 || Accuracy: Train 66.10% | Validation 69.08% || F1-score 0.57\n",
            "Epoch  60/500 || Loss:  Train 0.810081 | Validation 0.825611 || Accuracy: Train 68.08% | Validation 71.38% || F1-score 0.60\n",
            "Epoch  61/500 || Loss:  Train 0.793680 | Validation 0.812801 || Accuracy: Train 69.77% | Validation 73.36% || F1-score 0.58\n",
            "Epoch  62/500 || Loss:  Train 0.823916 | Validation 0.816339 || Accuracy: Train 69.21% | Validation 65.13% || F1-score 0.58\n",
            "Epoch  63/500 || Loss:  Train 0.800460 | Validation 0.816125 || Accuracy: Train 63.56% | Validation 68.09% || F1-score 0.57\n",
            "Epoch  64/500 || Loss:  Train 0.842932 | Validation 0.815825 || Accuracy: Train 69.07% | Validation 72.04% || F1-score 0.55\n",
            "Epoch  65/500 || Loss:  Train 0.803948 | Validation 0.865132 || Accuracy: Train 70.06% | Validation 63.82% || F1-score 0.53\n",
            "Epoch  66/500 || Loss:  Train 0.816342 | Validation 0.862039 || Accuracy: Train 66.38% | Validation 64.80% || F1-score 0.60\n",
            "Epoch  67/500 || Loss:  Train 0.823084 | Validation 0.803447 || Accuracy: Train 69.92% | Validation 74.01% || F1-score 0.60\n",
            "Epoch  68/500 || Loss:  Train 0.786158 | Validation 0.849261 || Accuracy: Train 67.94% | Validation 69.74% || F1-score 0.54\n",
            "Epoch  69/500 || Loss:  Train 0.796383 | Validation 0.817546 || Accuracy: Train 71.61% | Validation 72.37% || F1-score 0.59\n",
            "Epoch  70/500 || Loss:  Train 0.796734 | Validation 0.832761 || Accuracy: Train 68.93% | Validation 67.43% || F1-score 0.59\n",
            "Epoch  71/500 || Loss:  Train 0.800149 | Validation 0.849278 || Accuracy: Train 70.76% | Validation 66.45% || F1-score 0.50\n",
            "Epoch  72/500 || Loss:  Train 0.815414 | Validation 0.844176 || Accuracy: Train 66.38% | Validation 68.09% || F1-score 0.58\n",
            "Epoch  73/500 || Loss:  Train 0.825757 | Validation 0.814936 || Accuracy: Train 70.34% | Validation 74.67% || F1-score 0.57\n",
            "Epoch  74/500 || Loss:  Train 0.822958 | Validation 0.842540 || Accuracy: Train 70.48% | Validation 64.47% || F1-score 0.58\n",
            "Epoch  75/500 || Loss:  Train 0.785865 | Validation 0.836800 || Accuracy: Train 70.62% | Validation 67.76% || F1-score 0.56\n",
            "Epoch  76/500 || Loss:  Train 0.803848 | Validation 0.801229 || Accuracy: Train 65.11% | Validation 68.42% || F1-score 0.62\n",
            "Epoch  77/500 || Loss:  Train 0.800779 | Validation 0.806882 || Accuracy: Train 69.49% | Validation 70.07% || F1-score 0.55\n",
            "Epoch  78/500 || Loss:  Train 0.801201 | Validation 0.813087 || Accuracy: Train 68.64% | Validation 71.05% || F1-score 0.62\n",
            "Epoch  79/500 || Loss:  Train 0.807296 | Validation 0.817139 || Accuracy: Train 71.05% | Validation 70.07% || F1-score 0.60\n",
            "Epoch  80/500 || Loss:  Train 0.841864 | Validation 0.820853 || Accuracy: Train 68.22% | Validation 70.07% || F1-score 0.57\n",
            "Epoch  81/500 || Loss:  Train 0.794264 | Validation 0.818426 || Accuracy: Train 70.48% | Validation 67.43% || F1-score 0.58\n",
            "Epoch  82/500 || Loss:  Train 0.786595 | Validation 0.813150 || Accuracy: Train 70.76% | Validation 67.76% || F1-score 0.60\n",
            "Epoch  83/500 || Loss:  Train 0.768515 | Validation 0.810139 || Accuracy: Train 68.64% | Validation 68.75% || F1-score 0.60\n",
            "Epoch  84/500 || Loss:  Train 0.794163 | Validation 0.807617 || Accuracy: Train 66.67% | Validation 68.09% || F1-score 0.61\n",
            "Epoch  85/500 || Loss:  Train 0.755894 | Validation 0.834393 || Accuracy: Train 72.32% | Validation 71.71% || F1-score 0.59\n",
            "Epoch  86/500 || Loss:  Train 0.755232 | Validation 0.818575 || Accuracy: Train 69.92% | Validation 69.74% || F1-score 0.61\n",
            "Epoch  87/500 || Loss:  Train 0.788087 | Validation 0.813088 || Accuracy: Train 67.66% | Validation 69.74% || F1-score 0.58\n",
            "Epoch  88/500 || Loss:  Train 0.746015 | Validation 0.823835 || Accuracy: Train 69.63% | Validation 67.11% || F1-score 0.59\n",
            "Epoch  89/500 || Loss:  Train 0.731381 | Validation 0.810131 || Accuracy: Train 69.35% | Validation 66.78% || F1-score 0.59\n",
            "Epoch  90/500 || Loss:  Train 0.780309 | Validation 0.839065 || Accuracy: Train 69.63% | Validation 68.09% || F1-score 0.57\n",
            "Epoch  91/500 || Loss:  Train 0.773198 | Validation 0.815952 || Accuracy: Train 69.35% | Validation 68.09% || F1-score 0.61\n",
            "Epoch  92/500 || Loss:  Train 0.744254 | Validation 0.852362 || Accuracy: Train 69.63% | Validation 70.07% || F1-score 0.53\n",
            "Epoch  93/500 || Loss:  Train 0.770194 | Validation 0.793363 || Accuracy: Train 70.62% | Validation 71.05% || F1-score 0.63\n",
            "Epoch  94/500 || Loss:  Train 0.776919 | Validation 0.839510 || Accuracy: Train 72.74% | Validation 71.71% || F1-score 0.58\n",
            "Epoch  95/500 || Loss:  Train 0.787842 | Validation 0.838683 || Accuracy: Train 68.79% | Validation 71.71% || F1-score 0.60\n",
            "Epoch  96/500 || Loss:  Train 0.779623 | Validation 0.769155 || Accuracy: Train 72.46% | Validation 73.03% || F1-score 0.60\n",
            "Epoch  97/500 || Loss:  Train 0.787412 | Validation 0.835133 || Accuracy: Train 69.63% | Validation 68.75% || F1-score 0.59\n",
            "Epoch  98/500 || Loss:  Train 0.777897 | Validation 0.803846 || Accuracy: Train 69.63% | Validation 68.42% || F1-score 0.58\n",
            "Epoch  99/500 || Loss:  Train 0.775412 | Validation 0.787252 || Accuracy: Train 73.59% | Validation 73.36% || F1-score 0.59\n",
            "Epoch 100/500 || Loss:  Train 0.776437 | Validation 0.821485 || Accuracy: Train 69.77% | Validation 68.42% || F1-score 0.57\n",
            "Epoch 101/500 || Loss:  Train 0.765931 | Validation 0.793678 || Accuracy: Train 71.47% | Validation 72.04% || F1-score 0.58\n",
            "Epoch 102/500 || Loss:  Train 0.719500 | Validation 0.794649 || Accuracy: Train 72.60% | Validation 73.68% || F1-score 0.56\n",
            "Epoch 103/500 || Loss:  Train 0.782560 | Validation 0.793606 || Accuracy: Train 71.19% | Validation 68.42% || F1-score 0.60\n",
            "Epoch 104/500 || Loss:  Train 0.757238 | Validation 0.810131 || Accuracy: Train 69.07% | Validation 72.70% || F1-score 0.56\n",
            "Epoch 105/500 || Loss:  Train 0.776623 | Validation 0.832487 || Accuracy: Train 73.16% | Validation 74.67% || F1-score 0.61\n",
            "Epoch 106/500 || Loss:  Train 0.763708 | Validation 0.828486 || Accuracy: Train 68.93% | Validation 65.79% || F1-score 0.57\n",
            "Epoch 107/500 || Loss:  Train 0.740721 | Validation 0.819021 || Accuracy: Train 71.89% | Validation 69.74% || F1-score 0.59\n",
            "Epoch 108/500 || Loss:  Train 0.771531 | Validation 0.794111 || Accuracy: Train 72.88% | Validation 70.07% || F1-score 0.59\n",
            "Epoch 109/500 || Loss:  Train 0.787992 | Validation 0.828153 || Accuracy: Train 69.07% | Validation 67.76% || F1-score 0.56\n",
            "Epoch 110/500 || Loss:  Train 0.761718 | Validation 0.842449 || Accuracy: Train 68.22% | Validation 66.45% || F1-score 0.59\n",
            "Epoch 111/500 || Loss:  Train 0.737507 | Validation 0.792987 || Accuracy: Train 73.31% | Validation 74.67% || F1-score 0.64\n",
            "Epoch 112/500 || Loss:  Train 0.760385 | Validation 0.805832 || Accuracy: Train 70.34% | Validation 70.39% || F1-score 0.61\n",
            "Epoch 113/500 || Loss:  Train 0.733154 | Validation 0.797283 || Accuracy: Train 72.03% | Validation 70.07% || F1-score 0.62\n",
            "Epoch 114/500 || Loss:  Train 0.746227 | Validation 0.792921 || Accuracy: Train 71.61% | Validation 75.33% || F1-score 0.65\n",
            "Epoch 115/500 || Loss:  Train 0.773580 | Validation 0.813911 || Accuracy: Train 70.06% | Validation 69.41% || F1-score 0.61\n",
            "Epoch 116/500 || Loss:  Train 0.731480 | Validation 0.801024 || Accuracy: Train 70.90% | Validation 66.78% || F1-score 0.59\n",
            "Epoch 117/500 || Loss:  Train 0.768023 | Validation 0.807440 || Accuracy: Train 69.63% | Validation 74.01% || F1-score 0.60\n",
            "Epoch 118/500 || Loss:  Train 0.736289 | Validation 0.791344 || Accuracy: Train 73.02% | Validation 72.04% || F1-score 0.61\n",
            "Epoch 119/500 || Loss:  Train 0.752801 | Validation 0.826492 || Accuracy: Train 70.48% | Validation 68.42% || F1-score 0.59\n",
            "Epoch 120/500 || Loss:  Train 0.731828 | Validation 0.819823 || Accuracy: Train 74.44% | Validation 72.04% || F1-score 0.60\n",
            "Epoch 121/500 || Loss:  Train 0.771867 | Validation 0.788044 || Accuracy: Train 68.79% | Validation 71.05% || F1-score 0.62\n"
          ],
          "name": "stdout"
        }
      ]
    },
    {
      "cell_type": "markdown",
      "metadata": {
        "id": "kLpDbGUqW46k",
        "colab_type": "text"
      },
      "source": [
        "**Evaluation**"
      ]
    },
    {
      "cell_type": "code",
      "metadata": {
        "id": "shnQhwUwW5H6",
        "colab_type": "code",
        "colab": {
          "base_uri": "https://localhost:8080/",
          "height": 301
        },
        "outputId": "2ba4bf15-6782-4ff2-b5f1-436a5f9574e2"
      },
      "source": [
        "plt.plot(train_loss_history, label='Train')\n",
        "plt.plot(val_loss_history, label='Validation')\n",
        "plt.axvline(x=np.argmin(val_loss_history), color='black', alpha=0.2, linestyle='--')\n",
        "plt.legend()\n",
        "plt.xlabel('Epoch')\n",
        "plt.ylabel('Loss')\n",
        "plt.title('Training-validation loss')\n",
        "plt.show()"
      ],
      "execution_count": 23,
      "outputs": [
        {
          "output_type": "display_data",
          "data": {
            "image/png": "[encoded data removed]",
            "text/plain": [
              "<Figure size 432x288 with 1 Axes>"
            ]
          },
          "metadata": {
            "tags": []
          }
        }
      ]
    },
    {
      "cell_type": "code",
      "metadata": {
        "id": "TJU3McVHc8eQ",
        "colab_type": "code",
        "colab": {
          "base_uri": "https://localhost:8080/",
          "height": 301
        },
        "outputId": "00040590-7338-4855-8695-185099a17c8b"
      },
      "source": [
        "for i in range(4):\n",
        "    fpr, tpr, thresholds = roc_curve((true_y == i).astype(np.int), predicted_y_percent[:, i])\n",
        "    plt.plot(fpr, tpr, label='Label ' + str(i))\n",
        "plt.plot([0, 1], [0, 1], color='black', alpha=0.2, linestyle='--')\n",
        "plt.legend()\n",
        "plt.xlabel('False positive rate')\n",
        "plt.ylabel('True positive rate')\n",
        "plt.title('ROC curve')\n",
        "plt.show()"
      ],
      "execution_count": 24,
      "outputs": [
        {
          "output_type": "display_data",
          "data": {
            "image/png": "[encoded data removed]",
            "text/plain": [
              "<Figure size 432x288 with 1 Axes>"
            ]
          },
          "metadata": {
            "tags": []
          }
        }
      ]
    },
    {
      "cell_type": "code",
      "metadata": {
        "id": "XzjZ_jg1eg7Q",
        "colab_type": "code",
        "colab": {
          "base_uri": "https://localhost:8080/",
          "height": 283
        },
        "outputId": "a6f0fb43-0d13-4f65-921c-f712f94a81c6"
      },
      "source": [
        "label_names = [f'Label {i}' for i in range(4)]\n",
        "cm = confusion_matrix(true_y, predicted_y)\n",
        "cm_df = pd.DataFrame(cm, columns=label_names, index=label_names)\n",
        "cm_df_rel = pd.DataFrame(cm/cm.sum(1)[:, np.newaxis], columns=label_names, index=label_names)\n",
        "\n",
        "fig, axes = plt.subplots(nrows=1, ncols=2, figsize=(10, 4))\n",
        "\n",
        "sns.set(font_scale=1.4) # for label size\n",
        "sns.heatmap(cm_df, annot=True, annot_kws={\"size\": 13}, fmt='g', ax=axes[0])\n",
        "\n",
        "sns.set(font_scale=1.4) # for label size\n",
        "sns.heatmap(round(cm_df_rel, 3), annot=True, annot_kws={\"size\": 13}, fmt='g', ax=axes[1])\n",
        "\n",
        "plt.tight_layout()\n",
        "plt.show()"
      ],
      "execution_count": 25,
      "outputs": [
        {
          "output_type": "display_data",
          "data": {
            "image/png": "[encoded data removed]",
            "text/plain": [
              "<Figure size 720x288 with 4 Axes>"
            ]
          },
          "metadata": {
            "tags": []
          }
        }
      ]
    },
    {
      "cell_type": "code",
      "metadata": {
        "id": "NC7DD4Sp0eGP",
        "colab_type": "code",
        "colab": {
          "base_uri": "https://localhost:8080/",
          "height": 119
        },
        "outputId": "4f2412d3-728d-462d-c217-af07b5aad7fd"
      },
      "source": [
        "for label in label_names:\n",
        "    print(f'Accuracy for {label} is {cm_df_rel[label][label]:.2%}')\n",
        "print(f'Overall accuracy is {(predicted_y == true_y).sum()/len(true_y):.2%}')\n",
        "print(f'Overall F1-score is {f1_score(true_y, predicted_y, average=\"macro\"):.2f}')"
      ],
      "execution_count": 26,
      "outputs": [
        {
          "output_type": "stream",
          "text": [
            "Accuracy for Label 0 is 78.06%\n",
            "Accuracy for Label 1 is 56.84%\n",
            "Accuracy for Label 2 is 30.77%\n",
            "Accuracy for Label 3 is 90.24%\n",
            "Overall accuracy is 71.05%\n",
            "Overall F1-score is 0.62\n"
          ],
          "name": "stdout"
        }
      ]
    }
  ]
}