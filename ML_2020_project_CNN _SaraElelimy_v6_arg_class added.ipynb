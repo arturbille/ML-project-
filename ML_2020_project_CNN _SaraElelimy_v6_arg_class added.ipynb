{
  "nbformat": 4,
  "nbformat_minor": 0,
  "metadata": {
    "accelerator": "GPU",
    "colab": {
      "name": "ML_2020_project CNN.ipynb",
      "provenance": [],
      "collapsed_sections": [],
      "machine_shape": "hm"
    },
    "kernelspec": {
      "display_name": "Python 3",
      "language": "python",
      "name": "python3"
    },
    "language_info": {
      "codemirror_mode": {
        "name": "ipython",
        "version": 3
      },
      "file_extension": ".py",
      "mimetype": "text/x-python",
      "name": "python",
      "nbconvert_exporter": "python",
      "pygments_lexer": "ipython3",
      "version": "3.7.4"
    }
  },
  "cells": [
    {
      "cell_type": "code",
      "metadata": {
        "colab_type": "code",
        "id": "k9odeSZkjcQQ",
        "outputId": "7beb722e-e3c0-4621-c5ec-6add7fff6f69",
        "colab": {
          "base_uri": "https://localhost:8080/",
          "height": 122
        }
      },
      "source": [
        "from google.colab import drive\n",
        "drive.mount('/content/drive')"
      ],
      "execution_count": 1,
      "outputs": [
        {
          "output_type": "stream",
          "text": [
            "Go to this URL in a browser: https://accounts.google.com/o/oauth2/auth?client_id=947318989803-6bn6qk8qdgf4n4g3pfee6491hc0brc4i.apps.googleusercontent.com&redirect_uri=urn%3aietf%3awg%3aoauth%3a2.0%3aoob&response_type=code&scope=email%20https%3a%2f%2fwww.googleapis.com%2fauth%2fdocs.test%20https%3a%2f%2fwww.googleapis.com%2fauth%2fdrive%20https%3a%2f%2fwww.googleapis.com%2fauth%2fdrive.photos.readonly%20https%3a%2f%2fwww.googleapis.com%2fauth%2fpeopleapi.readonly\n",
            "\n",
            "Enter your authorization code:\n",
            "··········\n",
            "Mounted at /content/drive\n"
          ],
          "name": "stdout"
        }
      ]
    },
    {
      "cell_type": "code",
      "metadata": {
        "colab_type": "code",
        "id": "_oK46hgGitlU",
        "outputId": "e526ff62-bac9-4e87-9ba0-341b8c2903d6",
        "colab": {
          "base_uri": "https://localhost:8080/",
          "height": 1000
        }
      },
      "source": [
        "!pip install fiona\n",
        "!pip install rasterio\n",
        "!pip install torchviz\n",
        "!pip install albumentations"
      ],
      "execution_count": 2,
      "outputs": [
        {
          "output_type": "stream",
          "text": [
            "Collecting fiona\n",
            "\u001b[?25l  Downloading https://files.pythonhosted.org/packages/ec/20/4e63bc5c6e62df889297b382c3ccd4a7a488b00946aaaf81a118158c6f09/Fiona-1.8.13.post1-cp36-cp36m-manylinux1_x86_64.whl (14.7MB)\n",
            "\u001b[K     |████████████████████████████████| 14.7MB 209kB/s \n",
            "\u001b[?25hCollecting click-plugins>=1.0\n",
            "  Downloading https://files.pythonhosted.org/packages/e9/da/824b92d9942f4e472702488857914bdd50f73021efea15b4cad9aca8ecef/click_plugins-1.1.1-py2.py3-none-any.whl\n",
            "Requirement already satisfied: six>=1.7 in /usr/local/lib/python3.6/dist-packages (from fiona) (1.12.0)\n",
            "Collecting munch\n",
            "  Downloading https://files.pythonhosted.org/packages/cc/ab/85d8da5c9a45e072301beb37ad7f833cd344e04c817d97e0cc75681d248f/munch-2.5.0-py2.py3-none-any.whl\n",
            "Requirement already satisfied: attrs>=17 in /usr/local/lib/python3.6/dist-packages (from fiona) (19.3.0)\n",
            "Requirement already satisfied: click<8,>=4.0 in /usr/local/lib/python3.6/dist-packages (from fiona) (7.1.1)\n",
            "Collecting cligj>=0.5\n",
            "  Downloading https://files.pythonhosted.org/packages/e4/be/30a58b4b0733850280d01f8bd132591b4668ed5c7046761098d665ac2174/cligj-0.5.0-py3-none-any.whl\n",
            "Installing collected packages: click-plugins, munch, cligj, fiona\n",
            "Successfully installed click-plugins-1.1.1 cligj-0.5.0 fiona-1.8.13.post1 munch-2.5.0\n",
            "Collecting rasterio\n",
            "\u001b[?25l  Downloading https://files.pythonhosted.org/packages/c7/81/13321f88f582a00705c5f348724728e8999136e19d6e7c56f7e6ac9bb7f9/rasterio-1.1.3-cp36-cp36m-manylinux1_x86_64.whl (18.1MB)\n",
            "\u001b[K     |████████████████████████████████| 18.1MB 199kB/s \n",
            "\u001b[?25hRequirement already satisfied: cligj>=0.5 in /usr/local/lib/python3.6/dist-packages (from rasterio) (0.5.0)\n",
            "Requirement already satisfied: click<8,>=4.0 in /usr/local/lib/python3.6/dist-packages (from rasterio) (7.1.1)\n",
            "Requirement already satisfied: click-plugins in /usr/local/lib/python3.6/dist-packages (from rasterio) (1.1.1)\n",
            "Requirement already satisfied: numpy in /usr/local/lib/python3.6/dist-packages (from rasterio) (1.18.2)\n",
            "Collecting snuggs>=1.4.1\n",
            "  Downloading https://files.pythonhosted.org/packages/cc/0e/d27d6e806d6c0d1a2cfdc5d1f088e42339a0a54a09c3343f7f81ec8947ea/snuggs-1.4.7-py3-none-any.whl\n",
            "Collecting affine\n",
            "  Downloading https://files.pythonhosted.org/packages/ac/a6/1a39a1ede71210e3ddaf623982b06ecfc5c5c03741ae659073159184cd3e/affine-2.3.0-py2.py3-none-any.whl\n",
            "Requirement already satisfied: attrs in /usr/local/lib/python3.6/dist-packages (from rasterio) (19.3.0)\n",
            "Requirement already satisfied: pyparsing>=2.1.6 in /usr/local/lib/python3.6/dist-packages (from snuggs>=1.4.1->rasterio) (2.4.6)\n",
            "Installing collected packages: snuggs, affine, rasterio\n",
            "Successfully installed affine-2.3.0 rasterio-1.1.3 snuggs-1.4.7\n",
            "Collecting torchviz\n",
            "\u001b[?25l  Downloading https://files.pythonhosted.org/packages/8f/8e/a9630c7786b846d08b47714dd363a051f5e37b4ea0e534460d8cdfc1644b/torchviz-0.0.1.tar.gz (41kB)\n",
            "\u001b[K     |████████████████████████████████| 51kB 3.5MB/s \n",
            "\u001b[?25hRequirement already satisfied: torch in /usr/local/lib/python3.6/dist-packages (from torchviz) (1.4.0)\n",
            "Requirement already satisfied: graphviz in /usr/local/lib/python3.6/dist-packages (from torchviz) (0.10.1)\n",
            "Building wheels for collected packages: torchviz\n",
            "  Building wheel for torchviz (setup.py) ... \u001b[?25l\u001b[?25hdone\n",
            "  Created wheel for torchviz: filename=torchviz-0.0.1-cp36-none-any.whl size=3523 sha256=d57475183b369e396fa44b5efe58f458084cf7ea3da64e81e22c01a41deb21fe\n",
            "  Stored in directory: /root/.cache/pip/wheels/2a/c2/c5/b8b4d0f7992c735f6db5bfa3c5f354cf36502037ca2b585667\n",
            "Successfully built torchviz\n",
            "Installing collected packages: torchviz\n",
            "Successfully installed torchviz-0.0.1\n",
            "Requirement already satisfied: albumentations in /usr/local/lib/python3.6/dist-packages (0.1.12)\n",
            "Collecting imgaug<0.2.7,>=0.2.5\n",
            "\u001b[?25l  Downloading https://files.pythonhosted.org/packages/ad/2e/748dbb7bb52ec8667098bae9b585f448569ae520031932687761165419a2/imgaug-0.2.6.tar.gz (631kB)\n",
            "\u001b[K     |████████████████████████████████| 634kB 4.9MB/s \n",
            "\u001b[?25hRequirement already satisfied: opencv-python in /usr/local/lib/python3.6/dist-packages (from albumentations) (4.1.2.30)\n",
            "Requirement already satisfied: scipy in /usr/local/lib/python3.6/dist-packages (from albumentations) (1.4.1)\n",
            "Requirement already satisfied: numpy>=1.11.1 in /usr/local/lib/python3.6/dist-packages (from albumentations) (1.18.2)\n",
            "Requirement already satisfied: scikit-image>=0.11.0 in /usr/local/lib/python3.6/dist-packages (from imgaug<0.2.7,>=0.2.5->albumentations) (0.16.2)\n",
            "Requirement already satisfied: six in /usr/local/lib/python3.6/dist-packages (from imgaug<0.2.7,>=0.2.5->albumentations) (1.12.0)\n",
            "Requirement already satisfied: networkx>=2.0 in /usr/local/lib/python3.6/dist-packages (from scikit-image>=0.11.0->imgaug<0.2.7,>=0.2.5->albumentations) (2.4)\n",
            "Requirement already satisfied: PyWavelets>=0.4.0 in /usr/local/lib/python3.6/dist-packages (from scikit-image>=0.11.0->imgaug<0.2.7,>=0.2.5->albumentations) (1.1.1)\n",
            "Requirement already satisfied: imageio>=2.3.0 in /usr/local/lib/python3.6/dist-packages (from scikit-image>=0.11.0->imgaug<0.2.7,>=0.2.5->albumentations) (2.4.1)\n",
            "Requirement already satisfied: matplotlib!=3.0.0,>=2.0.0 in /usr/local/lib/python3.6/dist-packages (from scikit-image>=0.11.0->imgaug<0.2.7,>=0.2.5->albumentations) (3.2.1)\n",
            "Requirement already satisfied: pillow>=4.3.0 in /usr/local/lib/python3.6/dist-packages (from scikit-image>=0.11.0->imgaug<0.2.7,>=0.2.5->albumentations) (7.0.0)\n",
            "Requirement already satisfied: decorator>=4.3.0 in /usr/local/lib/python3.6/dist-packages (from networkx>=2.0->scikit-image>=0.11.0->imgaug<0.2.7,>=0.2.5->albumentations) (4.4.2)\n",
            "Requirement already satisfied: cycler>=0.10 in /usr/local/lib/python3.6/dist-packages (from matplotlib!=3.0.0,>=2.0.0->scikit-image>=0.11.0->imgaug<0.2.7,>=0.2.5->albumentations) (0.10.0)\n",
            "Requirement already satisfied: kiwisolver>=1.0.1 in /usr/local/lib/python3.6/dist-packages (from matplotlib!=3.0.0,>=2.0.0->scikit-image>=0.11.0->imgaug<0.2.7,>=0.2.5->albumentations) (1.1.0)\n",
            "Requirement already satisfied: python-dateutil>=2.1 in /usr/local/lib/python3.6/dist-packages (from matplotlib!=3.0.0,>=2.0.0->scikit-image>=0.11.0->imgaug<0.2.7,>=0.2.5->albumentations) (2.8.1)\n",
            "Requirement already satisfied: pyparsing!=2.0.4,!=2.1.2,!=2.1.6,>=2.0.1 in /usr/local/lib/python3.6/dist-packages (from matplotlib!=3.0.0,>=2.0.0->scikit-image>=0.11.0->imgaug<0.2.7,>=0.2.5->albumentations) (2.4.6)\n",
            "Requirement already satisfied: setuptools in /usr/local/lib/python3.6/dist-packages (from kiwisolver>=1.0.1->matplotlib!=3.0.0,>=2.0.0->scikit-image>=0.11.0->imgaug<0.2.7,>=0.2.5->albumentations) (46.0.0)\n",
            "Building wheels for collected packages: imgaug\n",
            "  Building wheel for imgaug (setup.py) ... \u001b[?25l\u001b[?25hdone\n",
            "  Created wheel for imgaug: filename=imgaug-0.2.6-cp36-none-any.whl size=654020 sha256=8cc92e3420c3c6a207a04f46e57190244b367db48bbf057f7a5287357e80181a\n",
            "  Stored in directory: /root/.cache/pip/wheels/97/ec/48/0d25896c417b715af6236dbcef8f0bed136a1a5e52972fc6d0\n",
            "Successfully built imgaug\n",
            "Installing collected packages: imgaug\n",
            "  Found existing installation: imgaug 0.2.9\n",
            "    Uninstalling imgaug-0.2.9:\n",
            "      Successfully uninstalled imgaug-0.2.9\n",
            "Successfully installed imgaug-0.2.6\n"
          ],
          "name": "stdout"
        }
      ]
    },
    {
      "cell_type": "code",
      "metadata": {
        "colab_type": "code",
        "id": "jjLHfm2jj_H_",
        "colab": {}
      },
      "source": [
        "import sys\n",
        "sys.path.append('/content/drive/My Drive/Weak_Learners_ML2020')"
      ],
      "execution_count": 0,
      "outputs": []
    },
    {
      "cell_type": "code",
      "metadata": {
        "id": "N5WdLGahpbzi",
        "colab_type": "code",
        "colab": {}
      },
      "source": [
        "import scipy\n",
        "import numpy as np\n",
        "import seaborn as sns\n",
        "import fiona\n",
        "import rasterio\n",
        "from shapely import geometry\n",
        "from rasterio.mask import mask\n",
        "\n",
        "def extractor(frame,points,size=7,normalize=True,labeling=False):\n",
        "  '''\n",
        "  The extractor fuction takes in three paramters:\n",
        "  \n",
        "    1. frame - The image to be subdevided. Resterio type file\n",
        "    2. points - fiona collection file with coordinates of points\n",
        "    3. size - size of the window\n",
        "    4. data normalization - normolize the data boolean\n",
        "    5. require labels if the data containes labels. Boolean\n",
        "    \n",
        "  Return:\n",
        "  \n",
        "    1. List of bathces with the give size\n",
        "    2. List of coordinates\n",
        "    3. List of labels\n",
        "  ~~~~~~~~~~~~~~~~~~~~~~~~~~~~~~~~~~~~~~~~~~~~~~~~~~~~  \n",
        "  Example:\n",
        "      frame = rasterio.open(\"pp_1_sat_modified1.tif\")\n",
        "      points = fiona.open(\"alltreepoints1.shp\", \"r\")\n",
        "      collection = extractor(frame,points,size=7)\n",
        "  ~~~~~~~~~~~~~~~~~~~~~~~~~~~~~~~~~~~~~~~~~~~~~~~~~~~~   \n",
        "  '''\n",
        "  img = frame.read((5,3,2)).T.astype('uint32')\n",
        "  if normalize:\n",
        "    img = img/np.max(img)\n",
        "\n",
        "  assert img.shape[1]>img.shape[2], \"channles are in the right place!\"+str(img.shape)\n",
        "  map_tree_speices = {'е':0, 'б':1, 'п':2, \"El'\":0, \"Bereza\":1, \"Pichta\":2, \"Sosna\":3} \n",
        "  img_point,locations,labels = [],[],[]\n",
        "\n",
        "  for p in range(len(points)):\n",
        "\n",
        "        try:  \n",
        "              point = np.array(frame.index(*points[p]['geometry']['coordinates']))\n",
        "              box = img[(point[1]-size):point[1]+size,\n",
        "                        (point[0]-size):point[0]+size,:].copy()\n",
        "              if labeling:\n",
        "                  labels.append(map_tree_speices[ points[p]['properties']['specie'] ]) \n",
        "              img_point.append(box)\n",
        "              locations.append(point)\n",
        "              del box\n",
        "        except:\n",
        "              print(\"None coordinate/close to edge\")\n",
        "  return img_point, locations, labels"
      ],
      "execution_count": 0,
      "outputs": []
    },
    {
      "cell_type": "code",
      "metadata": {
        "colab_type": "code",
        "id": "7o3VEujZiQZR",
        "colab": {}
      },
      "source": [
        "import scipy\n",
        "import numpy as np\n",
        "import pandas as pd\n",
        "\n",
        "import matplotlib.pyplot as plt\n",
        "import seaborn as sns\n",
        "sns.set()\n",
        "\n",
        "import fiona\n",
        "import rasterio\n",
        "from shapely import geometry\n",
        "from rasterio.mask import mask\n",
        "from tqdm import tqdm_notebook\n",
        "\n",
        "from sklearn.model_selection import train_test_split\n",
        "from sklearn.metrics import accuracy_score, f1_score, roc_curve, confusion_matrix\n",
        "\n",
        "# from extractor_helper import extractor"
      ],
      "execution_count": 0,
      "outputs": []
    },
    {
      "cell_type": "markdown",
      "metadata": {
        "id": "3cQMAr2xR8gG",
        "colab_type": "text"
      },
      "source": [
        "# CNN"
      ]
    },
    {
      "cell_type": "code",
      "metadata": {
        "id": "18ynQIZoRWHR",
        "colab_type": "code",
        "colab": {}
      },
      "source": [
        "import torch\n",
        "import torch.nn as nn\n",
        "import torch.utils.data as torch_data\n",
        "from torchviz import make_dot, make_dot_from_trace\n",
        "import torchvision.transforms as transforms\n",
        "\n",
        "import albumentations as A\n",
        "from albumentations.pytorch import ToTensor"
      ],
      "execution_count": 0,
      "outputs": []
    },
    {
      "cell_type": "markdown",
      "metadata": {
        "id": "0Kmw5uESTdbK",
        "colab_type": "text"
      },
      "source": [
        "**Get data**"
      ]
    },
    {
      "cell_type": "code",
      "metadata": {
        "id": "Jjln7zdY7zqX",
        "colab_type": "code",
        "colab": {}
      },
      "source": [
        "SIZE = 8"
      ],
      "execution_count": 0,
      "outputs": []
    },
    {
      "cell_type": "code",
      "metadata": {
        "colab_type": "code",
        "id": "Gvvi4Z7xvxdh",
        "colab": {}
      },
      "source": [
        "test2_img = rasterio.open(\"/content/drive/My Drive/Weak_Learners_ML2020/Eval/test2/pp_2_sat_modified.tif\")\n",
        "test2_points = fiona.open(\"/content/drive/My Drive/Weak_Learners_ML2020/Eval/test2/points_2_modified_Copy.shp\", \"r\")\n",
        "\n",
        "test3_img = rasterio.open(\"/content/drive/My Drive/Weak_Learners_ML2020/Eval/test3/pp_3_sat_modified.tif\")\n",
        "test3_points = fiona.open(\"/content/drive/My Drive/Weak_Learners_ML2020/Eval/test3/targets_Copy.shp\", \"r\")\n",
        "\n",
        "test4_img = rasterio.open(\"/content/drive/My Drive/Weak_Learners_ML2020/Eval/test4/pp_4_sat_modified_spline.tif\")\n",
        "test4_points = fiona.open(\"/content/drive/My Drive/Weak_Learners_ML2020/Eval/test4/modified_points_Copy.shp\", \"r\")"
      ],
      "execution_count": 0,
      "outputs": []
    },
    {
      "cell_type": "code",
      "metadata": {
        "colab_type": "code",
        "id": "9SByHP79vxMW",
        "outputId": "580fff80-86b8-4600-9911-48f41f555ce4",
        "colab": {
          "base_uri": "https://localhost:8080/",
          "height": 595
        }
      },
      "source": [
        "patch2, coordinates2, labels2, = extractor(test2_img, test2_points, size=SIZE, normalize=True, labeling=True)\n",
        "patch3, coordinates3, labels3, = extractor(test3_img, test3_points, size=SIZE, normalize=True, labeling=True)\n",
        "patch4, coordinates4, labels4, = extractor(test4_img, test4_points, size=SIZE, normalize=True, labeling=True)"
      ],
      "execution_count": 9,
      "outputs": [
        {
          "output_type": "stream",
          "text": [
            "None coordinate/close to edge\n",
            "None coordinate/close to edge\n",
            "None coordinate/close to edge\n",
            "None coordinate/close to edge\n",
            "None coordinate/close to edge\n",
            "None coordinate/close to edge\n",
            "None coordinate/close to edge\n",
            "None coordinate/close to edge\n",
            "None coordinate/close to edge\n",
            "None coordinate/close to edge\n",
            "None coordinate/close to edge\n",
            "None coordinate/close to edge\n",
            "None coordinate/close to edge\n",
            "None coordinate/close to edge\n",
            "None coordinate/close to edge\n",
            "None coordinate/close to edge\n",
            "None coordinate/close to edge\n",
            "None coordinate/close to edge\n",
            "None coordinate/close to edge\n",
            "None coordinate/close to edge\n",
            "None coordinate/close to edge\n",
            "None coordinate/close to edge\n",
            "None coordinate/close to edge\n",
            "None coordinate/close to edge\n",
            "None coordinate/close to edge\n",
            "None coordinate/close to edge\n",
            "None coordinate/close to edge\n",
            "None coordinate/close to edge\n",
            "None coordinate/close to edge\n",
            "None coordinate/close to edge\n",
            "None coordinate/close to edge\n",
            "None coordinate/close to edge\n",
            "None coordinate/close to edge\n",
            "None coordinate/close to edge\n"
          ],
          "name": "stdout"
        }
      ]
    },
    {
      "cell_type": "code",
      "metadata": {
        "colab_type": "code",
        "id": "p4lqYUulvw9m",
        "colab": {
          "base_uri": "https://localhost:8080/",
          "height": 34
        },
        "outputId": "5d3417bf-af5f-4fd7-f800-fe32a1d0fc86"
      },
      "source": [
        "# patch2,patch3, patch4 = np.array(patch2), np.array(patch3), np.array(patch4)\n",
        "# labels2, labels3, labels4 = np.array(labels2), np.array(labels3), np.array(labels4)\n",
        "# patch2, patch3, patch4 = np.moveaxis(patch2,3,1), np.moveaxis(patch3,3,1), np.moveaxis(patch4,3,1)\n",
        "\n",
        "patch = np.concatenate((patch2, patch3, patch4),axis=0)\n",
        "labels = np.concatenate((labels2,labels3,labels4),axis=0)\n",
        "print(patch.shape)"
      ],
      "execution_count": 10,
      "outputs": [
        {
          "output_type": "stream",
          "text": [
            "(1012, 16, 16, 3)\n"
          ],
          "name": "stdout"
        }
      ]
    },
    {
      "cell_type": "code",
      "metadata": {
        "id": "1V5-TIhHxVf2",
        "colab_type": "code",
        "colab": {}
      },
      "source": [
        "augmentation_pipeline = A.Compose(\n",
        "    [\n",
        "        A.HorizontalFlip(p = 0.5), # apply horizontal flip to 50% of images\n",
        "        A.OneOf(\n",
        "            [\n",
        "                # apply one of transforms to 50% of images\n",
        "                A.RandomContrast(),\n",
        "                A.RandomGamma(),\n",
        "                A.RandomBrightness(),\n",
        "                A.RandomRotate90(),\n",
        "                A.Transpose(),\n",
        "                A.ShiftScaleRotate(shift_limit=0.0625, scale_limit=0.50, rotate_limit=45, p=.75),\n",
        "                A.Blur(blur_limit=3),\n",
        "                A.OpticalDistortion(),\n",
        "                A.GridDistortion(),\n",
        "            ],\n",
        "            p = 0.5\n",
        "        ),\n",
        "        \n",
        "        ToTensor() # convert the image to PyTorch tensor\n",
        "    ],\n",
        "    p = 1\n",
        ")"
      ],
      "execution_count": 0,
      "outputs": []
    },
    {
      "cell_type": "code",
      "metadata": {
        "id": "FC4-gWh2XHYc",
        "colab_type": "code",
        "colab": {}
      },
      "source": [
        "class TreesData():\n",
        "  def __init__(self, X, y, aug_pipeline=None):\n",
        "    super().__init__()\n",
        "    # if is_train:\n",
        "    #   self.X = torch.tensor(X, dtype=torch.float32)\n",
        "    # else:\n",
        "    self.X = X\n",
        "    self.y = torch.tensor(y, dtype=torch.long)\n",
        "    if aug_pipeline:\n",
        "        self.aug_pipeline = aug_pipeline\n",
        "    else:\n",
        "        self.aug_pipeline = A.Compose([ToTensor()], p=1)\n",
        "    \n",
        "  def __len__(self):\n",
        "    return self.X.shape[0]\n",
        "  \n",
        "  def __getitem__(self, idx):\n",
        "    augmented = self.aug_pipeline(image = self.X[idx])['image']\n",
        "    return augmented, self.y[idx]"
      ],
      "execution_count": 0,
      "outputs": []
    },
    {
      "cell_type": "code",
      "metadata": {
        "id": "ECcBUUtrwJT4",
        "colab_type": "code",
        "colab": {
          "base_uri": "https://localhost:8080/",
          "height": 85
        },
        "outputId": "a2af3775-7331-46f9-ff26-c1a7d7f81d77"
      },
      "source": [
        "# Data proportions\n",
        "unique, counts = np.unique(labels, return_counts=True)\n",
        "for label, count in zip(unique, counts):\n",
        "    print(f'Label \"{label}\" has {count:3} instances, which is {count/len(labels):6.2%} of the total number of instances')"
      ],
      "execution_count": 13,
      "outputs": [
        {
          "output_type": "stream",
          "text": [
            "Label \"0\" has 518 instances, which is 51.19% of the total number of instances\n",
            "Label \"1\" has 315 instances, which is 31.13% of the total number of instances\n",
            "Label \"2\" has  42 instances, which is  4.15% of the total number of instances\n",
            "Label \"3\" has 137 instances, which is 13.54% of the total number of instances\n"
          ],
          "name": "stdout"
        }
      ]
    },
    {
      "cell_type": "code",
      "metadata": {
        "id": "Ph1dAP7cUIPC",
        "colab_type": "code",
        "colab": {}
      },
      "source": [
        "# We do stratified splitting to have balanced train and test set.\n",
        "x_train, x_test, y_train, y_test = train_test_split(patch, labels, test_size=.3, shuffle=True, stratify=labels, random_state=42)"
      ],
      "execution_count": 0,
      "outputs": []
    },
    {
      "cell_type": "code",
      "metadata": {
        "id": "GsRl2F0YXQZC",
        "colab_type": "code",
        "colab": {}
      },
      "source": [
        "train_data = TreesData(x_train, y_train, augmentation_pipeline)\n",
        "test_data = TreesData(x_test, y_test)"
      ],
      "execution_count": 0,
      "outputs": []
    },
    {
      "cell_type": "markdown",
      "metadata": {
        "id": "V2OkC-cuTfl9",
        "colab_type": "text"
      },
      "source": [
        "**Define model**"
      ]
    },
    {
      "cell_type": "code",
      "metadata": {
        "id": "h3adbdx98Ln8",
        "colab_type": "code",
        "colab": {}
      },
      "source": [
        "from math import ceil"
      ],
      "execution_count": 0,
      "outputs": []
    },
    {
      "cell_type": "code",
      "metadata": {
        "id": "JmmKoKK1g0ZV",
        "colab_type": "code",
        "colab": {}
      },
      "source": [
        "LAST_LAYER_SIZE = ceil(ceil(SIZE*2/2)/2)\n",
        "\n",
        "CNN = lambda: nn.Sequential(\n",
        "  \n",
        "  nn.Conv2d(3,64,2, padding=1),\n",
        "  nn.MaxPool2d(2,2),\n",
        "  nn.ReLU(),\n",
        "  nn.Dropout(0.5),\n",
        "\n",
        "  nn.Conv2d(64,128,2, padding=1),\n",
        "  nn.MaxPool2d(2,2),\n",
        "  nn.ReLU(),\n",
        "  nn.Dropout(0.5),\n",
        "\n",
        "  nn.Flatten(),\n",
        "  nn.Linear(128*LAST_LAYER_SIZE*LAST_LAYER_SIZE, 4),\n",
        ")"
      ],
      "execution_count": 0,
      "outputs": []
    },
    {
      "cell_type": "markdown",
      "metadata": {
        "id": "Q7sZ2mLVT2u4",
        "colab_type": "text"
      },
      "source": [
        "**Train model**"
      ]
    },
    {
      "cell_type": "code",
      "metadata": {
        "id": "F3-PofELYAWn",
        "colab_type": "code",
        "colab": {}
      },
      "source": [
        "def train(epochs, net, criterion, optimizer,\n",
        "          train_loader, val_loader, scheduler=None,\n",
        "          verbose=True, save_dir=None):\n",
        "  \n",
        "  net.to(device)\n",
        "  train_loss_history = []\n",
        "  val_loss_history = []\n",
        "  val_loss_not_improved = 0\n",
        "  best_val_loss = 999\n",
        "  for epoch in range(1,epochs+1):\n",
        "    net.train()\n",
        "    total_instances = 0\n",
        "    matched = 0\n",
        "    train_loss = 0\n",
        "    for X, y in train_loader:\n",
        "      X = X.to(device)\n",
        "      y = y.to(device)\n",
        "      pred = net(X)\n",
        "      loss = criterion(pred, y)\n",
        "      train_loss += loss.item()\n",
        "      optimizer.zero_grad()\n",
        "      loss.backward()\n",
        "      optimizer.step()\n",
        "\n",
        "      train_pred_arg = np.argmax(pred.cpu().detach(), axis=1)\n",
        "      matched += (train_pred_arg == y.cpu().detach()).sum()\n",
        "      total_instances += len(train_pred_arg)\n",
        "    train_acc = matched.item()/total_instances\n",
        "   \n",
        "    net.eval()\n",
        "    total_instances = 0\n",
        "    matched = 0\n",
        "    predicted_y = np.array([])\n",
        "    predicted_y_percent = np.array([])\n",
        "    true_y = np.array([])\n",
        "    val_loss = 0\n",
        "    for X, y in val_loader:\n",
        "      X = X.to(device)\n",
        "      y = y.to(device)\n",
        "      val_pred = net(X)\n",
        "      val_loss += criterion(val_pred, y).item()\n",
        "\n",
        "      predicted_y_percent = np.concatenate((predicted_y_percent, val_pred.cpu().detach()), axis=None)\n",
        "      predicted_y = np.concatenate((predicted_y, np.argmax(val_pred.cpu().detach(), axis=1)), axis=None)\n",
        "      true_y = np.concatenate((true_y, y.cpu().detach()), axis=None)\n",
        "    \n",
        "    train_loss /= len(train_loader)\n",
        "    val_loss /= len(val_loader)\n",
        "    val_acc = (predicted_y == true_y).sum()/len(true_y)\n",
        "\n",
        "    train_loss_history.append(train_loss)\n",
        "    val_loss_history.append(val_loss)\n",
        "  \n",
        "    if scheduler is not None:\n",
        "      schduler.step()\n",
        "    \n",
        "    if verbose:\n",
        "      print('Epoch {:3}/{} || Loss:  Train {:.6f} | Validation {:.6f} || Accuracy: Train {:.2%} | Validation {:.2%} || F1-score {:.2f}'\\\n",
        "            .format(epoch, epochs, train_loss, val_loss, train_acc, val_acc, f1_score(true_y, predicted_y, average='macro')))\n",
        "      \n",
        "    if best_val_loss > val_loss:\n",
        "      best_val_loss = val_loss\n",
        "      val_loss_not_improved = 0\n",
        "    else:\n",
        "      val_loss_not_improved += 1\n",
        "\n",
        "    if val_loss_not_improved == 25:\n",
        "      break\n",
        "\n",
        "  return predicted_y, predicted_y_percent, true_y, train_loss_history, val_loss_history"
      ],
      "execution_count": 0,
      "outputs": []
    },
    {
      "cell_type": "code",
      "metadata": {
        "id": "fTB3kDymTt2A",
        "colab_type": "code",
        "colab": {
          "base_uri": "https://localhost:8080/",
          "height": 255
        },
        "outputId": "7655fb25-89b6-49e9-fb32-c3c41ec3df18"
      },
      "source": [
        "device = torch.device('cuda:0' if torch.cuda.is_available() else 'cpu')\n",
        "net = CNN()\n",
        "weights = torch.tensor([1,1,5,1], dtype=torch.float32).to(device)\n",
        "criterion = nn.CrossEntropyLoss(weight=weights)\n",
        "optimizer = torch.optim.Adam(net.parameters())\n",
        "scheduler = None\n",
        "train_loader = torch_data.DataLoader(train_data, batch_size=50, shuffle=True)\n",
        "val_loader = torch_data.DataLoader(test_data, batch_size=10, shuffle=True)\n",
        "\n",
        "print('\\t\\t\\t=== MODEL ===\\n\\t\\t\\t=============')\n",
        "print(net)"
      ],
      "execution_count": 19,
      "outputs": [
        {
          "output_type": "stream",
          "text": [
            "\t\t\t=== MODEL ===\n",
            "\t\t\t=============\n",
            "Sequential(\n",
            "  (0): Conv2d(3, 64, kernel_size=(2, 2), stride=(1, 1), padding=(1, 1))\n",
            "  (1): MaxPool2d(kernel_size=2, stride=2, padding=0, dilation=1, ceil_mode=False)\n",
            "  (2): ReLU()\n",
            "  (3): Dropout(p=0.5, inplace=False)\n",
            "  (4): Conv2d(64, 128, kernel_size=(2, 2), stride=(1, 1), padding=(1, 1))\n",
            "  (5): MaxPool2d(kernel_size=2, stride=2, padding=0, dilation=1, ceil_mode=False)\n",
            "  (6): ReLU()\n",
            "  (7): Dropout(p=0.5, inplace=False)\n",
            "  (8): Flatten()\n",
            "  (9): Linear(in_features=2048, out_features=4, bias=True)\n",
            ")\n"
          ],
          "name": "stdout"
        }
      ]
    },
    {
      "cell_type": "code",
      "metadata": {
        "id": "QVfKM6eP6NBG",
        "colab_type": "code",
        "colab": {
          "base_uri": "https://localhost:8080/",
          "height": 1000
        },
        "outputId": "9a7b029f-8ecb-4f79-943a-015637670f6e"
      },
      "source": [
        "epochs = 500\n",
        "predicted_y, predicted_y_percent, true_y, train_loss_history, val_loss_history = train(epochs, net, criterion, optimizer, train_loader, val_loader, scheduler)\n",
        "predicted_y_percent = torch.softmax(torch.tensor(predicted_y_percent.reshape(-1, 4)), axis=1).detach().numpy()"
      ],
      "execution_count": 21,
      "outputs": [
        {
          "output_type": "stream",
          "text": [
            "Epoch   1/500 || Loss:  Train 1.253429 | Validation 1.232521 || Accuracy: Train 50.00% | Validation 50.99% || F1-score 0.17\n",
            "Epoch   2/500 || Loss:  Train 1.223167 | Validation 1.188463 || Accuracy: Train 51.41% | Validation 52.30% || F1-score 0.23\n",
            "Epoch   3/500 || Loss:  Train 1.133600 | Validation 1.114807 || Accuracy: Train 52.97% | Validation 46.05% || F1-score 0.22\n",
            "Epoch   4/500 || Loss:  Train 1.104376 | Validation 1.086210 || Accuracy: Train 51.55% | Validation 40.79% || F1-score 0.33\n",
            "Epoch   5/500 || Loss:  Train 1.065320 | Validation 1.070804 || Accuracy: Train 51.41% | Validation 44.08% || F1-score 0.40\n",
            "Epoch   6/500 || Loss:  Train 1.059575 | Validation 1.040120 || Accuracy: Train 54.10% | Validation 40.79% || F1-score 0.37\n",
            "Epoch   7/500 || Loss:  Train 1.010972 | Validation 1.003421 || Accuracy: Train 57.34% | Validation 44.74% || F1-score 0.38\n",
            "Epoch   8/500 || Loss:  Train 1.019285 | Validation 0.987276 || Accuracy: Train 57.91% | Validation 57.57% || F1-score 0.43\n",
            "Epoch   9/500 || Loss:  Train 1.016250 | Validation 1.026965 || Accuracy: Train 57.06% | Validation 52.30% || F1-score 0.40\n",
            "Epoch  10/500 || Loss:  Train 0.984212 | Validation 1.014143 || Accuracy: Train 57.63% | Validation 50.33% || F1-score 0.39\n",
            "Epoch  11/500 || Loss:  Train 1.013600 | Validation 0.980105 || Accuracy: Train 58.33% | Validation 53.62% || F1-score 0.42\n",
            "Epoch  12/500 || Loss:  Train 0.986051 | Validation 0.957753 || Accuracy: Train 57.63% | Validation 61.84% || F1-score 0.41\n",
            "Epoch  13/500 || Loss:  Train 0.977079 | Validation 0.912552 || Accuracy: Train 58.47% | Validation 54.61% || F1-score 0.46\n",
            "Epoch  14/500 || Loss:  Train 0.983809 | Validation 0.938937 || Accuracy: Train 58.47% | Validation 53.29% || F1-score 0.48\n",
            "Epoch  15/500 || Loss:  Train 0.945765 | Validation 0.948160 || Accuracy: Train 48.02% | Validation 52.96% || F1-score 0.43\n",
            "Epoch  16/500 || Loss:  Train 0.951288 | Validation 0.958387 || Accuracy: Train 61.16% | Validation 65.13% || F1-score 0.53\n",
            "Epoch  17/500 || Loss:  Train 0.922437 | Validation 0.925229 || Accuracy: Train 62.57% | Validation 61.84% || F1-score 0.49\n",
            "Epoch  18/500 || Loss:  Train 0.923249 | Validation 0.933269 || Accuracy: Train 62.43% | Validation 63.49% || F1-score 0.53\n",
            "Epoch  19/500 || Loss:  Train 0.923231 | Validation 0.920984 || Accuracy: Train 62.57% | Validation 55.59% || F1-score 0.48\n",
            "Epoch  20/500 || Loss:  Train 0.905842 | Validation 0.914915 || Accuracy: Train 59.04% | Validation 55.92% || F1-score 0.50\n",
            "Epoch  21/500 || Loss:  Train 0.928513 | Validation 0.911384 || Accuracy: Train 63.28% | Validation 61.51% || F1-score 0.53\n",
            "Epoch  22/500 || Loss:  Train 0.900427 | Validation 0.919259 || Accuracy: Train 65.11% | Validation 58.22% || F1-score 0.45\n",
            "Epoch  23/500 || Loss:  Train 0.908201 | Validation 0.917360 || Accuracy: Train 58.76% | Validation 62.17% || F1-score 0.55\n",
            "Epoch  24/500 || Loss:  Train 0.928588 | Validation 0.938052 || Accuracy: Train 63.28% | Validation 57.89% || F1-score 0.49\n",
            "Epoch  25/500 || Loss:  Train 0.902321 | Validation 0.880535 || Accuracy: Train 62.43% | Validation 62.17% || F1-score 0.51\n",
            "Epoch  26/500 || Loss:  Train 0.930793 | Validation 0.877007 || Accuracy: Train 62.01% | Validation 60.20% || F1-score 0.54\n",
            "Epoch  27/500 || Loss:  Train 0.870083 | Validation 0.902512 || Accuracy: Train 61.86% | Validation 55.59% || F1-score 0.51\n",
            "Epoch  28/500 || Loss:  Train 0.894762 | Validation 0.892010 || Accuracy: Train 64.69% | Validation 62.83% || F1-score 0.54\n",
            "Epoch  29/500 || Loss:  Train 0.883809 | Validation 0.918697 || Accuracy: Train 63.56% | Validation 60.53% || F1-score 0.54\n",
            "Epoch  30/500 || Loss:  Train 0.880191 | Validation 0.878270 || Accuracy: Train 62.85% | Validation 64.14% || F1-score 0.54\n",
            "Epoch  31/500 || Loss:  Train 0.868373 | Validation 0.858630 || Accuracy: Train 64.12% | Validation 64.47% || F1-score 0.56\n",
            "Epoch  32/500 || Loss:  Train 0.920831 | Validation 0.870038 || Accuracy: Train 63.28% | Validation 60.20% || F1-score 0.56\n",
            "Epoch  33/500 || Loss:  Train 0.906665 | Validation 0.871250 || Accuracy: Train 63.70% | Validation 68.42% || F1-score 0.51\n",
            "Epoch  34/500 || Loss:  Train 0.859894 | Validation 0.882536 || Accuracy: Train 59.32% | Validation 58.22% || F1-score 0.55\n",
            "Epoch  35/500 || Loss:  Train 0.877481 | Validation 0.852881 || Accuracy: Train 67.09% | Validation 69.08% || F1-score 0.53\n",
            "Epoch  36/500 || Loss:  Train 0.886704 | Validation 0.883304 || Accuracy: Train 59.60% | Validation 63.16% || F1-score 0.58\n",
            "Epoch  37/500 || Loss:  Train 0.870918 | Validation 0.872210 || Accuracy: Train 65.11% | Validation 65.79% || F1-score 0.49\n",
            "Epoch  38/500 || Loss:  Train 0.891771 | Validation 0.869553 || Accuracy: Train 62.29% | Validation 63.49% || F1-score 0.59\n",
            "Epoch  39/500 || Loss:  Train 0.891416 | Validation 0.862449 || Accuracy: Train 64.27% | Validation 66.45% || F1-score 0.54\n",
            "Epoch  40/500 || Loss:  Train 0.862389 | Validation 0.872226 || Accuracy: Train 67.37% | Validation 65.46% || F1-score 0.51\n",
            "Epoch  41/500 || Loss:  Train 0.874228 | Validation 0.863316 || Accuracy: Train 62.99% | Validation 68.42% || F1-score 0.59\n",
            "Epoch  42/500 || Loss:  Train 0.870632 | Validation 0.853855 || Accuracy: Train 67.23% | Validation 69.08% || F1-score 0.53\n",
            "Epoch  43/500 || Loss:  Train 0.871520 | Validation 0.859472 || Accuracy: Train 63.98% | Validation 63.49% || F1-score 0.58\n",
            "Epoch  44/500 || Loss:  Train 0.881782 | Validation 0.835968 || Accuracy: Train 66.81% | Validation 71.05% || F1-score 0.54\n",
            "Epoch  45/500 || Loss:  Train 0.841313 | Validation 0.850593 || Accuracy: Train 69.07% | Validation 65.46% || F1-score 0.58\n",
            "Epoch  46/500 || Loss:  Train 0.847272 | Validation 0.838096 || Accuracy: Train 64.97% | Validation 66.45% || F1-score 0.59\n",
            "Epoch  47/500 || Loss:  Train 0.847231 | Validation 0.846441 || Accuracy: Train 69.21% | Validation 71.38% || F1-score 0.54\n",
            "Epoch  48/500 || Loss:  Train 0.864514 | Validation 0.850521 || Accuracy: Train 68.22% | Validation 69.41% || F1-score 0.62\n",
            "Epoch  49/500 || Loss:  Train 0.833664 | Validation 0.838281 || Accuracy: Train 64.41% | Validation 71.71% || F1-score 0.63\n",
            "Epoch  50/500 || Loss:  Train 0.888321 | Validation 0.830970 || Accuracy: Train 72.18% | Validation 70.39% || F1-score 0.59\n",
            "Epoch  51/500 || Loss:  Train 0.879398 | Validation 0.857014 || Accuracy: Train 65.68% | Validation 66.78% || F1-score 0.61\n",
            "Epoch  52/500 || Loss:  Train 0.843426 | Validation 0.829608 || Accuracy: Train 64.12% | Validation 70.39% || F1-score 0.54\n",
            "Epoch  53/500 || Loss:  Train 0.840047 | Validation 0.830569 || Accuracy: Train 70.76% | Validation 72.04% || F1-score 0.60\n",
            "Epoch  54/500 || Loss:  Train 0.821021 | Validation 0.875868 || Accuracy: Train 67.51% | Validation 58.22% || F1-score 0.51\n",
            "Epoch  55/500 || Loss:  Train 0.825756 | Validation 0.814326 || Accuracy: Train 66.24% | Validation 69.41% || F1-score 0.61\n",
            "Epoch  56/500 || Loss:  Train 0.831515 | Validation 0.825493 || Accuracy: Train 65.96% | Validation 66.45% || F1-score 0.61\n",
            "Epoch  57/500 || Loss:  Train 0.810604 | Validation 0.846562 || Accuracy: Train 67.80% | Validation 69.08% || F1-score 0.52\n",
            "Epoch  58/500 || Loss:  Train 0.796969 | Validation 0.826556 || Accuracy: Train 69.21% | Validation 68.42% || F1-score 0.60\n",
            "Epoch  59/500 || Loss:  Train 0.825697 | Validation 0.816074 || Accuracy: Train 66.67% | Validation 73.36% || F1-score 0.58\n",
            "Epoch  60/500 || Loss:  Train 0.810497 | Validation 0.795024 || Accuracy: Train 69.77% | Validation 72.04% || F1-score 0.58\n",
            "Epoch  61/500 || Loss:  Train 0.810038 | Validation 0.841057 || Accuracy: Train 67.37% | Validation 68.42% || F1-score 0.59\n",
            "Epoch  62/500 || Loss:  Train 0.781883 | Validation 0.802747 || Accuracy: Train 69.49% | Validation 72.04% || F1-score 0.61\n",
            "Epoch  63/500 || Loss:  Train 0.825976 | Validation 0.796271 || Accuracy: Train 67.80% | Validation 72.04% || F1-score 0.64\n",
            "Epoch  64/500 || Loss:  Train 0.804604 | Validation 0.825483 || Accuracy: Train 66.10% | Validation 68.75% || F1-score 0.61\n",
            "Epoch  65/500 || Loss:  Train 0.818080 | Validation 0.811835 || Accuracy: Train 70.06% | Validation 74.34% || F1-score 0.65\n",
            "Epoch  66/500 || Loss:  Train 0.813196 | Validation 0.840269 || Accuracy: Train 66.10% | Validation 63.82% || F1-score 0.57\n",
            "Epoch  67/500 || Loss:  Train 0.766939 | Validation 0.775068 || Accuracy: Train 66.95% | Validation 70.72% || F1-score 0.62\n",
            "Epoch  68/500 || Loss:  Train 0.775927 | Validation 0.795765 || Accuracy: Train 72.03% | Validation 72.04% || F1-score 0.62\n",
            "Epoch  69/500 || Loss:  Train 0.787393 | Validation 0.808768 || Accuracy: Train 68.64% | Validation 68.75% || F1-score 0.61\n",
            "Epoch  70/500 || Loss:  Train 0.762211 | Validation 0.844486 || Accuracy: Train 71.19% | Validation 68.09% || F1-score 0.58\n",
            "Epoch  71/500 || Loss:  Train 0.813181 | Validation 0.777506 || Accuracy: Train 68.64% | Validation 72.70% || F1-score 0.64\n",
            "Epoch  72/500 || Loss:  Train 0.789177 | Validation 0.794729 || Accuracy: Train 71.89% | Validation 73.03% || F1-score 0.57\n",
            "Epoch  73/500 || Loss:  Train 0.744590 | Validation 0.815900 || Accuracy: Train 74.15% | Validation 70.72% || F1-score 0.62\n",
            "Epoch  74/500 || Loss:  Train 0.847175 | Validation 0.821442 || Accuracy: Train 70.90% | Validation 71.38% || F1-score 0.61\n",
            "Epoch  75/500 || Loss:  Train 0.787776 | Validation 0.805308 || Accuracy: Train 68.50% | Validation 71.71% || F1-score 0.64\n",
            "Epoch  76/500 || Loss:  Train 0.811634 | Validation 0.821721 || Accuracy: Train 66.38% | Validation 69.08% || F1-score 0.62\n",
            "Epoch  77/500 || Loss:  Train 0.794806 | Validation 0.803736 || Accuracy: Train 70.90% | Validation 71.05% || F1-score 0.54\n",
            "Epoch  78/500 || Loss:  Train 0.794030 | Validation 0.803818 || Accuracy: Train 70.06% | Validation 70.07% || F1-score 0.62\n",
            "Epoch  79/500 || Loss:  Train 0.798014 | Validation 0.811048 || Accuracy: Train 66.10% | Validation 64.14% || F1-score 0.58\n",
            "Epoch  80/500 || Loss:  Train 0.842136 | Validation 0.791297 || Accuracy: Train 66.95% | Validation 71.05% || F1-score 0.62\n",
            "Epoch  81/500 || Loss:  Train 0.789998 | Validation 0.784922 || Accuracy: Train 72.60% | Validation 75.00% || F1-score 0.58\n",
            "Epoch  82/500 || Loss:  Train 0.768352 | Validation 0.805239 || Accuracy: Train 70.06% | Validation 69.41% || F1-score 0.62\n",
            "Epoch  83/500 || Loss:  Train 0.772888 | Validation 0.796429 || Accuracy: Train 67.51% | Validation 74.01% || F1-score 0.62\n",
            "Epoch  84/500 || Loss:  Train 0.771917 | Validation 0.782831 || Accuracy: Train 70.48% | Validation 70.07% || F1-score 0.62\n",
            "Epoch  85/500 || Loss:  Train 0.813264 | Validation 0.810874 || Accuracy: Train 68.36% | Validation 70.07% || F1-score 0.61\n",
            "Epoch  86/500 || Loss:  Train 0.775925 | Validation 0.802588 || Accuracy: Train 70.20% | Validation 69.74% || F1-score 0.62\n",
            "Epoch  87/500 || Loss:  Train 0.780291 | Validation 0.812850 || Accuracy: Train 72.88% | Validation 69.74% || F1-score 0.60\n",
            "Epoch  88/500 || Loss:  Train 0.786946 | Validation 0.781539 || Accuracy: Train 69.21% | Validation 69.74% || F1-score 0.62\n",
            "Epoch  89/500 || Loss:  Train 0.790332 | Validation 0.804124 || Accuracy: Train 70.06% | Validation 72.37% || F1-score 0.64\n",
            "Epoch  90/500 || Loss:  Train 0.770201 | Validation 0.795786 || Accuracy: Train 65.40% | Validation 69.08% || F1-score 0.60\n",
            "Epoch  91/500 || Loss:  Train 0.770268 | Validation 0.800288 || Accuracy: Train 71.75% | Validation 74.67% || F1-score 0.57\n",
            "Epoch  92/500 || Loss:  Train 0.768903 | Validation 0.780995 || Accuracy: Train 73.31% | Validation 73.36% || F1-score 0.63\n"
          ],
          "name": "stdout"
        }
      ]
    },
    {
      "cell_type": "markdown",
      "metadata": {
        "id": "kLpDbGUqW46k",
        "colab_type": "text"
      },
      "source": [
        "**Evaluation**"
      ]
    },
    {
      "cell_type": "code",
      "metadata": {
        "id": "shnQhwUwW5H6",
        "colab_type": "code",
        "colab": {
          "base_uri": "https://localhost:8080/",
          "height": 301
        },
        "outputId": "5fe90c6b-745a-4f54-c069-8ba7a114823c"
      },
      "source": [
        "plt.plot(train_loss_history, label='Train')\n",
        "plt.plot(val_loss_history, label='Validation')\n",
        "plt.axvline(x=np.argmin(val_loss_history), color='black', alpha=0.2, linestyle='--')\n",
        "plt.legend()\n",
        "plt.xlabel('Epoch')\n",
        "plt.ylabel('Loss')\n",
        "plt.title('Training-validation loss')\n",
        "plt.show()"
      ],
      "execution_count": 22,
      "outputs": [
        {
          "output_type": "display_data",
          "data": {
            "image/png": "[encoded data removed]",
            "text/plain": [
              "<Figure size 432x288 with 1 Axes>"
            ]
          },
          "metadata": {
            "tags": []
          }
        }
      ]
    },
    {
      "cell_type": "code",
      "metadata": {
        "id": "TJU3McVHc8eQ",
        "colab_type": "code",
        "colab": {
          "base_uri": "https://localhost:8080/",
          "height": 301
        },
        "outputId": "18b0d95a-9725-42b8-b360-756467d8bef7"
      },
      "source": [
        "for i in range(4):\n",
        "    fpr, tpr, thresholds = roc_curve((true_y == i).astype(np.int), predicted_y_percent[:, i])\n",
        "    plt.plot(fpr, tpr, label='Label ' + str(i))\n",
        "plt.plot([0, 1], [0, 1], color='black', alpha=0.2, linestyle='--')\n",
        "plt.legend()\n",
        "plt.xlabel('False positive rate')\n",
        "plt.ylabel('True positive rate')\n",
        "plt.title('ROC curve')\n",
        "plt.show()"
      ],
      "execution_count": 23,
      "outputs": [
        {
          "output_type": "display_data",
          "data": {
            "image/png": "[encoded data removed]",
            "text/plain": [
              "<Figure size 432x288 with 1 Axes>"
            ]
          },
          "metadata": {
            "tags": []
          }
        }
      ]
    },
    {
      "cell_type": "code",
      "metadata": {
        "id": "XzjZ_jg1eg7Q",
        "colab_type": "code",
        "colab": {
          "base_uri": "https://localhost:8080/",
          "height": 283
        },
        "outputId": "44c2b2ee-a773-4d31-fe4d-d6da1e3d2693"
      },
      "source": [
        "label_names = [f'Label {i}' for i in range(4)]\n",
        "cm = confusion_matrix(true_y, predicted_y)\n",
        "cm_df = pd.DataFrame(cm, columns=label_names, index=label_names)\n",
        "cm_df_rel = pd.DataFrame(cm/cm.sum(1)[:, np.newaxis], columns=label_names, index=label_names)\n",
        "\n",
        "fig, axes = plt.subplots(nrows=1, ncols=2, figsize=(10, 4))\n",
        "\n",
        "sns.set(font_scale=1.4) # for label size\n",
        "sns.heatmap(cm_df, annot=True, annot_kws={\"size\": 13}, fmt='g', ax=axes[0])\n",
        "\n",
        "sns.set(font_scale=1.4) # for label size\n",
        "sns.heatmap(round(cm_df_rel, 3), annot=True, annot_kws={\"size\": 13}, fmt='g', ax=axes[1])\n",
        "\n",
        "plt.tight_layout()\n",
        "plt.show()"
      ],
      "execution_count": 24,
      "outputs": [
        {
          "output_type": "display_data",
          "data": {
            "image/png": "[encoded data removed]",
            "text/plain": [
              "<Figure size 720x288 with 4 Axes>"
            ]
          },
          "metadata": {
            "tags": []
          }
        }
      ]
    },
    {
      "cell_type": "code",
      "metadata": {
        "id": "NC7DD4Sp0eGP",
        "colab_type": "code",
        "colab": {
          "base_uri": "https://localhost:8080/",
          "height": 119
        },
        "outputId": "027166c4-2887-46ac-b001-8cf99c7e2e52"
      },
      "source": [
        "for label in label_names:\n",
        "    print(f'Accuracy for {label} is {cm_df_rel[label][label]:.2%}')\n",
        "print(f'Overall accuracy is {(predicted_y == true_y).sum()/len(true_y):.2%}')\n",
        "print(f'Overall F1-score is {f1_score(true_y, predicted_y, average=\"macro\"):.2f}')"
      ],
      "execution_count": 25,
      "outputs": [
        {
          "output_type": "stream",
          "text": [
            "Accuracy for Label 0 is 82.58%\n",
            "Accuracy for Label 1 is 56.84%\n",
            "Accuracy for Label 2 is 30.77%\n",
            "Accuracy for Label 3 is 90.24%\n",
            "Overall accuracy is 73.36%\n",
            "Overall F1-score is 0.63\n"
          ],
          "name": "stdout"
        }
      ]
    }
  ]
}