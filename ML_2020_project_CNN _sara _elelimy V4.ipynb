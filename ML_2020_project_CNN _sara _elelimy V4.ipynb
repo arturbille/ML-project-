{
  "nbformat": 4,
  "nbformat_minor": 0,
  "metadata": {
    "accelerator": "GPU",
    "colab": {
      "name": "ML_2020_project CNN.ipynb",
      "provenance": [],
      "collapsed_sections": [],
      "machine_shape": "hm"
    },
    "kernelspec": {
      "display_name": "Python 3",
      "language": "python",
      "name": "python3"
    },
    "language_info": {
      "codemirror_mode": {
        "name": "ipython",
        "version": 3
      },
      "file_extension": ".py",
      "mimetype": "text/x-python",
      "name": "python",
      "nbconvert_exporter": "python",
      "pygments_lexer": "ipython3",
      "version": "3.7.4"
    }
  },
  "cells": [
    {
      "cell_type": "code",
      "metadata": {
        "colab_type": "code",
        "id": "k9odeSZkjcQQ",
        "outputId": "03ccf3b4-b96b-460a-c76a-5a5a12d75b20",
        "colab": {
          "base_uri": "https://localhost:8080/",
          "height": 34
        }
      },
      "source": [
        "from google.colab import drive\n",
        "drive.mount('/content/drive')"
      ],
      "execution_count": 1,
      "outputs": [
        {
          "output_type": "stream",
          "text": [
            "Drive already mounted at /content/drive; to attempt to forcibly remount, call drive.mount(\"/content/drive\", force_remount=True).\n"
          ],
          "name": "stdout"
        }
      ]
    },
    {
      "cell_type": "code",
      "metadata": {
        "colab_type": "code",
        "id": "_oK46hgGitlU",
        "outputId": "499f6ade-6715-4294-8c02-dd1f42150755",
        "colab": {
          "base_uri": "https://localhost:8080/",
          "height": 340
        }
      },
      "source": [
        "!pip install fiona\n",
        "!pip install rasterio\n",
        "!pip install torchviz"
      ],
      "execution_count": 2,
      "outputs": [
        {
          "output_type": "stream",
          "text": [
            "Requirement already satisfied: fiona in /usr/local/lib/python3.6/dist-packages (1.8.13.post1)\n",
            "Requirement already satisfied: click-plugins>=1.0 in /usr/local/lib/python3.6/dist-packages (from fiona) (1.1.1)\n",
            "Requirement already satisfied: six>=1.7 in /usr/local/lib/python3.6/dist-packages (from fiona) (1.12.0)\n",
            "Requirement already satisfied: munch in /usr/local/lib/python3.6/dist-packages (from fiona) (2.5.0)\n",
            "Requirement already satisfied: click<8,>=4.0 in /usr/local/lib/python3.6/dist-packages (from fiona) (7.1.1)\n",
            "Requirement already satisfied: cligj>=0.5 in /usr/local/lib/python3.6/dist-packages (from fiona) (0.5.0)\n",
            "Requirement already satisfied: attrs>=17 in /usr/local/lib/python3.6/dist-packages (from fiona) (19.3.0)\n",
            "Requirement already satisfied: rasterio in /usr/local/lib/python3.6/dist-packages (1.1.3)\n",
            "Requirement already satisfied: numpy in /usr/local/lib/python3.6/dist-packages (from rasterio) (1.18.2)\n",
            "Requirement already satisfied: click<8,>=4.0 in /usr/local/lib/python3.6/dist-packages (from rasterio) (7.1.1)\n",
            "Requirement already satisfied: click-plugins in /usr/local/lib/python3.6/dist-packages (from rasterio) (1.1.1)\n",
            "Requirement already satisfied: snuggs>=1.4.1 in /usr/local/lib/python3.6/dist-packages (from rasterio) (1.4.7)\n",
            "Requirement already satisfied: affine in /usr/local/lib/python3.6/dist-packages (from rasterio) (2.3.0)\n",
            "Requirement already satisfied: cligj>=0.5 in /usr/local/lib/python3.6/dist-packages (from rasterio) (0.5.0)\n",
            "Requirement already satisfied: attrs in /usr/local/lib/python3.6/dist-packages (from rasterio) (19.3.0)\n",
            "Requirement already satisfied: pyparsing>=2.1.6 in /usr/local/lib/python3.6/dist-packages (from snuggs>=1.4.1->rasterio) (2.4.6)\n",
            "Requirement already satisfied: torchviz in /usr/local/lib/python3.6/dist-packages (0.0.1)\n",
            "Requirement already satisfied: graphviz in /usr/local/lib/python3.6/dist-packages (from torchviz) (0.10.1)\n",
            "Requirement already satisfied: torch in /usr/local/lib/python3.6/dist-packages (from torchviz) (1.4.0)\n"
          ],
          "name": "stdout"
        }
      ]
    },
    {
      "cell_type": "code",
      "metadata": {
        "colab_type": "code",
        "id": "jjLHfm2jj_H_",
        "colab": {}
      },
      "source": [
        "import sys\n",
        "sys.path.append('/content/drive/My Drive/Weak_Learners_ML2020')"
      ],
      "execution_count": 0,
      "outputs": []
    },
    {
      "cell_type": "code",
      "metadata": {
        "id": "N5WdLGahpbzi",
        "colab_type": "code",
        "colab": {}
      },
      "source": [
        "import scipy\n",
        "import numpy as np\n",
        "import seaborn as sns\n",
        "import fiona\n",
        "import rasterio\n",
        "from shapely import geometry\n",
        "from rasterio.mask import mask\n",
        "\n",
        "def extractor(frame,points,size=7,normalize=True,labeling=False):\n",
        "  '''\n",
        "  The extractor fuction takes in three paramters:\n",
        "  \n",
        "    1. frame - The image to be subdevided. Resterio type file\n",
        "    2. points - fiona collection file with coordinates of points\n",
        "    3. size - size of the window\n",
        "    4. data normalization - normolize the data boolean\n",
        "    5. require labels if the data containes labels. Boolean\n",
        "    \n",
        "  Return:\n",
        "  \n",
        "    1. List of bathces with the give size\n",
        "    2. List of coordinates\n",
        "    3. List of labels\n",
        "  ~~~~~~~~~~~~~~~~~~~~~~~~~~~~~~~~~~~~~~~~~~~~~~~~~~~~  \n",
        "  Example:\n",
        "      frame = rasterio.open(\"pp_1_sat_modified1.tif\")\n",
        "      points = fiona.open(\"alltreepoints1.shp\", \"r\")\n",
        "      collection = extractor(frame,points,size=7)\n",
        "  ~~~~~~~~~~~~~~~~~~~~~~~~~~~~~~~~~~~~~~~~~~~~~~~~~~~~   \n",
        "  '''\n",
        "  img = frame.read().T.astype('uint32')\n",
        "  if normalize:\n",
        "    img = img/np.max(img)\n",
        "\n",
        "  assert img.shape[1]>img.shape[2], \"channles are in the right place!\"+str(img.shape)\n",
        "  map_tree_speices = {'е':0, 'б':1, 'п':2, \"El'\":0, \"Bereza\":1, \"Pichta\":2, \"Sosna\":3} \n",
        "  img_point,locations,labels = [],[],[]\n",
        "\n",
        "  for p in range(len(points)):\n",
        "\n",
        "        try:  \n",
        "              point = np.array(frame.index(*points[p]['geometry']['coordinates']))\n",
        "              box = img[(point[1]-size):point[1]+size,\n",
        "                        (point[0]-size):point[0]+size,:].copy()\n",
        "              if labeling:\n",
        "                  labels.append(map_tree_speices[ points[p]['properties']['specie'] ]) \n",
        "              img_point.append(box)\n",
        "              locations.append(point)\n",
        "              del box\n",
        "        except:\n",
        "              print(\"None coordinate/close to edge\")\n",
        "  return img_point, locations, labels"
      ],
      "execution_count": 0,
      "outputs": []
    },
    {
      "cell_type": "code",
      "metadata": {
        "colab_type": "code",
        "id": "7o3VEujZiQZR",
        "colab": {}
      },
      "source": [
        "import scipy\n",
        "import numpy as np\n",
        "import pandas as pd\n",
        "\n",
        "import matplotlib.pyplot as plt\n",
        "import seaborn as sns\n",
        "\n",
        "import fiona\n",
        "import rasterio\n",
        "from shapely import geometry\n",
        "from rasterio.mask import mask\n",
        "from tqdm import tqdm_notebook\n",
        "\n",
        "from sklearn.model_selection import train_test_split\n",
        "from sklearn.metrics import accuracy_score, f1_score, roc_curve, confusion_matrix\n",
        "\n",
        "# from extractor_helper import extractor"
      ],
      "execution_count": 0,
      "outputs": []
    },
    {
      "cell_type": "markdown",
      "metadata": {
        "id": "3cQMAr2xR8gG",
        "colab_type": "text"
      },
      "source": [
        "# CNN"
      ]
    },
    {
      "cell_type": "code",
      "metadata": {
        "id": "18ynQIZoRWHR",
        "colab_type": "code",
        "colab": {}
      },
      "source": [
        "import torch\n",
        "import torch.nn as nn\n",
        "import torch.utils.data as torch_data\n",
        "from torchviz import make_dot, make_dot_from_trace"
      ],
      "execution_count": 0,
      "outputs": []
    },
    {
      "cell_type": "markdown",
      "metadata": {
        "id": "0Kmw5uESTdbK",
        "colab_type": "text"
      },
      "source": [
        "**Get data**"
      ]
    },
    {
      "cell_type": "code",
      "metadata": {
        "id": "Jjln7zdY7zqX",
        "colab_type": "code",
        "colab": {}
      },
      "source": [
        "SIZE = 7"
      ],
      "execution_count": 0,
      "outputs": []
    },
    {
      "cell_type": "code",
      "metadata": {
        "colab_type": "code",
        "id": "Gvvi4Z7xvxdh",
        "colab": {}
      },
      "source": [
        "test2_img = rasterio.open(\"/content/drive/My Drive/Weak_Learners_ML2020/Eval/test2/pp_2_sat_modified.tif\")\n",
        "test2_points = fiona.open(\"/content/drive/My Drive/Weak_Learners_ML2020/Eval/test2/points_2_modified_Copy.shp\", \"r\")\n",
        "\n",
        "test3_img = rasterio.open(\"/content/drive/My Drive/Weak_Learners_ML2020/Eval/test3/pp_3_sat_modified.tif\")\n",
        "test3_points = fiona.open(\"/content/drive/My Drive/Weak_Learners_ML2020/Eval/test3/targets_Copy.shp\", \"r\")\n",
        "\n",
        "test4_img = rasterio.open(\"/content/drive/My Drive/Weak_Learners_ML2020/Eval/test4/pp_4_sat_modified_spline.tif\")\n",
        "test4_points = fiona.open(\"/content/drive/My Drive/Weak_Learners_ML2020/Eval/test4/modified_points_Copy.shp\", \"r\")"
      ],
      "execution_count": 0,
      "outputs": []
    },
    {
      "cell_type": "code",
      "metadata": {
        "colab_type": "code",
        "id": "9SByHP79vxMW",
        "outputId": "e5ed6f33-a4dd-4084-9ee5-118a601b1fb3",
        "colab": {
          "base_uri": "https://localhost:8080/",
          "height": 595
        }
      },
      "source": [
        "patch2, coordinates2, labels2, = extractor(test2_img, test2_points, size=SIZE, normalize=True, labeling=True)\n",
        "patch3, coordinates3, labels3, = extractor(test3_img, test3_points, size=SIZE, normalize=True, labeling=True)\n",
        "patch4, coordinates4, labels4, = extractor(test4_img, test4_points, size=SIZE, normalize=True, labeling=True)"
      ],
      "execution_count": 9,
      "outputs": [
        {
          "output_type": "stream",
          "text": [
            "None coordinate/close to edge\n",
            "None coordinate/close to edge\n",
            "None coordinate/close to edge\n",
            "None coordinate/close to edge\n",
            "None coordinate/close to edge\n",
            "None coordinate/close to edge\n",
            "None coordinate/close to edge\n",
            "None coordinate/close to edge\n",
            "None coordinate/close to edge\n",
            "None coordinate/close to edge\n",
            "None coordinate/close to edge\n",
            "None coordinate/close to edge\n",
            "None coordinate/close to edge\n",
            "None coordinate/close to edge\n",
            "None coordinate/close to edge\n",
            "None coordinate/close to edge\n",
            "None coordinate/close to edge\n",
            "None coordinate/close to edge\n",
            "None coordinate/close to edge\n",
            "None coordinate/close to edge\n",
            "None coordinate/close to edge\n",
            "None coordinate/close to edge\n",
            "None coordinate/close to edge\n",
            "None coordinate/close to edge\n",
            "None coordinate/close to edge\n",
            "None coordinate/close to edge\n",
            "None coordinate/close to edge\n",
            "None coordinate/close to edge\n",
            "None coordinate/close to edge\n",
            "None coordinate/close to edge\n",
            "None coordinate/close to edge\n",
            "None coordinate/close to edge\n",
            "None coordinate/close to edge\n",
            "None coordinate/close to edge\n"
          ],
          "name": "stdout"
        }
      ]
    },
    {
      "cell_type": "code",
      "metadata": {
        "colab_type": "code",
        "id": "p4lqYUulvw9m",
        "colab": {}
      },
      "source": [
        "patch2,patch3, patch4 = np.array(patch2), np.array(patch3), np.array(patch4)\n",
        "labels2, labels3, labels4 = np.array(labels2), np.array(labels3), np.array(labels4)\n",
        "patch2, patch3, patch4 = np.moveaxis(patch2,3,1), np.moveaxis(patch3,3,1), np.moveaxis(patch4,3,1)\n",
        "\n",
        "patch = np.concatenate((patch2, patch3, patch4),axis=0)\n",
        "labels = np.concatenate((labels2,labels3,labels4),axis=0)"
      ],
      "execution_count": 0,
      "outputs": []
    },
    {
      "cell_type": "code",
      "metadata": {
        "id": "FC4-gWh2XHYc",
        "colab_type": "code",
        "colab": {}
      },
      "source": [
        "class TreesData():\n",
        "  def __init__(self, X, y):\n",
        "    super().__init__()\n",
        "    self.X = torch.tensor(X, dtype=torch.float32)\n",
        "    self.y = torch.tensor(y, dtype=torch.long)\n",
        "    \n",
        "  def __len__(self):\n",
        "    return self.X.shape[0]\n",
        "  \n",
        "  def __getitem__(self, idx):\n",
        "    return self.X[idx], self.y[idx]"
      ],
      "execution_count": 0,
      "outputs": []
    },
    {
      "cell_type": "code",
      "metadata": {
        "id": "ECcBUUtrwJT4",
        "colab_type": "code",
        "colab": {
          "base_uri": "https://localhost:8080/",
          "height": 85
        },
        "outputId": "37b87757-74f2-484e-fd59-5b3b7b211eb4"
      },
      "source": [
        "# Data proportions\n",
        "unique, counts = np.unique(labels, return_counts=True)\n",
        "for label, count in zip(unique, counts):\n",
        "    print(f'Label \"{label}\" has {count:3} instances, which is {count/len(labels):6.2%} of the total number of instances')"
      ],
      "execution_count": 12,
      "outputs": [
        {
          "output_type": "stream",
          "text": [
            "Label \"0\" has 518 instances, which is 51.19% of the total number of instances\n",
            "Label \"1\" has 315 instances, which is 31.13% of the total number of instances\n",
            "Label \"2\" has  42 instances, which is  4.15% of the total number of instances\n",
            "Label \"3\" has 137 instances, which is 13.54% of the total number of instances\n"
          ],
          "name": "stdout"
        }
      ]
    },
    {
      "cell_type": "code",
      "metadata": {
        "id": "Ph1dAP7cUIPC",
        "colab_type": "code",
        "colab": {}
      },
      "source": [
        "# We do stratified splitting to have balanced train and test set.\n",
        "x_train, x_test, y_train, y_test = train_test_split(patch, labels, test_size=.3, shuffle=True, stratify=labels, random_state=42)"
      ],
      "execution_count": 0,
      "outputs": []
    },
    {
      "cell_type": "code",
      "metadata": {
        "id": "GsRl2F0YXQZC",
        "colab_type": "code",
        "colab": {}
      },
      "source": [
        "train_data = TreesData(x_train,y_train)\n",
        "test_data = TreesData(x_test,y_test)"
      ],
      "execution_count": 0,
      "outputs": []
    },
    {
      "cell_type": "markdown",
      "metadata": {
        "id": "V2OkC-cuTfl9",
        "colab_type": "text"
      },
      "source": [
        "**Define model**"
      ]
    },
    {
      "cell_type": "code",
      "metadata": {
        "id": "h3adbdx98Ln8",
        "colab_type": "code",
        "colab": {}
      },
      "source": [
        "from math import ceil"
      ],
      "execution_count": 0,
      "outputs": []
    },
    {
      "cell_type": "code",
      "metadata": {
        "id": "JmmKoKK1g0ZV",
        "colab_type": "code",
        "colab": {}
      },
      "source": [
        "LAST_LAYER_SIZE = ceil(ceil(SIZE*2/2)/2)\n",
        "\n",
        "CNN = lambda: nn.Sequential(\n",
        "  \n",
        "  nn.Conv2d(8,64,2, padding=1),\n",
        "  nn.MaxPool2d(2,2),\n",
        "  nn.ReLU(),\n",
        "  nn.Dropout(0.5),\n",
        "\n",
        "  nn.Conv2d(64,128,2, padding=1),\n",
        "  nn.MaxPool2d(2,2),\n",
        "  nn.ReLU(),\n",
        "  nn.Dropout(0.5),\n",
        "\n",
        "  nn.Flatten(),\n",
        "  nn.Linear(128*LAST_LAYER_SIZE*LAST_LAYER_SIZE, 4),\n",
        ")"
      ],
      "execution_count": 0,
      "outputs": []
    },
    {
      "cell_type": "markdown",
      "metadata": {
        "id": "Q7sZ2mLVT2u4",
        "colab_type": "text"
      },
      "source": [
        "**Train model**"
      ]
    },
    {
      "cell_type": "code",
      "metadata": {
        "id": "F3-PofELYAWn",
        "colab_type": "code",
        "colab": {}
      },
      "source": [
        "def train(epochs, net, criterion, optimizer,\n",
        "          train_loader, val_loader, scheduler=None,\n",
        "          verbose=True, save_dir=None):\n",
        "  \n",
        "  net.to(device)\n",
        "  train_loss_history = []\n",
        "  val_loss_history = []\n",
        "  val_loss_not_improved = 0\n",
        "  best_val_loss = 999\n",
        "  for epoch in range(1,epochs+1):\n",
        "    net.train()\n",
        "    total_instances = 0\n",
        "    matched = 0\n",
        "    train_loss = 0\n",
        "    for X, y in train_loader:\n",
        "      X = X.to(device)\n",
        "      y = y.to(device)\n",
        "      pred = net(X)\n",
        "      loss = criterion(pred, y)\n",
        "      train_loss += loss.item()\n",
        "      optimizer.zero_grad()\n",
        "      loss.backward()\n",
        "      optimizer.step()\n",
        "\n",
        "      train_pred_arg = np.argmax(pred.cpu().detach(), axis=1)\n",
        "      matched += (train_pred_arg == y.cpu().detach()).sum()\n",
        "      total_instances += len(train_pred_arg)\n",
        "    train_acc = matched.item()/total_instances\n",
        "   \n",
        "    net.eval()\n",
        "    total_instances = 0\n",
        "    matched = 0\n",
        "    predicted_y = np.array([])\n",
        "    predicted_y_percent = np.array([])\n",
        "    true_y = np.array([])\n",
        "    val_loss = 0\n",
        "    for X, y in val_loader:\n",
        "      X = X.to(device)\n",
        "      y = y.to(device)\n",
        "      val_pred = net(X)\n",
        "      val_loss += criterion(val_pred, y).item()\n",
        "\n",
        "      predicted_y_percent = np.concatenate((predicted_y_percent, val_pred.cpu().detach()), axis=None)\n",
        "      predicted_y = np.concatenate((predicted_y, np.argmax(val_pred.cpu().detach(), axis=1)), axis=None)\n",
        "      true_y = np.concatenate((true_y, y.cpu().detach()), axis=None)\n",
        "    \n",
        "    train_loss /= len(train_loader)\n",
        "    val_loss /= len(val_loader)\n",
        "    val_acc = (predicted_y == true_y).sum()/len(true_y)\n",
        "\n",
        "    train_loss_history.append(train_loss)\n",
        "    val_loss_history.append(val_loss)\n",
        "  \n",
        "    if scheduler is not None:\n",
        "      schduler.step()\n",
        "    \n",
        "    if verbose:\n",
        "      print('Epoch {:3}/{} || Loss:  Train {:.6f} | Validation {:.6f} || Accuracy: Train {:.2%} | Validation {:.2%} || F1-score {:.2f}'\\\n",
        "            .format(epoch, epochs, train_loss, val_loss, train_acc, val_acc, f1_score(true_y, predicted_y, average='macro')))\n",
        "      \n",
        "    if best_val_loss > val_loss:\n",
        "      best_val_loss = val_loss\n",
        "      val_loss_not_improved = 0\n",
        "    else:\n",
        "      val_loss_not_improved += 1\n",
        "\n",
        "    if val_loss_not_improved == 10:\n",
        "      break\n",
        "\n",
        "  return predicted_y, predicted_y_percent, true_y, train_loss_history, val_loss_history"
      ],
      "execution_count": 0,
      "outputs": []
    },
    {
      "cell_type": "code",
      "metadata": {
        "id": "fTB3kDymTt2A",
        "colab_type": "code",
        "colab": {
          "base_uri": "https://localhost:8080/",
          "height": 255
        },
        "outputId": "d3c72f7a-9026-4f08-97b0-0482c3724e82"
      },
      "source": [
        "device = torch.device('cuda:0' if torch.cuda.is_available() else 'cpu')\n",
        "net = CNN()\n",
        "criterion = nn.CrossEntropyLoss()\n",
        "optimizer = torch.optim.Adam(net.parameters())\n",
        "scheduler = None\n",
        "train_loader = torch_data.DataLoader(train_data, batch_size=25, shuffle=True)\n",
        "val_loader = torch_data.DataLoader(test_data, batch_size=25, shuffle=True)\n",
        "\n",
        "print('\\t\\t\\t=== MODEL ===\\n\\t\\t\\t=============')\n",
        "print(net)"
      ],
      "execution_count": 18,
      "outputs": [
        {
          "output_type": "stream",
          "text": [
            "\t\t\t=== MODEL ===\n",
            "\t\t\t=============\n",
            "Sequential(\n",
            "  (0): Conv2d(8, 64, kernel_size=(2, 2), stride=(1, 1), padding=(1, 1))\n",
            "  (1): MaxPool2d(kernel_size=2, stride=2, padding=0, dilation=1, ceil_mode=False)\n",
            "  (2): ReLU()\n",
            "  (3): Dropout(p=0.5, inplace=False)\n",
            "  (4): Conv2d(64, 128, kernel_size=(2, 2), stride=(1, 1), padding=(1, 1))\n",
            "  (5): MaxPool2d(kernel_size=2, stride=2, padding=0, dilation=1, ceil_mode=False)\n",
            "  (6): ReLU()\n",
            "  (7): Dropout(p=0.5, inplace=False)\n",
            "  (8): Flatten()\n",
            "  (9): Linear(in_features=2048, out_features=4, bias=True)\n",
            ")\n"
          ],
          "name": "stdout"
        }
      ]
    },
    {
      "cell_type": "code",
      "metadata": {
        "id": "N1-E3Iek9uDo",
        "colab_type": "code",
        "colab": {
          "base_uri": "https://localhost:8080/",
          "height": 894
        },
        "outputId": "a6f15519-891f-4400-e5f3-de27ba807da7"
      },
      "source": [
        "# GRAPH\n",
        "make_dot(net(train_data[:1][0]))"
      ],
      "execution_count": 19,
      "outputs": [
        {
          "output_type": "execute_result",
          "data": {
            "text/plain": [
              "<graphviz.dot.Digraph at 0x7f142003cb70>"
            ],
            "image/svg+xml": "<?xml version=\"1.0\" encoding=\"UTF-8\" standalone=\"no\"?>\n<!DOCTYPE svg PUBLIC \"-//W3C//DTD SVG 1.1//EN\"\n \"http://www.w3.org/Graphics/SVG/1.1/DTD/svg11.dtd\">\n<!-- Generated by graphviz version 2.40.1 (20161225.0304)\n -->\n<!-- Title: %3 Pages: 1 -->\n<svg width=\"342pt\" height=\"655pt\"\n viewBox=\"0.00 0.00 341.50 655.00\" xmlns=\"http://www.w3.org/2000/svg\" xmlns:xlink=\"http://www.w3.org/1999/xlink\">\n<g id=\"graph0\" class=\"graph\" transform=\"scale(1 1) rotate(0) translate(4 651)\">\n<title>%3</title>\n<polygon fill=\"#ffffff\" stroke=\"transparent\" points=\"-4,4 -4,-651 337.5,-651 337.5,4 -4,4\"/>\n<!-- 139724413192624 -->\n<g id=\"node1\" class=\"node\">\n<title>139724413192624</title>\n<polygon fill=\"#caff70\" stroke=\"#000000\" points=\"249,-21 145,-21 145,0 249,0 249,-21\"/>\n<text text-anchor=\"middle\" x=\"197\" y=\"-7.4\" font-family=\"Times,serif\" font-size=\"12.00\" fill=\"#000000\">AddmmBackward</text>\n</g>\n<!-- 139724413193128 -->\n<g id=\"node2\" class=\"node\">\n<title>139724413193128</title>\n<polygon fill=\"#add8e6\" stroke=\"#000000\" points=\"133,-92 79,-92 79,-57 133,-57 133,-92\"/>\n<text text-anchor=\"middle\" x=\"106\" y=\"-64.4\" font-family=\"Times,serif\" font-size=\"12.00\" fill=\"#000000\"> (4)</text>\n</g>\n<!-- 139724413193128&#45;&gt;139724413192624 -->\n<g id=\"edge1\" class=\"edge\">\n<title>139724413193128&#45;&gt;139724413192624</title>\n<path fill=\"none\" stroke=\"#000000\" d=\"M131.3486,-56.6724C144.5947,-47.3565 160.6963,-36.0322 173.6383,-26.9302\"/>\n<polygon fill=\"#000000\" stroke=\"#000000\" points=\"175.8532,-29.6514 182.0194,-21.0358 171.8263,-23.9257 175.8532,-29.6514\"/>\n</g>\n<!-- 139724413192736 -->\n<g id=\"node3\" class=\"node\">\n<title>139724413192736</title>\n<polygon fill=\"#d3d3d3\" stroke=\"#000000\" points=\"242.5,-85 151.5,-85 151.5,-64 242.5,-64 242.5,-85\"/>\n<text text-anchor=\"middle\" x=\"197\" y=\"-71.4\" font-family=\"Times,serif\" font-size=\"12.00\" fill=\"#000000\">ViewBackward</text>\n</g>\n<!-- 139724413192736&#45;&gt;139724413192624 -->\n<g id=\"edge2\" class=\"edge\">\n<title>139724413192736&#45;&gt;139724413192624</title>\n<path fill=\"none\" stroke=\"#000000\" d=\"M197,-63.9317C197,-55.0913 197,-42.2122 197,-31.3135\"/>\n<polygon fill=\"#000000\" stroke=\"#000000\" points=\"200.5001,-31.2979 197,-21.2979 193.5001,-31.2979 200.5001,-31.2979\"/>\n</g>\n<!-- 139724413192680 -->\n<g id=\"node4\" class=\"node\">\n<title>139724413192680</title>\n<polygon fill=\"#d3d3d3\" stroke=\"#000000\" points=\"242.5,-156 151.5,-156 151.5,-135 242.5,-135 242.5,-156\"/>\n<text text-anchor=\"middle\" x=\"197\" y=\"-142.4\" font-family=\"Times,serif\" font-size=\"12.00\" fill=\"#000000\">MulBackward0</text>\n</g>\n<!-- 139724413192680&#45;&gt;139724413192736 -->\n<g id=\"edge3\" class=\"edge\">\n<title>139724413192680&#45;&gt;139724413192736</title>\n<path fill=\"none\" stroke=\"#000000\" d=\"M197,-134.7166C197,-124.3953 197,-108.5401 197,-95.6896\"/>\n<polygon fill=\"#000000\" stroke=\"#000000\" points=\"200.5001,-95.3848 197,-85.3849 193.5001,-95.3849 200.5001,-95.3848\"/>\n</g>\n<!-- 139724413193184 -->\n<g id=\"node5\" class=\"node\">\n<title>139724413193184</title>\n<polygon fill=\"#d3d3d3\" stroke=\"#000000\" points=\"244,-220 150,-220 150,-199 244,-199 244,-220\"/>\n<text text-anchor=\"middle\" x=\"197\" y=\"-206.4\" font-family=\"Times,serif\" font-size=\"12.00\" fill=\"#000000\">ReluBackward0</text>\n</g>\n<!-- 139724413193184&#45;&gt;139724413192680 -->\n<g id=\"edge4\" class=\"edge\">\n<title>139724413193184&#45;&gt;139724413192680</title>\n<path fill=\"none\" stroke=\"#000000\" d=\"M197,-198.9317C197,-190.0913 197,-177.2122 197,-166.3135\"/>\n<polygon fill=\"#000000\" stroke=\"#000000\" points=\"200.5001,-166.2979 197,-156.2979 193.5001,-166.2979 200.5001,-166.2979\"/>\n</g>\n<!-- 139724413192456 -->\n<g id=\"node6\" class=\"node\">\n<title>139724413192456</title>\n<polygon fill=\"#d3d3d3\" stroke=\"#000000\" points=\"287,-277 107,-277 107,-256 287,-256 287,-277\"/>\n<text text-anchor=\"middle\" x=\"197\" y=\"-263.4\" font-family=\"Times,serif\" font-size=\"12.00\" fill=\"#000000\">MaxPool2DWithIndicesBackward</text>\n</g>\n<!-- 139724413192456&#45;&gt;139724413193184 -->\n<g id=\"edge5\" class=\"edge\">\n<title>139724413192456&#45;&gt;139724413193184</title>\n<path fill=\"none\" stroke=\"#000000\" d=\"M197,-255.7787C197,-248.6134 197,-238.9517 197,-230.3097\"/>\n<polygon fill=\"#000000\" stroke=\"#000000\" points=\"200.5001,-230.1732 197,-220.1732 193.5001,-230.1732 200.5001,-230.1732\"/>\n</g>\n<!-- 139724413192288 -->\n<g id=\"node7\" class=\"node\">\n<title>139724413192288</title>\n<polygon fill=\"#d3d3d3\" stroke=\"#000000\" points=\"278,-334 116,-334 116,-313 278,-313 278,-334\"/>\n<text text-anchor=\"middle\" x=\"197\" y=\"-320.4\" font-family=\"Times,serif\" font-size=\"12.00\" fill=\"#000000\">MkldnnConvolutionBackward</text>\n</g>\n<!-- 139724413192288&#45;&gt;139724413192456 -->\n<g id=\"edge6\" class=\"edge\">\n<title>139724413192288&#45;&gt;139724413192456</title>\n<path fill=\"none\" stroke=\"#000000\" d=\"M197,-312.7787C197,-305.6134 197,-295.9517 197,-287.3097\"/>\n<polygon fill=\"#000000\" stroke=\"#000000\" points=\"200.5001,-287.1732 197,-277.1732 193.5001,-287.1732 200.5001,-287.1732\"/>\n</g>\n<!-- 139724413193464 -->\n<g id=\"node8\" class=\"node\">\n<title>139724413193464</title>\n<polygon fill=\"#d3d3d3\" stroke=\"#000000\" points=\"135.5,-398 44.5,-398 44.5,-377 135.5,-377 135.5,-398\"/>\n<text text-anchor=\"middle\" x=\"90\" y=\"-384.4\" font-family=\"Times,serif\" font-size=\"12.00\" fill=\"#000000\">MulBackward0</text>\n</g>\n<!-- 139724413193464&#45;&gt;139724413192288 -->\n<g id=\"edge7\" class=\"edge\">\n<title>139724413193464&#45;&gt;139724413192288</title>\n<path fill=\"none\" stroke=\"#000000\" d=\"M107.6689,-376.9317C124.7838,-366.6948 150.9528,-351.0422 170.5504,-339.3203\"/>\n<polygon fill=\"#000000\" stroke=\"#000000\" points=\"172.5195,-342.2209 179.3049,-334.084 168.9262,-336.2135 172.5195,-342.2209\"/>\n</g>\n<!-- 139724413192176 -->\n<g id=\"node9\" class=\"node\">\n<title>139724413192176</title>\n<polygon fill=\"#d3d3d3\" stroke=\"#000000\" points=\"137,-462 43,-462 43,-441 137,-441 137,-462\"/>\n<text text-anchor=\"middle\" x=\"90\" y=\"-448.4\" font-family=\"Times,serif\" font-size=\"12.00\" fill=\"#000000\">ReluBackward0</text>\n</g>\n<!-- 139724413192176&#45;&gt;139724413193464 -->\n<g id=\"edge8\" class=\"edge\">\n<title>139724413192176&#45;&gt;139724413193464</title>\n<path fill=\"none\" stroke=\"#000000\" d=\"M90,-440.9317C90,-432.0913 90,-419.2122 90,-408.3135\"/>\n<polygon fill=\"#000000\" stroke=\"#000000\" points=\"93.5001,-408.2979 90,-398.2979 86.5001,-408.2979 93.5001,-408.2979\"/>\n</g>\n<!-- 139724413190440 -->\n<g id=\"node10\" class=\"node\">\n<title>139724413190440</title>\n<polygon fill=\"#d3d3d3\" stroke=\"#000000\" points=\"180,-519 0,-519 0,-498 180,-498 180,-519\"/>\n<text text-anchor=\"middle\" x=\"90\" y=\"-505.4\" font-family=\"Times,serif\" font-size=\"12.00\" fill=\"#000000\">MaxPool2DWithIndicesBackward</text>\n</g>\n<!-- 139724413190440&#45;&gt;139724413192176 -->\n<g id=\"edge9\" class=\"edge\">\n<title>139724413190440&#45;&gt;139724413192176</title>\n<path fill=\"none\" stroke=\"#000000\" d=\"M90,-497.7787C90,-490.6134 90,-480.9517 90,-472.3097\"/>\n<polygon fill=\"#000000\" stroke=\"#000000\" points=\"93.5001,-472.1732 90,-462.1732 86.5001,-472.1732 93.5001,-472.1732\"/>\n</g>\n<!-- 139724413190272 -->\n<g id=\"node11\" class=\"node\">\n<title>139724413190272</title>\n<polygon fill=\"#d3d3d3\" stroke=\"#000000\" points=\"171,-576 9,-576 9,-555 171,-555 171,-576\"/>\n<text text-anchor=\"middle\" x=\"90\" y=\"-562.4\" font-family=\"Times,serif\" font-size=\"12.00\" fill=\"#000000\">MkldnnConvolutionBackward</text>\n</g>\n<!-- 139724413190272&#45;&gt;139724413190440 -->\n<g id=\"edge10\" class=\"edge\">\n<title>139724413190272&#45;&gt;139724413190440</title>\n<path fill=\"none\" stroke=\"#000000\" d=\"M90,-554.7787C90,-547.6134 90,-537.9517 90,-529.3097\"/>\n<polygon fill=\"#000000\" stroke=\"#000000\" points=\"93.5001,-529.1732 90,-519.1732 86.5001,-529.1732 93.5001,-529.1732\"/>\n</g>\n<!-- 139724413193688 -->\n<g id=\"node12\" class=\"node\">\n<title>139724413193688</title>\n<polygon fill=\"#add8e6\" stroke=\"#000000\" points=\"86.5,-647 11.5,-647 11.5,-612 86.5,-612 86.5,-647\"/>\n<text text-anchor=\"middle\" x=\"49\" y=\"-619.4\" font-family=\"Times,serif\" font-size=\"12.00\" fill=\"#000000\"> (64, 8, 2, 2)</text>\n</g>\n<!-- 139724413193688&#45;&gt;139724413190272 -->\n<g id=\"edge11\" class=\"edge\">\n<title>139724413193688&#45;&gt;139724413190272</title>\n<path fill=\"none\" stroke=\"#000000\" d=\"M60.4208,-611.6724C65.7802,-603.3066 72.1771,-593.3212 77.6488,-584.7799\"/>\n<polygon fill=\"#000000\" stroke=\"#000000\" points=\"80.6831,-586.5318 83.1303,-576.2234 74.7889,-582.7558 80.6831,-586.5318\"/>\n</g>\n<!-- 139724413190552 -->\n<g id=\"node13\" class=\"node\">\n<title>139724413190552</title>\n<polygon fill=\"#add8e6\" stroke=\"#000000\" points=\"159,-647 105,-647 105,-612 159,-612 159,-647\"/>\n<text text-anchor=\"middle\" x=\"132\" y=\"-619.4\" font-family=\"Times,serif\" font-size=\"12.00\" fill=\"#000000\"> (64)</text>\n</g>\n<!-- 139724413190552&#45;&gt;139724413190272 -->\n<g id=\"edge12\" class=\"edge\">\n<title>139724413190552&#45;&gt;139724413190272</title>\n<path fill=\"none\" stroke=\"#000000\" d=\"M120.3007,-611.6724C114.8105,-603.3066 108.2576,-593.3212 102.6524,-584.7799\"/>\n<polygon fill=\"#000000\" stroke=\"#000000\" points=\"105.45,-582.6636 97.0373,-576.2234 99.5977,-586.5042 105.45,-582.6636\"/>\n</g>\n<!-- 139724413192400 -->\n<g id=\"node14\" class=\"node\">\n<title>139724413192400</title>\n<polygon fill=\"#add8e6\" stroke=\"#000000\" points=\"240.5,-405 153.5,-405 153.5,-370 240.5,-370 240.5,-405\"/>\n<text text-anchor=\"middle\" x=\"197\" y=\"-377.4\" font-family=\"Times,serif\" font-size=\"12.00\" fill=\"#000000\"> (128, 64, 2, 2)</text>\n</g>\n<!-- 139724413192400&#45;&gt;139724413192288 -->\n<g id=\"edge13\" class=\"edge\">\n<title>139724413192400&#45;&gt;139724413192288</title>\n<path fill=\"none\" stroke=\"#000000\" d=\"M197,-369.6724C197,-361.8405 197,-352.5893 197,-344.4323\"/>\n<polygon fill=\"#000000\" stroke=\"#000000\" points=\"200.5001,-344.2234 197,-334.2234 193.5001,-344.2235 200.5001,-344.2234\"/>\n</g>\n<!-- 139724413192232 -->\n<g id=\"node15\" class=\"node\">\n<title>139724413192232</title>\n<polygon fill=\"#add8e6\" stroke=\"#000000\" points=\"313,-405 259,-405 259,-370 313,-370 313,-405\"/>\n<text text-anchor=\"middle\" x=\"286\" y=\"-377.4\" font-family=\"Times,serif\" font-size=\"12.00\" fill=\"#000000\"> (128)</text>\n</g>\n<!-- 139724413192232&#45;&gt;139724413192288 -->\n<g id=\"edge14\" class=\"edge\">\n<title>139724413192232&#45;&gt;139724413192288</title>\n<path fill=\"none\" stroke=\"#000000\" d=\"M261.2085,-369.6724C248.2535,-360.3565 232.5058,-349.0322 219.8482,-339.9302\"/>\n<polygon fill=\"#000000\" stroke=\"#000000\" points=\"221.8136,-337.0325 211.6514,-334.0358 217.7268,-342.7157 221.8136,-337.0325\"/>\n</g>\n<!-- 139724413193296 -->\n<g id=\"node16\" class=\"node\">\n<title>139724413193296</title>\n<polygon fill=\"#d3d3d3\" stroke=\"#000000\" points=\"333.5,-85 260.5,-85 260.5,-64 333.5,-64 333.5,-85\"/>\n<text text-anchor=\"middle\" x=\"297\" y=\"-71.4\" font-family=\"Times,serif\" font-size=\"12.00\" fill=\"#000000\">TBackward</text>\n</g>\n<!-- 139724413193296&#45;&gt;139724413192624 -->\n<g id=\"edge15\" class=\"edge\">\n<title>139724413193296&#45;&gt;139724413192624</title>\n<path fill=\"none\" stroke=\"#000000\" d=\"M280.487,-63.9317C264.5642,-53.7411 240.2559,-38.1838 221.9683,-26.4797\"/>\n<polygon fill=\"#000000\" stroke=\"#000000\" points=\"223.8469,-23.5266 213.5375,-21.084 220.0735,-29.4225 223.8469,-23.5266\"/>\n</g>\n<!-- 139724413193576 -->\n<g id=\"node17\" class=\"node\">\n<title>139724413193576</title>\n<polygon fill=\"#add8e6\" stroke=\"#000000\" points=\"328.5,-163 265.5,-163 265.5,-128 328.5,-128 328.5,-163\"/>\n<text text-anchor=\"middle\" x=\"297\" y=\"-135.4\" font-family=\"Times,serif\" font-size=\"12.00\" fill=\"#000000\"> (4, 2048)</text>\n</g>\n<!-- 139724413193576&#45;&gt;139724413193296 -->\n<g id=\"edge16\" class=\"edge\">\n<title>139724413193576&#45;&gt;139724413193296</title>\n<path fill=\"none\" stroke=\"#000000\" d=\"M297,-127.9494C297,-118.058 297,-105.6435 297,-95.2693\"/>\n<polygon fill=\"#000000\" stroke=\"#000000\" points=\"300.5001,-95.0288 297,-85.0288 293.5001,-95.0289 300.5001,-95.0288\"/>\n</g>\n</g>\n</svg>\n"
          },
          "metadata": {
            "tags": []
          },
          "execution_count": 19
        }
      ]
    },
    {
      "cell_type": "code",
      "metadata": {
        "id": "QVfKM6eP6NBG",
        "colab_type": "code",
        "colab": {
          "base_uri": "https://localhost:8080/",
          "height": 595
        },
        "outputId": "c28bff2e-851c-4fde-ba8d-e4fe8e96825d"
      },
      "source": [
        "epochs = 500\n",
        "predicted_y, predicted_y_percent, true_y, train_loss_history, val_loss_history = train(epochs, net, criterion, optimizer, train_loader, val_loader, scheduler)\n",
        "predicted_y_percent = torch.softmax(torch.tensor(predicted_y_percent.reshape(-1, 4)), axis=1).detach().numpy()"
      ],
      "execution_count": 20,
      "outputs": [
        {
          "output_type": "stream",
          "text": [
            "Epoch   1/500 || Loss:  Train 1.143173 | Validation 1.133649 || Accuracy: Train 50.71% | Validation 50.99% || F1-score 0.17\n",
            "Epoch   2/500 || Loss:  Train 1.093244 | Validation 1.086072 || Accuracy: Train 51.41% | Validation 52.63% || F1-score 0.20\n",
            "Epoch   3/500 || Loss:  Train 1.068949 | Validation 1.084448 || Accuracy: Train 55.65% | Validation 58.88% || F1-score 0.28\n",
            "Epoch   4/500 || Loss:  Train 1.030390 | Validation 0.987077 || Accuracy: Train 56.07% | Validation 63.16% || F1-score 0.34\n",
            "Epoch   5/500 || Loss:  Train 0.959523 | Validation 0.960061 || Accuracy: Train 61.44% | Validation 62.50% || F1-score 0.33\n",
            "Epoch   6/500 || Loss:  Train 0.885105 | Validation 0.934024 || Accuracy: Train 62.57% | Validation 65.13% || F1-score 0.40\n",
            "Epoch   7/500 || Loss:  Train 0.877476 | Validation 0.925315 || Accuracy: Train 63.56% | Validation 64.14% || F1-score 0.48\n",
            "Epoch   8/500 || Loss:  Train 0.829389 | Validation 0.804996 || Accuracy: Train 64.55% | Validation 68.75% || F1-score 0.51\n",
            "Epoch   9/500 || Loss:  Train 0.763942 | Validation 0.750177 || Accuracy: Train 71.61% | Validation 74.01% || F1-score 0.56\n",
            "Epoch  10/500 || Loss:  Train 0.728162 | Validation 0.736255 || Accuracy: Train 71.75% | Validation 72.70% || F1-score 0.56\n",
            "Epoch  11/500 || Loss:  Train 0.734322 | Validation 0.716920 || Accuracy: Train 75.00% | Validation 70.07% || F1-score 0.50\n",
            "Epoch  12/500 || Loss:  Train 0.721648 | Validation 0.698471 || Accuracy: Train 72.46% | Validation 74.34% || F1-score 0.56\n",
            "Epoch  13/500 || Loss:  Train 0.683725 | Validation 0.656631 || Accuracy: Train 74.86% | Validation 75.66% || F1-score 0.58\n",
            "Epoch  14/500 || Loss:  Train 0.654488 | Validation 0.707880 || Accuracy: Train 74.29% | Validation 73.68% || F1-score 0.56\n",
            "Epoch  15/500 || Loss:  Train 0.669279 | Validation 0.647898 || Accuracy: Train 75.99% | Validation 76.32% || F1-score 0.58\n",
            "Epoch  16/500 || Loss:  Train 0.626082 | Validation 0.646456 || Accuracy: Train 75.42% | Validation 75.33% || F1-score 0.57\n",
            "Epoch  17/500 || Loss:  Train 0.644307 | Validation 0.638265 || Accuracy: Train 76.13% | Validation 76.97% || F1-score 0.59\n",
            "Epoch  18/500 || Loss:  Train 0.636718 | Validation 0.665770 || Accuracy: Train 77.26% | Validation 76.64% || F1-score 0.59\n",
            "Epoch  19/500 || Loss:  Train 0.623823 | Validation 0.650287 || Accuracy: Train 75.28% | Validation 75.33% || F1-score 0.57\n",
            "Epoch  20/500 || Loss:  Train 0.652468 | Validation 0.655237 || Accuracy: Train 74.01% | Validation 76.32% || F1-score 0.59\n",
            "Epoch  21/500 || Loss:  Train 0.634791 | Validation 0.734535 || Accuracy: Train 76.27% | Validation 72.70% || F1-score 0.55\n",
            "Epoch  22/500 || Loss:  Train 0.614663 | Validation 0.682514 || Accuracy: Train 77.12% | Validation 75.00% || F1-score 0.57\n",
            "Epoch  23/500 || Loss:  Train 0.623229 | Validation 0.638006 || Accuracy: Train 75.42% | Validation 75.99% || F1-score 0.58\n",
            "Epoch  24/500 || Loss:  Train 0.612096 | Validation 0.623945 || Accuracy: Train 76.41% | Validation 75.66% || F1-score 0.58\n",
            "Epoch  25/500 || Loss:  Train 0.626993 | Validation 0.692681 || Accuracy: Train 76.13% | Validation 70.39% || F1-score 0.52\n",
            "Epoch  26/500 || Loss:  Train 0.629518 | Validation 0.725438 || Accuracy: Train 76.69% | Validation 73.68% || F1-score 0.56\n",
            "Epoch  27/500 || Loss:  Train 0.626065 | Validation 0.644017 || Accuracy: Train 75.99% | Validation 75.99% || F1-score 0.58\n",
            "Epoch  28/500 || Loss:  Train 0.622049 | Validation 0.661406 || Accuracy: Train 77.12% | Validation 74.01% || F1-score 0.56\n",
            "Epoch  29/500 || Loss:  Train 0.613022 | Validation 0.664583 || Accuracy: Train 75.99% | Validation 75.99% || F1-score 0.58\n",
            "Epoch  30/500 || Loss:  Train 0.594168 | Validation 0.682413 || Accuracy: Train 76.69% | Validation 74.67% || F1-score 0.57\n",
            "Epoch  31/500 || Loss:  Train 0.606780 | Validation 0.672154 || Accuracy: Train 77.12% | Validation 75.99% || F1-score 0.58\n",
            "Epoch  32/500 || Loss:  Train 0.581811 | Validation 0.640229 || Accuracy: Train 78.95% | Validation 75.99% || F1-score 0.59\n",
            "Epoch  33/500 || Loss:  Train 0.638534 | Validation 0.649314 || Accuracy: Train 77.54% | Validation 77.63% || F1-score 0.60\n",
            "Epoch  34/500 || Loss:  Train 0.585058 | Validation 0.643586 || Accuracy: Train 76.41% | Validation 75.99% || F1-score 0.58\n"
          ],
          "name": "stdout"
        }
      ]
    },
    {
      "cell_type": "markdown",
      "metadata": {
        "id": "kLpDbGUqW46k",
        "colab_type": "text"
      },
      "source": [
        "**Evaluation**"
      ]
    },
    {
      "cell_type": "code",
      "metadata": {
        "id": "shnQhwUwW5H6",
        "colab_type": "code",
        "colab": {
          "base_uri": "https://localhost:8080/",
          "height": 295
        },
        "outputId": "6afbb42b-f246-4f86-def1-3c4ed2a7a608"
      },
      "source": [
        "plt.plot(train_loss_history, label='Train')\n",
        "plt.plot(val_loss_history, label='Validation')\n",
        "plt.axvline(x=np.argmin(val_loss_history), color='black', alpha=0.2, linestyle='--')\n",
        "plt.legend()\n",
        "plt.xlabel('Epoch')\n",
        "plt.ylabel('Loss')\n",
        "plt.title('Training-validation loss')\n",
        "plt.show()"
      ],
      "execution_count": 21,
      "outputs": [
        {
          "output_type": "display_data",
          "data": {
            "image/png": "[encoded data removed]",
            "text/plain": [
              "<Figure size 432x288 with 1 Axes>"
            ]
          },
          "metadata": {
            "tags": []
          }
        }
      ]
    },
    {
      "cell_type": "code",
      "metadata": {
        "id": "TJU3McVHc8eQ",
        "colab_type": "code",
        "colab": {
          "base_uri": "https://localhost:8080/",
          "height": 295
        },
        "outputId": "65daab5d-ca58-42bc-cd9a-0bea2c1df407"
      },
      "source": [
        "for i in range(4):\n",
        "    fpr, tpr, thresholds = roc_curve(true_y == i, predicted_y_percent[:, i])\n",
        "    plt.plot(fpr, tpr, label='Label ' + str(i))\n",
        "plt.plot([0, 1], [0, 1], color='black', alpha=0.2, linestyle='--')\n",
        "plt.legend()\n",
        "plt.xlabel('False positive rate')\n",
        "plt.ylabel('True positive rate')\n",
        "plt.title('ROC curve')\n",
        "plt.show()"
      ],
      "execution_count": 22,
      "outputs": [
        {
          "output_type": "display_data",
          "data": {
            "image/png": "[encoded data removed]",
            "text/plain": [
              "<Figure size 432x288 with 1 Axes>"
            ]
          },
          "metadata": {
            "tags": []
          }
        }
      ]
    },
    {
      "cell_type": "code",
      "metadata": {
        "id": "XzjZ_jg1eg7Q",
        "colab_type": "code",
        "colab": {
          "base_uri": "https://localhost:8080/",
          "height": 283
        },
        "outputId": "6bf1f791-9656-486a-efb7-84b0950eee26"
      },
      "source": [
        "label_names = [f'Label {i}' for i in range(4)]\n",
        "cm = confusion_matrix(true_y, predicted_y)\n",
        "cm_df = pd.DataFrame(cm, columns=label_names, index=label_names)\n",
        "cm_df_rel = pd.DataFrame(cm/cm.sum(1)[:, np.newaxis], columns=label_names, index=label_names)\n",
        "\n",
        "fig, axes = plt.subplots(nrows=1, ncols=2, figsize=(10, 4))\n",
        "\n",
        "sns.set(font_scale=1.4) # for label size\n",
        "sns.heatmap(cm_df, annot=True, annot_kws={\"size\": 13}, fmt='g', ax=axes[0])\n",
        "\n",
        "sns.set(font_scale=1.4) # for label size\n",
        "sns.heatmap(round(cm_df_rel, 3), annot=True, annot_kws={\"size\": 13}, fmt='g', ax=axes[1])\n",
        "\n",
        "plt.tight_layout()\n",
        "plt.show()"
      ],
      "execution_count": 23,
      "outputs": [
        {
          "output_type": "display_data",
          "data": {
            "image/png": "[encoded data removed]",
            "text/plain": [
              "<Figure size 720x288 with 4 Axes>"
            ]
          },
          "metadata": {
            "tags": []
          }
        }
      ]
    },
    {
      "cell_type": "code",
      "metadata": {
        "id": "NC7DD4Sp0eGP",
        "colab_type": "code",
        "colab": {
          "base_uri": "https://localhost:8080/",
          "height": 119
        },
        "outputId": "fa5572bf-cb2d-471a-fc8a-fe97d6ad4223"
      },
      "source": [
        "for label in label_names:\n",
        "    print(f'Accuracy for {label} is {cm_df_rel[label][label]:.2%}')\n",
        "print(f'Overall accuracy is {(predicted_y == true_y).sum()/len(true_y):.2%}')\n",
        "print(f'Overall F1-score is {f1_score(true_y, predicted_y, average=\"macro\"):.2f}')"
      ],
      "execution_count": 32,
      "outputs": [
        {
          "output_type": "stream",
          "text": [
            "Accuracy for Label 0 is 87.74%\n",
            "Accuracy for Label 1 is 65.26%\n",
            "Accuracy for Label 2 is 0.00%\n",
            "Accuracy for Label 3 is 80.49%\n",
            "Overall accuracy is 75.99%\n",
            "Overall F1-score is 0.58\n"
          ],
          "name": "stdout"
        }
      ]
    }
  ]
}